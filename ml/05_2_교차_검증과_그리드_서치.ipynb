{
  "nbformat": 4,
  "nbformat_minor": 0,
  "metadata": {
    "colab": {
      "name": "05-2 교차 검증과 그리드 서치.ipynb",
      "provenance": [],
      "collapsed_sections": []
    },
    "kernelspec": {
      "name": "python3",
      "display_name": "Python 3"
    },
    "language_info": {
      "name": "python"
    }
  },
  "cells": [
    {
      "cell_type": "code",
<<<<<<< HEAD
      "execution_count": 1,
=======
      "execution_count": null,
>>>>>>> 9dabe864fd283950dc80de1a870238959d5f96a1
      "metadata": {
        "id": "0YUAqe8gINLi"
      },
      "outputs": [],
      "source": [
        "import pandas as pd\n",
        "wine = pd.read_csv('https://bit.ly/wine_csv_data')"
      ]
    },
    {
      "cell_type": "code",
      "source": [
        "data = wine[['alcohol','sugar','pH']].to_numpy()\n",
        "target = wine['class'].to_numpy()"
      ],
      "metadata": {
        "id": "_-ZXcM7OKpn3"
      },
<<<<<<< HEAD
      "execution_count": 2,
=======
      "execution_count": null,
>>>>>>> 9dabe864fd283950dc80de1a870238959d5f96a1
      "outputs": []
    },
    {
      "cell_type": "code",
      "source": [
        "from sklearn.model_selection import train_test_split\n",
        "train_input,test_input,train_target,test_target = train_test_split(data,target,test_size=0.2,random_state=42)\n"
      ],
      "metadata": {
        "id": "kZ_26eStK2Qa"
      },
<<<<<<< HEAD
      "execution_count": 3,
=======
      "execution_count": null,
>>>>>>> 9dabe864fd283950dc80de1a870238959d5f96a1
      "outputs": []
    },
    {
      "cell_type": "code",
      "source": [
        "sub_input,val_input,sub_target,val_target = train_test_split(train_input,train_target,test_size=0.2,random_state=42)"
      ],
      "metadata": {
        "id": "y9Wkb8pkLRE0"
      },
<<<<<<< HEAD
      "execution_count": 4,
=======
      "execution_count": null,
>>>>>>> 9dabe864fd283950dc80de1a870238959d5f96a1
      "outputs": []
    },
    {
      "cell_type": "code",
      "source": [
        "print(sub_input.shape,val_input.shape)"
      ],
      "metadata": {
        "colab": {
          "base_uri": "https://localhost:8080/"
        },
        "id": "ALfwTTtyLeHI",
        "outputId": "2cc0c086-0116-4c5b-857a-288722c0f283"
      },
<<<<<<< HEAD
      "execution_count": 5,
=======
      "execution_count": null,
>>>>>>> 9dabe864fd283950dc80de1a870238959d5f96a1
      "outputs": [
        {
          "output_type": "stream",
          "name": "stdout",
          "text": [
            "(4157, 3) (1040, 3)\n"
          ]
        }
      ]
    },
    {
      "cell_type": "code",
      "source": [
        "from sklearn.tree import DecisionTreeClassifier\n",
        "dt = DecisionTreeClassifier(random_state=42)\n",
        "dt.fit(sub_input,sub_target)\n",
        "print(dt.score(sub_input,sub_target))\n",
        "print(dt.score(val_input,val_target))"
      ],
      "metadata": {
        "colab": {
          "base_uri": "https://localhost:8080/"
        },
        "id": "J7Q1YWNmLljY",
        "outputId": "94cb1916-c1cb-438a-b02b-b77452ea93be"
      },
<<<<<<< HEAD
      "execution_count": 6,
=======
      "execution_count": null,
>>>>>>> 9dabe864fd283950dc80de1a870238959d5f96a1
      "outputs": [
        {
          "output_type": "stream",
          "name": "stdout",
          "text": [
            "0.9971133028626413\n",
            "0.864423076923077\n"
          ]
        }
      ]
    },
    {
      "cell_type": "code",
      "source": [
        "from sklearn.model_selection import cross_validate\n",
        "scores = cross_validate(dt,train_input,train_target)\n",
        "display(scores)"
      ],
      "metadata": {
        "colab": {
          "base_uri": "https://localhost:8080/",
          "height": 72
        },
        "id": "BZf0EpsWMay4",
        "outputId": "be32f557-2797-4161-ce26-6101fcb32762"
      },
<<<<<<< HEAD
      "execution_count": 10,
=======
      "execution_count": null,
>>>>>>> 9dabe864fd283950dc80de1a870238959d5f96a1
      "outputs": [
        {
          "output_type": "display_data",
          "data": {
            "text/plain": [
              "{'fit_time': array([0.01074791, 0.00999355, 0.0172987 , 0.020576  , 0.01654863]),\n",
              " 'score_time': array([0.00186086, 0.00106359, 0.001122  , 0.00105572, 0.00112581]),\n",
              " 'test_score': array([0.86923077, 0.84615385, 0.87680462, 0.84889317, 0.83541867])}"
            ]
          },
          "metadata": {}
        }
      ]
    },
    {
      "cell_type": "code",
      "source": [
        "import numpy as np\n",
        "print(np.mean(scores['test_score']))"
      ],
      "metadata": {
        "colab": {
          "base_uri": "https://localhost:8080/"
        },
        "id": "eDZ1JIqrOPeU",
        "outputId": "58d09d67-6abf-4b57-97a0-8bc35bb85c56"
      },
<<<<<<< HEAD
      "execution_count": 9,
=======
      "execution_count": null,
>>>>>>> 9dabe864fd283950dc80de1a870238959d5f96a1
      "outputs": [
        {
          "output_type": "stream",
          "name": "stdout",
          "text": [
            "0.855300214703487\n"
          ]
        }
      ]
    },
    {
      "cell_type": "code",
      "source": [
        "from sklearn.model_selection import StratifiedKFold\n",
        "scores = cross_validate(dt,train_input,train_target,cv=StratifiedKFold())\n",
        "print(np.mean(scores['test_score']))"
      ],
      "metadata": {
        "colab": {
          "base_uri": "https://localhost:8080/"
        },
        "id": "8lPTiXivO1DC",
        "outputId": "4b2a66c8-7a43-43ca-e9cf-4621c3fc38b5"
      },
<<<<<<< HEAD
      "execution_count": 11,
=======
      "execution_count": null,
>>>>>>> 9dabe864fd283950dc80de1a870238959d5f96a1
      "outputs": [
        {
          "output_type": "stream",
          "name": "stdout",
          "text": [
            "0.855300214703487\n"
          ]
        }
      ]
    },
    {
      "cell_type": "code",
      "source": [
        "splitter = StratifiedKFold(n_splits=10,shuffle=True,random_state=42)\n",
        "scores = cross_validate(dt,train_input,train_target,cv=splitter)\n",
        "print(np.mean(scores['test_score']))"
      ],
      "metadata": {
        "colab": {
          "base_uri": "https://localhost:8080/"
        },
        "id": "v9QE2rX1QZQp",
        "outputId": "e8804d61-6697-46e6-f796-1a725c76c365"
      },
<<<<<<< HEAD
      "execution_count": 13,
=======
      "execution_count": null,
>>>>>>> 9dabe864fd283950dc80de1a870238959d5f96a1
      "outputs": [
        {
          "output_type": "stream",
          "name": "stdout",
          "text": [
            "0.8574181117533719\n"
          ]
        }
      ]
    },
    {
      "cell_type": "code",
      "source": [
        "from sklearn.model_selection import GridSearchCV\n",
        "params = {'min_impurity_decrease':[0.0001,0.0002,0.0003,0.0004,0.0005]}\n",
        "\n",
        "gs = GridSearchCV(DecisionTreeClassifier(random_state=42),params,n_jobs=-1)\n",
        "gs.fit(train_input,train_target)\n",
        "\n",
        "print(gs.best_params_)\n",
        "\n",
        "print(gs.cv_results_['mean_test_score'])"
      ],
      "metadata": {
        "colab": {
          "base_uri": "https://localhost:8080/"
        },
        "id": "O8687lJVQveZ",
        "outputId": "b63a211a-f7a3-44b5-e143-e4e764629e17"
      },
<<<<<<< HEAD
      "execution_count": 15,
=======
      "execution_count": null,
>>>>>>> 9dabe864fd283950dc80de1a870238959d5f96a1
      "outputs": [
        {
          "output_type": "stream",
          "name": "stdout",
          "text": [
            "{'min_impurity_decrease': 0.0001}\n",
            "[0.86819297 0.86453617 0.86492226 0.86780891 0.86761605]\n"
          ]
        }
      ]
    },
    {
      "cell_type": "code",
      "source": [
        "best_index = np.argmax(gs.cv_results_['mean_test_score'])\n",
        "print(gs.cv_results_['params'][best_index])"
      ],
      "metadata": {
        "colab": {
          "base_uri": "https://localhost:8080/"
        },
        "id": "Cth3QFuWXONd",
        "outputId": "a817c674-9593-4522-e163-29d419438ad2"
      },
<<<<<<< HEAD
      "execution_count": 16,
=======
      "execution_count": null,
>>>>>>> 9dabe864fd283950dc80de1a870238959d5f96a1
      "outputs": [
        {
          "output_type": "stream",
          "name": "stdout",
          "text": [
            "{'min_impurity_decrease': 0.0001}\n"
          ]
        }
      ]
    },
    {
      "cell_type": "code",
      "source": [
        "params = {'min_impurity_decrease':np.arange(0.0001,0.001,0.0001),\n",
        "       'max_depth':range(5,20,1),\n",
        "       'min_samples_split':range(2,100,10)}"
      ],
      "metadata": {
        "id": "cYuVlBICbbxU"
      },
<<<<<<< HEAD
      "execution_count": 23,
=======
      "execution_count": null,
>>>>>>> 9dabe864fd283950dc80de1a870238959d5f96a1
      "outputs": []
    },
    {
      "cell_type": "code",
      "source": [
        "gs = GridSearchCV(DecisionTreeClassifier(random_state=42),params,n_jobs=-1)\n",
        "gs.fit(train_input,train_target)"
      ],
      "metadata": {
        "colab": {
          "base_uri": "https://localhost:8080/"
        },
        "id": "gDZWTLeYb7zb",
        "outputId": "711e11b6-e074-4c0c-c1b7-c1370e957a5e"
      },
<<<<<<< HEAD
      "execution_count": 24,
=======
      "execution_count": null,
>>>>>>> 9dabe864fd283950dc80de1a870238959d5f96a1
      "outputs": [
        {
          "output_type": "execute_result",
          "data": {
            "text/plain": [
              "GridSearchCV(estimator=DecisionTreeClassifier(random_state=42), n_jobs=-1,\n",
              "             param_grid={'max_depth': range(5, 20),\n",
              "                         'min_impurity_decrease': array([0.0001, 0.0002, 0.0003, 0.0004, 0.0005, 0.0006, 0.0007, 0.0008,\n",
              "       0.0009]),\n",
              "                         'min_samples_split': range(2, 100, 10)})"
            ]
          },
          "metadata": {},
          "execution_count": 24
        }
      ]
    },
    {
      "cell_type": "code",
      "source": [
        "print(gs.best_params_)"
      ],
      "metadata": {
        "colab": {
          "base_uri": "https://localhost:8080/"
        },
        "id": "K8eZbDTGcSS5",
        "outputId": "f3889e92-6366-44d3-9820-2152af8f2323"
      },
<<<<<<< HEAD
      "execution_count": 25,
=======
      "execution_count": null,
>>>>>>> 9dabe864fd283950dc80de1a870238959d5f96a1
      "outputs": [
        {
          "output_type": "stream",
          "name": "stdout",
          "text": [
            "{'max_depth': 14, 'min_impurity_decrease': 0.0004, 'min_samples_split': 12}\n"
          ]
        }
      ]
    },
    {
      "cell_type": "code",
      "source": [
        "print(np.max(gs.cv_results_['mean_test_score']))"
      ],
      "metadata": {
        "colab": {
          "base_uri": "https://localhost:8080/"
        },
        "id": "vrDVvLrBdXgn",
        "outputId": "03b56356-22e1-4342-bba5-581d0916a49a"
      },
<<<<<<< HEAD
      "execution_count": 26,
=======
      "execution_count": null,
>>>>>>> 9dabe864fd283950dc80de1a870238959d5f96a1
      "outputs": [
        {
          "output_type": "stream",
          "name": "stdout",
          "text": [
            "0.8683865773302731\n"
          ]
        }
      ]
    },
    {
      "cell_type": "code",
      "source": [
        "from scipy.stats import uniform,randint"
      ],
      "metadata": {
        "id": "PKrQYSzzdhBd"
      },
<<<<<<< HEAD
      "execution_count": 27,
=======
      "execution_count": null,
>>>>>>> 9dabe864fd283950dc80de1a870238959d5f96a1
      "outputs": []
    },
    {
      "cell_type": "code",
      "source": [
        "rgen = randint(0,10)\n",
        "rgen.rvs(10)"
      ],
      "metadata": {
        "colab": {
          "base_uri": "https://localhost:8080/"
        },
        "id": "WZfL-psreFSO",
        "outputId": "104c4c20-0319-4842-a603-d13dfee55617"
      },
<<<<<<< HEAD
      "execution_count": 28,
=======
      "execution_count": null,
>>>>>>> 9dabe864fd283950dc80de1a870238959d5f96a1
      "outputs": [
        {
          "output_type": "execute_result",
          "data": {
            "text/plain": [
              "array([4, 0, 7, 1, 0, 8, 1, 5, 5, 8])"
            ]
          },
          "metadata": {},
          "execution_count": 28
        }
      ]
    },
    {
      "cell_type": "code",
      "source": [
        "np.unique(rgen.rvs(1000),return_counts=True)"
      ],
      "metadata": {
        "colab": {
          "base_uri": "https://localhost:8080/"
        },
        "id": "2cK2RhbCeLtc",
        "outputId": "b4dc4968-9b38-4159-d94e-725e1da4db68"
      },
<<<<<<< HEAD
      "execution_count": 29,
=======
      "execution_count": null,
>>>>>>> 9dabe864fd283950dc80de1a870238959d5f96a1
      "outputs": [
        {
          "output_type": "execute_result",
          "data": {
            "text/plain": [
              "(array([0, 1, 2, 3, 4, 5, 6, 7, 8, 9]),\n",
              " array([ 93,  89, 107, 102, 101, 109,  84,  97, 122,  96]))"
            ]
          },
          "metadata": {},
          "execution_count": 29
        }
      ]
    },
    {
      "cell_type": "code",
      "source": [
        "ugen = uniform(0,1)\n",
        "ugen.rvs(10)"
      ],
      "metadata": {
        "colab": {
          "base_uri": "https://localhost:8080/"
        },
        "id": "c5PtchUvgzoJ",
        "outputId": "f536f964-f8e9-4a39-b947-f4e050692fee"
      },
<<<<<<< HEAD
      "execution_count": 30,
=======
      "execution_count": null,
>>>>>>> 9dabe864fd283950dc80de1a870238959d5f96a1
      "outputs": [
        {
          "output_type": "execute_result",
          "data": {
            "text/plain": [
              "array([0.39690405, 0.07449751, 0.53734766, 0.05736762, 0.23055208,\n",
              "       0.11919523, 0.01661047, 0.02828167, 0.48635948, 0.73532129])"
            ]
          },
          "metadata": {},
          "execution_count": 30
        }
      ]
    },
    {
      "cell_type": "code",
      "source": [
        "params = {'min_impurity_decrease':uniform(0.0001,0.001),\n",
        "          'max_depth':randint(20,50),\n",
        "          'min_samples_split': randint(2,25),\n",
        "          'min_samples_leaf':randint(1,25),\n",
        "          }"
      ],
      "metadata": {
        "id": "61Fh-WNcg-xm"
      },
<<<<<<< HEAD
      "execution_count": 31,
=======
      "execution_count": null,
>>>>>>> 9dabe864fd283950dc80de1a870238959d5f96a1
      "outputs": []
    },
    {
      "cell_type": "code",
      "source": [
        "from sklearn.model_selection import RandomizedSearchCV\n",
        "gs = RandomizedSearchCV(DecisionTreeClassifier(random_state=42),params,\n",
        "                        n_iter=100,n_jobs=-1,random_state=42)\n",
        "gs.fit(train_input,train_target)"
      ],
      "metadata": {
        "colab": {
          "base_uri": "https://localhost:8080/"
        },
        "id": "2RyXYh5Mhukv",
        "outputId": "f1e92d33-0d76-4e9c-88eb-c10d70b3b568"
      },
<<<<<<< HEAD
      "execution_count": 32,
=======
      "execution_count": null,
>>>>>>> 9dabe864fd283950dc80de1a870238959d5f96a1
      "outputs": [
        {
          "output_type": "execute_result",
          "data": {
            "text/plain": [
              "RandomizedSearchCV(estimator=DecisionTreeClassifier(random_state=42),\n",
              "                   n_iter=100, n_jobs=-1,\n",
              "                   param_distributions={'max_depth': <scipy.stats._distn_infrastructure.rv_frozen object at 0x7f1009c59950>,\n",
              "                                        'min_impurity_decrease': <scipy.stats._distn_infrastructure.rv_frozen object at 0x7f1009c591d0>,\n",
              "                                        'min_samples_leaf': <scipy.stats._distn_infrastructure.rv_frozen object at 0x7f1009d80710>,\n",
              "                                        'min_samples_split': <scipy.stats._distn_infrastructure.rv_frozen object at 0x7f100b32c2d0>},\n",
              "                   random_state=42)"
            ]
          },
          "metadata": {},
          "execution_count": 32
        }
      ]
    },
    {
      "cell_type": "code",
      "source": [
        "display(gs.best_params_)"
      ],
      "metadata": {
        "colab": {
          "base_uri": "https://localhost:8080/",
          "height": 90
        },
        "id": "AOTkET9EiTfd",
        "outputId": "8b2da14a-795a-4ba5-e325-29fd12d0533b"
      },
<<<<<<< HEAD
      "execution_count": 34,
=======
      "execution_count": null,
>>>>>>> 9dabe864fd283950dc80de1a870238959d5f96a1
      "outputs": [
        {
          "output_type": "display_data",
          "data": {
            "text/plain": [
              "{'max_depth': 39,\n",
              " 'min_impurity_decrease': 0.00034102546602601173,\n",
              " 'min_samples_leaf': 7,\n",
              " 'min_samples_split': 13}"
            ]
          },
          "metadata": {}
        }
      ]
    },
    {
      "cell_type": "code",
      "source": [
        "print(np.max(gs.cv_results_['mean_test_score']))"
      ],
      "metadata": {
        "colab": {
          "base_uri": "https://localhost:8080/"
        },
        "id": "NDdyWxYVicdz",
        "outputId": "5700cd45-4cd1-497b-febd-f75d93bcee18"
      },
<<<<<<< HEAD
      "execution_count": 35,
=======
      "execution_count": null,
>>>>>>> 9dabe864fd283950dc80de1a870238959d5f96a1
      "outputs": [
        {
          "output_type": "stream",
          "name": "stdout",
          "text": [
            "0.8695428296438884\n"
          ]
        }
      ]
    },
    {
      "cell_type": "code",
      "source": [
        "dt = gs.best_estimator_\n",
        "print(dt.score(test_input,test_target))"
      ],
      "metadata": {
        "colab": {
          "base_uri": "https://localhost:8080/"
        },
        "id": "KvGORCHXi0TU",
        "outputId": "03e909ae-e5ef-456d-d109-aff87af9ab9c"
      },
<<<<<<< HEAD
      "execution_count": 36,
=======
      "execution_count": null,
>>>>>>> 9dabe864fd283950dc80de1a870238959d5f96a1
      "outputs": [
        {
          "output_type": "stream",
          "name": "stdout",
          "text": [
            "0.86\n"
          ]
        }
      ]
    },
    {
      "cell_type": "code",
      "source": [
        "from sklearn.model_selection import RandomizedSearchCV\n",
        "gs = RandomizedSearchCV(DecisionTreeClassifier(random_state=42,splitter='random'),params,\n",
        "                        n_iter=100,n_jobs=-1,random_state=42)\n",
        "gs.fit(train_input,train_target)"
      ],
      "metadata": {
        "colab": {
          "base_uri": "https://localhost:8080/"
        },
        "id": "X_aO4KjujB87",
        "outputId": "8714ccc1-b3d5-4a29-ad98-9d3478f8b2af"
      },
<<<<<<< HEAD
      "execution_count": 38,
=======
      "execution_count": null,
>>>>>>> 9dabe864fd283950dc80de1a870238959d5f96a1
      "outputs": [
        {
          "output_type": "execute_result",
          "data": {
            "text/plain": [
              "RandomizedSearchCV(estimator=DecisionTreeClassifier(random_state=42,\n",
              "                                                    splitter='random'),\n",
              "                   n_iter=100, n_jobs=-1,\n",
              "                   param_distributions={'max_depth': <scipy.stats._distn_infrastructure.rv_frozen object at 0x7f1009c59950>,\n",
              "                                        'min_impurity_decrease': <scipy.stats._distn_infrastructure.rv_frozen object at 0x7f1009c591d0>,\n",
              "                                        'min_samples_leaf': <scipy.stats._distn_infrastructure.rv_frozen object at 0x7f1009d80710>,\n",
              "                                        'min_samples_split': <scipy.stats._distn_infrastructure.rv_frozen object at 0x7f100b32c2d0>},\n",
              "                   random_state=42)"
            ]
          },
          "metadata": {},
          "execution_count": 38
        }
      ]
    },
    {
      "cell_type": "code",
      "source": [
        "dt = gs.best_estimator_\n",
        "print(dt.score(test_input,test_target))"
      ],
      "metadata": {
        "colab": {
          "base_uri": "https://localhost:8080/"
        },
        "id": "TXEbBQw3n6Ni",
        "outputId": "91f976cc-ec1a-49d8-f8d9-6fd459cc83df"
      },
<<<<<<< HEAD
      "execution_count": 39,
=======
      "execution_count": null,
>>>>>>> 9dabe864fd283950dc80de1a870238959d5f96a1
      "outputs": [
        {
          "output_type": "stream",
          "name": "stdout",
          "text": [
            "0.786923076923077\n"
          ]
        }
      ]
    }
  ]
}