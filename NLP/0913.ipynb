{
  "nbformat": 4,
  "nbformat_minor": 0,
  "metadata": {
    "colab": {
      "provenance": [],
      "collapsed_sections": []
    },
    "kernelspec": {
      "name": "python3",
      "display_name": "Python 3"
    },
    "language_info": {
      "name": "python"
    }
  },
  "cells": [
    {
      "cell_type": "code",
      "execution_count": 1,
      "metadata": {
        "id": "LgLQUoOGbKDD"
      },
      "outputs": [],
      "source": [
        "import tensorflow as tf"
      ]
    },
    {
      "cell_type": "code",
      "source": [
        "vocab = {\n",
        "    'i':0,\n",
        "    'need':1,\n",
        "    'some':2,\n",
        "    'more':3,\n",
        "    'coffee':4,\n",
        "    'cake':5,\n",
        "    'cat':6,\n",
        "    'dog':7\n",
        "}"
      ],
      "metadata": {
        "id": "Ri1FZ-7jbTP_"
      },
      "execution_count": 2,
      "outputs": []
    },
    {
      "cell_type": "code",
      "source": [
        "sentence = 'i i i i need some more coffee coffee coffee'"
      ],
      "metadata": {
        "id": "3mJf4uWPbphl"
      },
      "execution_count": 3,
      "outputs": []
    },
    {
      "cell_type": "code",
      "source": [
        "_input = [vocab[w] for w in sentence.split()]"
      ],
      "metadata": {
        "id": "-gu05YoIbusH"
      },
      "execution_count": 4,
      "outputs": []
    },
    {
      "cell_type": "code",
      "source": [
        "vocab_size = len(vocab)"
      ],
      "metadata": {
        "id": "gUOEEJ-0b18W"
      },
      "execution_count": 5,
      "outputs": []
    },
    {
      "cell_type": "code",
      "source": [
        "one_hot = tf.one_hot(_input,vocab_size)"
      ],
      "metadata": {
        "id": "7CFWZM8ob5K_"
      },
      "execution_count": 6,
      "outputs": []
    },
    {
      "cell_type": "code",
      "source": [
        "print(one_hot)"
      ],
      "metadata": {
        "colab": {
          "base_uri": "https://localhost:8080/"
        },
        "id": "pvkAui4OcAiO",
        "outputId": "9e05f35a-67c9-4485-c2b9-0db3fa69cda4"
      },
      "execution_count": 7,
      "outputs": [
        {
          "output_type": "stream",
          "name": "stdout",
          "text": [
            "tf.Tensor(\n",
            "[[1. 0. 0. 0. 0. 0. 0. 0.]\n",
            " [1. 0. 0. 0. 0. 0. 0. 0.]\n",
            " [1. 0. 0. 0. 0. 0. 0. 0.]\n",
            " [1. 0. 0. 0. 0. 0. 0. 0.]\n",
            " [0. 1. 0. 0. 0. 0. 0. 0.]\n",
            " [0. 0. 1. 0. 0. 0. 0. 0.]\n",
            " [0. 0. 0. 1. 0. 0. 0. 0.]\n",
            " [0. 0. 0. 0. 1. 0. 0. 0.]\n",
            " [0. 0. 0. 0. 1. 0. 0. 0.]\n",
            " [0. 0. 0. 0. 1. 0. 0. 0.]], shape=(10, 8), dtype=float32)\n"
          ]
        }
      ]
    },
    {
      "cell_type": "code",
      "source": [
        "distribution_size = 2"
      ],
      "metadata": {
        "id": "iGFbS02icCHW"
      },
      "execution_count": 8,
      "outputs": []
    },
    {
      "cell_type": "code",
      "source": [
        "linear = tf.keras.layers.Dense(units=distribution_size,use_bias=False)\n",
        "one_hot_linear = linear(one_hot)"
      ],
      "metadata": {
        "id": "x8f-Na6AcIRB"
      },
      "execution_count": 10,
      "outputs": []
    },
    {
      "cell_type": "code",
      "source": [
        "print(linear.weights[0].numpy())"
      ],
      "metadata": {
        "colab": {
          "base_uri": "https://localhost:8080/"
        },
        "id": "SWNYg-vGcfwP",
        "outputId": "a6f95dca-40ce-4899-8c72-70d49d7dee2e"
      },
      "execution_count": 11,
      "outputs": [
        {
          "output_type": "stream",
          "name": "stdout",
          "text": [
            "[[ 0.34774637 -0.59614193]\n",
            " [-0.2621181  -0.35469672]\n",
            " [ 0.04668111  0.12566209]\n",
            " [-0.51403195 -0.08872718]\n",
            " [-0.5864217  -0.24660307]\n",
            " [-0.36457646  0.7495549 ]\n",
            " [ 0.24609423  0.3336593 ]\n",
            " [ 0.34923232  0.50892544]]\n"
          ]
        }
      ]
    },
    {
      "cell_type": "code",
      "source": [
        "print(one_hot_linear.numpy())"
      ],
      "metadata": {
        "colab": {
          "base_uri": "https://localhost:8080/"
        },
        "id": "aGyAxE6Acnqh",
        "outputId": "a2be01ef-0df4-48f9-b000-7492273794fe"
      },
      "execution_count": 12,
      "outputs": [
        {
          "output_type": "stream",
          "name": "stdout",
          "text": [
            "[[ 0.34774637 -0.59614193]\n",
            " [ 0.34774637 -0.59614193]\n",
            " [ 0.34774637 -0.59614193]\n",
            " [ 0.34774637 -0.59614193]\n",
            " [-0.2621181  -0.35469672]\n",
            " [ 0.04668111  0.12566209]\n",
            " [-0.51403195 -0.08872718]\n",
            " [-0.5864217  -0.24660307]\n",
            " [-0.5864217  -0.24660307]\n",
            " [-0.5864217  -0.24660307]]\n"
          ]
        }
      ]
    },
    {
      "cell_type": "code",
      "source": [],
      "metadata": {
        "id": "bW_IB1u4lpzJ"
      },
      "execution_count": null,
      "outputs": []
    },
    {
      "cell_type": "code",
      "source": [
        "words = tf.constant([[3,57,35]])"
      ],
      "metadata": {
        "id": "kYDrBBWMcrxE"
      },
      "execution_count": 13,
      "outputs": []
    },
    {
      "cell_type": "code",
      "source": [
        "print('embedding 진행할 문장')\n",
        "print(words.shape)"
      ],
      "metadata": {
        "colab": {
          "base_uri": "https://localhost:8080/"
        },
        "id": "FLyMU3xbfGNw",
        "outputId": "b5bfc9dc-fcd7-4beb-e689-e4bd23623e13"
      },
      "execution_count": 18,
      "outputs": [
        {
          "output_type": "stream",
          "name": "stdout",
          "text": [
            "embedding 진행할 문장\n",
            "(1, 3)\n"
          ]
        }
      ]
    },
    {
      "cell_type": "code",
      "source": [
        "embedding_layer = tf.keras.layers.Embedding(input_dim=64,output_dim=100)"
      ],
      "metadata": {
        "id": "AdncpNV7fN4s"
      },
      "execution_count": 15,
      "outputs": []
    },
    {
      "cell_type": "code",
      "source": [
        "print('embedding된 문장')\n",
        "print(embedding_layer(words).shape)"
      ],
      "metadata": {
        "colab": {
          "base_uri": "https://localhost:8080/"
        },
        "id": "b7q7gxJnfYRe",
        "outputId": "9ea57be2-9471-4dc3-e2a6-1e3f99842ffa"
      },
      "execution_count": 19,
      "outputs": [
        {
          "output_type": "stream",
          "name": "stdout",
          "text": [
            "embedding된 문장\n",
            "(1, 3, 100)\n"
          ]
        }
      ]
    },
    {
      "cell_type": "code",
      "source": [
        "print('embedding layer weight')\n",
        "print(embedding_layer.weights[0].shape)"
      ],
      "metadata": {
        "colab": {
          "base_uri": "https://localhost:8080/"
        },
        "id": "uY5dBVWXfbvZ",
        "outputId": "7e81a160-5f97-45d5-8c21-aea86431d271"
      },
      "execution_count": 20,
      "outputs": [
        {
          "output_type": "stream",
          "name": "stdout",
          "text": [
            "embedding layer weight\n",
            "(64, 100)\n"
          ]
        }
      ]
    },
    {
      "cell_type": "code",
      "source": [],
      "metadata": {
        "id": "fabt7A0nff6w"
      },
      "execution_count": null,
      "outputs": []
    },
    {
      "cell_type": "code",
      "source": [
        "import numpy as np"
      ],
      "metadata": {
        "id": "RVidW0DQlmtM"
      },
      "execution_count": 29,
      "outputs": []
    },
    {
      "cell_type": "code",
      "source": [
        "raw_i = [\n",
        "    '나는 학생입니다',\n",
        "    '나는 좋은 선생님 입니다',\n",
        "    '당신은 매우 좋은 선생님 입니다'\n",
        "]"
      ],
      "metadata": {
        "id": "ZhNN_b52ltZx"
      },
      "execution_count": 30,
      "outputs": []
    },
    {
      "cell_type": "code",
      "source": [
        "raw_l = [1,0,0]"
      ],
      "metadata": {
        "id": "A6hbJSMql4na"
      },
      "execution_count": 31,
      "outputs": []
    },
    {
      "cell_type": "code",
      "source": [
        "words = []\n",
        "for w in raw_i:\n",
        "  words.extend(w.split())"
      ],
      "metadata": {
        "id": "Lg1aeANll7Qq"
      },
      "execution_count": 32,
      "outputs": []
    },
    {
      "cell_type": "code",
      "source": [
        "print(words)"
      ],
      "metadata": {
        "colab": {
          "base_uri": "https://localhost:8080/"
        },
        "id": "EcTS55f2mT7y",
        "outputId": "84e21fd4-35c9-4979-a35e-1cbaf975109d"
      },
      "execution_count": 33,
      "outputs": [
        {
          "output_type": "stream",
          "name": "stdout",
          "text": [
            "['나는', '학생입니다', '나는', '좋은', '선생님', '입니다', '당신은', '매우', '좋은', '선생님', '입니다']\n"
          ]
        }
      ]
    },
    {
      "cell_type": "code",
      "source": [
        "words = list(dict.fromkeys(words))"
      ],
      "metadata": {
        "id": "EdHbCMmDmYTq"
      },
      "execution_count": 34,
      "outputs": []
    },
    {
      "cell_type": "code",
      "source": [
        "print(words)"
      ],
      "metadata": {
        "colab": {
          "base_uri": "https://localhost:8080/"
        },
        "id": "RsNF1Zt4mg2S",
        "outputId": "3043b92f-bca2-4ce8-a90f-70637d232992"
      },
      "execution_count": 35,
      "outputs": [
        {
          "output_type": "stream",
          "name": "stdout",
          "text": [
            "['나는', '학생입니다', '좋은', '선생님', '입니다', '당신은', '매우']\n"
          ]
        }
      ]
    },
    {
      "cell_type": "code",
      "source": [
        "word_to_id = {'<PAD>':0,'<UNK>':1}"
      ],
      "metadata": {
        "id": "oHKDbinpmhnJ"
      },
      "execution_count": 36,
      "outputs": []
    },
    {
      "cell_type": "code",
      "source": [
        "for w in words:\n",
        "  word_to_id[w] = len(word_to_id)\n",
        "  print(word_to_id)"
      ],
      "metadata": {
        "colab": {
          "base_uri": "https://localhost:8080/"
        },
        "id": "vcLHpU50mwHp",
        "outputId": "08937481-4085-412f-e660-2fdcf1adeda8"
      },
      "execution_count": 37,
      "outputs": [
        {
          "output_type": "stream",
          "name": "stdout",
          "text": [
            "{'<PAD>': 0, '<UNK>': 1, '나는': 2}\n",
            "{'<PAD>': 0, '<UNK>': 1, '나는': 2, '학생입니다': 3}\n",
            "{'<PAD>': 0, '<UNK>': 1, '나는': 2, '학생입니다': 3, '좋은': 4}\n",
            "{'<PAD>': 0, '<UNK>': 1, '나는': 2, '학생입니다': 3, '좋은': 4, '선생님': 5}\n",
            "{'<PAD>': 0, '<UNK>': 1, '나는': 2, '학생입니다': 3, '좋은': 4, '선생님': 5, '입니다': 6}\n",
            "{'<PAD>': 0, '<UNK>': 1, '나는': 2, '학생입니다': 3, '좋은': 4, '선생님': 5, '입니다': 6, '당신은': 7}\n",
            "{'<PAD>': 0, '<UNK>': 1, '나는': 2, '학생입니다': 3, '좋은': 4, '선생님': 5, '입니다': 6, '당신은': 7, '매우': 8}\n"
          ]
        }
      ]
    },
    {
      "cell_type": "code",
      "source": [
        "word_to_id.items()"
      ],
      "metadata": {
        "colab": {
          "base_uri": "https://localhost:8080/"
        },
        "id": "nUJYh4_0m74h",
        "outputId": "3421e230-70f8-4332-e0dd-7b824d9c3e45"
      },
      "execution_count": 38,
      "outputs": [
        {
          "output_type": "execute_result",
          "data": {
            "text/plain": [
              "dict_items([('<PAD>', 0), ('<UNK>', 1), ('나는', 2), ('학생입니다', 3), ('좋은', 4), ('선생님', 5), ('입니다', 6), ('당신은', 7), ('매우', 8)])"
            ]
          },
          "metadata": {},
          "execution_count": 38
        }
      ]
    },
    {
      "cell_type": "code",
      "source": [
        "id_to_words = {i:w for w,i in word_to_id.items()}"
      ],
      "metadata": {
        "id": "iyeRZURhm_kE"
      },
      "execution_count": 39,
      "outputs": []
    },
    {
      "cell_type": "code",
      "source": [
        "print(id_to_words)"
      ],
      "metadata": {
        "colab": {
          "base_uri": "https://localhost:8080/"
        },
        "id": "9B70DjvtnNua",
        "outputId": "e3bc5e0e-e4d0-4964-f6b1-17992ce9daed"
      },
      "execution_count": 40,
      "outputs": [
        {
          "output_type": "stream",
          "name": "stdout",
          "text": [
            "{0: '<PAD>', 1: '<UNK>', 2: '나는', 3: '학생입니다', 4: '좋은', 5: '선생님', 6: '입니다', 7: '당신은', 8: '매우'}\n"
          ]
        }
      ]
    },
    {
      "cell_type": "code",
      "source": [
        "train_inputs = []"
      ],
      "metadata": {
        "id": "yFbckyTtnQiL"
      },
      "execution_count": 41,
      "outputs": []
    },
    {
      "cell_type": "code",
      "source": [
        "for s in raw_i:\n",
        "  row = [word_to_id[w] for w in s.split()]\n",
        "  row+=[0]*(5-len(row))\n",
        "  train_inputs.append(row)\n",
        "train_inputs = np.array(train_inputs)"
      ],
      "metadata": {
        "id": "P5FHv8DanZq6"
      },
      "execution_count": 43,
      "outputs": []
    },
    {
      "cell_type": "code",
      "source": [
        "print(train_inputs)"
      ],
      "metadata": {
        "colab": {
          "base_uri": "https://localhost:8080/"
        },
        "id": "bcLWpzCAngX2",
        "outputId": "af363031-443c-4868-991b-44368f9aad45"
      },
      "execution_count": 44,
      "outputs": [
        {
          "output_type": "stream",
          "name": "stdout",
          "text": [
            "[[2 3 0 0 0]\n",
            " [2 4 5 6 0]\n",
            " [7 8 4 5 6]]\n"
          ]
        }
      ]
    },
    {
      "cell_type": "code",
      "source": [
        "train_inputs.shape"
      ],
      "metadata": {
        "colab": {
          "base_uri": "https://localhost:8080/"
        },
        "id": "ZpfcTUCBnxJ9",
        "outputId": "881021b5-9bc3-4108-aa20-1e47f59b8fd3"
      },
      "execution_count": 48,
      "outputs": [
        {
          "output_type": "execute_result",
          "data": {
            "text/plain": [
              "(3, 5)"
            ]
          },
          "metadata": {},
          "execution_count": 48
        }
      ]
    },
    {
      "cell_type": "code",
      "source": [
        "onehot_matrix = np.eye(len(word_to_id))\n",
        "print(onehot_matrix)"
      ],
      "metadata": {
        "colab": {
          "base_uri": "https://localhost:8080/"
        },
        "id": "UBwlCh4vohvt",
        "outputId": "70004616-5497-40eb-ae12-67e2123db4c8"
      },
      "execution_count": 49,
      "outputs": [
        {
          "output_type": "stream",
          "name": "stdout",
          "text": [
            "[[1. 0. 0. 0. 0. 0. 0. 0. 0.]\n",
            " [0. 1. 0. 0. 0. 0. 0. 0. 0.]\n",
            " [0. 0. 1. 0. 0. 0. 0. 0. 0.]\n",
            " [0. 0. 0. 1. 0. 0. 0. 0. 0.]\n",
            " [0. 0. 0. 0. 1. 0. 0. 0. 0.]\n",
            " [0. 0. 0. 0. 0. 1. 0. 0. 0.]\n",
            " [0. 0. 0. 0. 0. 0. 1. 0. 0.]\n",
            " [0. 0. 0. 0. 0. 0. 0. 1. 0.]\n",
            " [0. 0. 0. 0. 0. 0. 0. 0. 1.]]\n"
          ]
        }
      ]
    },
    {
      "cell_type": "code",
      "source": [
        "train_onehot = onehot_matrix[train_inputs]\n",
        "print(train_onehot)"
      ],
      "metadata": {
        "colab": {
          "base_uri": "https://localhost:8080/"
        },
        "id": "8Nv1IH5qoyUT",
        "outputId": "733edb56-b392-4eaf-f114-7d95c6bd7414"
      },
      "execution_count": 50,
      "outputs": [
        {
          "output_type": "stream",
          "name": "stdout",
          "text": [
            "[[[0. 0. 1. 0. 0. 0. 0. 0. 0.]\n",
            "  [0. 0. 0. 1. 0. 0. 0. 0. 0.]\n",
            "  [1. 0. 0. 0. 0. 0. 0. 0. 0.]\n",
            "  [1. 0. 0. 0. 0. 0. 0. 0. 0.]\n",
            "  [1. 0. 0. 0. 0. 0. 0. 0. 0.]]\n",
            "\n",
            " [[0. 0. 1. 0. 0. 0. 0. 0. 0.]\n",
            "  [0. 0. 0. 0. 1. 0. 0. 0. 0.]\n",
            "  [0. 0. 0. 0. 0. 1. 0. 0. 0.]\n",
            "  [0. 0. 0. 0. 0. 0. 1. 0. 0.]\n",
            "  [1. 0. 0. 0. 0. 0. 0. 0. 0.]]\n",
            "\n",
            " [[0. 0. 0. 0. 0. 0. 0. 1. 0.]\n",
            "  [0. 0. 0. 0. 0. 0. 0. 0. 1.]\n",
            "  [0. 0. 0. 0. 1. 0. 0. 0. 0.]\n",
            "  [0. 0. 0. 0. 0. 1. 0. 0. 0.]\n",
            "  [0. 0. 0. 0. 0. 0. 1. 0. 0.]]]\n"
          ]
        }
      ]
    },
    {
      "cell_type": "code",
      "source": [
        "train_onehot.shape"
      ],
      "metadata": {
        "colab": {
          "base_uri": "https://localhost:8080/"
        },
        "id": "vhWSz2a2o9vb",
        "outputId": "0138e626-3751-4fd9-d9e6-da62e290dc3e"
      },
      "execution_count": 51,
      "outputs": [
        {
          "output_type": "execute_result",
          "data": {
            "text/plain": [
              "(3, 5, 9)"
            ]
          },
          "metadata": {},
          "execution_count": 51
        }
      ]
    },
    {
      "cell_type": "code",
      "source": [
        "x = np.argmax(train_onehot,axis=-1)"
      ],
      "metadata": {
        "id": "6WKYUB4vpNGU"
      },
      "execution_count": 53,
      "outputs": []
    },
    {
      "cell_type": "code",
      "source": [
        "print(x)"
      ],
      "metadata": {
        "colab": {
          "base_uri": "https://localhost:8080/"
        },
        "id": "b35h6cwFpZcf",
        "outputId": "db1e40ad-29a6-4c45-98bf-1bfb92aa5a76"
      },
      "execution_count": 54,
      "outputs": [
        {
          "output_type": "stream",
          "name": "stdout",
          "text": [
            "[[2 3 0 0 0]\n",
            " [2 4 5 6 0]\n",
            " [7 8 4 5 6]]\n"
          ]
        }
      ]
    },
    {
      "cell_type": "code",
      "source": [],
      "metadata": {
        "id": "N5gok3Yapj4q"
      },
      "execution_count": null,
      "outputs": []
    },
    {
      "cell_type": "code",
      "source": [
        "import tensorflow as tf\n",
        "import tensorflow.keras.layers as L"
      ],
      "metadata": {
        "id": "O697zIG5pgmG"
      },
      "execution_count": 55,
      "outputs": []
    },
    {
      "cell_type": "code",
      "source": [
        "x_len = train_onehot.shape"
      ],
      "metadata": {
        "id": "KMRm1WGKpqT_"
      },
      "execution_count": 56,
      "outputs": []
    },
    {
      "cell_type": "code",
      "source": [
        "print(x_len)"
      ],
      "metadata": {
        "colab": {
          "base_uri": "https://localhost:8080/"
        },
        "id": "yV2mbnOvps_T",
        "outputId": "8d974aba-a12c-4af4-bdcd-38ac6b372d24"
      },
      "execution_count": 57,
      "outputs": [
        {
          "output_type": "stream",
          "name": "stdout",
          "text": [
            "(3, 5, 9)\n"
          ]
        }
      ]
    },
    {
      "cell_type": "code",
      "source": [
        "inp = tf.convert_to_tensor(x,dtype=tf.int32)\n",
        "inp_len = tf.convert_to_tensor(x_len,dtype=tf.int32)"
      ],
      "metadata": {
        "id": "TkkaD6zFpuGu"
      },
      "execution_count": 58,
      "outputs": []
    },
    {
      "cell_type": "code",
      "source": [
        "print(inp)\n",
        "print(inp_len)"
      ],
      "metadata": {
        "colab": {
          "base_uri": "https://localhost:8080/"
        },
        "id": "rADE4rdhp_IX",
        "outputId": "da3424d5-d59c-4d65-9c32-b5e5f219677e"
      },
      "execution_count": 59,
      "outputs": [
        {
          "output_type": "stream",
          "name": "stdout",
          "text": [
            "tf.Tensor(\n",
            "[[2 3 0 0 0]\n",
            " [2 4 5 6 0]\n",
            " [7 8 4 5 6]], shape=(3, 5), dtype=int32)\n",
            "tf.Tensor([3 5 9], shape=(3,), dtype=int32)\n"
          ]
        }
      ]
    },
    {
      "cell_type": "code",
      "source": [
        "inp, inp_len"
      ],
      "metadata": {
        "colab": {
          "base_uri": "https://localhost:8080/"
        },
        "id": "u5QQRzulqCB3",
        "outputId": "fd054fc5-2d80-4fb2-a86d-bdc1a01ec203"
      },
      "execution_count": 60,
      "outputs": [
        {
          "output_type": "execute_result",
          "data": {
            "text/plain": [
              "(<tf.Tensor: shape=(3, 5), dtype=int32, numpy=\n",
              " array([[2, 3, 0, 0, 0],\n",
              "        [2, 4, 5, 6, 0],\n",
              "        [7, 8, 4, 5, 6]], dtype=int32)>,\n",
              " <tf.Tensor: shape=(3,), dtype=int32, numpy=array([3, 5, 9], dtype=int32)>)"
            ]
          },
          "metadata": {},
          "execution_count": 60
        }
      ]
    },
    {
      "cell_type": "code",
      "source": [
        "vocab_size = 1000"
      ],
      "metadata": {
        "id": "JQM32u8WqJim"
      },
      "execution_count": 61,
      "outputs": []
    },
    {
      "cell_type": "code",
      "source": [
        "dim = 10"
      ],
      "metadata": {
        "id": "9n7mQfhiqOMY"
      },
      "execution_count": 62,
      "outputs": []
    },
    {
      "cell_type": "code",
      "source": [
        "embed = L.Embedding(vocab_size,dim)"
      ],
      "metadata": {
        "id": "kiMw9fqvqPOg"
      },
      "execution_count": 63,
      "outputs": []
    },
    {
      "cell_type": "code",
      "source": [
        "a = embed(inp)"
      ],
      "metadata": {
        "id": "SwJ9QER9qXha"
      },
      "execution_count": 64,
      "outputs": []
    },
    {
      "cell_type": "code",
      "source": [
        "print(a)"
      ],
      "metadata": {
        "colab": {
          "base_uri": "https://localhost:8080/"
        },
        "id": "VG9Hwx3dqaME",
        "outputId": "76e61bbf-fe30-4b4c-b808-16bb795681e3"
      },
      "execution_count": 65,
      "outputs": [
        {
          "output_type": "stream",
          "name": "stdout",
          "text": [
            "tf.Tensor(\n",
            "[[[-0.04844109  0.0195769   0.00714185  0.01799675  0.0399173\n",
            "   -0.03393418 -0.04875145 -0.03822068 -0.03300587  0.04844636]\n",
            "  [-0.02129778 -0.02841719  0.02642592 -0.02304951 -0.03642095\n",
            "   -0.01159356 -0.00565584 -0.04896845  0.04762962  0.0023853 ]\n",
            "  [ 0.03064987 -0.04958854  0.0197238  -0.04902286  0.03122986\n",
            "    0.01931418  0.04733051 -0.01452804 -0.02486587 -0.046468  ]\n",
            "  [ 0.03064987 -0.04958854  0.0197238  -0.04902286  0.03122986\n",
            "    0.01931418  0.04733051 -0.01452804 -0.02486587 -0.046468  ]\n",
            "  [ 0.03064987 -0.04958854  0.0197238  -0.04902286  0.03122986\n",
            "    0.01931418  0.04733051 -0.01452804 -0.02486587 -0.046468  ]]\n",
            "\n",
            " [[-0.04844109  0.0195769   0.00714185  0.01799675  0.0399173\n",
            "   -0.03393418 -0.04875145 -0.03822068 -0.03300587  0.04844636]\n",
            "  [-0.03203613 -0.0266736  -0.01252514  0.00098108  0.04168684\n",
            "    0.00477219 -0.02003236 -0.01964722  0.01951362 -0.02419589]\n",
            "  [-0.00506864  0.04284108  0.03215705 -0.04536519 -0.01118358\n",
            "   -0.01056136  0.03136357  0.00656524 -0.0336947   0.04411074]\n",
            "  [ 0.03723149  0.02098218 -0.04558193  0.02429246  0.04061617\n",
            "    0.04556849  0.04011628  0.02529598  0.03441906 -0.03042737]\n",
            "  [ 0.03064987 -0.04958854  0.0197238  -0.04902286  0.03122986\n",
            "    0.01931418  0.04733051 -0.01452804 -0.02486587 -0.046468  ]]\n",
            "\n",
            " [[-0.04672092 -0.0291971   0.03844312 -0.04113241  0.02562613\n",
            "    0.0480371  -0.02395446  0.02645456  0.00514963 -0.04189014]\n",
            "  [ 0.00210796 -0.01942767  0.00822432 -0.01290758  0.04284025\n",
            "    0.0497499   0.04374659 -0.01838911 -0.04207007 -0.00691541]\n",
            "  [-0.03203613 -0.0266736  -0.01252514  0.00098108  0.04168684\n",
            "    0.00477219 -0.02003236 -0.01964722  0.01951362 -0.02419589]\n",
            "  [-0.00506864  0.04284108  0.03215705 -0.04536519 -0.01118358\n",
            "   -0.01056136  0.03136357  0.00656524 -0.0336947   0.04411074]\n",
            "  [ 0.03723149  0.02098218 -0.04558193  0.02429246  0.04061617\n",
            "    0.04556849  0.04011628  0.02529598  0.03441906 -0.03042737]]], shape=(3, 5, 10), dtype=float32)\n"
          ]
        }
      ]
    },
    {
      "cell_type": "code",
      "source": [
        "a.shape"
      ],
      "metadata": {
        "colab": {
          "base_uri": "https://localhost:8080/"
        },
        "id": "RXp0oDABqa04",
        "outputId": "76be80a7-d9a6-4dd9-db96-0fd13070695b"
      },
      "execution_count": 66,
      "outputs": [
        {
          "output_type": "execute_result",
          "data": {
            "text/plain": [
              "TensorShape([3, 5, 10])"
            ]
          },
          "metadata": {},
          "execution_count": 66
        }
      ]
    },
    {
      "cell_type": "code",
      "source": [],
      "metadata": {
        "id": "ZSV2Rdbeqymk"
      },
      "execution_count": null,
      "outputs": []
    }
  ]
}