{
 "cells": [
  {
   "cell_type": "code",
   "execution_count": 1,
   "id": "553c7c57",
   "metadata": {},
   "outputs": [],
   "source": [
    "import re"
   ]
  },
  {
   "cell_type": "code",
   "execution_count": 17,
   "id": "58a33773",
   "metadata": {
    "scrolled": true
   },
   "outputs": [
    {
     "data": {
      "text/plain": [
       "['xxxxx']"
      ]
     },
     "execution_count": 17,
     "metadata": {},
     "output_type": "execute_result"
    }
   ],
   "source": [
    "re.findall(r'(x{3,5})','xxxxx')"
   ]
  },
  {
   "cell_type": "code",
   "execution_count": 21,
   "id": "cfa295cc",
   "metadata": {},
   "outputs": [
    {
     "name": "stdout",
     "output_type": "stream",
     "text": [
      "Hi ,  my name is john . \n"
     ]
    }
   ],
   "source": [
    "def pad_p(sent,punc):\n",
    "    for p in punc:\n",
    "        sent = sent.replace(p,' '+p+' ')\n",
    "    return sent\n",
    "sent='Hi, my name is john.'\n",
    "print(pad_p(sent,['.','?','!',',']))"
   ]
  },
  {
   "cell_type": "code",
   "execution_count": 22,
   "id": "8f256426",
   "metadata": {},
   "outputs": [
    {
     "name": "stdout",
     "output_type": "stream",
     "text": [
      "first, open the first chapter.\n"
     ]
    }
   ],
   "source": [
    "sent = 'First, open the first chapter.'\n",
    "print(sent.lower())"
   ]
  },
  {
   "cell_type": "code",
   "execution_count": 23,
   "id": "d6fa841a",
   "metadata": {},
   "outputs": [
    {
     "name": "stdout",
     "output_type": "stream",
     "text": [
      "FIRST, OPEN THE FIRST CHAPTER.\n"
     ]
    }
   ],
   "source": [
    "sent = 'First, open the first chapter.'\n",
    "print(sent.upper())"
   ]
  },
  {
   "cell_type": "code",
   "execution_count": 31,
   "id": "7219ef41",
   "metadata": {},
   "outputs": [
    {
     "name": "stdout",
     "output_type": "stream",
     "text": [
      "He is a ten years old boy.\n"
     ]
    }
   ],
   "source": [
    "sent = 'He is a ten-years-old boy.'\n",
    "sent = re.sub('([^A-Za-z.,?!])',' ',sent)\n",
    "print(sent)"
   ]
  },
  {
   "cell_type": "code",
   "execution_count": 49,
   "id": "6b2c9172",
   "metadata": {},
   "outputs": [
    {
     "data": {
      "text/plain": [
       "'FOR THE THIRD PART OF THE BOOK THE EDITOR IS RESPONSIBLE ,  THOUGH ALL THAT IS VALID IN IT HE OWES TO AUTHENTIC RECORDS AND TO THE ADVICE OF MISS SULLIVAN . '"
      ]
     },
     "metadata": {},
     "output_type": "display_data"
    }
   ],
   "source": [
    "corpus = 'For the third part of the book the Editor is responsible, though all that is valid in it he owes to authentic records and to the advice of Miss Sullivan.'\n",
    "def fun(sent,pun,reg):\n",
    "    sent = re.sub(reg,' ',sent)\n",
    "    for p in pun:\n",
    "        sent = sent.replace(p,' '+p+' ')\n",
    "    sent = sent.upper()\n",
    "    return sent\n",
    "display(fun(corpus,['.',',','!','?'],'([^a-zA-Z0-9.,?!\\n])'))"
   ]
  },
  {
   "cell_type": "code",
   "execution_count": null,
   "id": "41ee446c",
   "metadata": {},
   "outputs": [],
   "source": []
  }
 ],
 "metadata": {
  "kernelspec": {
   "display_name": "Python 3 (ipykernel)",
   "language": "python",
   "name": "python3"
  },
  "language_info": {
   "codemirror_mode": {
    "name": "ipython",
    "version": 3
   },
   "file_extension": ".py",
   "mimetype": "text/x-python",
   "name": "python",
   "nbconvert_exporter": "python",
   "pygments_lexer": "ipython3",
   "version": "3.9.12"
  }
 },
 "nbformat": 4,
 "nbformat_minor": 5
}
