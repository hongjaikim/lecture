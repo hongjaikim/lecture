{
  "nbformat": 4,
  "nbformat_minor": 0,
  "metadata": {
    "colab": {
      "provenance": [],
      "collapsed_sections": []
    },
    "kernelspec": {
      "name": "python3",
      "display_name": "Python 3"
    },
    "language_info": {
      "name": "python"
    },
    "gpuClass": "standard",
    "accelerator": "GPU"
  },
  "cells": [
    {
      "cell_type": "code",
      "execution_count": 52,
      "metadata": {
        "id": "qlpKA4e6h-4Z"
      },
      "outputs": [],
      "source": [
        "import pandas as pd\n",
        "import urllib.request\n",
        "import matplotlib.pyplot as plt\n",
        "import re\n",
        "import tensorflow as tf\n",
        "from tensorflow import keras\n",
        "from tensorflow.keras.preprocessing.text import Tokenizer\n",
        "import numpy as np\n",
        "from tensorflow.keras.preprocessing.sequence import pad_sequences\n",
        "from collections import Counter\n",
        "from tensorflow.keras.callbacks import ModelCheckpoint,EarlyStopping"
      ]
    },
    {
      "cell_type": "code",
      "source": [
        "!wget https://github.com/jungyeul/korean-parallel-corpora/raw/master/korean-english-news-v1/korean-english-park.train.tar.gz"
      ],
      "metadata": {
        "colab": {
          "base_uri": "https://localhost:8080/"
        },
        "id": "xjAPW_-QkmFF",
        "outputId": "62dfadd5-1d20-442c-dcd2-3763f13ac6d4"
      },
      "execution_count": 2,
      "outputs": [
        {
          "output_type": "stream",
          "name": "stdout",
          "text": [
            "--2022-09-08 06:44:29--  https://github.com/jungyeul/korean-parallel-corpora/raw/master/korean-english-news-v1/korean-english-park.train.tar.gz\n",
            "Resolving github.com (github.com)... 192.30.255.113\n",
            "Connecting to github.com (github.com)|192.30.255.113|:443... connected.\n",
            "HTTP request sent, awaiting response... 302 Found\n",
            "Location: https://raw.githubusercontent.com/jungyeul/korean-parallel-corpora/master/korean-english-news-v1/korean-english-park.train.tar.gz [following]\n",
            "--2022-09-08 06:44:30--  https://raw.githubusercontent.com/jungyeul/korean-parallel-corpora/master/korean-english-news-v1/korean-english-park.train.tar.gz\n",
            "Resolving raw.githubusercontent.com (raw.githubusercontent.com)... 185.199.108.133, 185.199.109.133, 185.199.110.133, ...\n",
            "Connecting to raw.githubusercontent.com (raw.githubusercontent.com)|185.199.108.133|:443... connected.\n",
            "HTTP request sent, awaiting response... 200 OK\n",
            "Length: 8718893 (8.3M) [application/octet-stream]\n",
            "Saving to: ‘korean-english-park.train.tar.gz.6’\n",
            "\n",
            "korean-english-park 100%[===================>]   8.31M  --.-KB/s    in 0.06s   \n",
            "\n",
            "2022-09-08 06:44:30 (142 MB/s) - ‘korean-english-park.train.tar.gz.6’ saved [8718893/8718893]\n",
            "\n"
          ]
        }
      ]
    },
    {
      "cell_type": "code",
      "source": [
        "!tar -xzvf korean-english-park.train.tar.gz"
      ],
      "metadata": {
        "colab": {
          "base_uri": "https://localhost:8080/"
        },
        "id": "_AK6kRmEkl64",
        "outputId": "a512e134-d4f1-4a3e-a703-01dc060623c9"
      },
      "execution_count": 3,
      "outputs": [
        {
          "output_type": "stream",
          "name": "stdout",
          "text": [
            "korean-english-park.train.en\n",
            "korean-english-park.train.ko\n"
          ]
        }
      ]
    },
    {
      "cell_type": "code",
      "source": [
        "!pip install sentencepiece"
      ],
      "metadata": {
        "colab": {
          "base_uri": "https://localhost:8080/"
        },
        "id": "dWA85lVkjssi",
        "outputId": "9b32f4d3-e2ba-452f-c33e-3bc8c2b24fc9"
      },
      "execution_count": 4,
      "outputs": [
        {
          "output_type": "stream",
          "name": "stdout",
          "text": [
            "Looking in indexes: https://pypi.org/simple, https://us-python.pkg.dev/colab-wheels/public/simple/\n",
            "Requirement already satisfied: sentencepiece in /usr/local/lib/python3.7/dist-packages (0.1.97)\n"
          ]
        }
      ]
    },
    {
      "cell_type": "code",
      "source": [
        "import sentencepiece as spm\n",
        "import csv"
      ],
      "metadata": {
        "id": "iqiM7dngj4BA"
      },
      "execution_count": 5,
      "outputs": []
    },
    {
      "cell_type": "code",
      "source": [
        "urllib.request.urlretrieve(\"https://raw.githubusercontent.com/e9t/nsmc/master/ratings_train.txt\", filename=\"ratings_train.txt\") # train\n",
        "urllib.request.urlretrieve(\"https://raw.githubusercontent.com/e9t/nsmc/master/ratings_test.txt\", filename=\"ratings_test.txt\") # test\n",
        "urllib.request.urlretrieve(\"https://raw.githubusercontent.com/e9t/nsmc/master/ratings.txt\", filename=\"ratings.txt\") # train + test"
      ],
      "metadata": {
        "colab": {
          "base_uri": "https://localhost:8080/"
        },
        "id": "G2jKZAJbjEGe",
        "outputId": "c8825d32-a6d9-4df6-e5e4-e656811ba450"
      },
      "execution_count": 6,
      "outputs": [
        {
          "output_type": "execute_result",
          "data": {
            "text/plain": [
              "('ratings.txt', <http.client.HTTPMessage at 0x7f13f25a2dd0>)"
            ]
          },
          "metadata": {},
          "execution_count": 6
        }
      ]
    },
    {
      "cell_type": "markdown",
      "source": [
        "spm만들기"
      ],
      "metadata": {
        "id": "tQZv9lyAnvFX"
      }
    },
    {
      "cell_type": "code",
      "source": [
        "corpus = 'korean-english-park.train.ko' # 입력 corpus\n",
        "prefix = 'naver' # 저장할 단어장 이름\n",
        "vocab_size = 8000\n",
        "spm.SentencePieceTrainer.Train(\n",
        "    f\"--input={corpus} --model_prefix={prefix} --vocab_size={vocab_size}\" +\n",
        "    \"--model_type=bpe\" +\n",
        "    \"--max_sentence_length=999999\" #문장 최대 길이\n",
        ")"
      ],
      "metadata": {
        "id": "Moxk05fNjYiV"
      },
      "execution_count": 7,
      "outputs": []
    },
    {
      "cell_type": "markdown",
      "source": [
        "데이터 전처리"
      ],
      "metadata": {
        "id": "P9IM3bz_pApF"
      }
    },
    {
      "cell_type": "code",
      "source": [
        "train_data = pd.read_table('ratings_train.txt')\n",
        "test_data = pd.read_table('ratings_test.txt')"
      ],
      "metadata": {
        "id": "Z5ZcT4O3nY-l"
      },
      "execution_count": 13,
      "outputs": []
    },
    {
      "cell_type": "code",
      "source": [
        "train_data.drop_duplicates(subset=['document'], inplace=True)\n",
        "test_data.drop_duplicates(subset=['document'], inplace=True)"
      ],
      "metadata": {
        "id": "RWZzfy_sqRdl"
      },
      "execution_count": 15,
      "outputs": []
    },
    {
      "cell_type": "code",
      "source": [
        "train_data = train_data.dropna(how='any')\n",
        "test_data = test_data.dropna(how='any')"
      ],
      "metadata": {
        "id": "c7vbFKHeqUEw"
      },
      "execution_count": 16,
      "outputs": []
    },
    {
      "cell_type": "code",
      "source": [
        "s = spm.SentencePieceProcessor()\n",
        "s.Load('naver.model')\n",
        "\n",
        "def sp_tokenize(s, corpus):\n",
        "\n",
        "    tensor = []\n",
        "\n",
        "    for sen in corpus:\n",
        "        tensor.append(s.EncodeAsIds(sen)) # 텍스트를 정수형 인덱스로 변환하여 tensor에 저장\n",
        "\n",
        "    with open(\"naver.vocab\", 'r') as f:\n",
        "        vocab = f.readlines()             # 단어장 불러오기\n",
        "\n",
        "    word_index = {}\n",
        "    index_word = {}\n",
        "\n",
        "    for idx, line in enumerate(vocab):\n",
        "        word = line.split(\"\\t\")[0]      # 단어장에서 단어 추출\n",
        "\n",
        "        word_index.update({idx:word})       # 변환 사전 만들기\n",
        "        index_word.update({word:idx})\n",
        "\n",
        "    tensor = tf.keras.preprocessing.sequence.pad_sequences(tensor, padding='post')  # 뒤쪽으로 패딩추가\n",
        "\n",
        "    return tensor, word_index, index_word"
      ],
      "metadata": {
        "id": "DV5n_UuIxbj5"
      },
      "execution_count": 17,
      "outputs": []
    },
    {
      "cell_type": "code",
      "source": [
        "x_train, word_index, index_word = sp_tokenize(s,train_data['document'])"
      ],
      "metadata": {
        "id": "-6CNNwtCxkZQ"
      },
      "execution_count": 18,
      "outputs": []
    },
    {
      "cell_type": "code",
      "source": [
        "x_test, word_index, index_word = sp_tokenize(s,test_data['document'])"
      ],
      "metadata": {
        "id": "oQ9qfXBzyodl"
      },
      "execution_count": 19,
      "outputs": []
    },
    {
      "cell_type": "code",
      "source": [
        "y_train = np.array(list(train_data['label']))"
      ],
      "metadata": {
        "id": "zOeNq_x4psJU"
      },
      "execution_count": 20,
      "outputs": []
    },
    {
      "cell_type": "code",
      "source": [
        "y_test = np.array(list(test_data['label']))"
      ],
      "metadata": {
        "id": "8DYpZ_5dpv5o"
      },
      "execution_count": 21,
      "outputs": []
    },
    {
      "cell_type": "code",
      "source": [
        "# 데이터 셋 내 문장 길이 분포\n",
        "total_data_text = list(x_train) + list(x_test)\n",
        "\n",
        "# 텍스트데이터 문장길이의 리스트를 생성한 후\n",
        "num_tokens = [len(tokens) for tokens in total_data_text]\n",
        "num_tokens = np.array(num_tokens)\n",
        "\n",
        "# 문장 길이의 평균값, 최대값, 표준편차를 계산\n",
        "print('문장길이 평균 :', np.mean(num_tokens))\n",
        "print('문장길이 최대 :', np.max(num_tokens))\n",
        "print('문장길이 표준편차 : ', np.std(num_tokens))\n",
        "\n",
        "# 예를 들면 최대길이를 (평균 + 2*표준편차)로 한다면,\n",
        "max_tokens = np.mean(num_tokens) +2 * np.std(num_tokens)\n",
        "\n",
        "maxlen = int(max_tokens)\n",
        "print('pad_sequences maxlen : ', maxlen)\n",
        "print('전체 문장의 {}%가 maxlen 설정값 이내에 포함됩니다. '.format(np.sum(num_tokens < max_tokens)/len(num_tokens)))"
      ],
      "metadata": {
        "colab": {
          "base_uri": "https://localhost:8080/"
        },
        "id": "i71oVBH6tjtq",
        "outputId": "c7239d37-5a02-4ae2-a180-aff0b7dff03a"
      },
      "execution_count": 22,
      "outputs": [
        {
          "output_type": "stream",
          "name": "stdout",
          "text": [
            "문장길이 평균 : 140.0\n",
            "문장길이 최대 : 140\n",
            "문장길이 표준편차 :  0.0\n",
            "pad_sequences maxlen :  140\n",
            "전체 문장의 0.0%가 maxlen 설정값 이내에 포함됩니다. \n"
          ]
        }
      ]
    },
    {
      "cell_type": "code",
      "source": [
        "vocab_size = 10000\n",
        "word_vector_dim = 200 # 2의 배수\n",
        "\n",
        "model = keras.Sequential()\n",
        "model.add(keras.layers.Embedding(vocab_size, word_vector_dim, input_shape=(None,)))\n",
        "model.add(keras.layers.LSTM(128, return_sequences=True))\n",
        "model.add(keras.layers.Dropout(0.5))\n",
        "model.add(keras.layers.LSTM(128, return_sequences=True))\n",
        "model.add(keras.layers.Dropout(0.5))\n",
        "model.add(keras.layers.LSTM(128))\n",
        "model.add(keras.layers.Dropout(0.5))\n",
        "model.add(keras.layers.Dense(1, activation='sigmoid'))\n",
        "model.summary()"
      ],
      "metadata": {
        "colab": {
          "base_uri": "https://localhost:8080/"
        },
        "id": "fCoTvqsiu5-Z",
        "outputId": "9e145f45-7d56-4619-b950-2f3554fda16f"
      },
      "execution_count": 70,
      "outputs": [
        {
          "output_type": "stream",
          "name": "stdout",
          "text": [
            "Model: \"sequential_11\"\n",
            "_________________________________________________________________\n",
            " Layer (type)                Output Shape              Param #   \n",
            "=================================================================\n",
            " embedding_11 (Embedding)    (None, None, 200)         2000000   \n",
            "                                                                 \n",
            " lstm_18 (LSTM)              (None, None, 128)         168448    \n",
            "                                                                 \n",
            " dropout_19 (Dropout)        (None, None, 128)         0         \n",
            "                                                                 \n",
            " lstm_19 (LSTM)              (None, None, 128)         131584    \n",
            "                                                                 \n",
            " dropout_20 (Dropout)        (None, None, 128)         0         \n",
            "                                                                 \n",
            " lstm_20 (LSTM)              (None, 128)               131584    \n",
            "                                                                 \n",
            " dropout_21 (Dropout)        (None, 128)               0         \n",
            "                                                                 \n",
            " dense_27 (Dense)            (None, 1)                 129       \n",
            "                                                                 \n",
            "=================================================================\n",
            "Total params: 2,431,745\n",
            "Trainable params: 2,431,745\n",
            "Non-trainable params: 0\n",
            "_________________________________________________________________\n"
          ]
        }
      ]
    },
    {
      "cell_type": "code",
      "source": [
        "x_val = x_train[:50000]\n",
        "y_val = y_train[:50000]\n",
        "\n",
        "partial_x_train = x_train[50000:]\n",
        "partial_y_train = y_train[50000:]"
      ],
      "metadata": {
        "id": "2xKIvtk-vDkN"
      },
      "execution_count": 71,
      "outputs": []
    },
    {
      "cell_type": "code",
      "source": [
        "modelpath = './naver.hdf5'\n",
        "checkpointer = ModelCheckpoint(filepath = modelpath,monitor='val_loss',verbose=1,save_best_only=True)\n",
        "early_stopping_callback = EarlyStopping(monitor='val_loss',patience=10)"
      ],
      "metadata": {
        "id": "SGXtpK6NFm0H"
      },
      "execution_count": 72,
      "outputs": []
    },
    {
      "cell_type": "code",
      "source": [
        "model.compile(optimizer='adam', loss='binary_crossentropy', metrics=['accuracy'])\n",
        "epochs= 100\n",
        "history = model.fit(partial_x_train, partial_y_train, epochs=epochs, batch_size=512, validation_data=(x_val, y_val), verbose=1,callbacks=[early_stopping_callback,checkpointer])"
      ],
      "metadata": {
        "colab": {
          "base_uri": "https://localhost:8080/"
        },
        "id": "0vwDSuKqvPq4",
        "outputId": "0e1dd9e2-9e35-4564-f63b-b581ee551f78"
      },
      "execution_count": 73,
      "outputs": [
        {
          "output_type": "stream",
          "name": "stdout",
          "text": [
            "Epoch 1/100\n",
            "188/188 [==============================] - ETA: 0s - loss: 0.6935 - accuracy: 0.5026\n",
            "Epoch 1: val_loss improved from inf to 0.69317, saving model to ./naver.hdf5\n",
            "188/188 [==============================] - 24s 105ms/step - loss: 0.6935 - accuracy: 0.5026 - val_loss: 0.6932 - val_accuracy: 0.5011\n",
            "Epoch 2/100\n",
            "188/188 [==============================] - ETA: 0s - loss: 0.6934 - accuracy: 0.4987\n",
            "Epoch 2: val_loss did not improve from 0.69317\n",
            "188/188 [==============================] - 19s 101ms/step - loss: 0.6934 - accuracy: 0.4987 - val_loss: 0.6936 - val_accuracy: 0.5011\n",
            "Epoch 3/100\n",
            "188/188 [==============================] - ETA: 0s - loss: 0.6933 - accuracy: 0.4992\n",
            "Epoch 3: val_loss did not improve from 0.69317\n",
            "188/188 [==============================] - 19s 102ms/step - loss: 0.6933 - accuracy: 0.4992 - val_loss: 0.6932 - val_accuracy: 0.5011\n",
            "Epoch 4/100\n",
            "188/188 [==============================] - ETA: 0s - loss: 0.6933 - accuracy: 0.5010\n",
            "Epoch 4: val_loss did not improve from 0.69317\n",
            "188/188 [==============================] - 19s 103ms/step - loss: 0.6933 - accuracy: 0.5010 - val_loss: 0.6932 - val_accuracy: 0.5011\n",
            "Epoch 5/100\n",
            "188/188 [==============================] - ETA: 0s - loss: 0.6933 - accuracy: 0.4985\n",
            "Epoch 5: val_loss did not improve from 0.69317\n",
            "188/188 [==============================] - 19s 104ms/step - loss: 0.6933 - accuracy: 0.4985 - val_loss: 0.6933 - val_accuracy: 0.5011\n",
            "Epoch 6/100\n",
            "188/188 [==============================] - ETA: 0s - loss: 0.6933 - accuracy: 0.5015\n",
            "Epoch 6: val_loss improved from 0.69317 to 0.69315, saving model to ./naver.hdf5\n",
            "188/188 [==============================] - 20s 105ms/step - loss: 0.6933 - accuracy: 0.5015 - val_loss: 0.6931 - val_accuracy: 0.5011\n",
            "Epoch 7/100\n",
            "188/188 [==============================] - ETA: 0s - loss: 0.6933 - accuracy: 0.4974\n",
            "Epoch 7: val_loss did not improve from 0.69315\n",
            "188/188 [==============================] - 20s 106ms/step - loss: 0.6933 - accuracy: 0.4974 - val_loss: 0.6932 - val_accuracy: 0.5011\n",
            "Epoch 8/100\n",
            "188/188 [==============================] - ETA: 0s - loss: 0.6932 - accuracy: 0.5029\n",
            "Epoch 8: val_loss did not improve from 0.69315\n",
            "188/188 [==============================] - 20s 106ms/step - loss: 0.6932 - accuracy: 0.5029 - val_loss: 0.6932 - val_accuracy: 0.5011\n",
            "Epoch 9/100\n",
            "188/188 [==============================] - ETA: 0s - loss: 0.6932 - accuracy: 0.5007\n",
            "Epoch 9: val_loss did not improve from 0.69315\n",
            "188/188 [==============================] - 20s 106ms/step - loss: 0.6932 - accuracy: 0.5007 - val_loss: 0.6932 - val_accuracy: 0.4989\n",
            "Epoch 10/100\n",
            "188/188 [==============================] - ETA: 0s - loss: 0.6932 - accuracy: 0.4997\n",
            "Epoch 10: val_loss did not improve from 0.69315\n",
            "188/188 [==============================] - 20s 105ms/step - loss: 0.6932 - accuracy: 0.4997 - val_loss: 0.6932 - val_accuracy: 0.4989\n",
            "Epoch 11/100\n",
            "188/188 [==============================] - ETA: 0s - loss: 0.6932 - accuracy: 0.5002\n",
            "Epoch 11: val_loss did not improve from 0.69315\n",
            "188/188 [==============================] - 20s 105ms/step - loss: 0.6932 - accuracy: 0.5002 - val_loss: 0.6931 - val_accuracy: 0.5011\n",
            "Epoch 12/100\n",
            "188/188 [==============================] - ETA: 0s - loss: 0.6932 - accuracy: 0.5021\n",
            "Epoch 12: val_loss did not improve from 0.69315\n",
            "188/188 [==============================] - 20s 105ms/step - loss: 0.6932 - accuracy: 0.5021 - val_loss: 0.6931 - val_accuracy: 0.5011\n",
            "Epoch 13/100\n",
            "188/188 [==============================] - ETA: 0s - loss: 0.6932 - accuracy: 0.5024\n",
            "Epoch 13: val_loss did not improve from 0.69315\n",
            "188/188 [==============================] - 20s 105ms/step - loss: 0.6932 - accuracy: 0.5024 - val_loss: 0.6932 - val_accuracy: 0.4989\n",
            "Epoch 14/100\n",
            "188/188 [==============================] - ETA: 0s - loss: 0.6932 - accuracy: 0.5014\n",
            "Epoch 14: val_loss did not improve from 0.69315\n",
            "188/188 [==============================] - 20s 105ms/step - loss: 0.6932 - accuracy: 0.5014 - val_loss: 0.6932 - val_accuracy: 0.5011\n",
            "Epoch 15/100\n",
            "188/188 [==============================] - ETA: 0s - loss: 0.6932 - accuracy: 0.5000\n",
            "Epoch 15: val_loss did not improve from 0.69315\n",
            "188/188 [==============================] - 20s 105ms/step - loss: 0.6932 - accuracy: 0.5000 - val_loss: 0.6932 - val_accuracy: 0.5011\n",
            "Epoch 16/100\n",
            "188/188 [==============================] - ETA: 0s - loss: 0.6932 - accuracy: 0.5004\n",
            "Epoch 16: val_loss did not improve from 0.69315\n",
            "188/188 [==============================] - 20s 106ms/step - loss: 0.6932 - accuracy: 0.5004 - val_loss: 0.6931 - val_accuracy: 0.5011\n"
          ]
        }
      ]
    },
    {
      "cell_type": "code",
      "source": [
        "results = model.evaluate(x_test, y_test, verbose=2)"
      ],
      "metadata": {
        "colab": {
          "base_uri": "https://localhost:8080/"
        },
        "id": "5CvlhLE1vSSb",
        "outputId": "3a4784a8-7a9b-4e3d-f584-e5cb9e77d17b"
      },
      "execution_count": 74,
      "outputs": [
        {
          "output_type": "stream",
          "name": "stdout",
          "text": [
            "1537/1537 - 15s - loss: 0.6932 - accuracy: 0.4973 - 15s/epoch - 10ms/step\n"
          ]
        }
      ]
    },
    {
      "cell_type": "code",
      "source": [
        "print(results)"
      ],
      "metadata": {
        "colab": {
          "base_uri": "https://localhost:8080/"
        },
        "id": "a9qnrxIQvZQl",
        "outputId": "0332405f-c1b8-4cf3-8434-222c4d03c25d"
      },
      "execution_count": 75,
      "outputs": [
        {
          "output_type": "stream",
          "name": "stdout",
          "text": [
            "[0.6931753754615784, 0.4973045587539673]\n"
          ]
        }
      ]
    },
    {
      "cell_type": "code",
      "source": [],
      "metadata": {
        "id": "znWu9_dgveHs"
      },
      "execution_count": 75,
      "outputs": []
    },
    {
      "cell_type": "code",
      "source": [
        "history_dict = history.history\n",
        "print(history_dict.keys())"
      ],
      "metadata": {
        "colab": {
          "base_uri": "https://localhost:8080/"
        },
        "id": "yOfbiUgFvbWN",
        "outputId": "a1961186-3f5a-46a8-8b09-642b48b671bf"
      },
      "execution_count": 76,
      "outputs": [
        {
          "output_type": "stream",
          "name": "stdout",
          "text": [
            "dict_keys(['loss', 'accuracy', 'val_loss', 'val_accuracy'])\n"
          ]
        }
      ]
    },
    {
      "cell_type": "code",
      "source": [
        "acc = history_dict['accuracy']\n",
        "val_acc = history_dict['val_accuracy']\n",
        "loss = history_dict['loss']\n",
        "val_loss = history_dict['val_loss']"
      ],
      "metadata": {
        "id": "KhqU7W9Hvex0"
      },
      "execution_count": 77,
      "outputs": []
    },
    {
      "cell_type": "code",
      "source": [
        "epochs = range(1, len(acc)+1)\n",
        "\n",
        "plt.plot(epochs, loss, 'r-', label='Training loss')\n",
        "plt.plot(epochs, val_loss, 'b', label='Validation loss')\n",
        "plt.title('Training and validation loss')\n",
        "plt.xlabel('Epochs')\n",
        "plt.ylabel('Loss')\n",
        "plt.legend()\n",
        "plt.show()"
      ],
      "metadata": {
        "colab": {
          "base_uri": "https://localhost:8080/",
          "height": 295
        },
        "id": "LaHJ4QKivgt8",
        "outputId": "1bb9ef28-78f3-4082-aa32-e2924253307e"
      },
      "execution_count": 78,
      "outputs": [
        {
          "output_type": "display_data",
          "data": {
            "text/plain": [
              "<Figure size 432x288 with 1 Axes>"
            ],
            "image/png": "[encoded data removed]"
          },
          "metadata": {
            "needs_background": "light"
          }
        }
      ]
    },
    {
      "cell_type": "code",
      "source": [
        "plt.clf() #그림을 초기화\n",
        "\n",
        "plt.plot(epochs, acc, 'r-', label= 'Training acc')\n",
        "plt.plot(epochs, val_acc, 'b', label='Validation acc')\n",
        "plt.title('Training and validation accuracy')\n",
        "plt.xlabel('Epochs')\n",
        "plt.ylabel('accuracy')\n",
        "plt.legend()\n",
        "plt.show()"
      ],
      "metadata": {
        "colab": {
          "base_uri": "https://localhost:8080/",
          "height": 295
        },
        "id": "hgJ5gStZviFH",
        "outputId": "ef03430e-25d4-4680-99f8-1afd384bbaf8"
      },
      "execution_count": 79,
      "outputs": [
        {
          "output_type": "display_data",
          "data": {
            "text/plain": [
              "<Figure size 432x288 with 1 Axes>"
            ],
            "image/png": "[encoded data removed]"
          },
          "metadata": {
            "needs_background": "light"
          }
        }
      ]
    },
    {
      "cell_type": "code",
      "source": [],
      "metadata": {
        "id": "EuIY_ayIvjrM"
      },
      "execution_count": 79,
      "outputs": []
    },
    {
      "cell_type": "markdown",
      "source": [
        "model = keras.Sequential()\n",
        "model.add(keras.layers.Embedding(vocab_size, word_vector_dim, input_shape=(None,)))\n",
        "\n",
        "model.add(keras.layers.Dense(128, activation='relu'))\n",
        "\n",
        "model.add(keras.layers.Dropout(0.5))\n",
        "\n",
        "model.add(keras.layers.LSTM(128))\n",
        "\n",
        "model.add(keras.layers.Dense(128, activation='relu'))\n",
        "\n",
        "model.add(keras.layers.Dense(1, activation='sigmoid'))\n",
        "\n",
        "model.summary()\n",
        "\n",
        "-------------------------------------------------------------------------\n",
        "\n",
        "Epoch 47/100\n",
        "\n",
        "188/188 [==============================] - 8s 43ms/step - loss: 0.6926 - accuracy: 0.5030 - val_loss: 0.6903 - val_accuracy: 0.5144\n",
        "\n",
        "Epoch 48/100\n",
        "\n",
        "188/188 [==============================] - 8s 44ms/step - loss: 0.5426 - accuracy: 0.7074 - val_loss: 0.4163 - val_accuracy: 0.8103\n",
        "\n",
        "-------------------------------------------------------------------------\n",
        "\n",
        "results = model.evaluate(x_test, y_test, verbose=2)\n",
        "\n",
        "1537/1537 - 7s - loss: 0.5436 - accuracy: 0.8256 - 7s/epoch - 5ms/step\n",
        "\n",
        "-------------------------------------------------------------------------\n",
        "\n"
      ],
      "metadata": {
        "id": "T7JiwETb4Bp3"
      }
    },
    {
      "cell_type": "code",
      "source": [],
      "metadata": {
        "id": "c5f7VbtxE4rB"
      },
      "execution_count": null,
      "outputs": []
    },
    {
      "cell_type": "markdown",
      "source": [
        "vocab_size = 10000\n",
        "word_vector_dim = 200 # 2의 배수\n",
        "\n",
        "model = keras.Sequential()\n",
        "\n",
        "model.add(keras.layers.Embedding(vocab_size, word_vector_dim, input_shape=(None,)))\n",
        "\n",
        "model.add(keras.layers.Dense(128, activation='relu'))\n",
        "\n",
        "model.add(keras.layers.Dropout(0.5))\n",
        "\n",
        "model.add(keras.layers.LSTM(128, return_sequences=True))\n",
        "\n",
        "model.add(keras.layers.Dropout(0.5))\n",
        "\n",
        "model.add(keras.layers.Dense(128, activation='relu'))\n",
        "\n",
        "model.add(keras.layers.Dropout(0.5))\n",
        "\n",
        "model.add(keras.layers.LSTM(128))\n",
        "\n",
        "model.add(keras.layers.Dropout(0.5))\n",
        "\n",
        "model.add(keras.layers.Dense(128, activation='relu'))\n",
        "\n",
        "model.add(keras.layers.Dense(1, activation='sigmoid'))\n",
        "\n",
        "model.summary()\n",
        "\n",
        "--------------------------------------------------------------------\n",
        "\n",
        "Epoch 100/100\n",
        "\n",
        "188/188 [==============================] - 15s 80ms/step - loss: 0.6931 - accuracy: 0.5000 - val_loss: 0.6931 - val_accuracy: 0.5011\n",
        "\n",
        "--------------------------------------------------------------------\n",
        "\n",
        "results = model.evaluate(x_test, y_test, verbose=2)\n",
        "\n",
        "1537/1537 - 12s - loss: 0.6932 - accuracy: 0.4973 - 12s/epoch - 8ms/step\n",
        "\n",
        "--------------------------------------------------------------------\n",
        "\n",
        "\n"
      ],
      "metadata": {
        "id": "XZiT9mSwELLi"
      }
    },
    {
      "cell_type": "code",
      "source": [],
      "metadata": {
        "id": "uI6fX7Cw8i6L"
      },
      "execution_count": null,
      "outputs": []
    },
    {
      "cell_type": "markdown",
      "source": [
        "vocab_size = 10000\n",
        "\n",
        "word_vector_dim = 200 # 2의 배수\n",
        "\n",
        "\n",
        "model = keras.Sequential()\n",
        "\n",
        "model.add(keras.layers.Embedding(vocab_size, word_vector_dim, input_shape=(None,)))\n",
        "\n",
        "model.add(keras.layers.Dense(128, activation='relu'))\n",
        "\n",
        "model.add(keras.layers.Dropout(0.5))\n",
        "\n",
        "model.add(keras.layers.LSTM(128, return_sequences=True))\n",
        "\n",
        "model.add(keras.layers.Dropout(0.5))\n",
        "\n",
        "model.add(keras.layers.LSTM(128))\n",
        "\n",
        "model.add(keras.layers.Dropout(0.5))\n",
        "\n",
        "model.add(keras.layers.Dense(128, activation='relu'))\n",
        "\n",
        "model.add(keras.layers.Dense(1, activation='sigmoid'))\n",
        "\n",
        "model.summary()\n",
        "\n",
        "-----------------------------------------------------------------\n",
        "\n",
        "Epoch 18: val_loss did not improve from 0.69314\n",
        "188/188 [==============================] - 14s 75ms/step - loss: 0.6932 - accuracy: 0.5017 - val_loss: 0.6932 - val_accuracy: 0.5011\n",
        "\n",
        "-----------------------------------------------------------------\n",
        "\n",
        "1537/1537 - 12s - loss: 0.6932 - accuracy: 0.4973 - 12s/epoch - 8ms/step\n",
        "\n",
        "-----------------------------------------------------------------\n"
      ],
      "metadata": {
        "id": "PRj3_2fxKmJk"
      }
    },
    {
      "cell_type": "code",
      "source": [],
      "metadata": {
        "id": "rVHQ3u12LRbB"
      },
      "execution_count": null,
      "outputs": []
    },
    {
      "cell_type": "markdown",
      "source": [
        "vocab_size = 10000\n",
        "\n",
        "word_vector_dim = 200 # 2의 배수\n",
        "\n",
        "\n",
        "model = keras.Sequential()\n",
        "\n",
        "model.add(keras.layers.Embedding(vocab_size, word_vector_dim, input_shape=(None,)))\n",
        "\n",
        "model.add(keras.layers.LSTM(128, return_sequences=True))\n",
        "\n",
        "model.add(keras.layers.Dropout(0.5))\n",
        "\n",
        "model.add(keras.layers.LSTM(128, return_sequences=True))\n",
        "\n",
        "model.add(keras.layers.Dropout(0.5))\n",
        "\n",
        "model.add(keras.layers.LSTM(128))\n",
        "\n",
        "model.add(keras.layers.Dropout(0.5))\n",
        "\n",
        "model.add(keras.layers.Dense(1, activation='sigmoid'))\n",
        "\n",
        "model.summary()\n",
        "\n",
        "-----------------------------------------------------------------------\n",
        "\n",
        "Epoch 16: val_loss did not improve from 0.69315\n",
        "\n",
        "188/188 [==============================] - 20s 106ms/step - loss: 0.6932 - accuracy: 0.5004 - val_loss: 0.6931 - val_accuracy: 0.5011\n",
        "\n",
        "--------------------------------------------------------------------------\n",
        "\n",
        "1537/1537 - 15s - loss: 0.6932 - accuracy: 0.4973 - 15s/epoch - 10ms/step\n",
        "\n",
        "--------------------------------------------------------------------------\n"
      ],
      "metadata": {
        "id": "n315KWV4ObQy"
      }
    },
    {
      "cell_type": "code",
      "source": [],
      "metadata": {
        "id": "Pae0TA8GOxBn"
      },
      "execution_count": null,
      "outputs": []
    }
  ]
}