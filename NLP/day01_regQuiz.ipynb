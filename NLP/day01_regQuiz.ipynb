{
 "cells": [
  {
   "cell_type": "code",
   "execution_count": 82,
   "metadata": {
    "id": "AygIRk5SywLR"
   },
   "outputs": [
    {
     "name": "stdout",
     "output_type": "stream",
     "text": [
      "['2022', '05', '13']\n",
      "[' ', ' ', ' friday']\n"
     ]
    }
   ],
   "source": [
    "import re\n",
    "\n",
    "# 1\n",
    "# 숫자 찾기\n",
    "example = '2022 05 13 friday'\n",
    "print(re.findall(r'([0-9]+)', example))\n",
    "\n",
    "# 숫자가 아닌 것 찾기\n",
    "print(re.findall(r'([^\\d]+)', example))"
   ]
  },
  {
   "cell_type": "code",
   "execution_count": 100,
   "metadata": {
    "id": "I5MclFqty2-Z"
   },
   "outputs": [
    {
     "name": "stdout",
     "output_type": "stream",
     "text": [
      "['rimiyeyo@yonsei.ac.kr', 'rimiyeyo@gmail.com']\n"
     ]
    }
   ],
   "source": [
    "# 2\n",
    "\n",
    "# 이메일 주소를 찾기\n",
    "example = '제 이메일은 rimiyeyo@yonsei.ac.kr 입니다. rimiyeyo@gmail.com으로 변경되었습니다.'\n",
    "print(re.findall(r'([a-z@]+.[.a-z]+)', example))"
   ]
  },
  {
   "cell_type": "code",
   "execution_count": 101,
   "metadata": {
    "id": "rDKRT_w8y5RR"
   },
   "outputs": [
    {
     "name": "stdout",
     "output_type": "stream",
     "text": [
      "['https://www.google.com/', 'https://www.naver.com/']\n"
     ]
    }
   ],
   "source": [
    "# 3\n",
    "\n",
    "# URL 찾기\n",
    "example = 'https://www.google.com/에 네이버 검색하시면 https://www.naver.com/이 상단에 노출됩니다.'\n",
    "print(re.findall(r'(h[a-z:/.]+)', example))"
   ]
  },
  {
   "cell_type": "code",
   "execution_count": 97,
   "metadata": {
    "id": "2IzFcv0HzCOD"
   },
   "outputs": [
    {
     "name": "stdout",
     "output_type": "stream",
     "text": [
      "['sonata01.png', 'avante02.jpg', 'socar2021.gif']\n"
     ]
    }
   ],
   "source": [
    "# 4\n",
    "\n",
    "# 파일 찾기\n",
    "example = '제 바탕화면 보시면 sonata01.png 파일과 avante02.jpg 파일 그리고 socar2021.gif 파일이 존재합니다.'\n",
    "print(re.findall(r'([a-z.\\d]+[png|jpg|gif])', example))"
   ]
  },
  {
   "cell_type": "code",
   "execution_count": null,
   "metadata": {
    "id": "aIbvAEZxzE0M"
   },
   "outputs": [],
   "source": []
  }
 ],
 "metadata": {
  "colab": {
   "authorship_tag": "ABX9TyOYHUmMohjVuowwDk+fAZ6T",
   "provenance": []
  },
  "kernelspec": {
   "display_name": "Python 3 (ipykernel)",
   "language": "python",
   "name": "python3"
  },
  "language_info": {
   "codemirror_mode": {
    "name": "ipython",
    "version": 3
   },
   "file_extension": ".py",
   "mimetype": "text/x-python",
   "name": "python",
   "nbconvert_exporter": "python",
   "pygments_lexer": "ipython3",
   "version": "3.9.12"
  }
 },
 "nbformat": 4,
 "nbformat_minor": 1
}
