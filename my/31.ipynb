{
 "cells": [
  {
   "cell_type": "code",
   "execution_count": 1,
   "id": "4d22cf83",
   "metadata": {},
   "outputs": [
    {
     "name": "stdout",
     "output_type": "stream",
     "text": [
      "베스킨라빈스 31 시작!\n",
      "숫자는 띄어쓰기로 구분하여 입력하세요(ex 3 4 5)\n",
      "1 2\n",
      "345\n",
      "숫자를 다시 입력하세요(ex 3 4 5)\n",
      "3\n",
      "4 5 6\n",
      "7\n",
      "8 9 10\n",
      "11 12 13\n",
      "14\n",
      "15 16\n",
      "17 18\n",
      "19 20 21\n",
      "22\n",
      "23 24 25\n",
      "26\n",
      "27\n",
      "28 29 30\n",
      "31\n",
      "패배!\n"
     ]
    }
   ],
   "source": [
    "print('베스킨라빈스 31 시작!')\n",
    "print('숫자는 띄어쓰기로 구분하여 입력하세요(ex 3 4 5)')\n",
    "print(1,2)\n",
    "onum=2\n",
    "while True:\n",
    "    inum = list(map(int,input().split()))\n",
    "    if inum[0]<=onum or inum[-1]-inum[0]>2 or inum[0]!=onum+1:\n",
    "        print('숫자를 다시 입력하세요(ex 3 4 5)')\n",
    "        continue\n",
    "    inum=inum[-1]\n",
    "    if inum>=31:\n",
    "        break\n",
    "    onum = inum+1\n",
    "    while not onum%4==2:\n",
    "        onum+=1\n",
    "    lst = [str(i) for i in range(inum+1,onum+1)]\n",
    "    print(\" \".join((lst)))\n",
    "print('패배!')"
   ]
  },
  {
   "cell_type": "code",
   "execution_count": 6,
   "id": "97a819d8",
   "metadata": {},
   "outputs": [
    {
     "name": "stdout",
     "output_type": "stream",
     "text": [
      "1 2 3\n",
      "3\n"
     ]
    }
   ],
   "source": [
    "num = list(map(int,input().split()))[-1]\n",
    "print(num)"
   ]
  }
 ],
 "metadata": {
  "kernelspec": {
   "display_name": "Python 3 (ipykernel)",
   "language": "python",
   "name": "python3"
  },
  "language_info": {
   "codemirror_mode": {
    "name": "ipython",
    "version": 3
   },
   "file_extension": ".py",
   "mimetype": "text/x-python",
   "name": "python",
   "nbconvert_exporter": "python",
   "pygments_lexer": "ipython3",
   "version": "3.9.12"
  }
 },
 "nbformat": 4,
 "nbformat_minor": 5
}
