{
  "nbformat": 4,
  "nbformat_minor": 0,
  "metadata": {
    "colab": {
      "name": "8장 다층 퍼셉트론.ipynb",
      "provenance": [],
      "collapsed_sections": []
    },
    "kernelspec": {
      "name": "python3",
      "display_name": "Python 3"
    },
    "language_info": {
      "name": "python"
    },
    "gpuClass": "standard"
  },
  "cells": [
    {
      "cell_type": "code",
      "execution_count": 8,
      "metadata": {
        "id": "dS7jP5clJOaK"
      },
      "outputs": [],
      "source": [
        "import numpy as np\n",
        "w11=np.array([-2,-2])\n",
        "w12=np.array([2,2])\n",
        "w2=np.array([1,1])\n",
        "b1=3\n",
        "b2=-1\n",
        "b3=-1\n"
      ]
    },
    {
      "cell_type": "code",
      "source": [
        "def MLP(x,w,b):\n",
        "  y=np.sum(w*x)+b\n",
        "  if y<=0:\n",
        "    return 0\n",
        "  else:\n",
        "    return 1\n",
        "  "
      ],
      "metadata": {
        "id": "9HtB93lrF3lq"
      },
      "execution_count": 9,
      "outputs": []
    },
    {
      "cell_type": "code",
      "source": [
        "def NAND(x1,x2):\n",
        "  return MLP(np.array([x1,x2]),w11,b1)\n",
        "\n",
        "def OR(x1,x2):\n",
        "  return MLP(np.array([x1,x2]),w12,b2)\n",
        "\n",
        "def AND(x1,x2):\n",
        "  return MLP(np.array([x1,x2]),w2,b3)\n",
        "\n",
        "def XOR(x1,x2):\n",
        "  return AND(NAND(x1,x2),OR(x1,x2))"
      ],
      "metadata": {
        "id": "3RorjlEAGTmJ"
      },
      "execution_count": 10,
      "outputs": []
    },
    {
      "cell_type": "code",
      "source": [
        "for x in [(0,0),(1,0),(0,1),(1,1)]:\n",
        "  y=XOR(x[0],x[1])\n",
        "  # y=np.logical_xor(x[0],x[1])\n",
        "  print(f'입력{x},출력{y}')"
      ],
      "metadata": {
        "colab": {
          "base_uri": "https://localhost:8080/"
        },
        "id": "C5XYa0JtHIqR",
        "outputId": "3e8ff891-e1d9-4522-b823-541df180c2e9"
      },
      "execution_count": 14,
      "outputs": [
        {
          "output_type": "stream",
          "name": "stdout",
          "text": [
            "입력(0, 0),출력0\n",
            "입력(1, 0),출력1\n",
            "입력(0, 1),출력1\n",
            "입력(1, 1),출력0\n"
          ]
        }
      ]
    },
    {
      "cell_type": "code",
      "source": [
        ""
      ],
      "metadata": {
        "id": "WxbXL_-7Hy3M"
      },
      "execution_count": null,
      "outputs": []
    }
  ]
}