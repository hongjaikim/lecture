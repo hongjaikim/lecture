{
  "nbformat": 4,
  "nbformat_minor": 0,
  "metadata": {
    "colab": {
      "name": "17장 딥러닝을 이용한 자연어 처리.ipynb",
      "provenance": [],
      "collapsed_sections": []
    },
    "kernelspec": {
      "name": "python3",
      "display_name": "Python 3"
    },
    "language_info": {
      "name": "python"
    },
    "gpuClass": "standard"
  },
  "cells": [
    {
      "cell_type": "markdown",
      "source": [
        "토큰화"
      ],
      "metadata": {
        "id": "MqrT8rQ1bIdE"
      }
    },
    {
      "cell_type": "code",
      "execution_count": 2,
      "metadata": {
        "id": "5PYY7aNwidCz"
      },
      "outputs": [],
      "source": [
        "from tensorflow.keras.preprocessing.text import text_to_word_sequence,Tokenizer"
      ]
    },
    {
      "cell_type": "code",
      "source": [
        "text = '해보지 않으면, 해낼 수 없다?'\n",
        "result = text_to_word_sequence(text)\n",
        "result1 = text.split()\n",
        "print(text,result,result1,sep='\\n')"
      ],
      "metadata": {
        "colab": {
          "base_uri": "https://localhost:8080/"
        },
        "id": "Wu3lPykHjLzz",
        "outputId": "eab26c0f-29c2-4901-88d7-fd343fbf5308"
      },
      "execution_count": 3,
      "outputs": [
        {
          "output_type": "stream",
          "name": "stdout",
          "text": [
            "해보지 않으면, 해낼 수 없다?\n",
            "['해보지', '않으면', '해낼', '수', '없다']\n",
            "['해보지', '않으면,', '해낼', '수', '없다?']\n"
          ]
        }
      ]
    },
    {
      "cell_type": "code",
      "source": [
        "docs=['먼저 텍스트의 각 단어를 나누어 토큰화합니다.',\n",
        "      '텍스트의 단어로 토큰화해야 딥러닝에서 인식됩니다.',\n",
        "      '토큰화한 결과는 딥러닝에서 사용할 수 있습니다?']"
      ],
      "metadata": {
        "id": "yqF6MEKEkCj-"
      },
      "execution_count": 46,
      "outputs": []
    },
    {
      "cell_type": "code",
      "source": [
        "token = Tokenizer()\n",
        "token.fit_on_texts(docs)\n",
        "\n",
        "display(\"단어 카운트\",token.word_counts)"
      ],
      "metadata": {
        "colab": {
          "base_uri": "https://localhost:8080/",
          "height": 316
        },
        "id": "Y1JBhvKbyJVf",
        "outputId": "255e3c71-f8e0-4f18-ed07-4337601bc264"
      },
      "execution_count": 47,
      "outputs": [
        {
          "output_type": "display_data",
          "data": {
            "text/plain": [
              "'단어 카운트'"
            ],
            "application/vnd.google.colaboratory.intrinsic+json": {
              "type": "string"
            }
          },
          "metadata": {}
        },
        {
          "output_type": "display_data",
          "data": {
            "text/plain": [
              "OrderedDict([('먼저', 1),\n",
              "             ('텍스트의', 2),\n",
              "             ('각', 1),\n",
              "             ('단어를', 1),\n",
              "             ('나누어', 1),\n",
              "             ('토큰화합니다', 1),\n",
              "             ('단어로', 1),\n",
              "             ('토큰화해야', 1),\n",
              "             ('딥러닝에서', 2),\n",
              "             ('인식됩니다', 1),\n",
              "             ('토큰화한', 1),\n",
              "             ('결과는', 1),\n",
              "             ('사용할', 1),\n",
              "             ('수', 1),\n",
              "             ('있습니다', 1)])"
            ]
          },
          "metadata": {}
        }
      ]
    },
    {
      "cell_type": "code",
      "source": [
        "print('문장 카운트',token.document_count)"
      ],
      "metadata": {
        "colab": {
          "base_uri": "https://localhost:8080/"
        },
        "id": "ehMe7lDSydFd",
        "outputId": "dbf07241-8d9d-4acc-c041-d1c1a622b31a"
      },
      "execution_count": 48,
      "outputs": [
        {
          "output_type": "stream",
          "name": "stdout",
          "text": [
            "문장 카운트 3\n"
          ]
        }
      ]
    },
    {
      "cell_type": "code",
      "source": [
        "display('각 단어가 몇개의 문장에 포함되어 있는가',token.word_docs)"
      ],
      "metadata": {
        "colab": {
          "base_uri": "https://localhost:8080/",
          "height": 335
        },
        "id": "8ySKC75ay8AR",
        "outputId": "7fac3bd1-e8f1-4d4e-ffe2-90913b024387"
      },
      "execution_count": 49,
      "outputs": [
        {
          "output_type": "display_data",
          "data": {
            "text/plain": [
              "'각 단어가 몇개의 문장에 포함되어 있는가'"
            ],
            "application/vnd.google.colaboratory.intrinsic+json": {
              "type": "string"
            }
          },
          "metadata": {}
        },
        {
          "output_type": "display_data",
          "data": {
            "text/plain": [
              "defaultdict(int,\n",
              "            {'각': 1,\n",
              "             '결과는': 1,\n",
              "             '나누어': 1,\n",
              "             '단어로': 1,\n",
              "             '단어를': 1,\n",
              "             '딥러닝에서': 2,\n",
              "             '먼저': 1,\n",
              "             '사용할': 1,\n",
              "             '수': 1,\n",
              "             '인식됩니다': 1,\n",
              "             '있습니다': 1,\n",
              "             '텍스트의': 2,\n",
              "             '토큰화한': 1,\n",
              "             '토큰화합니다': 1,\n",
              "             '토큰화해야': 1})"
            ]
          },
          "metadata": {}
        }
      ]
    },
    {
      "cell_type": "code",
      "source": [
        "display('각 단어에 매겨진 인덱스 값',token.word_index)"
      ],
      "metadata": {
        "colab": {
          "base_uri": "https://localhost:8080/",
          "height": 316
        },
        "id": "Wd7vWp0NzFga",
        "outputId": "65280362-0a06-4173-dbe0-ebd19a9eb946"
      },
      "execution_count": 50,
      "outputs": [
        {
          "output_type": "display_data",
          "data": {
            "text/plain": [
              "'각 단어에 매겨진 인덱스 값'"
            ],
            "application/vnd.google.colaboratory.intrinsic+json": {
              "type": "string"
            }
          },
          "metadata": {}
        },
        {
          "output_type": "display_data",
          "data": {
            "text/plain": [
              "{'각': 4,\n",
              " '결과는': 12,\n",
              " '나누어': 6,\n",
              " '단어로': 8,\n",
              " '단어를': 5,\n",
              " '딥러닝에서': 2,\n",
              " '먼저': 3,\n",
              " '사용할': 13,\n",
              " '수': 14,\n",
              " '인식됩니다': 10,\n",
              " '있습니다': 15,\n",
              " '텍스트의': 1,\n",
              " '토큰화한': 11,\n",
              " '토큰화합니다': 7,\n",
              " '토큰화해야': 9}"
            ]
          },
          "metadata": {}
        }
      ]
    },
    {
      "cell_type": "markdown",
      "source": [
        "원핫인코딩"
      ],
      "metadata": {
        "id": "dXQg1VN0bLl-"
      }
    },
    {
      "cell_type": "code",
      "source": [
        "text='오랫동안 꿈꾸는 이는 그 꿈을 닮아간다.'\n",
        "\n",
        "token =Tokenizer()\n",
        "token.fit_on_texts([text])\n",
        "print(token.word_index)"
      ],
      "metadata": {
        "id": "1JJW18XHzOi1",
        "colab": {
          "base_uri": "https://localhost:8080/"
        },
        "outputId": "4bd310df-f994-4409-b08d-df7f957a3c94"
      },
      "execution_count": 44,
      "outputs": [
        {
          "output_type": "stream",
          "name": "stdout",
          "text": [
            "{'오랫동안': 1, '꿈꾸는': 2, '이는': 3, '그': 4, '꿈을': 5, '닮아간다': 6}\n"
          ]
        }
      ]
    },
    {
      "cell_type": "code",
      "source": [
        "x = token.texts_to_sequences([text])\n",
        "print(x)"
      ],
      "metadata": {
        "colab": {
          "base_uri": "https://localhost:8080/"
        },
        "id": "5M--1ug1gaME",
        "outputId": "dc4dee9d-6a2c-46a6-c12e-8e610ecbe311"
      },
      "execution_count": 32,
      "outputs": [
        {
          "output_type": "stream",
          "name": "stdout",
          "text": [
            "[[1, 2, 3, 4, 5, 6]]\n"
          ]
        }
      ]
    },
    {
      "cell_type": "code",
      "source": [
        "from tensorflow.keras.utils import to_categorical"
      ],
      "metadata": {
        "id": "62L7dITtg939"
      },
      "execution_count": 33,
      "outputs": []
    },
    {
      "cell_type": "code",
      "source": [
        "word_size = len(token.word_index)+1\n",
        "x = to_categorical(x,num_classes=word_size)\n",
        "print(x)"
      ],
      "metadata": {
        "colab": {
          "base_uri": "https://localhost:8080/"
        },
        "id": "-Ye2zmrDhM7m",
        "outputId": "f5efef91-dee6-478b-a574-94f87b76070f"
      },
      "execution_count": 34,
      "outputs": [
        {
          "output_type": "stream",
          "name": "stdout",
          "text": [
            "[[[0. 1. 0. 0. 0. 0. 0.]\n",
            "  [0. 0. 1. 0. 0. 0. 0.]\n",
            "  [0. 0. 0. 1. 0. 0. 0.]\n",
            "  [0. 0. 0. 0. 1. 0. 0.]\n",
            "  [0. 0. 0. 0. 0. 1. 0.]\n",
            "  [0. 0. 0. 0. 0. 0. 1.]]]\n"
          ]
        }
      ]
    },
    {
      "cell_type": "code",
      "source": [
        "from tensorflow.keras.layers import Embedding\n",
        "\n",
        "model = Sequential()\n",
        "model.add(Embedding(16,4))"
      ],
      "metadata": {
        "id": "hb6F9vSihb26"
      },
      "execution_count": 40,
      "outputs": []
    },
    {
      "cell_type": "code",
      "source": [
        "from tensorflow.keras.preprocessing.text import Tokenizer\n",
        "from tensorflow.keras.preprocessing.sequence import pad_sequences\n",
        "from tensorflow.keras.models import Sequential\n",
        "from tensorflow.keras.layers import Dense,Flatten,Embedding\n",
        "from tensorflow.keras.utils import to_categorical\n",
        "from numpy import array\n",
        "\n",
        "docs = ['너무 재밌네요','최고에요','참 잘 만든 영화예요','추천하고 싶은 영화입니다',\n",
        "        '한번 더 보고싶네요','글쎄요','별로예요','생각보다 지루하네요','연기가 어색해요','재미없어요']\n",
        "\n",
        "classes = array([1,1,1,1,1,0,0,0,0,0])\n",
        "\n",
        "token = Tokenizer()\n",
        "token.fit_on_texts(docs)\n",
        "print(token.word_index)\n",
        "\n",
        "x = token.texts_to_sequences(docs)\n",
        "print('리뷰 텍스트 토큰화\\n',x)\n",
        "\n",
        "padded_x = pad_sequences(x,4)\n",
        "print('패딩\\n',padded_x)\n",
        "\n",
        "word_size = len(token.word_index)+1\n",
        "# x = to_categorical(padded_x,num_classes=word_size)\n",
        "\n",
        "model = Sequential()\n",
        "model.add(Embedding(word_size,8,input_length=4))\n",
        "model.add(Flatten())\n",
        "model.add(Dense(1,activation='sigmoid'))\n",
        "model.summary()\n",
        "\n",
        "model.compile(optimizer='adam',loss='binary_crossentropy',\n",
        "              metrics=['accuracy'])\n",
        "model.fit(padded_x,classes,epochs=20)\n",
        "print('accracy %.4f'%(model.evaluate(padded_x,classes)[1]))"
      ],
      "metadata": {
        "colab": {
          "base_uri": "https://localhost:8080/"
        },
        "id": "AlizxdYlfd07",
        "outputId": "a79f25b8-130b-4127-c2e8-b417ab9b843e"
      },
      "execution_count": 56,
      "outputs": [
        {
          "output_type": "stream",
          "name": "stdout",
          "text": [
            "{'너무': 1, '재밌네요': 2, '최고에요': 3, '참': 4, '잘': 5, '만든': 6, '영화예요': 7, '추천하고': 8, '싶은': 9, '영화입니다': 10, '한번': 11, '더': 12, '보고싶네요': 13, '글쎄요': 14, '별로예요': 15, '생각보다': 16, '지루하네요': 17, '연기가': 18, '어색해요': 19, '재미없어요': 20}\n",
            "리뷰 텍스트 토큰화\n",
            " [[1, 2], [3], [4, 5, 6, 7], [8, 9, 10], [11, 12, 13], [14], [15], [16, 17], [18, 19], [20]]\n",
            "패딩\n",
            " [[ 0  0  1  2]\n",
            " [ 0  0  0  3]\n",
            " [ 4  5  6  7]\n",
            " [ 0  8  9 10]\n",
            " [ 0 11 12 13]\n",
            " [ 0  0  0 14]\n",
            " [ 0  0  0 15]\n",
            " [ 0  0 16 17]\n",
            " [ 0  0 18 19]\n",
            " [ 0  0  0 20]]\n",
            "Model: \"sequential_10\"\n",
            "_________________________________________________________________\n",
            " Layer (type)                Output Shape              Param #   \n",
            "=================================================================\n",
            " embedding_10 (Embedding)    (None, 4, 8)              168       \n",
            "                                                                 \n",
            " flatten_9 (Flatten)         (None, 32)                0         \n",
            "                                                                 \n",
            " dense_9 (Dense)             (None, 1)                 33        \n",
            "                                                                 \n",
            "=================================================================\n",
            "Total params: 201\n",
            "Trainable params: 201\n",
            "Non-trainable params: 0\n",
            "_________________________________________________________________\n",
            "Epoch 1/20\n",
            "1/1 [==============================] - 1s 612ms/step - loss: 0.6945 - accuracy: 0.4000\n",
            "Epoch 2/20\n",
            "1/1 [==============================] - 0s 21ms/step - loss: 0.6925 - accuracy: 0.4000\n",
            "Epoch 3/20\n",
            "1/1 [==============================] - 0s 13ms/step - loss: 0.6906 - accuracy: 0.5000\n",
            "Epoch 4/20\n",
            "1/1 [==============================] - 0s 11ms/step - loss: 0.6886 - accuracy: 0.6000\n",
            "Epoch 5/20\n",
            "1/1 [==============================] - 0s 16ms/step - loss: 0.6867 - accuracy: 0.6000\n",
            "Epoch 6/20\n",
            "1/1 [==============================] - 0s 9ms/step - loss: 0.6848 - accuracy: 0.6000\n",
            "Epoch 7/20\n",
            "1/1 [==============================] - 0s 9ms/step - loss: 0.6829 - accuracy: 0.8000\n",
            "Epoch 8/20\n",
            "1/1 [==============================] - 0s 7ms/step - loss: 0.6809 - accuracy: 0.8000\n",
            "Epoch 9/20\n",
            "1/1 [==============================] - 0s 8ms/step - loss: 0.6790 - accuracy: 0.8000\n",
            "Epoch 10/20\n",
            "1/1 [==============================] - 0s 7ms/step - loss: 0.6771 - accuracy: 0.8000\n",
            "Epoch 11/20\n",
            "1/1 [==============================] - 0s 7ms/step - loss: 0.6752 - accuracy: 0.8000\n",
            "Epoch 12/20\n",
            "1/1 [==============================] - 0s 8ms/step - loss: 0.6732 - accuracy: 0.8000\n",
            "Epoch 13/20\n",
            "1/1 [==============================] - 0s 9ms/step - loss: 0.6713 - accuracy: 0.8000\n",
            "Epoch 14/20\n",
            "1/1 [==============================] - 0s 8ms/step - loss: 0.6694 - accuracy: 0.8000\n",
            "Epoch 15/20\n",
            "1/1 [==============================] - 0s 14ms/step - loss: 0.6675 - accuracy: 0.8000\n",
            "Epoch 16/20\n",
            "1/1 [==============================] - 0s 8ms/step - loss: 0.6655 - accuracy: 0.8000\n",
            "Epoch 17/20\n",
            "1/1 [==============================] - 0s 7ms/step - loss: 0.6636 - accuracy: 0.8000\n",
            "Epoch 18/20\n",
            "1/1 [==============================] - 0s 8ms/step - loss: 0.6616 - accuracy: 0.8000\n",
            "Epoch 19/20\n",
            "1/1 [==============================] - 0s 12ms/step - loss: 0.6597 - accuracy: 0.8000\n",
            "Epoch 20/20\n",
            "1/1 [==============================] - 0s 9ms/step - loss: 0.6577 - accuracy: 0.8000\n",
            "1/1 [==============================] - 0s 297ms/step - loss: 0.6557 - accuracy: 0.8000\n",
            "accracy 0.8000\n"
          ]
        }
      ]
    },
    {
      "cell_type": "code",
      "source": [
        ""
      ],
      "metadata": {
        "id": "nuEkQTrbgV9-"
      },
      "execution_count": 28,
      "outputs": []
    },
    {
      "cell_type": "code",
      "source": [
        ""
      ],
      "metadata": {
        "id": "qiic-GB6hHwS"
      },
      "execution_count": 35,
      "outputs": []
    },
    {
      "cell_type": "code",
      "source": [
        ""
      ],
      "metadata": {
        "id": "UsG2IQpihpmc"
      },
      "execution_count": 50,
      "outputs": []
    },
    {
      "cell_type": "code",
      "source": [
        ""
      ],
      "metadata": {
        "id": "G3DbMVzkh3Td"
      },
      "execution_count": null,
      "outputs": []
    }
  ]
}