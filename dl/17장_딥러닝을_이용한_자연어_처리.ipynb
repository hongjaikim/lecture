{
  "nbformat": 4,
  "nbformat_minor": 0,
  "metadata": {
    "colab": {
      "name": "17장 딥러닝을 이용한 자연어 처리.ipynb",
      "provenance": [],
      "collapsed_sections": []
    },
    "kernelspec": {
      "name": "python3",
      "display_name": "Python 3"
    },
    "language_info": {
      "name": "python"
    },
    "gpuClass": "standard"
  },
  "cells": [
    {
      "cell_type": "code",
      "execution_count": 1,
      "metadata": {
        "id": "5PYY7aNwidCz"
      },
      "outputs": [],
      "source": [
        "from tensorflow.keras.preprocessing.text import text_to_word_sequence,Tokenizer"
      ]
    },
    {
      "cell_type": "code",
      "source": [
        "text = '해보지 않으면, 해낼 수 없다?'\n",
        "result = text_to_word_sequence(text)\n",
        "result1 = text.split()\n",
        "print(text,result,result1,sep='\\n')"
      ],
      "metadata": {
        "colab": {
          "base_uri": "https://localhost:8080/"
        },
        "id": "Wu3lPykHjLzz",
        "outputId": "9ddd30de-9215-42c2-a50a-e9bbd95ab0cd"
      },
      "execution_count": 10,
      "outputs": [
        {
          "output_type": "stream",
          "name": "stdout",
          "text": [
            "해보지 않으면, 해낼 수 없다?\n",
            "['해보지', '않으면', '해낼', '수', '없다']\n",
            "['해보지', '않으면,', '해낼', '수', '없다?']\n"
          ]
        }
      ]
    },
    {
      "cell_type": "code",
      "source": [
        "docs=['먼저 텍스트의 각 단어를 나누어 토큰화합니다.',\n",
        "      '텍스트의 단어로 토큰화해야 딥러닝에서 인식됩니다.',\n",
        "      '토큰화한 결과는 딥러닝에서 사용할 수 있습니다']"
      ],
      "metadata": {
        "id": "yqF6MEKEkCj-"
      },
      "execution_count": 3,
      "outputs": []
    },
    {
      "cell_type": "code",
      "source": [
        "token = Tokenizer()\n",
        "token.fit_on_texts(docs)\n",
        "\n",
        "display('\\n 단어 카운트 \\n',token.word_counts)"
      ],
      "metadata": {
        "colab": {
          "base_uri": "https://localhost:8080/",
          "height": 316
        },
        "id": "Y1JBhvKbyJVf",
        "outputId": "8c412088-6030-4c62-ab8a-08095d6b88b5"
      },
      "execution_count": 11,
      "outputs": [
        {
          "output_type": "display_data",
          "data": {
            "text/plain": [
              "'\\n 단어 카운트 \\n'"
            ],
            "application/vnd.google.colaboratory.intrinsic+json": {
              "type": "string"
            }
          },
          "metadata": {}
        },
        {
          "output_type": "display_data",
          "data": {
            "text/plain": [
              "OrderedDict([('먼저', 1),\n",
              "             ('텍스트의', 2),\n",
              "             ('각', 1),\n",
              "             ('단어를', 1),\n",
              "             ('나누어', 1),\n",
              "             ('토큰화합니다', 1),\n",
              "             ('단어로', 1),\n",
              "             ('토큰화해야', 1),\n",
              "             ('딥러닝에서', 2),\n",
              "             ('인식됩니다', 1),\n",
              "             ('토큰화한', 1),\n",
              "             ('결과는', 1),\n",
              "             ('사용할', 1),\n",
              "             ('수', 1),\n",
              "             ('있습니다', 1)])"
            ]
          },
          "metadata": {}
        }
      ]
    },
    {
      "cell_type": "code",
      "source": [
        "print('문장 카운트',token.document_count)"
      ],
      "metadata": {
        "colab": {
          "base_uri": "https://localhost:8080/"
        },
        "id": "ehMe7lDSydFd",
        "outputId": "42748711-dec8-411f-fe54-85c88ee6523c"
      },
      "execution_count": 14,
      "outputs": [
        {
          "output_type": "stream",
          "name": "stdout",
          "text": [
            "문장 카운트 3\n"
          ]
        }
      ]
    },
    {
      "cell_type": "code",
      "source": [
        "display('\\n각 단어가 몇개의 문장에 포함되어 있는가\\n',token.word_docs)"
      ],
      "metadata": {
        "colab": {
          "base_uri": "https://localhost:8080/",
          "height": 335
        },
        "id": "8ySKC75ay8AR",
        "outputId": "271ffe3d-e433-47dc-b406-c26f963e0d96"
      },
      "execution_count": 12,
      "outputs": [
        {
          "output_type": "display_data",
          "data": {
            "text/plain": [
              "'\\n각 단어가 몇개의 문장에 포함되어 있는가\\n'"
            ],
            "application/vnd.google.colaboratory.intrinsic+json": {
              "type": "string"
            }
          },
          "metadata": {}
        },
        {
          "output_type": "display_data",
          "data": {
            "text/plain": [
              "defaultdict(int,\n",
              "            {'각': 1,\n",
              "             '결과는': 1,\n",
              "             '나누어': 1,\n",
              "             '단어로': 1,\n",
              "             '단어를': 1,\n",
              "             '딥러닝에서': 2,\n",
              "             '먼저': 1,\n",
              "             '사용할': 1,\n",
              "             '수': 1,\n",
              "             '인식됩니다': 1,\n",
              "             '있습니다': 1,\n",
              "             '텍스트의': 2,\n",
              "             '토큰화한': 1,\n",
              "             '토큰화합니다': 1,\n",
              "             '토큰화해야': 1})"
            ]
          },
          "metadata": {}
        }
      ]
    },
    {
      "cell_type": "code",
      "source": [
        "display('\\n각 단어에 매겨진 인덱스 값\\n',token.word_index)"
      ],
      "metadata": {
        "colab": {
          "base_uri": "https://localhost:8080/",
          "height": 316
        },
        "id": "Wd7vWp0NzFga",
        "outputId": "5eb25459-44f9-423e-a5fe-e3c1e0ecc6e7"
      },
      "execution_count": 13,
      "outputs": [
        {
          "output_type": "display_data",
          "data": {
            "text/plain": [
              "'\\n각 단어에 매겨진 인덱스 값\\n'"
            ],
            "application/vnd.google.colaboratory.intrinsic+json": {
              "type": "string"
            }
          },
          "metadata": {}
        },
        {
          "output_type": "display_data",
          "data": {
            "text/plain": [
              "{'각': 4,\n",
              " '결과는': 12,\n",
              " '나누어': 6,\n",
              " '단어로': 8,\n",
              " '단어를': 5,\n",
              " '딥러닝에서': 2,\n",
              " '먼저': 3,\n",
              " '사용할': 13,\n",
              " '수': 14,\n",
              " '인식됩니다': 10,\n",
              " '있습니다': 15,\n",
              " '텍스트의': 1,\n",
              " '토큰화한': 11,\n",
              " '토큰화합니다': 7,\n",
              " '토큰화해야': 9}"
            ]
          },
          "metadata": {}
        }
      ]
    },
    {
      "cell_type": "code",
      "source": [
        ""
      ],
      "metadata": {
        "id": "1JJW18XHzOi1"
      },
      "execution_count": null,
      "outputs": []
    }
  ]
}