{
  "nbformat": 4,
  "nbformat_minor": 0,
  "metadata": {
    "colab": {
      "name": "20장 전이 학습을 통해 딥러닝의 성능 극대화하기.ipynb",
      "provenance": [],
      "collapsed_sections": []
    },
    "kernelspec": {
      "name": "python3",
      "display_name": "Python 3"
    },
    "language_info": {
      "name": "python"
    },
    "accelerator": "GPU",
    "gpuClass": "standard"
  },
  "cells": [
    {
      "cell_type": "markdown",
      "source": [
        "Data Augmantation"
      ],
      "metadata": {
        "id": "74kshQsC7u8u"
      }
    },
    {
      "cell_type": "code",
      "execution_count": 1,
      "metadata": {
        "id": "ReJvNMvz2wiY"
      },
      "outputs": [],
      "source": [
        "from tensorflow.keras.models import Sequential\n",
        "from tensorflow.keras.layers import Dense, Activation,Dropout,Flatten,Conv2D,MaxPooling2D\n",
        "from tensorflow.keras.preprocessing.image import ImageDataGenerator\n",
        "from tensorflow.keras.callbacks import EarlyStopping\n",
        "from tensorflow.keras import optimizers\n",
        "\n",
        "import numpy as np\n",
        "import matplotlib.pyplot as plt\n"
      ]
    },
    {
      "cell_type": "code",
      "source": [
        "!git clone https://github.com/taehojo/data-ch20.git"
      ],
      "metadata": {
        "colab": {
          "base_uri": "https://localhost:8080/"
        },
        "id": "uv2f7O5Q8rSl",
        "outputId": "44319b0e-649a-4940-a9c9-88f59d52f133"
      },
      "execution_count": 2,
      "outputs": [
        {
          "output_type": "stream",
          "name": "stdout",
          "text": [
            "Cloning into 'data-ch20'...\n",
            "remote: Enumerating objects: 265, done.\u001b[K\n",
            "remote: Counting objects: 100% (265/265), done.\u001b[K\n",
            "remote: Compressing objects: 100% (265/265), done.\u001b[K\n",
            "remote: Total 265 (delta 0), reused 265 (delta 0), pack-reused 0\u001b[K\n",
            "Receiving objects: 100% (265/265), 1.86 MiB | 30.75 MiB/s, done.\n"
          ]
        }
      ]
    },
    {
      "cell_type": "code",
      "source": [
        "train_datagen = ImageDataGenerator(rescale=1./255,\n",
        "                                   horizontal_flip=True,\n",
        "                                   width_shift_range=0.1,\n",
        "                                   height_shift_range=0.1)\n",
        "train_generator = train_datagen.flow_from_directory(\n",
        "    './data-ch20/train',\n",
        "    target_size=(150,150),\n",
        "    batch_size=5,\n",
        "    class_mode='binary'\n",
        ")\n",
        "\n",
        "test_datagen = ImageDataGenerator(rescale=1./255)\n",
        "\n",
        "test_generator = test_datagen.flow_from_directory(\n",
        "    './data-ch20/test',\n",
        "    target_size=(150,150),\n",
        "    batch_size=5,\n",
        "    class_mode='binary'\n",
        ")\n",
        "\n",
        "model = Sequential()\n",
        "model.add(Conv2D(32,(3,3),input_shape=(150,150,3)))\n",
        "model.add(Activation('relu'))\n",
        "model.add(MaxPooling2D(pool_size=(2,2)))\n",
        "\n",
        "model.add(Conv2D(32,(3,3)))\n",
        "model.add(Activation('relu'))\n",
        "model.add(MaxPooling2D(pool_size=(2,2)))\n",
        "\n",
        "model.add(Conv2D(64,(3,3)))\n",
        "model.add(Activation('relu'))\n",
        "model.add(MaxPooling2D(pool_size=(2,2)))\n",
        "\n",
        "model.add(Flatten())\n",
        "model.add(Dense(64))\n",
        "model.add(Activation('relu'))\n",
        "model.add(Dropout(0.5))\n",
        "model.add(Dense(1))\n",
        "model.add(Activation('sigmoid'))\n",
        "model.summary()\n",
        "\n",
        "model.compile(loss='binary_crossentropy',optimizer=optimizers.Adam(learning_rate=0.0002),metrics=['accuracy'])\n",
        "\n",
        "early_stopping_callback = EarlyStopping(monitor='val_loss',patience=5,restore_best_weights=True)\n",
        "\n",
        "history = model.fit(\n",
        "    train_generator,\n",
        "    epochs=100,\n",
        "    validation_data=test_generator,\n",
        "    validation_steps=10,\n",
        "    callbacks=[early_stopping_callback]\n",
        ")\n",
        "\n",
        "y_vloss= history.history['val_loss']\n",
        "y_loss= history.history['loss']\n",
        "\n",
        "x_len = np.arange(len(y_loss))\n",
        "plt.plot(x_len,y_vloss,marker='.',c='red',label='Testset_loss')\n",
        "plt.plot(x_len,y_loss,marker='.',c='blue',label='Trainset_loss')\n",
        "\n",
        "plt.legend()\n",
        "plt.grid()\n",
        "plt.xlabel('epoch')\n",
        "plt.ylabel('loss')\n",
        "plt.show()"
      ],
      "metadata": {
        "colab": {
          "base_uri": "https://localhost:8080/",
          "height": 1000
        },
        "id": "mCmdm0Cs8y_8",
        "outputId": "e7d4f993-b04b-4426-ed35-cb5bc8993e4c"
      },
      "execution_count": 4,
      "outputs": [
        {
          "output_type": "stream",
          "name": "stdout",
          "text": [
            "Found 160 images belonging to 2 classes.\n",
            "Found 120 images belonging to 2 classes.\n",
            "Model: \"sequential_1\"\n",
            "_________________________________________________________________\n",
            " Layer (type)                Output Shape              Param #   \n",
            "=================================================================\n",
            " conv2d_3 (Conv2D)           (None, 148, 148, 32)      896       \n",
            "                                                                 \n",
            " activation_5 (Activation)   (None, 148, 148, 32)      0         \n",
            "                                                                 \n",
            " max_pooling2d_3 (MaxPooling  (None, 74, 74, 32)       0         \n",
            " 2D)                                                             \n",
            "                                                                 \n",
            " conv2d_4 (Conv2D)           (None, 72, 72, 32)        9248      \n",
            "                                                                 \n",
            " activation_6 (Activation)   (None, 72, 72, 32)        0         \n",
            "                                                                 \n",
            " max_pooling2d_4 (MaxPooling  (None, 36, 36, 32)       0         \n",
            " 2D)                                                             \n",
            "                                                                 \n",
            " conv2d_5 (Conv2D)           (None, 34, 34, 64)        18496     \n",
            "                                                                 \n",
            " activation_7 (Activation)   (None, 34, 34, 64)        0         \n",
            "                                                                 \n",
            " max_pooling2d_5 (MaxPooling  (None, 17, 17, 64)       0         \n",
            " 2D)                                                             \n",
            "                                                                 \n",
            " flatten_1 (Flatten)         (None, 18496)             0         \n",
            "                                                                 \n",
            " dense_2 (Dense)             (None, 64)                1183808   \n",
            "                                                                 \n",
            " activation_8 (Activation)   (None, 64)                0         \n",
            "                                                                 \n",
            " dropout_1 (Dropout)         (None, 64)                0         \n",
            "                                                                 \n",
            " dense_3 (Dense)             (None, 1)                 65        \n",
            "                                                                 \n",
            " activation_9 (Activation)   (None, 1)                 0         \n",
            "                                                                 \n",
            "=================================================================\n",
            "Total params: 1,212,513\n",
            "Trainable params: 1,212,513\n",
            "Non-trainable params: 0\n",
            "_________________________________________________________________\n",
            "Epoch 1/100\n",
            "32/32 [==============================] - 14s 39ms/step - loss: 0.6999 - accuracy: 0.5125 - val_loss: 0.6782 - val_accuracy: 0.6200\n",
            "Epoch 2/100\n",
            "32/32 [==============================] - 1s 34ms/step - loss: 0.6905 - accuracy: 0.5875 - val_loss: 0.6810 - val_accuracy: 0.6000\n",
            "Epoch 3/100\n",
            "32/32 [==============================] - 1s 36ms/step - loss: 0.7014 - accuracy: 0.5750 - val_loss: 0.6895 - val_accuracy: 0.4800\n",
            "Epoch 4/100\n",
            "32/32 [==============================] - 1s 45ms/step - loss: 0.6791 - accuracy: 0.5813 - val_loss: 0.6705 - val_accuracy: 0.5200\n",
            "Epoch 5/100\n",
            "32/32 [==============================] - 2s 51ms/step - loss: 0.6671 - accuracy: 0.6500 - val_loss: 0.6629 - val_accuracy: 0.5600\n",
            "Epoch 6/100\n",
            "32/32 [==============================] - 1s 34ms/step - loss: 0.6601 - accuracy: 0.6062 - val_loss: 0.7011 - val_accuracy: 0.4800\n",
            "Epoch 7/100\n",
            "32/32 [==============================] - 1s 36ms/step - loss: 0.6603 - accuracy: 0.6375 - val_loss: 0.6218 - val_accuracy: 0.5600\n",
            "Epoch 8/100\n",
            "32/32 [==============================] - 1s 34ms/step - loss: 0.6143 - accuracy: 0.7063 - val_loss: 0.5663 - val_accuracy: 0.7400\n",
            "Epoch 9/100\n",
            "32/32 [==============================] - 1s 34ms/step - loss: 0.5658 - accuracy: 0.7500 - val_loss: 0.5277 - val_accuracy: 0.7400\n",
            "Epoch 10/100\n",
            "32/32 [==============================] - 1s 36ms/step - loss: 0.4939 - accuracy: 0.8062 - val_loss: 0.3989 - val_accuracy: 0.8600\n",
            "Epoch 11/100\n",
            "32/32 [==============================] - 1s 34ms/step - loss: 0.4452 - accuracy: 0.7875 - val_loss: 0.3721 - val_accuracy: 0.8800\n",
            "Epoch 12/100\n",
            "32/32 [==============================] - 1s 35ms/step - loss: 0.4065 - accuracy: 0.8250 - val_loss: 0.2496 - val_accuracy: 0.9600\n",
            "Epoch 13/100\n",
            "32/32 [==============================] - 1s 36ms/step - loss: 0.3596 - accuracy: 0.8562 - val_loss: 0.2032 - val_accuracy: 0.9600\n",
            "Epoch 14/100\n",
            "32/32 [==============================] - 1s 35ms/step - loss: 0.2971 - accuracy: 0.9000 - val_loss: 0.1594 - val_accuracy: 0.9600\n",
            "Epoch 15/100\n",
            "32/32 [==============================] - 1s 34ms/step - loss: 0.2375 - accuracy: 0.9375 - val_loss: 0.1338 - val_accuracy: 0.9800\n",
            "Epoch 16/100\n",
            "32/32 [==============================] - 1s 36ms/step - loss: 0.2242 - accuracy: 0.9000 - val_loss: 0.1506 - val_accuracy: 0.9600\n",
            "Epoch 17/100\n",
            "32/32 [==============================] - 1s 35ms/step - loss: 0.1841 - accuracy: 0.9312 - val_loss: 0.1181 - val_accuracy: 0.9800\n",
            "Epoch 18/100\n",
            "32/32 [==============================] - 1s 37ms/step - loss: 0.1490 - accuracy: 0.9500 - val_loss: 0.0950 - val_accuracy: 0.9600\n",
            "Epoch 19/100\n",
            "32/32 [==============================] - 1s 35ms/step - loss: 0.1842 - accuracy: 0.9625 - val_loss: 0.2851 - val_accuracy: 0.8600\n",
            "Epoch 20/100\n",
            "32/32 [==============================] - 1s 35ms/step - loss: 0.2218 - accuracy: 0.8875 - val_loss: 0.1071 - val_accuracy: 0.9600\n",
            "Epoch 21/100\n",
            "32/32 [==============================] - 1s 34ms/step - loss: 0.1634 - accuracy: 0.9375 - val_loss: 0.1319 - val_accuracy: 0.9800\n",
            "Epoch 22/100\n",
            "32/32 [==============================] - 1s 35ms/step - loss: 0.1253 - accuracy: 0.9750 - val_loss: 0.1249 - val_accuracy: 0.9600\n",
            "Epoch 23/100\n",
            "32/32 [==============================] - 1s 34ms/step - loss: 0.1314 - accuracy: 0.9688 - val_loss: 0.1687 - val_accuracy: 0.9200\n"
          ]
        },
        {
          "output_type": "display_data",
          "data": {
            "text/plain": [
              "<Figure size 432x288 with 1 Axes>"
            ],
            "image/png": "[encoded data removed]"
          },
          "metadata": {
            "needs_background": "light"
          }
        }
      ]
    },
    {
      "cell_type": "code",
      "source": [
        ""
      ],
      "metadata": {
        "id": "PRmMPzsWAgT5"
      },
      "execution_count": null,
      "outputs": []
    },
    {
      "cell_type": "code",
      "source": [
        "from tensorflow.keras.models import Sequential\n",
        "from tensorflow.keras.layers import Dense, Activation,Dropout,Flatten\n",
        "from tensorflow.keras.preprocessing.image import ImageDataGenerator\n",
        "from tensorflow.keras.callbacks import EarlyStopping\n",
        "from tensorflow.keras import optimizers,Input,models,layers,metrics\n",
        "from tensorflow.keras.applications import VGG16\n",
        "\n",
        "import numpy as np\n",
        "import matplotlib.pyplot as plt"
      ],
      "metadata": {
        "id": "DFtY6c3XIKI0"
      },
      "execution_count": 5,
      "outputs": []
    },
    {
      "cell_type": "code",
      "source": [
        "!git clone https://github.com/taehojo/data-ch20.git"
      ],
      "metadata": {
        "colab": {
          "base_uri": "https://localhost:8080/"
        },
        "id": "LUVQeOvLIh1x",
        "outputId": "02e0b609-22f6-4dd9-db2a-620c57759186"
      },
      "execution_count": 6,
      "outputs": [
        {
          "output_type": "stream",
          "name": "stdout",
          "text": [
            "fatal: destination path 'data-ch20' already exists and is not an empty directory.\n"
          ]
        }
      ]
    },
    {
      "cell_type": "code",
      "source": [
        "train_datagen = ImageDataGenerator(rescale=1./255,\n",
        "                                   horizontal_flip=True,\n",
        "                                   width_shift_range=0.1,\n",
        "                                   height_shift_range=0.1)\n",
        "train_generator = train_datagen.flow_from_directory(\n",
        "    './data-ch20/train',\n",
        "    target_size=(150,150),\n",
        "    batch_size=5,\n",
        "    class_mode='binary'\n",
        ")\n",
        "\n",
        "test_datagen = ImageDataGenerator(rescale=1./255)\n",
        "\n",
        "test_generator = test_datagen.flow_from_directory(\n",
        "    './data-ch20/test',\n",
        "    target_size=(150,150),\n",
        "    batch_size=5,\n",
        "    class_mode='binary'\n",
        ")\n",
        "\n",
        "transfer_model = VGG16(weights='imagenet',include_top=False,input_shape=(150,150,3))\n",
        "transfer_model.trainable=False\n",
        "\n",
        "finetune_model = models.Sequential()\n",
        "finetune_model.add(transfer_model)\n",
        "finetune_model.add(Flatten())\n",
        "finetune_model.add(Dense(64))\n",
        "finetune_model.add(Activation('relu'))\n",
        "finetune_model.add(Dropout(0.5))\n",
        "finetune_model.add(Dense(1))\n",
        "finetune_model.add(Activation('sigmoid'))\n",
        "finetune_model.summary()\n",
        "\n",
        "finetune_model.compile(loss='binary_crossentropy',optimizer=optimizers.Adam(learning_rate=0.0002),metrics=['accuracy'])\n",
        "\n",
        "early_stopping_callback = EarlyStopping(monitor='val_loss',patience=5,restore_best_weights=True)\n",
        "\n",
        "history = finetune_model.fit(\n",
        "    train_generator,\n",
        "    epochs=20,\n",
        "    validation_data=test_generator,\n",
        "    validation_steps=10,\n",
        "    callbacks=[early_stopping_callback]\n",
        ")\n",
        "\n",
        "y_vloss= history.history['val_loss']\n",
        "y_loss= history.history['loss']\n",
        "\n",
        "x_len = np.arange(len(y_loss))\n",
        "plt.plot(x_len,y_vloss,marker='.',c='red',label='Testset_loss')\n",
        "plt.plot(x_len,y_loss,marker='.',c='blue',label='Trainset_loss')\n",
        "\n",
        "plt.legend()\n",
        "plt.grid()\n",
        "plt.xlabel('epoch')\n",
        "plt.ylabel('loss')\n",
        "plt.show()"
      ],
      "metadata": {
        "colab": {
          "base_uri": "https://localhost:8080/",
          "height": 1000
        },
        "id": "xIQVT-QOImb9",
        "outputId": "7a598142-0e84-4493-930b-e32f32dbceb0"
      },
      "execution_count": 7,
      "outputs": [
        {
          "output_type": "stream",
          "name": "stdout",
          "text": [
            "Found 160 images belonging to 2 classes.\n",
            "Found 120 images belonging to 2 classes.\n",
            "Downloading data from https://storage.googleapis.com/tensorflow/keras-applications/vgg16/vgg16_weights_tf_dim_ordering_tf_kernels_notop.h5\n",
            "58892288/58889256 [==============================] - 0s 0us/step\n",
            "58900480/58889256 [==============================] - 0s 0us/step\n",
            "Model: \"sequential_2\"\n",
            "_________________________________________________________________\n",
            " Layer (type)                Output Shape              Param #   \n",
            "=================================================================\n",
            " vgg16 (Functional)          (None, 4, 4, 512)         14714688  \n",
            "                                                                 \n",
            " flatten_2 (Flatten)         (None, 8192)              0         \n",
            "                                                                 \n",
            " dense_4 (Dense)             (None, 64)                524352    \n",
            "                                                                 \n",
            " activation_10 (Activation)  (None, 64)                0         \n",
            "                                                                 \n",
            " dropout_2 (Dropout)         (None, 64)                0         \n",
            "                                                                 \n",
            " dense_5 (Dense)             (None, 1)                 65        \n",
            "                                                                 \n",
            " activation_11 (Activation)  (None, 1)                 0         \n",
            "                                                                 \n",
            "=================================================================\n",
            "Total params: 15,239,105\n",
            "Trainable params: 524,417\n",
            "Non-trainable params: 14,714,688\n",
            "_________________________________________________________________\n",
            "Epoch 1/20\n",
            "32/32 [==============================] - 3s 54ms/step - loss: 0.7066 - accuracy: 0.5875 - val_loss: 0.5419 - val_accuracy: 0.8000\n",
            "Epoch 2/20\n",
            "32/32 [==============================] - 1s 46ms/step - loss: 0.5244 - accuracy: 0.7125 - val_loss: 0.4548 - val_accuracy: 0.7800\n",
            "Epoch 3/20\n",
            "32/32 [==============================] - 1s 46ms/step - loss: 0.5240 - accuracy: 0.7375 - val_loss: 0.4346 - val_accuracy: 0.8600\n",
            "Epoch 4/20\n",
            "32/32 [==============================] - 1s 45ms/step - loss: 0.4229 - accuracy: 0.8438 - val_loss: 0.4540 - val_accuracy: 0.7400\n",
            "Epoch 5/20\n",
            "32/32 [==============================] - 1s 46ms/step - loss: 0.3326 - accuracy: 0.8813 - val_loss: 0.2528 - val_accuracy: 0.9200\n",
            "Epoch 6/20\n",
            "32/32 [==============================] - 2s 52ms/step - loss: 0.3601 - accuracy: 0.8375 - val_loss: 0.3010 - val_accuracy: 0.9200\n",
            "Epoch 7/20\n",
            "32/32 [==============================] - 2s 60ms/step - loss: 0.2949 - accuracy: 0.9125 - val_loss: 0.2114 - val_accuracy: 0.9800\n",
            "Epoch 8/20\n",
            "32/32 [==============================] - 1s 46ms/step - loss: 0.2870 - accuracy: 0.9000 - val_loss: 0.2349 - val_accuracy: 0.9200\n",
            "Epoch 9/20\n",
            "32/32 [==============================] - 1s 44ms/step - loss: 0.2331 - accuracy: 0.9563 - val_loss: 0.2917 - val_accuracy: 0.8800\n",
            "Epoch 10/20\n",
            "32/32 [==============================] - 1s 45ms/step - loss: 0.2153 - accuracy: 0.9187 - val_loss: 0.2325 - val_accuracy: 0.9200\n",
            "Epoch 11/20\n",
            "32/32 [==============================] - 1s 46ms/step - loss: 0.2101 - accuracy: 0.9375 - val_loss: 0.1410 - val_accuracy: 0.9800\n",
            "Epoch 12/20\n",
            "32/32 [==============================] - 1s 44ms/step - loss: 0.2043 - accuracy: 0.9312 - val_loss: 0.1620 - val_accuracy: 0.9800\n",
            "Epoch 13/20\n",
            "32/32 [==============================] - 1s 44ms/step - loss: 0.1918 - accuracy: 0.9625 - val_loss: 0.1791 - val_accuracy: 0.9600\n",
            "Epoch 14/20\n",
            "32/32 [==============================] - 1s 45ms/step - loss: 0.1713 - accuracy: 0.9750 - val_loss: 0.2066 - val_accuracy: 0.9400\n",
            "Epoch 15/20\n",
            "32/32 [==============================] - 1s 45ms/step - loss: 0.1871 - accuracy: 0.9312 - val_loss: 0.1687 - val_accuracy: 0.9200\n",
            "Epoch 16/20\n",
            "32/32 [==============================] - 1s 46ms/step - loss: 0.1630 - accuracy: 0.9500 - val_loss: 0.1043 - val_accuracy: 0.9400\n",
            "Epoch 17/20\n",
            "32/32 [==============================] - 1s 46ms/step - loss: 0.1544 - accuracy: 0.9500 - val_loss: 0.2439 - val_accuracy: 0.9000\n",
            "Epoch 18/20\n",
            "32/32 [==============================] - 1s 46ms/step - loss: 0.1686 - accuracy: 0.9438 - val_loss: 0.1697 - val_accuracy: 0.9400\n",
            "Epoch 19/20\n",
            "32/32 [==============================] - 1s 46ms/step - loss: 0.1790 - accuracy: 0.9312 - val_loss: 0.1697 - val_accuracy: 0.9400\n",
            "Epoch 20/20\n",
            "32/32 [==============================] - 2s 48ms/step - loss: 0.1420 - accuracy: 0.9563 - val_loss: 0.1851 - val_accuracy: 0.9400\n"
          ]
        },
        {
          "output_type": "display_data",
          "data": {
            "text/plain": [
              "<Figure size 432x288 with 1 Axes>"
            ],
            "image/png": "[encoded data removed]"
          },
          "metadata": {
            "needs_background": "light"
          }
        }
      ]
    },
    {
      "cell_type": "code",
      "source": [
        ""
      ],
      "metadata": {
        "id": "18UPWW-JKbqa"
      },
      "execution_count": null,
      "outputs": []
    }
  ]
}