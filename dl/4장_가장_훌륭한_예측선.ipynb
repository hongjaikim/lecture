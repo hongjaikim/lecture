{
  "nbformat": 4,
  "nbformat_minor": 0,
  "metadata": {
    "colab": {
      "name": "4장_가장_훌륭한_예측선.ipynb",
      "provenance": [],
      "collapsed_sections": []
    },
    "kernelspec": {
      "name": "python3",
      "display_name": "Python 3"
    },
    "language_info": {
      "name": "python"
    },
    "gpuClass": "standard"
  },
  "cells": [
    {
      "cell_type": "markdown",
      "source": [
        "평균제곱오차"
      ],
      "metadata": {
        "id": "I_43daCTZCJv"
      }
    },
    {
      "cell_type": "code",
      "source": [
        "import numpy as np\n"
      ],
      "metadata": {
        "id": "-ZxUAN5YZDbj"
      },
      "execution_count": null,
      "outputs": []
    },
    {
      "cell_type": "code",
      "execution_count": null,
      "metadata": {
        "id": "vLbP1YVhY9Cp"
      },
      "outputs": [],
      "source": [
        "x= np.array([2,4,6,8])\n",
        "y= np.array([81,93,91,97])\n"
      ]
    },
    {
      "cell_type": "code",
      "source": [
        "mx = np.mean(x)\n",
        "my= np.mean(y)"
      ],
      "metadata": {
        "id": "8gsqoqwg4JZt"
      },
      "execution_count": null,
      "outputs": []
    },
    {
      "cell_type": "code",
      "source": [
        "divisor = sum([(i-mx)**2 for i in x])"
      ],
      "metadata": {
        "id": "6evqKgKV4Ods"
      },
      "execution_count": null,
      "outputs": []
    },
    {
      "cell_type": "code",
      "source": [
        "def top(x,mx,y,my):\n",
        "  d = 0\n",
        "  for i in range(len(x)):\n",
        "    d+= (x[i]-mx)*(y[i]-my)\n",
        "  return d\n",
        "dividend = top(x,mx,y,my)"
      ],
      "metadata": {
        "id": "K_lCD9zZ4i3S"
      },
      "execution_count": null,
      "outputs": []
    },
    {
      "cell_type": "code",
      "source": [
        "a= dividend/divisor\n",
        "b=my-(mx*a)"
      ],
      "metadata": {
        "id": "U-FkDAd55Cn4"
      },
      "execution_count": null,
      "outputs": []
    },
    {
      "cell_type": "code",
      "source": [
        ""
      ],
      "metadata": {
        "id": "-Zbzttut5r-Z"
      },
      "execution_count": null,
      "outputs": []
    },
    {
      "cell_type": "code",
      "source": [
        "fake_a = 3\n",
        "fake_b = 76\n",
        "def predict(x):\n",
        "  return fake_a*x+fake_b\n"
      ],
      "metadata": {
        "id": "e8UCkFmqAnq0"
      },
      "execution_count": null,
      "outputs": []
    },
    {
      "cell_type": "code",
      "source": [
        "predict_result = []\n"
      ],
      "metadata": {
        "id": "oxSFU3KAE0AD"
      },
      "execution_count": null,
      "outputs": []
    },
    {
      "cell_type": "code",
      "source": [
        "for i in range(len(x)):\n",
        "  predict_result.append(predict(x[i]))\n",
        "  print(\"공부시간=%.f, 실제점수=%.f, 예측점수=%.f\"%(x[i],y[i],predict(x[i])))"
      ],
      "metadata": {
        "colab": {
          "base_uri": "https://localhost:8080/"
        },
        "id": "d_JAB6i-E618",
        "outputId": "63b8ea78-1815-4517-d074-07bacf5d1bc9"
      },
      "execution_count": null,
      "outputs": [
        {
          "output_type": "stream",
          "name": "stdout",
          "text": [
            "공부시간=2, 실제점수=81, 예측점수=82\n",
            "공부시간=4, 실제점수=93, 예측점수=88\n",
            "공부시간=6, 실제점수=91, 예측점수=94\n",
            "공부시간=8, 실제점수=97, 예측점수=100\n"
          ]
        }
      ]
    },
    {
      "cell_type": "code",
      "source": [
        "n = len(x)\n",
        "def mse(y,y_pred):\n",
        "  return (1/n)*sum((y-y_pred)**2)"
      ],
      "metadata": {
        "id": "jxF5XUiTFYBw"
      },
      "execution_count": null,
      "outputs": []
    },
    {
      "cell_type": "code",
      "source": [
        "print('평균제곱오차 :',mse(y,predict_result))"
      ],
      "metadata": {
        "colab": {
          "base_uri": "https://localhost:8080/"
        },
        "id": "J9CP0bmtFxL7",
        "outputId": "81940ef8-3e0e-4e55-98b2-fa76815fb728"
      },
      "execution_count": null,
      "outputs": [
        {
          "output_type": "stream",
          "name": "stdout",
          "text": [
            "평균제곱오차 : 11.0\n"
          ]
        }
      ]
    },
    {
      "cell_type": "code",
      "source": [
        ""
      ],
      "metadata": {
        "id": "Kr5_vMupGAuY"
      },
      "execution_count": null,
      "outputs": []
    },
    {
      "cell_type": "code",
      "source": [
        ""
      ],
      "metadata": {
        "id": "fgd_QvDCXE-P"
      },
      "execution_count": null,
      "outputs": []
    }
  ]
}