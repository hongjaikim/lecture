{
  "nbformat": 4,
  "nbformat_minor": 0,
  "metadata": {
    "colab": {
      "name": "혼공 09-2.ipynb",
      "provenance": [],
      "collapsed_sections": []
    },
    "kernelspec": {
      "name": "python3",
      "display_name": "Python 3"
    },
    "language_info": {
      "name": "python"
    },
    "gpuClass": "standard"
  },
  "cells": [
    {
      "cell_type": "markdown",
      "source": [
        "순환 신경망으로 IMDB리뷰 분류하기"
      ],
      "metadata": {
        "id": "8m1LbtqGl2wx"
      }
    },
    {
      "cell_type": "code",
      "execution_count": 1,
      "metadata": {
        "id": "U32nmIOZCbHP"
      },
      "outputs": [],
      "source": [
        "from tensorflow.keras.datasets import imdb"
      ]
    },
    {
      "cell_type": "code",
      "source": [
        "(train_input,train_target),(test_input,test_target) = imdb.load_data(num_words=500)"
      ],
      "metadata": {
        "id": "yk6NiWikmEAr"
      },
      "execution_count": 2,
      "outputs": []
    },
    {
      "cell_type": "code",
      "source": [
        "print(train_input.shape,test_input.shape)"
      ],
      "metadata": {
        "colab": {
          "base_uri": "https://localhost:8080/"
        },
        "id": "oq2HAjlimNqC",
        "outputId": "1b420553-46d1-44ec-e735-023850e9d8be"
      },
      "execution_count": 3,
      "outputs": [
        {
          "output_type": "stream",
          "name": "stdout",
          "text": [
            "(25000,) (25000,)\n"
          ]
        }
      ]
    },
    {
      "cell_type": "code",
      "source": [
        "print(len(train_input[0]))\n",
        "print(len(train_input[1]))\n",
        "print(train_input[0])\n",
        "print(train_target[:20])\n"
      ],
      "metadata": {
        "colab": {
          "base_uri": "https://localhost:8080/"
        },
        "id": "YdYayjeymSvK",
        "outputId": "659d0fcd-fbc2-44dd-9470-38acf9e760d8"
      },
      "execution_count": 4,
      "outputs": [
        {
          "output_type": "stream",
          "name": "stdout",
          "text": [
            "218\n",
            "189\n",
            "[1, 14, 22, 16, 43, 2, 2, 2, 2, 65, 458, 2, 66, 2, 4, 173, 36, 256, 5, 25, 100, 43, 2, 112, 50, 2, 2, 9, 35, 480, 284, 5, 150, 4, 172, 112, 167, 2, 336, 385, 39, 4, 172, 2, 2, 17, 2, 38, 13, 447, 4, 192, 50, 16, 6, 147, 2, 19, 14, 22, 4, 2, 2, 469, 4, 22, 71, 87, 12, 16, 43, 2, 38, 76, 15, 13, 2, 4, 22, 17, 2, 17, 12, 16, 2, 18, 2, 5, 62, 386, 12, 8, 316, 8, 106, 5, 4, 2, 2, 16, 480, 66, 2, 33, 4, 130, 12, 16, 38, 2, 5, 25, 124, 51, 36, 135, 48, 25, 2, 33, 6, 22, 12, 215, 28, 77, 52, 5, 14, 407, 16, 82, 2, 8, 4, 107, 117, 2, 15, 256, 4, 2, 7, 2, 5, 2, 36, 71, 43, 2, 476, 26, 400, 317, 46, 7, 4, 2, 2, 13, 104, 88, 4, 381, 15, 297, 98, 32, 2, 56, 26, 141, 6, 194, 2, 18, 4, 226, 22, 21, 134, 476, 26, 480, 5, 144, 30, 2, 18, 51, 36, 28, 224, 92, 25, 104, 4, 226, 65, 16, 38, 2, 88, 12, 16, 283, 5, 16, 2, 113, 103, 32, 15, 16, 2, 19, 178, 32]\n",
            "[1 0 0 1 0 0 1 0 1 0 1 0 0 0 0 0 1 1 0 1]\n"
          ]
        }
      ]
    },
    {
      "cell_type": "code",
      "source": [
        "from sklearn.model_selection import train_test_split"
      ],
      "metadata": {
        "id": "TxpKrf7dmWkg"
      },
      "execution_count": 5,
      "outputs": []
    },
    {
      "cell_type": "code",
      "source": [
        "train_input,val_input,train_target,val_target = train_test_split(train_input,train_target,test_size=0.2,random_state=42)"
      ],
      "metadata": {
        "id": "g-D6tolYmne4"
      },
      "execution_count": 6,
      "outputs": []
    },
    {
      "cell_type": "code",
      "source": [
        "import numpy as np"
      ],
      "metadata": {
        "id": "0w5s0sLjm0R2"
      },
      "execution_count": 7,
      "outputs": []
    },
    {
      "cell_type": "code",
      "source": [
        "lengths = np.array([len(x) for x in train_input])\n",
        "print(np.mean(lengths),np.median(lengths))"
      ],
      "metadata": {
        "colab": {
          "base_uri": "https://localhost:8080/"
        },
        "id": "xE02885Dm2m9",
        "outputId": "815d5fbe-b7b5-41b7-bbe7-1f502a677dbf"
      },
      "execution_count": 8,
      "outputs": [
        {
          "output_type": "stream",
          "name": "stdout",
          "text": [
            "239.00925 178.0\n"
          ]
        }
      ]
    },
    {
      "cell_type": "code",
      "source": [
        "import matplotlib.pyplot as plt\n"
      ],
      "metadata": {
        "id": "Qw9vfOH6nIr4"
      },
      "execution_count": 9,
      "outputs": []
    },
    {
      "cell_type": "code",
      "source": [
        "plt.hist(lengths)\n",
        "plt.xlabel('length')\n",
        "plt.ylabel('frequency')\n",
        "plt.show()"
      ],
      "metadata": {
        "colab": {
          "base_uri": "https://localhost:8080/",
          "height": 279
        },
        "id": "kr-MR28GnMLl",
        "outputId": "77cdd0b8-1f15-4716-ebdd-9a14be7d239d"
      },
      "execution_count": 10,
      "outputs": [
        {
          "output_type": "display_data",
          "data": {
            "text/plain": [
              "<Figure size 432x288 with 1 Axes>"
            ],
            "image/png": "[encoded data removed]"
          },
          "metadata": {
            "needs_background": "light"
          }
        }
      ]
    },
    {
      "cell_type": "code",
      "source": [
        "from tensorflow.keras.preprocessing.sequence import pad_sequences"
      ],
      "metadata": {
        "id": "o7AJUZvRnXyu"
      },
      "execution_count": 11,
      "outputs": []
    },
    {
      "cell_type": "code",
      "source": [
        "train_seq = pad_sequences(train_input,maxlen=100)"
      ],
      "metadata": {
        "id": "1oIWJVhbniKi"
      },
      "execution_count": 12,
      "outputs": []
    },
    {
      "cell_type": "code",
      "source": [
        "print(train_seq.shape)\n",
        "print(train_seq[0])\n",
        "print(train_input[0][-10:])\n",
        "print(train_seq[5])"
      ],
      "metadata": {
        "colab": {
          "base_uri": "https://localhost:8080/"
        },
        "id": "XWun1bUHn11k",
        "outputId": "37e797fd-17a0-4b91-cf70-ef1a9a4e0660"
      },
      "execution_count": 13,
      "outputs": [
        {
          "output_type": "stream",
          "name": "stdout",
          "text": [
            "(20000, 100)\n",
            "[ 10   4  20   9   2 364 352   5  45   6   2   2  33 269   8   2 142   2\n",
            "   5   2  17  73  17 204   5   2  19  55   2   2  92  66 104  14  20  93\n",
            "  76   2 151  33   4  58  12 188   2 151  12 215  69 224 142  73 237   6\n",
            "   2   7   2   2 188   2 103  14  31  10  10 451   7   2   5   2  80  91\n",
            "   2  30   2  34  14  20 151  50  26 131  49   2  84  46  50  37  80  79\n",
            "   6   2  46   7  14  20  10  10 470 158]\n",
            "[6, 2, 46, 7, 14, 20, 10, 10, 470, 158]\n",
            "[  0   0   0   0   1   2 195  19  49   2   2 190   4   2 352   2 183  10\n",
            "  10  13  82  79   4   2  36  71 269   8   2  25  19  49   7   4   2   2\n",
            "   2   2   2  10  10  48  25  40   2  11   2   2  40   2   2   5   4   2\n",
            "   2  95  14 238  56 129   2  10  10  21   2  94 364 352   2   2  11 190\n",
            "  24 484   2   7  94 205 405  10  10  87   2  34  49   2   7   2   2   2\n",
            "   2   2 290   2  46  48  64  18   4   2]\n"
          ]
        }
      ]
    },
    {
      "cell_type": "code",
      "source": [
        "val_seq = pad_sequences(val_input,maxlen=100)"
      ],
      "metadata": {
        "id": "gjkvF-4qoF7b"
      },
      "execution_count": 14,
      "outputs": []
    },
    {
      "cell_type": "code",
      "source": [
        "from tensorflow import keras"
      ],
      "metadata": {
        "id": "l2d-0hBDoMCi"
      },
      "execution_count": 15,
      "outputs": []
    },
    {
      "cell_type": "code",
      "source": [
        "model = keras.Sequential()\n",
        "\n",
        "model.add(keras.layers.SimpleRNN(8,input_shape=(100,500)))\n",
        "model.add(keras.layers.Dense(1,activation='sigmoid'))"
      ],
      "metadata": {
        "id": "HAlep7IPoPIB"
      },
      "execution_count": 16,
      "outputs": []
    },
    {
      "cell_type": "code",
      "source": [
        "train_oh = keras.utils.to_categorical(train_seq)"
      ],
      "metadata": {
        "id": "axDLEghfoR-o"
      },
      "execution_count": 17,
      "outputs": []
    },
    {
      "cell_type": "code",
      "source": [
        "print(train_oh.shape)\n",
        "print(train_oh[0][0][:12])\n",
        "print(np.sum(train_oh[0][0]))"
      ],
      "metadata": {
        "colab": {
          "base_uri": "https://localhost:8080/"
        },
        "id": "o7xkXXheotpg",
        "outputId": "b4af9841-5a40-44c2-ed04-9e6cc1cc20dd"
      },
      "execution_count": 18,
      "outputs": [
        {
          "output_type": "stream",
          "name": "stdout",
          "text": [
            "(20000, 100, 500)\n",
            "[0. 0. 0. 0. 0. 0. 0. 0. 0. 0. 1. 0.]\n",
            "1.0\n"
          ]
        }
      ]
    },
    {
      "cell_type": "code",
      "source": [
        "val_oh = keras.utils.to_categorical(val_seq)"
      ],
      "metadata": {
        "id": "UTRdmxr-o8X5"
      },
      "execution_count": 19,
      "outputs": []
    },
    {
      "cell_type": "code",
      "source": [
        "model.summary()"
      ],
      "metadata": {
        "colab": {
          "base_uri": "https://localhost:8080/"
        },
        "id": "C6UauE8fpBYy",
        "outputId": "6c67021f-aba3-484b-88a2-f2e283c5a546"
      },
      "execution_count": 20,
      "outputs": [
        {
          "output_type": "stream",
          "name": "stdout",
          "text": [
            "Model: \"sequential\"\n",
            "_________________________________________________________________\n",
            " Layer (type)                Output Shape              Param #   \n",
            "=================================================================\n",
            " simple_rnn (SimpleRNN)      (None, 8)                 4072      \n",
            "                                                                 \n",
            " dense (Dense)               (None, 1)                 9         \n",
            "                                                                 \n",
            "=================================================================\n",
            "Total params: 4,081\n",
            "Trainable params: 4,081\n",
            "Non-trainable params: 0\n",
            "_________________________________________________________________\n"
          ]
        }
      ]
    },
    {
      "cell_type": "code",
      "source": [
        "rmsprop = keras.optimizers.RMSprop(learning_rate=1e-4)\n",
        "model.compile(optimizer=rmsprop,loss='binary_crossentropy',metrics=['accuracy'])\n",
        "\n",
        "checkpoint_cb = keras.callbacks.ModelCheckpoint('best-simplernn-model.h5',\n",
        "                                                save_best_only=True)\n",
        "early_stopping_cb = keras.callbacks.EarlyStopping(patience=3,\n",
        "                                                  restore_best_weights=True)\n"
      ],
      "metadata": {
        "id": "8oq-NxZYpCdm"
      },
      "execution_count": 21,
      "outputs": []
    },
    {
      "cell_type": "code",
      "source": [
        "history = model.fit(train_oh,train_target,epochs=100,batch_size=64,\n",
        "                    validation_data=(val_oh,val_target),\n",
        "                    callbacks=[checkpoint_cb,early_stopping_cb])"
      ],
      "metadata": {
        "colab": {
          "base_uri": "https://localhost:8080/"
        },
        "id": "VKxvqm1_p4EJ",
        "outputId": "5ecb502e-d415-4bb2-e83f-9c2e0c1cb09a"
      },
      "execution_count": 22,
      "outputs": [
        {
          "output_type": "stream",
          "name": "stdout",
          "text": [
            "Epoch 1/100\n",
            "313/313 [==============================] - 16s 46ms/step - loss: 0.6986 - accuracy: 0.4927 - val_loss: 0.6948 - val_accuracy: 0.4988\n",
            "Epoch 2/100\n",
            "313/313 [==============================] - 15s 49ms/step - loss: 0.6947 - accuracy: 0.5052 - val_loss: 0.6928 - val_accuracy: 0.5056\n",
            "Epoch 3/100\n",
            "313/313 [==============================] - 16s 50ms/step - loss: 0.6924 - accuracy: 0.5181 - val_loss: 0.6918 - val_accuracy: 0.5180\n",
            "Epoch 4/100\n",
            "313/313 [==============================] - 15s 47ms/step - loss: 0.6908 - accuracy: 0.5301 - val_loss: 0.6908 - val_accuracy: 0.5248\n",
            "Epoch 5/100\n",
            "313/313 [==============================] - 16s 50ms/step - loss: 0.6892 - accuracy: 0.5411 - val_loss: 0.6899 - val_accuracy: 0.5270\n",
            "Epoch 6/100\n",
            "313/313 [==============================] - 14s 45ms/step - loss: 0.6874 - accuracy: 0.5530 - val_loss: 0.6889 - val_accuracy: 0.5330\n",
            "Epoch 7/100\n",
            "313/313 [==============================] - 14s 44ms/step - loss: 0.6854 - accuracy: 0.5604 - val_loss: 0.6874 - val_accuracy: 0.5428\n",
            "Epoch 8/100\n",
            "313/313 [==============================] - 15s 47ms/step - loss: 0.6806 - accuracy: 0.5817 - val_loss: 0.6794 - val_accuracy: 0.5822\n",
            "Epoch 9/100\n",
            "313/313 [==============================] - 15s 48ms/step - loss: 0.6699 - accuracy: 0.6179 - val_loss: 0.6693 - val_accuracy: 0.6230\n",
            "Epoch 10/100\n",
            "313/313 [==============================] - 15s 47ms/step - loss: 0.6578 - accuracy: 0.6492 - val_loss: 0.6577 - val_accuracy: 0.6448\n",
            "Epoch 11/100\n",
            "313/313 [==============================] - 13s 42ms/step - loss: 0.6450 - accuracy: 0.6734 - val_loss: 0.6454 - val_accuracy: 0.6646\n",
            "Epoch 12/100\n",
            "313/313 [==============================] - 14s 44ms/step - loss: 0.6319 - accuracy: 0.6938 - val_loss: 0.6337 - val_accuracy: 0.6840\n",
            "Epoch 13/100\n",
            "313/313 [==============================] - 14s 44ms/step - loss: 0.6189 - accuracy: 0.7089 - val_loss: 0.6218 - val_accuracy: 0.6984\n",
            "Epoch 14/100\n",
            "313/313 [==============================] - 14s 46ms/step - loss: 0.6065 - accuracy: 0.7222 - val_loss: 0.6103 - val_accuracy: 0.7092\n",
            "Epoch 15/100\n",
            "313/313 [==============================] - 15s 47ms/step - loss: 0.5942 - accuracy: 0.7322 - val_loss: 0.6001 - val_accuracy: 0.7184\n",
            "Epoch 16/100\n",
            "313/313 [==============================] - 15s 47ms/step - loss: 0.5820 - accuracy: 0.7445 - val_loss: 0.5869 - val_accuracy: 0.7322\n",
            "Epoch 17/100\n",
            "313/313 [==============================] - 14s 45ms/step - loss: 0.5700 - accuracy: 0.7528 - val_loss: 0.5816 - val_accuracy: 0.7274\n",
            "Epoch 18/100\n",
            "313/313 [==============================] - 15s 47ms/step - loss: 0.5587 - accuracy: 0.7594 - val_loss: 0.5673 - val_accuracy: 0.7426\n",
            "Epoch 19/100\n",
            "313/313 [==============================] - 14s 46ms/step - loss: 0.5470 - accuracy: 0.7670 - val_loss: 0.5572 - val_accuracy: 0.7492\n",
            "Epoch 20/100\n",
            "313/313 [==============================] - 14s 45ms/step - loss: 0.5365 - accuracy: 0.7717 - val_loss: 0.5481 - val_accuracy: 0.7516\n",
            "Epoch 21/100\n",
            "313/313 [==============================] - 14s 46ms/step - loss: 0.5259 - accuracy: 0.7750 - val_loss: 0.5395 - val_accuracy: 0.7574\n",
            "Epoch 22/100\n",
            "313/313 [==============================] - 15s 48ms/step - loss: 0.5159 - accuracy: 0.7808 - val_loss: 0.5343 - val_accuracy: 0.7566\n",
            "Epoch 23/100\n",
            "313/313 [==============================] - 14s 46ms/step - loss: 0.5067 - accuracy: 0.7854 - val_loss: 0.5250 - val_accuracy: 0.7638\n",
            "Epoch 24/100\n",
            "313/313 [==============================] - 15s 49ms/step - loss: 0.4981 - accuracy: 0.7872 - val_loss: 0.5166 - val_accuracy: 0.7672\n",
            "Epoch 25/100\n",
            "313/313 [==============================] - 15s 47ms/step - loss: 0.4900 - accuracy: 0.7900 - val_loss: 0.5133 - val_accuracy: 0.7624\n",
            "Epoch 26/100\n",
            "313/313 [==============================] - 14s 46ms/step - loss: 0.4824 - accuracy: 0.7929 - val_loss: 0.5051 - val_accuracy: 0.7710\n",
            "Epoch 27/100\n",
            "313/313 [==============================] - 16s 50ms/step - loss: 0.4748 - accuracy: 0.7944 - val_loss: 0.5004 - val_accuracy: 0.7698\n",
            "Epoch 28/100\n",
            "313/313 [==============================] - 15s 47ms/step - loss: 0.4686 - accuracy: 0.7994 - val_loss: 0.4950 - val_accuracy: 0.7710\n",
            "Epoch 29/100\n",
            "313/313 [==============================] - 14s 46ms/step - loss: 0.4621 - accuracy: 0.8000 - val_loss: 0.4893 - val_accuracy: 0.7770\n",
            "Epoch 30/100\n",
            "313/313 [==============================] - 13s 43ms/step - loss: 0.4566 - accuracy: 0.8037 - val_loss: 0.4868 - val_accuracy: 0.7728\n",
            "Epoch 31/100\n",
            "313/313 [==============================] - 14s 45ms/step - loss: 0.4514 - accuracy: 0.8043 - val_loss: 0.4820 - val_accuracy: 0.7804\n",
            "Epoch 32/100\n",
            "313/313 [==============================] - 14s 46ms/step - loss: 0.4467 - accuracy: 0.8060 - val_loss: 0.4795 - val_accuracy: 0.7804\n",
            "Epoch 33/100\n",
            "313/313 [==============================] - 14s 45ms/step - loss: 0.4423 - accuracy: 0.8080 - val_loss: 0.4757 - val_accuracy: 0.7798\n",
            "Epoch 34/100\n",
            "313/313 [==============================] - 14s 45ms/step - loss: 0.4384 - accuracy: 0.8093 - val_loss: 0.4727 - val_accuracy: 0.7812\n",
            "Epoch 35/100\n",
            "313/313 [==============================] - 14s 46ms/step - loss: 0.4346 - accuracy: 0.8103 - val_loss: 0.4707 - val_accuracy: 0.7832\n",
            "Epoch 36/100\n",
            "313/313 [==============================] - 15s 48ms/step - loss: 0.4308 - accuracy: 0.8117 - val_loss: 0.4701 - val_accuracy: 0.7812\n",
            "Epoch 37/100\n",
            "313/313 [==============================] - 15s 48ms/step - loss: 0.4276 - accuracy: 0.8130 - val_loss: 0.4703 - val_accuracy: 0.7826\n",
            "Epoch 38/100\n",
            "313/313 [==============================] - 14s 45ms/step - loss: 0.4248 - accuracy: 0.8157 - val_loss: 0.4669 - val_accuracy: 0.7850\n",
            "Epoch 39/100\n",
            "313/313 [==============================] - 14s 44ms/step - loss: 0.4218 - accuracy: 0.8166 - val_loss: 0.4640 - val_accuracy: 0.7894\n",
            "Epoch 40/100\n",
            "313/313 [==============================] - 14s 45ms/step - loss: 0.4184 - accuracy: 0.8181 - val_loss: 0.4632 - val_accuracy: 0.7870\n",
            "Epoch 41/100\n",
            "313/313 [==============================] - 14s 46ms/step - loss: 0.4164 - accuracy: 0.8189 - val_loss: 0.4623 - val_accuracy: 0.7896\n",
            "Epoch 42/100\n",
            "313/313 [==============================] - 14s 44ms/step - loss: 0.4140 - accuracy: 0.8194 - val_loss: 0.4652 - val_accuracy: 0.7890\n",
            "Epoch 43/100\n",
            "313/313 [==============================] - 13s 42ms/step - loss: 0.4122 - accuracy: 0.8198 - val_loss: 0.4638 - val_accuracy: 0.7866\n",
            "Epoch 44/100\n",
            "313/313 [==============================] - 15s 47ms/step - loss: 0.4097 - accuracy: 0.8203 - val_loss: 0.4609 - val_accuracy: 0.7936\n",
            "Epoch 45/100\n",
            "313/313 [==============================] - 16s 51ms/step - loss: 0.4077 - accuracy: 0.8223 - val_loss: 0.4629 - val_accuracy: 0.7848\n",
            "Epoch 46/100\n",
            "313/313 [==============================] - 14s 46ms/step - loss: 0.4060 - accuracy: 0.8231 - val_loss: 0.4634 - val_accuracy: 0.7824\n",
            "Epoch 47/100\n",
            "313/313 [==============================] - 15s 48ms/step - loss: 0.4039 - accuracy: 0.8229 - val_loss: 0.4614 - val_accuracy: 0.7862\n"
          ]
        }
      ]
    },
    {
      "cell_type": "code",
      "source": [
        "plt.plot(history.history['loss'])\n",
        "plt.plot(history.history['val_loss'])\n",
        "plt.xlabel('epoch')\n",
        "plt.ylabel('loss')\n",
        "plt.legend(['train','val'])\n",
        "plt.show()"
      ],
      "metadata": {
        "id": "d1u7xJoRqVZl",
        "colab": {
          "base_uri": "https://localhost:8080/",
          "height": 279
        },
        "outputId": "030eee53-4e48-40ba-f6e8-4da25f7b5aaf"
      },
      "execution_count": 23,
      "outputs": [
        {
          "output_type": "display_data",
          "data": {
            "text/plain": [
              "<Figure size 432x288 with 1 Axes>"
            ],
            "image/png": "[encoded data removed]"
          },
          "metadata": {
            "needs_background": "light"
          }
        }
      ]
    },
    {
      "cell_type": "code",
      "source": [
        "model2 = keras.Sequential()\n",
        "\n",
        "model2.add(keras.layers.Embedding(500,16,input_length=100))\n",
        "model2.add(keras.layers.SimpleRNN(8))\n",
        "model2.add(keras.layers.Dense(1,activation='sigmoid'))\n",
        "\n",
        "model2.summary()"
      ],
      "metadata": {
        "id": "upOwyhFkqtlZ",
        "colab": {
          "base_uri": "https://localhost:8080/"
        },
        "outputId": "bc90eaa3-1449-4f53-9443-3ed7a92ef33c"
      },
      "execution_count": 24,
      "outputs": [
        {
          "output_type": "stream",
          "name": "stdout",
          "text": [
            "Model: \"sequential_1\"\n",
            "_________________________________________________________________\n",
            " Layer (type)                Output Shape              Param #   \n",
            "=================================================================\n",
            " embedding (Embedding)       (None, 100, 16)           8000      \n",
            "                                                                 \n",
            " simple_rnn_1 (SimpleRNN)    (None, 8)                 200       \n",
            "                                                                 \n",
            " dense_1 (Dense)             (None, 1)                 9         \n",
            "                                                                 \n",
            "=================================================================\n",
            "Total params: 8,209\n",
            "Trainable params: 8,209\n",
            "Non-trainable params: 0\n",
            "_________________________________________________________________\n"
          ]
        }
      ]
    },
    {
      "cell_type": "code",
      "source": [
        "rmsprop = keras.optimizers.RMSprop(learning_rate=1e-4)\n",
        "model2.compile(optimizer=rmsprop,loss='binary_crossentropy',metrics=['accuracy'])\n",
        "\n",
        "checkpoint_cb = keras.callbacks.ModelCheckpoint('best-embedding-model.h5',\n",
        "                                                save_best_only=True)\n",
        "early_stopping_cb = keras.callbacks.EarlyStopping(patience=3,\n",
        "                                                  restore_best_weights=True)"
      ],
      "metadata": {
        "id": "LcW-Q4EHrRxJ"
      },
      "execution_count": 25,
      "outputs": []
    },
    {
      "cell_type": "code",
      "source": [
        "history = model2.fit(train_seq,train_target,epochs=100,batch_size=64,\n",
        "                    validation_data=(val_seq,val_target),\n",
        "                    callbacks=[checkpoint_cb,early_stopping_cb])"
      ],
      "metadata": {
        "colab": {
          "base_uri": "https://localhost:8080/"
        },
        "id": "9kGGYKperea8",
        "outputId": "a4b31c9e-5038-459f-edea-4f9edc657f86"
      },
      "execution_count": 26,
      "outputs": [
        {
          "output_type": "stream",
          "name": "stdout",
          "text": [
            "Epoch 1/100\n",
            "313/313 [==============================] - 9s 26ms/step - loss: 0.6926 - accuracy: 0.5166 - val_loss: 0.6900 - val_accuracy: 0.5356\n",
            "Epoch 2/100\n",
            "313/313 [==============================] - 8s 25ms/step - loss: 0.6645 - accuracy: 0.6204 - val_loss: 0.6452 - val_accuracy: 0.6630\n",
            "Epoch 3/100\n",
            "313/313 [==============================] - 8s 25ms/step - loss: 0.6251 - accuracy: 0.6895 - val_loss: 0.6117 - val_accuracy: 0.7120\n",
            "Epoch 4/100\n",
            "313/313 [==============================] - 8s 24ms/step - loss: 0.5934 - accuracy: 0.7226 - val_loss: 0.5874 - val_accuracy: 0.7356\n",
            "Epoch 5/100\n",
            "313/313 [==============================] - 8s 24ms/step - loss: 0.5670 - accuracy: 0.7451 - val_loss: 0.5643 - val_accuracy: 0.7496\n",
            "Epoch 6/100\n",
            "313/313 [==============================] - 7s 24ms/step - loss: 0.5453 - accuracy: 0.7593 - val_loss: 0.5485 - val_accuracy: 0.7504\n",
            "Epoch 7/100\n",
            "313/313 [==============================] - 7s 24ms/step - loss: 0.5273 - accuracy: 0.7706 - val_loss: 0.5292 - val_accuracy: 0.7652\n",
            "Epoch 8/100\n",
            "313/313 [==============================] - 8s 24ms/step - loss: 0.5107 - accuracy: 0.7796 - val_loss: 0.5225 - val_accuracy: 0.7606\n",
            "Epoch 9/100\n",
            "313/313 [==============================] - 7s 23ms/step - loss: 0.4960 - accuracy: 0.7866 - val_loss: 0.5051 - val_accuracy: 0.7744\n",
            "Epoch 10/100\n",
            "313/313 [==============================] - 8s 24ms/step - loss: 0.4831 - accuracy: 0.7930 - val_loss: 0.4952 - val_accuracy: 0.7756\n",
            "Epoch 11/100\n",
            "313/313 [==============================] - 7s 24ms/step - loss: 0.4708 - accuracy: 0.7962 - val_loss: 0.4906 - val_accuracy: 0.7780\n",
            "Epoch 12/100\n",
            "313/313 [==============================] - 9s 28ms/step - loss: 0.4609 - accuracy: 0.8004 - val_loss: 0.4796 - val_accuracy: 0.7798\n",
            "Epoch 13/100\n",
            "313/313 [==============================] - 8s 24ms/step - loss: 0.4517 - accuracy: 0.8045 - val_loss: 0.4716 - val_accuracy: 0.7874\n",
            "Epoch 14/100\n",
            "313/313 [==============================] - 8s 24ms/step - loss: 0.4438 - accuracy: 0.8087 - val_loss: 0.4667 - val_accuracy: 0.7894\n",
            "Epoch 15/100\n",
            "313/313 [==============================] - 8s 24ms/step - loss: 0.4374 - accuracy: 0.8094 - val_loss: 0.4617 - val_accuracy: 0.7878\n",
            "Epoch 16/100\n",
            "313/313 [==============================] - 7s 24ms/step - loss: 0.4313 - accuracy: 0.8115 - val_loss: 0.4591 - val_accuracy: 0.7898\n",
            "Epoch 17/100\n",
            "313/313 [==============================] - 8s 25ms/step - loss: 0.4262 - accuracy: 0.8124 - val_loss: 0.4583 - val_accuracy: 0.7884\n",
            "Epoch 18/100\n",
            "313/313 [==============================] - 8s 24ms/step - loss: 0.4228 - accuracy: 0.8163 - val_loss: 0.4613 - val_accuracy: 0.7874\n",
            "Epoch 19/100\n",
            "313/313 [==============================] - 8s 25ms/step - loss: 0.4193 - accuracy: 0.8161 - val_loss: 0.4543 - val_accuracy: 0.7892\n",
            "Epoch 20/100\n",
            "313/313 [==============================] - 8s 25ms/step - loss: 0.4160 - accuracy: 0.8146 - val_loss: 0.4556 - val_accuracy: 0.7908\n",
            "Epoch 21/100\n",
            "313/313 [==============================] - 8s 25ms/step - loss: 0.4133 - accuracy: 0.8186 - val_loss: 0.4517 - val_accuracy: 0.7922\n",
            "Epoch 22/100\n",
            "313/313 [==============================] - 8s 24ms/step - loss: 0.4107 - accuracy: 0.8191 - val_loss: 0.4525 - val_accuracy: 0.7874\n",
            "Epoch 23/100\n",
            "313/313 [==============================] - 8s 24ms/step - loss: 0.4081 - accuracy: 0.8196 - val_loss: 0.4653 - val_accuracy: 0.7818\n",
            "Epoch 24/100\n",
            "313/313 [==============================] - 7s 23ms/step - loss: 0.4068 - accuracy: 0.8215 - val_loss: 0.4572 - val_accuracy: 0.7876\n"
          ]
        }
      ]
    },
    {
      "cell_type": "code",
      "source": [
        "plt.plot(history.history['loss'])\n",
        "plt.plot(history.history['val_loss'])\n",
        "plt.xlabel('epoch')\n",
        "plt.ylabel('loss')\n",
        "plt.legend(['train','val'])\n",
        "plt.show()"
      ],
      "metadata": {
        "id": "28i_cBr2ro4K",
        "colab": {
          "base_uri": "https://localhost:8080/",
          "height": 279
        },
        "outputId": "3c882a1e-2563-4de7-f917-30408e24457f"
      },
      "execution_count": 27,
      "outputs": [
        {
          "output_type": "display_data",
          "data": {
            "text/plain": [
              "<Figure size 432x288 with 1 Axes>"
            ],
            "image/png": "[encoded data removed]"
          },
          "metadata": {
            "needs_background": "light"
          }
        }
      ]
    },
    {
      "cell_type": "code",
      "source": [
        ""
      ],
      "metadata": {
        "id": "M7ihZwZbuKPp"
      },
      "execution_count": 27,
      "outputs": []
    }
  ]
}