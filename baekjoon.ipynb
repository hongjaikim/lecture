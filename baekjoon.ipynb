{
 "cells": [
  {
   "cell_type": "code",
   "execution_count": 54,
   "id": "c21bc015",
   "metadata": {},
   "outputs": [
    {
     "name": "stdout",
     "output_type": "stream",
     "text": [
      "39\n",
      "40\n",
      "41\n",
      "42\n",
      "43\n",
      "44\n",
      "82\n",
      "83\n",
      "84\n",
      "85\n",
      "6\n"
     ]
    }
   ],
   "source": [
    "a=[]\n",
    "for i in range(10):\n",
    "    a.append(int(input()))\n",
    "\n",
    "a=map(lambda x:x%42,a)\n",
    "a=list(a)\n",
    "cnt = 0\n",
    "for i in range(42):\n",
    "    if a.count(i) > 0:\n",
    "        cnt+=1\n",
    "\n",
    "print(cnt)"
   ]
  },
  {
   "cell_type": "code",
   "execution_count": 58,
   "id": "14195093",
   "metadata": {},
   "outputs": [
    {
     "name": "stdout",
     "output_type": "stream",
     "text": [
      "4\n",
      "10 20 0 100\n",
      "32.5\n"
     ]
    }
   ],
   "source": [
    "a = int(input())\n",
    "b = input().split()\n",
    "max_=0\n",
    "c=0\n",
    "for i in range(a):\n",
    "    if max_<int(b[i]):\n",
    "        max_=int(b[i])\n",
    "for i in range(a):\n",
    "    c+=int(b[i])/max_*100\n",
    "    \n",
    "print(c/a)\n"
   ]
  },
  {
   "cell_type": "code",
   "execution_count": 69,
   "id": "c43b8ff7",
   "metadata": {},
   "outputs": [
    {
     "name": "stdout",
     "output_type": "stream",
     "text": [
      "5\n",
      "OOXXOXXOOO\n",
      "10\n",
      "OOXXOOXXOO\n",
      "9\n",
      "OXOXOXOXOXOXOX\n",
      "7\n",
      "OOOOOOOOOO\n",
      "55\n",
      "OOOOXOOOOXOOOOX\n",
      "30\n"
     ]
    }
   ],
   "source": [
    "a = int(input())\n",
    "for i in range(a):\n",
    "    score=0\n",
    "    cnt=0\n",
    "    b = list(input())\n",
    "    for i in range(len(b)):\n",
    "        if b[i]=='O' :\n",
    "            cnt+=1\n",
    "            score+=cnt\n",
    "        else:\n",
    "            cnt=0        \n",
    "        \n",
    "    print(score)"
   ]
  },
  {
   "cell_type": "code",
   "execution_count": 71,
   "id": "77ef8325",
   "metadata": {},
   "outputs": [
    {
     "name": "stdout",
     "output_type": "stream",
     "text": [
      "5\n",
      "5 50 50 70 80 100\n",
      "40.000%\n",
      "7 100 95 90 80 70 60 50\n",
      "57.143%\n"
     ]
    },
    {
     "ename": "KeyboardInterrupt",
     "evalue": "Interrupted by user",
     "output_type": "error",
     "traceback": [
      "\u001b[1;31m---------------------------------------------------------------------------\u001b[0m",
      "\u001b[1;31mKeyboardInterrupt\u001b[0m                         Traceback (most recent call last)",
      "Input \u001b[1;32mIn [71]\u001b[0m, in \u001b[0;36m<cell line: 2>\u001b[1;34m()\u001b[0m\n\u001b[0;32m      1\u001b[0m a \u001b[38;5;241m=\u001b[39m \u001b[38;5;28mint\u001b[39m(\u001b[38;5;28minput\u001b[39m())\n\u001b[0;32m      2\u001b[0m \u001b[38;5;28;01mfor\u001b[39;00m i \u001b[38;5;129;01min\u001b[39;00m \u001b[38;5;28mrange\u001b[39m(a):\n\u001b[1;32m----> 3\u001b[0m     b\u001b[38;5;241m=\u001b[39m\u001b[38;5;28;43minput\u001b[39;49m\u001b[43m(\u001b[49m\u001b[43m)\u001b[49m\u001b[38;5;241m.\u001b[39msplit()\n\u001b[0;32m      4\u001b[0m     mea\u001b[38;5;241m=\u001b[39m\u001b[38;5;241m0\u001b[39m\n\u001b[0;32m      5\u001b[0m     \u001b[38;5;28;01mfor\u001b[39;00m i \u001b[38;5;129;01min\u001b[39;00m b[\u001b[38;5;241m1\u001b[39m:]:\n",
      "File \u001b[1;32m~\\anaconda3\\lib\\site-packages\\ipykernel\\kernelbase.py:1075\u001b[0m, in \u001b[0;36mKernel.raw_input\u001b[1;34m(self, prompt)\u001b[0m\n\u001b[0;32m   1071\u001b[0m \u001b[38;5;28;01mif\u001b[39;00m \u001b[38;5;129;01mnot\u001b[39;00m \u001b[38;5;28mself\u001b[39m\u001b[38;5;241m.\u001b[39m_allow_stdin:\n\u001b[0;32m   1072\u001b[0m     \u001b[38;5;28;01mraise\u001b[39;00m StdinNotImplementedError(\n\u001b[0;32m   1073\u001b[0m         \u001b[38;5;124m\"\u001b[39m\u001b[38;5;124mraw_input was called, but this frontend does not support input requests.\u001b[39m\u001b[38;5;124m\"\u001b[39m\n\u001b[0;32m   1074\u001b[0m     )\n\u001b[1;32m-> 1075\u001b[0m \u001b[38;5;28;01mreturn\u001b[39;00m \u001b[38;5;28;43mself\u001b[39;49m\u001b[38;5;241;43m.\u001b[39;49m\u001b[43m_input_request\u001b[49m\u001b[43m(\u001b[49m\n\u001b[0;32m   1076\u001b[0m \u001b[43m    \u001b[49m\u001b[38;5;28;43mstr\u001b[39;49m\u001b[43m(\u001b[49m\u001b[43mprompt\u001b[49m\u001b[43m)\u001b[49m\u001b[43m,\u001b[49m\n\u001b[0;32m   1077\u001b[0m \u001b[43m    \u001b[49m\u001b[38;5;28;43mself\u001b[39;49m\u001b[38;5;241;43m.\u001b[39;49m\u001b[43m_parent_ident\u001b[49m\u001b[43m[\u001b[49m\u001b[38;5;124;43m\"\u001b[39;49m\u001b[38;5;124;43mshell\u001b[39;49m\u001b[38;5;124;43m\"\u001b[39;49m\u001b[43m]\u001b[49m\u001b[43m,\u001b[49m\n\u001b[0;32m   1078\u001b[0m \u001b[43m    \u001b[49m\u001b[38;5;28;43mself\u001b[39;49m\u001b[38;5;241;43m.\u001b[39;49m\u001b[43mget_parent\u001b[49m\u001b[43m(\u001b[49m\u001b[38;5;124;43m\"\u001b[39;49m\u001b[38;5;124;43mshell\u001b[39;49m\u001b[38;5;124;43m\"\u001b[39;49m\u001b[43m)\u001b[49m\u001b[43m,\u001b[49m\n\u001b[0;32m   1079\u001b[0m \u001b[43m    \u001b[49m\u001b[43mpassword\u001b[49m\u001b[38;5;241;43m=\u001b[39;49m\u001b[38;5;28;43;01mFalse\u001b[39;49;00m\u001b[43m,\u001b[49m\n\u001b[0;32m   1080\u001b[0m \u001b[43m\u001b[49m\u001b[43m)\u001b[49m\n",
      "File \u001b[1;32m~\\anaconda3\\lib\\site-packages\\ipykernel\\kernelbase.py:1120\u001b[0m, in \u001b[0;36mKernel._input_request\u001b[1;34m(self, prompt, ident, parent, password)\u001b[0m\n\u001b[0;32m   1117\u001b[0m             \u001b[38;5;28;01mbreak\u001b[39;00m\n\u001b[0;32m   1118\u001b[0m \u001b[38;5;28;01mexcept\u001b[39;00m \u001b[38;5;167;01mKeyboardInterrupt\u001b[39;00m:\n\u001b[0;32m   1119\u001b[0m     \u001b[38;5;66;03m# re-raise KeyboardInterrupt, to truncate traceback\u001b[39;00m\n\u001b[1;32m-> 1120\u001b[0m     \u001b[38;5;28;01mraise\u001b[39;00m \u001b[38;5;167;01mKeyboardInterrupt\u001b[39;00m(\u001b[38;5;124m\"\u001b[39m\u001b[38;5;124mInterrupted by user\u001b[39m\u001b[38;5;124m\"\u001b[39m) \u001b[38;5;28;01mfrom\u001b[39;00m \u001b[38;5;28mNone\u001b[39m\n\u001b[0;32m   1121\u001b[0m \u001b[38;5;28;01mexcept\u001b[39;00m \u001b[38;5;167;01mException\u001b[39;00m:\n\u001b[0;32m   1122\u001b[0m     \u001b[38;5;28mself\u001b[39m\u001b[38;5;241m.\u001b[39mlog\u001b[38;5;241m.\u001b[39mwarning(\u001b[38;5;124m\"\u001b[39m\u001b[38;5;124mInvalid Message:\u001b[39m\u001b[38;5;124m\"\u001b[39m, exc_info\u001b[38;5;241m=\u001b[39m\u001b[38;5;28;01mTrue\u001b[39;00m)\n",
      "\u001b[1;31mKeyboardInterrupt\u001b[0m: Interrupted by user"
     ]
    }
   ],
   "source": [
    "a = int(input())\n",
    "for i in range(a):\n",
    "    b=input().split()\n",
    "    mea=0\n",
    "    for i in b[1:]:\n",
    "        mea+=int(i)\n",
    "    mea=mea/int(b[0])\n",
    "    cnt=0\n",
    "    for i in b[1:]:\n",
    "        if int(i)>mea:\n",
    "            cnt+=1\n",
    "    print('{:3.3f}%'.format(round(cnt/int(b[0])*100,3)))"
   ]
  },
  {
   "cell_type": "code",
   "execution_count": null,
   "id": "1a3531c9",
   "metadata": {},
   "outputs": [],
   "source": [
    "def solve(a):\n",
    "    for i in a:\n",
    "        sum_+=i\n",
    "    return sum_"
   ]
  },
  {
   "cell_type": "code",
   "execution_count": 11,
   "id": "fd245f5e",
   "metadata": {},
   "outputs": [
    {
     "name": "stdout",
     "output_type": "stream",
     "text": [
      "1\n",
      "3\n",
      "5\n",
      "7\n",
      "9\n",
      "20\n",
      "31\n",
      "42\n",
      "53\n",
      "64\n",
      "75\n",
      "86\n",
      "97\n",
      "108\n",
      "110\n",
      "121\n",
      "132\n",
      "143\n",
      "154\n",
      "165\n",
      "176\n",
      "187\n",
      "198\n",
      "209\n",
      "211\n",
      "222\n",
      "233\n",
      "244\n",
      "255\n",
      "266\n",
      "277\n",
      "288\n",
      "299\n",
      "310\n",
      "312\n",
      "323\n",
      "334\n",
      "345\n",
      "356\n",
      "367\n",
      "378\n",
      "389\n",
      "400\n",
      "411\n",
      "413\n",
      "424\n",
      "435\n",
      "446\n",
      "457\n",
      "468\n",
      "479\n",
      "490\n",
      "501\n",
      "512\n",
      "514\n",
      "525\n",
      "536\n",
      "547\n",
      "558\n",
      "569\n",
      "580\n",
      "591\n",
      "602\n",
      "613\n",
      "615\n",
      "626\n",
      "637\n",
      "648\n",
      "659\n",
      "670\n",
      "681\n",
      "692\n",
      "703\n",
      "714\n",
      "716\n",
      "727\n",
      "738\n",
      "749\n",
      "760\n",
      "771\n",
      "782\n",
      "793\n",
      "804\n",
      "815\n",
      "817\n",
      "828\n",
      "839\n",
      "850\n",
      "861\n",
      "872\n",
      "883\n",
      "894\n",
      "905\n",
      "916\n",
      "918\n",
      "929\n",
      "940\n",
      "951\n",
      "962\n",
      "973\n",
      "984\n",
      "995\n",
      "1006\n",
      "1021\n",
      "1032\n",
      "1043\n",
      "1054\n",
      "1065\n",
      "1076\n",
      "1087\n",
      "1098\n",
      "1109\n",
      "1111\n",
      "1122\n",
      "1133\n",
      "1144\n",
      "1155\n",
      "1166\n",
      "1177\n",
      "1188\n",
      "1199\n",
      "1210\n",
      "1212\n",
      "1223\n",
      "1234\n",
      "1245\n",
      "1256\n",
      "1267\n",
      "1278\n",
      "1289\n",
      "1300\n",
      "1311\n",
      "1313\n",
      "1324\n",
      "1335\n",
      "1346\n",
      "1357\n",
      "1368\n",
      "1379\n",
      "1390\n",
      "1401\n",
      "1412\n",
      "1414\n",
      "1425\n",
      "1436\n",
      "1447\n",
      "1458\n",
      "1469\n",
      "1480\n",
      "1491\n",
      "1502\n",
      "1513\n",
      "1515\n",
      "1526\n",
      "1537\n",
      "1548\n",
      "1559\n",
      "1570\n",
      "1581\n",
      "1592\n",
      "1603\n",
      "1614\n",
      "1616\n",
      "1627\n",
      "1638\n",
      "1649\n",
      "1660\n",
      "1671\n",
      "1682\n",
      "1693\n",
      "1704\n",
      "1715\n",
      "1717\n",
      "1728\n",
      "1739\n",
      "1750\n",
      "1761\n",
      "1772\n",
      "1783\n",
      "1794\n",
      "1805\n",
      "1816\n",
      "1818\n",
      "1829\n",
      "1840\n",
      "1851\n",
      "1862\n",
      "1873\n",
      "1884\n",
      "1895\n",
      "1906\n",
      "1917\n",
      "1919\n",
      "1930\n",
      "1941\n",
      "1952\n",
      "1963\n",
      "1974\n",
      "1985\n",
      "1996\n",
      "2007\n",
      "2022\n",
      "2033\n",
      "2044\n",
      "2055\n",
      "2066\n",
      "2077\n",
      "2088\n",
      "2099\n",
      "2110\n",
      "2112\n",
      "2123\n",
      "2134\n",
      "2145\n",
      "2156\n",
      "2167\n",
      "2178\n",
      "2189\n",
      "2200\n",
      "2211\n",
      "2213\n",
      "2224\n",
      "2235\n",
      "2246\n",
      "2257\n",
      "2268\n",
      "2279\n",
      "2290\n",
      "2301\n",
      "2312\n",
      "2314\n",
      "2325\n",
      "2336\n",
      "2347\n",
      "2358\n",
      "2369\n",
      "2380\n",
      "2391\n",
      "2402\n",
      "2413\n",
      "2415\n",
      "2426\n",
      "2437\n",
      "2448\n",
      "2459\n",
      "2470\n",
      "2481\n",
      "2492\n",
      "2503\n",
      "2514\n",
      "2516\n",
      "2527\n",
      "2538\n",
      "2549\n",
      "2560\n",
      "2571\n",
      "2582\n",
      "2593\n",
      "2604\n",
      "2615\n",
      "2617\n",
      "2628\n",
      "2639\n",
      "2650\n",
      "2661\n",
      "2672\n",
      "2683\n",
      "2694\n",
      "2705\n",
      "2716\n",
      "2718\n",
      "2729\n",
      "2740\n",
      "2751\n",
      "2762\n",
      "2773\n",
      "2784\n",
      "2795\n",
      "2806\n",
      "2817\n",
      "2819\n",
      "2830\n",
      "2841\n",
      "2852\n",
      "2863\n",
      "2874\n",
      "2885\n",
      "2896\n",
      "2907\n",
      "2918\n",
      "2920\n",
      "2931\n",
      "2942\n",
      "2953\n",
      "2964\n",
      "2975\n",
      "2986\n",
      "2997\n",
      "3008\n",
      "3023\n",
      "3034\n",
      "3045\n",
      "3056\n",
      "3067\n",
      "3078\n",
      "3089\n",
      "3100\n",
      "3111\n",
      "3113\n",
      "3124\n",
      "3135\n",
      "3146\n",
      "3157\n",
      "3168\n",
      "3179\n",
      "3190\n",
      "3201\n",
      "3212\n",
      "3214\n",
      "3225\n",
      "3236\n",
      "3247\n",
      "3258\n",
      "3269\n",
      "3280\n",
      "3291\n",
      "3302\n",
      "3313\n",
      "3315\n",
      "3326\n",
      "3337\n",
      "3348\n",
      "3359\n",
      "3370\n",
      "3381\n",
      "3392\n",
      "3403\n",
      "3414\n",
      "3416\n",
      "3427\n",
      "3438\n",
      "3449\n",
      "3460\n",
      "3471\n",
      "3482\n",
      "3493\n",
      "3504\n",
      "3515\n",
      "3517\n",
      "3528\n",
      "3539\n",
      "3550\n",
      "3561\n",
      "3572\n",
      "3583\n",
      "3594\n",
      "3605\n",
      "3616\n",
      "3618\n",
      "3629\n",
      "3640\n",
      "3651\n",
      "3662\n",
      "3673\n",
      "3684\n",
      "3695\n",
      "3706\n",
      "3717\n",
      "3719\n",
      "3730\n",
      "3741\n",
      "3752\n",
      "3763\n",
      "3774\n",
      "3785\n",
      "3796\n",
      "3807\n",
      "3818\n",
      "3820\n",
      "3831\n",
      "3842\n",
      "3853\n",
      "3864\n",
      "3875\n",
      "3886\n",
      "3897\n",
      "3908\n",
      "3919\n",
      "3921\n",
      "3932\n",
      "3943\n",
      "3954\n",
      "3965\n",
      "3976\n",
      "3987\n",
      "3998\n",
      "4009\n",
      "4024\n",
      "4035\n",
      "4046\n",
      "4057\n",
      "4068\n",
      "4079\n",
      "4090\n",
      "4101\n",
      "4112\n",
      "4114\n",
      "4125\n",
      "4136\n",
      "4147\n",
      "4158\n",
      "4169\n",
      "4180\n",
      "4191\n",
      "4202\n",
      "4213\n",
      "4215\n",
      "4226\n",
      "4237\n",
      "4248\n",
      "4259\n",
      "4270\n",
      "4281\n",
      "4292\n",
      "4303\n",
      "4314\n",
      "4316\n",
      "4327\n",
      "4338\n",
      "4349\n",
      "4360\n",
      "4371\n",
      "4382\n",
      "4393\n",
      "4404\n",
      "4415\n",
      "4417\n",
      "4428\n",
      "4439\n",
      "4450\n",
      "4461\n",
      "4472\n",
      "4483\n",
      "4494\n",
      "4505\n",
      "4516\n",
      "4518\n",
      "4529\n",
      "4540\n",
      "4551\n",
      "4562\n",
      "4573\n",
      "4584\n",
      "4595\n",
      "4606\n",
      "4617\n",
      "4619\n",
      "4630\n",
      "4641\n",
      "4652\n",
      "4663\n",
      "4674\n",
      "4685\n",
      "4696\n",
      "4707\n",
      "4718\n",
      "4720\n",
      "4731\n",
      "4742\n",
      "4753\n",
      "4764\n",
      "4775\n",
      "4786\n",
      "4797\n",
      "4808\n",
      "4819\n",
      "4821\n",
      "4832\n",
      "4843\n",
      "4854\n",
      "4865\n",
      "4876\n",
      "4887\n",
      "4898\n",
      "4909\n",
      "4920\n",
      "4922\n",
      "4933\n",
      "4944\n",
      "4955\n",
      "4966\n",
      "4977\n",
      "4988\n",
      "4999\n",
      "5010\n",
      "5025\n",
      "5036\n",
      "5047\n",
      "5058\n",
      "5069\n",
      "5080\n",
      "5091\n",
      "5102\n",
      "5113\n",
      "5115\n",
      "5126\n",
      "5137\n",
      "5148\n",
      "5159\n",
      "5170\n",
      "5181\n",
      "5192\n",
      "5203\n",
      "5214\n",
      "5216\n",
      "5227\n",
      "5238\n",
      "5249\n",
      "5260\n",
      "5271\n",
      "5282\n",
      "5293\n",
      "5304\n",
      "5315\n",
      "5317\n",
      "5328\n",
      "5339\n",
      "5350\n",
      "5361\n",
      "5372\n",
      "5383\n",
      "5394\n",
      "5405\n",
      "5416\n",
      "5418\n",
      "5429\n",
      "5440\n",
      "5451\n",
      "5462\n",
      "5473\n",
      "5484\n",
      "5495\n",
      "5506\n",
      "5517\n",
      "5519\n",
      "5530\n",
      "5541\n",
      "5552\n",
      "5563\n",
      "5574\n",
      "5585\n",
      "5596\n",
      "5607\n",
      "5618\n",
      "5620\n",
      "5631\n",
      "5642\n",
      "5653\n",
      "5664\n",
      "5675\n",
      "5686\n",
      "5697\n",
      "5708\n",
      "5719\n",
      "5721\n",
      "5732\n",
      "5743\n",
      "5754\n",
      "5765\n",
      "5776\n",
      "5787\n",
      "5798\n",
      "5809\n",
      "5820\n",
      "5822\n",
      "5833\n",
      "5844\n",
      "5855\n",
      "5866\n",
      "5877\n",
      "5888\n",
      "5899\n",
      "5910\n",
      "5921\n",
      "5923\n",
      "5934\n",
      "5945\n",
      "5956\n",
      "5967\n",
      "5978\n",
      "5989\n",
      "6000\n",
      "6011\n",
      "6026\n",
      "6037\n",
      "6048\n",
      "6059\n",
      "6070\n",
      "6081\n",
      "6092\n",
      "6103\n",
      "6114\n",
      "6116\n",
      "6127\n",
      "6138\n",
      "6149\n",
      "6160\n",
      "6171\n",
      "6182\n",
      "6193\n",
      "6204\n",
      "6215\n",
      "6217\n",
      "6228\n",
      "6239\n",
      "6250\n",
      "6261\n",
      "6272\n",
      "6283\n",
      "6294\n",
      "6305\n",
      "6316\n",
      "6318\n",
      "6329\n",
      "6340\n",
      "6351\n",
      "6362\n",
      "6373\n",
      "6384\n",
      "6395\n",
      "6406\n",
      "6417\n",
      "6419\n",
      "6430\n",
      "6441\n",
      "6452\n",
      "6463\n",
      "6474\n",
      "6485\n",
      "6496\n",
      "6507\n",
      "6518\n",
      "6520\n",
      "6531\n",
      "6542\n",
      "6553\n",
      "6564\n",
      "6575\n",
      "6586\n",
      "6597\n",
      "6608\n",
      "6619\n",
      "6621\n",
      "6632\n",
      "6643\n",
      "6654\n",
      "6665\n",
      "6676\n",
      "6687\n",
      "6698\n",
      "6709\n",
      "6720\n",
      "6722\n",
      "6733\n",
      "6744\n",
      "6755\n",
      "6766\n",
      "6777\n",
      "6788\n",
      "6799\n",
      "6810\n",
      "6821\n",
      "6823\n",
      "6834\n",
      "6845\n",
      "6856\n",
      "6867\n",
      "6878\n",
      "6889\n",
      "6900\n",
      "6911\n",
      "6922\n",
      "6924\n",
      "6935\n",
      "6946\n",
      "6957\n",
      "6968\n",
      "6979\n",
      "6990\n",
      "7001\n",
      "7012\n",
      "7027\n",
      "7038\n",
      "7049\n",
      "7060\n",
      "7071\n",
      "7082\n",
      "7093\n",
      "7104\n",
      "7115\n",
      "7117\n",
      "7128\n",
      "7139\n",
      "7150\n",
      "7161\n",
      "7172\n",
      "7183\n",
      "7194\n",
      "7205\n",
      "7216\n",
      "7218\n",
      "7229\n",
      "7240\n",
      "7251\n",
      "7262\n",
      "7273\n",
      "7284\n",
      "7295\n",
      "7306\n",
      "7317\n",
      "7319\n",
      "7330\n",
      "7341\n",
      "7352\n",
      "7363\n",
      "7374\n",
      "7385\n",
      "7396\n",
      "7407\n",
      "7418\n",
      "7420\n",
      "7431\n",
      "7442\n",
      "7453\n",
      "7464\n",
      "7475\n",
      "7486\n",
      "7497\n",
      "7508\n",
      "7519\n",
      "7521\n",
      "7532\n",
      "7543\n",
      "7554\n",
      "7565\n",
      "7576\n",
      "7587\n",
      "7598\n",
      "7609\n",
      "7620\n",
      "7622\n",
      "7633\n",
      "7644\n",
      "7655\n",
      "7666\n",
      "7677\n",
      "7688\n",
      "7699\n",
      "7710\n",
      "7721\n",
      "7723\n",
      "7734\n",
      "7745\n",
      "7756\n",
      "7767\n",
      "7778\n",
      "7789\n",
      "7800\n",
      "7811\n",
      "7822\n",
      "7824\n",
      "7835\n",
      "7846\n",
      "7857\n",
      "7868\n",
      "7879\n",
      "7890\n",
      "7901\n",
      "7912\n",
      "7923\n",
      "7925\n",
      "7936\n",
      "7947\n",
      "7958\n",
      "7969\n",
      "7980\n",
      "7991\n",
      "8002\n",
      "8013\n",
      "8028\n",
      "8039\n",
      "8050\n",
      "8061\n",
      "8072\n",
      "8083\n",
      "8094\n",
      "8105\n",
      "8116\n",
      "8118\n",
      "8129\n",
      "8140\n",
      "8151\n",
      "8162\n",
      "8173\n",
      "8184\n",
      "8195\n",
      "8206\n",
      "8217\n",
      "8219\n",
      "8230\n",
      "8241\n",
      "8252\n",
      "8263\n",
      "8274\n",
      "8285\n",
      "8296\n",
      "8307\n",
      "8318\n",
      "8320\n",
      "8331\n",
      "8342\n",
      "8353\n",
      "8364\n",
      "8375\n",
      "8386\n",
      "8397\n",
      "8408\n",
      "8419\n",
      "8421\n",
      "8432\n",
      "8443\n",
      "8454\n",
      "8465\n",
      "8476\n",
      "8487\n",
      "8498\n",
      "8509\n",
      "8520\n",
      "8522\n",
      "8533\n",
      "8544\n",
      "8555\n",
      "8566\n",
      "8577\n",
      "8588\n",
      "8599\n",
      "8610\n",
      "8621\n",
      "8623\n",
      "8634\n",
      "8645\n",
      "8656\n",
      "8667\n",
      "8678\n",
      "8689\n",
      "8700\n",
      "8711\n",
      "8722\n",
      "8724\n",
      "8735\n",
      "8746\n",
      "8757\n",
      "8768\n",
      "8779\n",
      "8790\n",
      "8801\n",
      "8812\n",
      "8823\n",
      "8825\n",
      "8836\n",
      "8847\n",
      "8858\n",
      "8869\n",
      "8880\n",
      "8891\n",
      "8902\n",
      "8913\n",
      "8924\n",
      "8926\n",
      "8937\n",
      "8948\n",
      "8959\n",
      "8970\n",
      "8981\n",
      "8992\n",
      "9003\n",
      "9014\n",
      "9029\n",
      "9040\n",
      "9051\n",
      "9062\n",
      "9073\n",
      "9084\n",
      "9095\n",
      "9106\n",
      "9117\n",
      "9119\n",
      "9130\n",
      "9141\n",
      "9152\n",
      "9163\n",
      "9174\n",
      "9185\n",
      "9196\n",
      "9207\n",
      "9218\n",
      "9220\n",
      "9231\n",
      "9242\n",
      "9253\n",
      "9264\n",
      "9275\n",
      "9286\n",
      "9297\n",
      "9308\n",
      "9319\n",
      "9321\n",
      "9332\n",
      "9343\n",
      "9354\n",
      "9365\n",
      "9376\n",
      "9387\n",
      "9398\n",
      "9409\n",
      "9420\n",
      "9422\n",
      "9433\n",
      "9444\n",
      "9455\n",
      "9466\n",
      "9477\n",
      "9488\n",
      "9499\n",
      "9510\n",
      "9521\n",
      "9523\n",
      "9534\n",
      "9545\n",
      "9556\n",
      "9567\n",
      "9578\n",
      "9589\n",
      "9600\n",
      "9611\n",
      "9622\n",
      "9624\n",
      "9635\n",
      "9646\n",
      "9657\n",
      "9668\n",
      "9679\n",
      "9690\n",
      "9701\n",
      "9712\n",
      "9723\n",
      "9725\n",
      "9736\n",
      "9747\n",
      "9758\n",
      "9769\n",
      "9780\n",
      "9791\n",
      "9802\n",
      "9813\n",
      "9824\n",
      "9826\n",
      "9837\n",
      "9848\n",
      "9859\n",
      "9870\n",
      "9881\n",
      "9892\n",
      "9903\n",
      "9914\n",
      "9925\n",
      "9927\n",
      "9938\n",
      "9949\n",
      "9960\n",
      "9971\n",
      "9982\n",
      "9993\n"
     ]
    }
   ],
   "source": [
    "b = list(range(1,10001))\n",
    "memo={}\n",
    "def d(n):\n",
    "    a=n\n",
    "    for i in range(len(str(n))):\n",
    "        a+=int(list(str(n))[i])\n",
    "    if n in memo:\n",
    "        return memo[n]\n",
    "    else:\n",
    "        memo[n]=a\n",
    "        return a\n",
    "\n",
    "for i in range(1,10001):\n",
    "    if d(i) in b:\n",
    "        b.remove(d(i))\n",
    "    \n",
    "for i in b:\n",
    "    print(i)\n",
    "    "
   ]
  },
  {
   "cell_type": "code",
   "execution_count": null,
   "id": "8dc29cce",
   "metadata": {},
   "outputs": [],
   "source": [
    "# a = [True]*20000\n",
    "# for i in range(10):\n",
    "#     for j in range(10):\n",
    "#         for k in range(10):\n",
    "#             for l in range(10):\n",
    "#                 a[1001*i+101*j+11*k+2*l] = False\n",
    "# for i in range(10000):\n",
    "#     if a[i] == True:\n",
    "#         print(i)"
   ]
  },
  {
   "cell_type": "code",
   "execution_count": 16,
   "id": "b53e7010",
   "metadata": {},
   "outputs": [
    {
     "name": "stdout",
     "output_type": "stream",
     "text": [
      "500\n",
      "119\n"
     ]
    }
   ],
   "source": [
    "a = int(input())\n",
    "cnt=0\n",
    "\n",
    "if a<100:\n",
    "    cnt = a\n",
    "else:\n",
    "    cnt=99\n",
    "    for i in range(100,a+1):\n",
    "        if int(list(str(i))[0])-int(list(str(i))[1]) == \\\n",
    "        int(list(str(i))[1])-int(list(str(i))[2]):\n",
    "            cnt+=1\n",
    "\n",
    "print(cnt)\n",
    "    "
   ]
  },
  {
   "cell_type": "code",
   "execution_count": 18,
   "id": "8cb35f1a",
   "metadata": {},
   "outputs": [],
   "source": [
    "# print(sum(i<100 or i//100*21+i==i//10*12for i in range(1,int(input())+1)))"
   ]
  },
  {
   "cell_type": "code",
   "execution_count": 20,
   "id": "d08b2fbe",
   "metadata": {},
   "outputs": [
    {
     "name": "stdout",
     "output_type": "stream",
     "text": [
      "105\n",
      "99\n"
     ]
    }
   ],
   "source": [
    "# print(sum(i<100 or int(list(str(i))[0])-int(list(str(i))[1]) == \\\n",
    "#         int(list(str(i))[1])-int(list(str(i))[2]) for i in range(1,int(input())+1)))"
   ]
  },
  {
   "cell_type": "code",
   "execution_count": 27,
   "id": "2a936576",
   "metadata": {},
   "outputs": [
    {
     "name": "stdout",
     "output_type": "stream",
     "text": [
      "A\n",
      "65\n"
     ]
    }
   ],
   "source": [
    "print(ord(input()))"
   ]
  },
  {
   "cell_type": "code",
   "execution_count": 37,
   "id": "ebe02503",
   "metadata": {},
   "outputs": [
    {
     "name": "stdout",
     "output_type": "stream",
     "text": [
      "5\n",
      "54321\n",
      "15\n"
     ]
    }
   ],
   "source": [
    "a = int(input())\n",
    "b=list(str(input()))\n",
    "print(sum(int(b[i]) for i in range(a)))"
   ]
  },
  {
   "cell_type": "code",
   "execution_count": 41,
   "id": "c264b224",
   "metadata": {},
   "outputs": [],
   "source": [
    "# input()\n",
    "# print(sum(map(int,input())))\n"
   ]
  },
  {
   "cell_type": "code",
   "execution_count": 1,
   "id": "c391e083",
   "metadata": {},
   "outputs": [
    {
     "name": "stdout",
     "output_type": "stream",
     "text": [
      "baekjoon\n"
     ]
    },
    {
     "ename": "NameError",
     "evalue": "name 'b' is not defined",
     "output_type": "error",
     "traceback": [
      "\u001b[1;31m---------------------------------------------------------------------------\u001b[0m",
      "\u001b[1;31mNameError\u001b[0m                                 Traceback (most recent call last)",
      "Input \u001b[1;32mIn [1]\u001b[0m, in \u001b[0;36m<cell line: 4>\u001b[1;34m()\u001b[0m\n\u001b[0;32m      4\u001b[0m \u001b[38;5;28;01mfor\u001b[39;00m i \u001b[38;5;129;01min\u001b[39;00m \u001b[38;5;28mlist\u001b[39m(string\u001b[38;5;241m.\u001b[39mascii_lowercase):\n\u001b[0;32m      5\u001b[0m     \u001b[38;5;28;01mif\u001b[39;00m i \u001b[38;5;129;01min\u001b[39;00m a:\n\u001b[1;32m----> 6\u001b[0m         b \u001b[38;5;241m+\u001b[39m\u001b[38;5;241m=\u001b[39m \u001b[38;5;124mf\u001b[39m\u001b[38;5;124m\"\u001b[39m\u001b[38;5;132;01m{\u001b[39;00ma\u001b[38;5;241m.\u001b[39mfind(i)\u001b[38;5;132;01m}\u001b[39;00m\u001b[38;5;124m \u001b[39m\u001b[38;5;124m\"\u001b[39m\n\u001b[0;32m      7\u001b[0m     \u001b[38;5;28;01melse\u001b[39;00m:\n\u001b[0;32m      8\u001b[0m         b \u001b[38;5;241m+\u001b[39m\u001b[38;5;241m=\u001b[39m \u001b[38;5;124m'\u001b[39m\u001b[38;5;124m-1 \u001b[39m\u001b[38;5;124m'\u001b[39m\n",
      "\u001b[1;31mNameError\u001b[0m: name 'b' is not defined"
     ]
    }
   ],
   "source": [
    "import string\n",
    "b=\"\"\n",
    "a = input()\n",
    "for i in list(string.ascii_lowercase):\n",
    "    if i in a:\n",
    "        b += f\"{a.find(i)} \"\n",
    "    else:\n",
    "        b += '-1 '\n",
    "    \n",
    "print(b)"
   ]
  },
  {
   "cell_type": "code",
   "execution_count": 16,
   "id": "3f212032",
   "metadata": {},
   "outputs": [
    {
     "name": "stdout",
     "output_type": "stream",
     "text": [
      "2\n",
      "3 ABC\n",
      "AAABBBCCC\n",
      "5 /HTP\n",
      "/////HHHHHTTTTTPPPPP\n"
     ]
    }
   ],
   "source": [
    "a = int(input())\n",
    "\n",
    "for i in range(a):\n",
    "    result = \"\"\n",
    "    b = input().split()\n",
    "    for o in range(len(b[1])):    \n",
    "        result += list(b[1])[o]*int(b[0])\n",
    "    print(result)\n",
    "\n",
    "    "
   ]
  },
  {
   "cell_type": "code",
   "execution_count": 26,
   "id": "6e4f9ce2",
   "metadata": {},
   "outputs": [
    {
     "name": "stdout",
     "output_type": "stream",
     "text": [
      "The Curious Case of Benjamin Button\n",
      "6\n"
     ]
    }
   ],
   "source": [
    "print(len(input().split()))"
   ]
  },
  {
   "cell_type": "code",
   "execution_count": 29,
   "id": "3fafdbc7",
   "metadata": {},
   "outputs": [
    {
     "name": "stdout",
     "output_type": "stream",
     "text": [
      "734 893\n",
      "437\n"
     ]
    }
   ],
   "source": [
    "a = input().split()\n",
    "num1 = \"\"\n",
    "num2 = \"\"\n",
    "for b in [2,1,0]:\n",
    "    num1+=list(a[0])[b]\n",
    "for c in [2,1,0]:\n",
    "    num2+=list(a[1])[c]\n",
    "\n",
    "if int(num1) >int(num2):\n",
    "    print(num1)\n",
    "else:\n",
    "    print(num2)\n"
   ]
  },
  {
   "cell_type": "code",
   "execution_count": 30,
   "id": "f153db8c",
   "metadata": {},
   "outputs": [
    {
     "name": "stdout",
     "output_type": "stream",
     "text": [
      "734 893\n",
      "437\n"
     ]
    }
   ],
   "source": [
    "# print(max(input()[::-1].split()))"
   ]
  },
  {
   "cell_type": "code",
   "execution_count": 8,
   "id": "6ce39b80",
   "metadata": {},
   "outputs": [
    {
     "name": "stdout",
     "output_type": "stream",
     "text": [
      "C\n"
     ]
    },
    {
     "data": {
      "text/plain": [
       "67"
      ]
     },
     "execution_count": 8,
     "metadata": {},
     "output_type": "execute_result"
    }
   ],
   "source": [
    "ord(input())"
   ]
  },
  {
   "cell_type": "code",
   "execution_count": 43,
   "id": "01e079d1",
   "metadata": {},
   "outputs": [
    {
     "name": "stdout",
     "output_type": "stream",
     "text": [
      "dz=akdz=akdz=akdz=akdz=akdz=akdz=akdz=akdz=akdz=akdz=akdz=akdz=akdz=akdz=akdz=akdz=akdz=akdz=akdz=ak\n",
      "60\n"
     ]
    }
   ],
   "source": [
    "# a = list(input())\n",
    "# cnt=0\n",
    "# def asd(x):\n",
    "#     global cnt\n",
    "#     if x[0] == 'c' and \\\n",
    "#     (x[1]=='=' or x[1]=='-'):\n",
    "#         del x[0]\n",
    "#         del x[0]\n",
    "#         cnt+=1\n",
    "#     elif x[0] == 'd'and x[1] == '-':\n",
    "#         del x[0]\n",
    "#         del x[0]\n",
    "#         cnt+=1\n",
    "#     elif x[0] == 'l'and x[1] == 'j':\n",
    "#         del x[0]\n",
    "#         del x[0]\n",
    "#         cnt+=1\n",
    "#     elif x[0] == 'n'and x[1] == 'j':\n",
    "#         del x[0]\n",
    "#         del x[0]\n",
    "#         cnt+=1\n",
    "#     elif x[0] == 's'and x[1] == '=':\n",
    "#         del x[0]\n",
    "#         del x[0]\n",
    "#         cnt+=1\n",
    "#     elif x[0] == 'z'and x[1] == '=':\n",
    "#         del x[0]\n",
    "#         del x[0]\n",
    "#         cnt+=1\n",
    "#     else:\n",
    "#         del x[0]\n",
    "#         cnt+=1\n",
    "\n",
    "# while len(a)!= 0:\n",
    "#     if len(a) == 1:\n",
    "#         del a[0]\n",
    "#         cnt+=1\n",
    "#         break\n",
    "#     elif len(a) == 2:\n",
    "#         asd(a)\n",
    "        \n",
    "#     else: \n",
    "#         if a[0] == 'd'and a[1] == 'z' \\\n",
    "#         and a[2] == '=':\n",
    "#             del a[0]\n",
    "#             del a[0]\n",
    "#             del a[0]\n",
    "#             cnt+=1\n",
    "#         asd(a) \n",
    "        \n",
    "# print(cnt)"
   ]
  },
  {
   "cell_type": "code",
   "execution_count": 69,
   "id": "98cf5cf1",
   "metadata": {},
   "outputs": [
    {
     "name": "stdout",
     "output_type": "stream",
     "text": [
      "dz=ak\n",
      "3\n"
     ]
    }
   ],
   "source": [
    "a = input()\n",
    "cnt =0\n",
    "\n",
    "lst1 = ['z=','c=','c-','d-','lj','nj','s=']\n",
    "lst2 = 'dz='\n",
    "while a != \"\":    \n",
    "    if (a.find('dz=')==0):\n",
    "        a=a[3:]\n",
    "        cnt+=1\n",
    "        continue\n",
    "    elif (a.find('z=')==0) or \\\n",
    "    (a.find('c=')==0) or (a.find('c-')==0) or \\\n",
    "    (a.find('d-')==0) or (a.find('lj')==0) or \\\n",
    "    (a.find('nj')==0) or (a.find('s=')==0):\n",
    "        a=a[2:]\n",
    "        cnt+=1\n",
    "        continue\n",
    "    else:\n",
    "        a=a[1:]\n",
    "        cnt+=1\n",
    "\n",
    "print(cnt)\n",
    "    "
   ]
  },
  {
   "cell_type": "code",
   "execution_count": 70,
   "id": "e6fc4bfb",
   "metadata": {},
   "outputs": [
    {
     "name": "stdout",
     "output_type": "stream",
     "text": [
      "dz=dz=\n",
      "2\n"
     ]
    }
   ],
   "source": [
    "# a = input()\n",
    "# for b in ['c=','c-','dz=','d-','lj','nj','s=','z=']:\n",
    "# \ta = a.replace(b, '0')\n",
    "# print(len(a))\n",
    "\n"
   ]
  },
  {
   "cell_type": "code",
   "execution_count": 92,
   "id": "2fec3aa0",
   "metadata": {},
   "outputs": [
    {
     "name": "stdout",
     "output_type": "stream",
     "text": [
      "1\n",
      "z\n",
      "1\n"
     ]
    }
   ],
   "source": [
    "cnt = 0\n",
    "\n",
    "import string\n",
    "for q in range(int(input())):\n",
    "    b=input()\n",
    "    for i in list(string.ascii_lowercase):\n",
    "        if i in b:\n",
    "            if len(b[b.find(i):b.rfind(i)+1].replace(i,\"\"))!=0:\n",
    "                break\n",
    "            else:\n",
    "                pass\n",
    "        if i == 'z':\n",
    "            cnt+=1\n",
    "        \n",
    "print(cnt)\n",
    "        "
   ]
  },
  {
   "cell_type": "code",
   "execution_count": 97,
   "id": "196d6302",
   "metadata": {},
   "outputs": [
    {
     "data": {
      "text/plain": [
       "['a', 'b', 'b', 'd', 'c']"
      ]
     },
     "execution_count": 97,
     "metadata": {},
     "output_type": "execute_result"
    }
   ],
   "source": [
    "# result = 0\n",
    "# for i in range(int(input())):\n",
    "#     word = input()\n",
    "#     if list(word) == sorted(word, key=word.find):\n",
    "#         result += 1\n",
    "# print(result)"
   ]
  },
  {
   "cell_type": "code",
   "execution_count": 12,
   "id": "85f28d7e",
   "metadata": {},
   "outputs": [
    {
     "name": "stdout",
     "output_type": "stream",
     "text": [
      "baaa\n",
      "A\n"
     ]
    }
   ],
   "source": [
    "a=input()\n",
    "max_num = 0\n",
    "\n",
    "import string\n",
    "for i in list(string.ascii_lowercase):\n",
    "    if a.count(i) + a.count(i.upper())>max_num:\n",
    "        max_num = a.count(i) + a.count(i.upper())\n",
    "        max_a = i.upper()\n",
    "    elif a.count(i) + a.count(i.upper())==max_num:\n",
    "        max_a = '?'\n",
    "    else:\n",
    "        pass\n",
    "print(max_a)\n",
    "    "
   ]
  },
  {
   "cell_type": "code",
   "execution_count": 4,
   "id": "da3e8584",
   "metadata": {},
   "outputs": [
    {
     "name": "stdout",
     "output_type": "stream",
     "text": [
      "UNUCIC\n",
      "36\n"
     ]
    }
   ],
   "source": [
    "a = input()\n",
    "a_time = 0\n",
    "import string\n",
    "for idx,i in enumerate(list(string.ascii_uppercase)):\n",
    "    if idx in [0,1,2] and i in a:\n",
    "        a=a.replace(i,'3')\n",
    "    if idx in [3,4,5] and i in a:\n",
    "        a=a.replace(i,'4')\n",
    "    if idx in [6,7,8] and i in a:\n",
    "        a=a.replace(i,'5')\n",
    "    if idx in [9,10,11] and i in a:\n",
    "        a=a.replace(i,'6')\n",
    "    if idx in [12,13,14] and i in a:\n",
    "        a=a.replace(i,'7')\n",
    "    if idx in [15,16,17,18] and i in a:\n",
    "        a=a.replace(i,'8')\n",
    "    if idx in [19,20,21] and i in a:\n",
    "        a=a.replace(i,'9')\n",
    "    if idx in [22,23,24,25] and i in a:\n",
    "        a=a.replace(i,'10')\n",
    "\n",
    "\n",
    "while '1' in a:\n",
    "    a_time+=10*(a.count('1'))\n",
    "    a=a.replace('1','')\n",
    "    a=a.replace('0','')\n",
    "    \n",
    "\n",
    "for i in range(len(a)):\n",
    "    a_time += int(a[i])\n",
    "\n",
    "print(a_time)\n",
    "        \n",
    "        \n"
   ]
  },
  {
   "cell_type": "code",
   "execution_count": 5,
   "id": "d42b66a9",
   "metadata": {},
   "outputs": [],
   "source": [
    "# str_list = list(input())\n",
    "# a = [2,2,2,3,3,3,4,4,4,5,5,5,6,6,6,7,7,7,7,8,8,8,9,9,9,9]\n",
    "# total = 0\n",
    "# for ch in str_list:\n",
    "#     idx = ord(ch) - ord('A')\n",
    "#     total+= a[idx] + 1\n",
    "# print(total)"
   ]
  },
  {
   "cell_type": "code",
   "execution_count": 96,
   "id": "4f1c7a50",
   "metadata": {},
   "outputs": [
    {
     "name": "stdout",
     "output_type": "stream",
     "text": [
      "3BC\n"
     ]
    }
   ],
   "source": [
    "import string\n",
    "a='ABC'\n",
    "for i in ['A','B','C']:\n",
    "\n",
    "    if i in ['A','B','C']:\n",
    "        a= a.replace('A','3')\n",
    "print(a)"
   ]
  },
  {
   "cell_type": "code",
   "execution_count": 9,
   "id": "a9a7b07f",
   "metadata": {},
   "outputs": [
    {
     "name": "stdout",
     "output_type": "stream",
     "text": [
      "2100000000 9 10\n",
      "2100000001\n"
     ]
    }
   ],
   "source": [
    "a = input().split()\n",
    "if int(a[2])-int(a[1]) <=0:\n",
    "    print(-1)\n",
    "else:\n",
    "    print(int(a[0])//(int(a[2])-int(a[1]))+1)\n"
   ]
  },
  {
   "cell_type": "code",
   "execution_count": null,
   "id": "f9a31155",
   "metadata": {},
   "outputs": [],
   "source": [
    "a,b,c=map(int,input().split());print(-(c<=b)or a//(c-b)+1)"
   ]
  },
  {
   "cell_type": "code",
   "execution_count": 28,
   "id": "79226dba",
   "metadata": {},
   "outputs": [
    {
     "name": "stdout",
     "output_type": "stream",
     "text": [
      "62\n",
      "6\n"
     ]
    }
   ],
   "source": [
    "a = int(input())\n",
    "\n",
    "i = 2\n",
    "if a == 1:\n",
    "    print(1)\n",
    "else:\n",
    "    for b in range(1,1000000000):\n",
    "        i += 6*b\n",
    "        if a < i :\n",
    "            print(b+1)\n",
    "            break\n"
   ]
  },
  {
   "cell_type": "code",
   "execution_count": 44,
   "id": "1c51babe",
   "metadata": {},
   "outputs": [
    {
     "name": "stdout",
     "output_type": "stream",
     "text": [
      "13\n",
      "3/3\n"
     ]
    }
   ],
   "source": [
    "# a = int(input())\n",
    "# cnt =2\n",
    "# b=1\n",
    "# c=2\n",
    "\n",
    "\n",
    "# while True:\n",
    "#     if a == 1:\n",
    "#         print(f'1/1')\n",
    "#         break\n",
    "#     elif a == 2:\n",
    "#         print(f'1/2')\n",
    "#         break\n",
    "#     elif a == cnt:\n",
    "#         break\n",
    "#     else:\n",
    "#         if b == 1:\n",
    "#             while True:\n",
    "#                 b+=1\n",
    "#                 c-=1\n",
    "#                 cnt+=1\n",
    "#                 if a == cnt:\n",
    "#                     break\n",
    "#                 elif c ==1:\n",
    "#                     b+=1\n",
    "#                     cnt+=1\n",
    "#                     break\n",
    "#         else:\n",
    "#             while True:\n",
    "#                 b-=1\n",
    "#                 c+=1\n",
    "#                 cnt+=1\n",
    "#                 if a == cnt:\n",
    "#                     break\n",
    "#                 elif b ==1:\n",
    "#                     c+=1\n",
    "#                     cnt+=1\n",
    "#                     break\n",
    "        \n",
    "# print(f'{b}/{c}')        \n",
    "        "
   ]
  },
  {
   "cell_type": "code",
   "execution_count": 17,
   "id": "b089d1ae",
   "metadata": {},
   "outputs": [
    {
     "name": "stdout",
     "output_type": "stream",
     "text": [
      "14\n",
      "2/4\n"
     ]
    }
   ],
   "source": [
    "a = int(input())\n",
    "i = 1\n",
    "\n",
    "for b in range(1,10000000):\n",
    "    i += b\n",
    "    if a < i :\n",
    "        c=i\n",
    "        break\n",
    "for d in range(1,b,-1):\n",
    "    c-=d\n",
    "    \n",
    "if b%2==0:\n",
    "    print(f'{b+1-(c-a)}/{(c-a)}')\n",
    "else:\n",
    "    print(f'{(c-a)}/{b+1-(c-a)}')\n"
   ]
  },
  {
   "cell_type": "code",
   "execution_count": 24,
   "id": "b91805a5",
   "metadata": {},
   "outputs": [
    {
     "name": "stdout",
     "output_type": "stream",
     "text": [
      "100 99 1000000000\n"
     ]
    },
    {
     "ename": "KeyboardInterrupt",
     "evalue": "",
     "output_type": "error",
     "traceback": [
      "\u001b[1;31m---------------------------------------------------------------------------\u001b[0m",
      "\u001b[1;31mKeyboardInterrupt\u001b[0m                         Traceback (most recent call last)",
      "Input \u001b[1;32mIn [24]\u001b[0m, in \u001b[0;36m<cell line: 4>\u001b[1;34m()\u001b[0m\n\u001b[0;32m      2\u001b[0m h \u001b[38;5;241m=\u001b[39m \u001b[38;5;241m0\u001b[39m\n\u001b[0;32m      3\u001b[0m cnt \u001b[38;5;241m=\u001b[39m \u001b[38;5;241m0\u001b[39m\n\u001b[1;32m----> 4\u001b[0m \u001b[38;5;28;01mwhile\u001b[39;00m \u001b[43mh\u001b[49m\u001b[38;5;241m<\u001b[39mv:\n\u001b[0;32m      5\u001b[0m     h\u001b[38;5;241m+\u001b[39m\u001b[38;5;241m=\u001b[39ma\n\u001b[0;32m      6\u001b[0m     cnt\u001b[38;5;241m+\u001b[39m\u001b[38;5;241m=\u001b[39m\u001b[38;5;241m1\u001b[39m\n",
      "\u001b[1;31mKeyboardInterrupt\u001b[0m: "
     ]
    }
   ],
   "source": [
    "a,b,v = map(int,input().split())\n",
    "h = 0\n",
    "cnt = 0\n",
    "while h<v:\n",
    "    h+=a\n",
    "    cnt+=1\n",
    "    if h>=v:\n",
    "        break\n",
    "    else:\n",
    "        h-=b\n",
    "print(cnt)\n",
    "        \n",
    "    "
   ]
  },
  {
   "cell_type": "code",
   "execution_count": 34,
   "id": "124d9a8a",
   "metadata": {},
   "outputs": [
    {
     "name": "stdout",
     "output_type": "stream",
     "text": [
      "100 99 1000000000\n",
      "999999901\n"
     ]
    }
   ],
   "source": [
    "# (a-b)*x +a >=v\n",
    "# (v-a)//(a-b)\n",
    "\n",
    "a,b,v = map(int,input().split())\n",
    "if (v-a)%(a-b)>0:\n",
    "    print((v-a)//(a-b)+2)\n",
    "else:\n",
    "    print((v-a)//(a-b)+1)"
   ]
  },
  {
   "cell_type": "code",
   "execution_count": 36,
   "id": "f381ed68",
   "metadata": {},
   "outputs": [
    {
     "name": "stdout",
     "output_type": "stream",
     "text": [
      "5 1 6\n",
      "2\n"
     ]
    }
   ],
   "source": [
    "# a,b,v=map(int,input().split());print(1-(a-v)//(a-b))"
   ]
  },
  {
   "cell_type": "code",
   "execution_count": 44,
   "id": "86710f11",
   "metadata": {},
   "outputs": [
    {
     "name": "stdout",
     "output_type": "stream",
     "text": [
      "2\n",
      "6 12 10\n",
      "402\n",
      "30 50 72\n",
      "1203\n"
     ]
    }
   ],
   "source": [
    "for i in range(int(input())):\n",
    "    b,c,d=map(int,input().split())\n",
    "    if d%b==0:\n",
    "        print('{}{:02d}'.format(b,d//b))\n",
    "    else:\n",
    "        print('{}{:02d}'.format(d%b,d//b+1))\n"
   ]
  },
  {
   "cell_type": "code",
   "execution_count": null,
   "id": "3b76c7be",
   "metadata": {},
   "outputs": [],
   "source": [
    "# for i in range(int(input())):h,w,n=map(int,input().split());n-=1;print((n%h+1)*100+n//h+1)"
   ]
  },
  {
   "cell_type": "code",
   "execution_count": 11,
   "id": "3fcff762",
   "metadata": {},
   "outputs": [
    {
     "name": "stdout",
     "output_type": "stream",
     "text": [
      "2\n",
      "1\n",
      "3\n",
      "6\n",
      "2\n",
      "3\n",
      "6\n"
     ]
    }
   ],
   "source": [
    "for T in range(int(input())):\n",
    "    num=0\n",
    "    k=int(input())\n",
    "    n=int(input())\n",
    "    for i in range(k+1):\n",
    "        if i == k:\n",
    "            print(num)\n",
    "            break\n",
    "        else:\n",
    "            num=0\n",
    "            for a in range(1,n+1):\n",
    "                num+=a\n",
    "    "
   ]
  },
  {
   "cell_type": "code",
   "execution_count": 28,
   "id": "90a8e6da",
   "metadata": {
    "scrolled": true
   },
   "outputs": [
    {
     "name": "stdout",
     "output_type": "stream",
     "text": [
      "2\n",
      "11\n",
      "1\n",
      "1\n",
      "1\n",
      "11\n",
      "66\n"
     ]
    }
   ],
   "source": [
    "def sum_(x,y):\n",
    "    if x == 0:\n",
    "        dic[f'{x} {y}']=y\n",
    "        return y\n",
    "    elif f'{x} {y}' in dic:\n",
    "        return dic[f'{x} {y}']\n",
    "    else:\n",
    "        num=0\n",
    "        for i in range(1,y+1):\n",
    "            num += sum_(x-1,i)\n",
    "        dic[f'{x} {y}'] = num\n",
    "        return num\n",
    "\n",
    "dic = {}\n",
    "for T in range(int(input())):\n",
    "    print(sum_(int(input()),int(input())))\n",
    "    "
   ]
  },
  {
   "cell_type": "code",
   "execution_count": 30,
   "id": "9137f38f",
   "metadata": {},
   "outputs": [
    {
     "name": "stdout",
     "output_type": "stream",
     "text": [
      "1\n",
      "<class 'int'>\n"
     ]
    }
   ],
   "source": [
    "i=input\n",
    "for n in[int]*int(i()):\n",
    "    print(n)"
   ]
  },
  {
   "cell_type": "code",
   "execution_count": 41,
   "id": "691b3609",
   "metadata": {},
   "outputs": [
    {
     "name": "stdout",
     "output_type": "stream",
     "text": [
      "10 4790\n",
      "1\n",
      "5\n",
      "10\n",
      "50\n",
      "100\n",
      "500\n",
      "1000\n",
      "5000\n",
      "10000\n",
      "50000\n",
      "12\n"
     ]
    }
   ],
   "source": [
    "# 11047\n",
    "a=[]\n",
    "cnt=0\n",
    "n,k = map(int,input().split())\n",
    "\n",
    "for i in range(n):\n",
    "    a.append(int(input()))\n",
    "\n",
    "a.reverse()\n",
    "\n",
    "for b in a:\n",
    "    if k==0:\n",
    "        break\n",
    "    else:\n",
    "        cnt+=k//b\n",
    "        k= k%b\n",
    "\n",
    "print(cnt)\n",
    "        "
   ]
  },
  {
   "cell_type": "code",
   "execution_count": 48,
   "id": "36c15c7a",
   "metadata": {},
   "outputs": [
    {
     "name": "stdout",
     "output_type": "stream",
     "text": [
      "9991\n",
      "97\n",
      "103\n"
     ]
    }
   ],
   "source": [
    "# 11653\n",
    "n=int(input())\n",
    "while True:\n",
    "    if n==1:            #n이 1일경우 stop\n",
    "        break\n",
    "    else:\n",
    "        for i in range(2,10000001):       \n",
    "            if n%i==0:                   # 오름차순으로 하나씩 나누어 가며 \n",
    "                n= n//i                  # 나누어지는 수가 나오면 나누고 출력\n",
    "                print(i)\n",
    "                break                    # 2가 2번 나누어질 수 있으니 \n",
    "            elif n ==1:                  # break 후 while통해 처음부터 다시\n",
    "                break\n",
    "\n",
    "        \n",
    "            \n",
    "            "
   ]
  },
  {
   "cell_type": "code",
   "execution_count": 50,
   "id": "13bdae51",
   "metadata": {},
   "outputs": [
    {
     "name": "stdout",
     "output_type": "stream",
     "text": [
      "24\n",
      "2\n",
      "2\n",
      "2\n",
      "3\n"
     ]
    }
   ],
   "source": [
    "N=int(input())\n",
    "a=2\n",
    "while N>1:\n",
    " if N%a:\n",
    "    a+=1\n",
    " else:\n",
    "    print(a)\n",
    "    N/=a"
   ]
  },
  {
   "cell_type": "code",
   "execution_count": 59,
   "id": "7f780997",
   "metadata": {},
   "outputs": [
    {
     "name": "stdout",
     "output_type": "stream",
     "text": [
      "81\n",
      "17\n"
     ]
    }
   ],
   "source": [
    "#2839\n",
    "n=int(input())\n",
    "if n ==4 or n==7:\n",
    "    print(-1)\n",
    "elif n%5 == 0:\n",
    "    print(n//5)\n",
    "elif n%5 == 1 or n%5 == 3:\n",
    "    print(n//5+1)\n",
    "elif n%5 == 2 or n%5 == 4:\n",
    "    print(n//5+2)\n",
    "\n",
    "    \n"
   ]
  },
  {
   "cell_type": "code",
   "execution_count": 2,
   "id": "b65c54e1",
   "metadata": {},
   "outputs": [
    {
     "name": "stdout",
     "output_type": "stream",
     "text": [
      "9223372036854775807 9223372036854775808\n",
      "18446744073709551615\n"
     ]
    }
   ],
   "source": [
    "print(sum(map(int,input().split())))"
   ]
  },
  {
   "cell_type": "code",
   "execution_count": 8,
   "id": "ff662945",
   "metadata": {},
   "outputs": [
    {
     "name": "stdout",
     "output_type": "stream",
     "text": [
      "5\n",
      "1 2 3 4 5\n",
      "3\n"
     ]
    }
   ],
   "source": [
    "#1978\n",
    "input()\n",
    "cnt=0\n",
    "for i in map(int,input().split()):\n",
    "    if i == 1:\n",
    "        pass\n",
    "    elif i == 2:\n",
    "        cnt+=1\n",
    "    else:\n",
    "        for q in range(2,i):\n",
    "            if i%q==0:\n",
    "                break\n",
    "            elif q==i-1:\n",
    "                cnt+=1\n",
    "print(cnt)\n"
   ]
  },
  {
   "cell_type": "code",
   "execution_count": 11,
   "id": "a585910c",
   "metadata": {
    "scrolled": true
   },
   "outputs": [
    {
     "name": "stdout",
     "output_type": "stream",
     "text": [
      "64\n",
      "65\n",
      "-1\n"
     ]
    }
   ],
   "source": [
    "#2581\n",
    "a=[]\n",
    "for i in range(int(input()),int(input())+1):\n",
    "    if i == 1:\n",
    "        pass\n",
    "    elif i == 2:\n",
    "        a.append(2)\n",
    "    else:\n",
    "        for q in range(2,i):\n",
    "            if i%q==0:\n",
    "                break\n",
    "            elif q==i-1:\n",
    "                a.append(i)\n",
    "if a ==[]:\n",
    "    print(-1)\n",
    "else:\n",
    "    print(sum(a),min(a),sep='\\n')"
   ]
  },
  {
   "cell_type": "code",
   "execution_count": 22,
   "id": "f9e14420",
   "metadata": {},
   "outputs": [
    {
     "name": "stdout",
     "output_type": "stream",
     "text": [
      "3 16\n",
      "4\n",
      "8\n",
      "16\n"
     ]
    }
   ],
   "source": [
    "# #1929\n",
    "# a=[]\n",
    "# m,n=map(int,input().split())\n",
    "# for i in range(m,n+1):\n",
    "#     if i == 1:\n",
    "#         pass\n",
    "#     elif i == 2:\n",
    "#         a.append(2)\n",
    "#     elif i%2==0:\n",
    "#         pass\n",
    "#     else:\n",
    "#         for q in range(2,i):\n",
    "#             if i%q==0:\n",
    "#                 break\n",
    "#             elif q==i-1:\n",
    "#                 a.append(i)\n",
    "# for w in a:\n",
    "#     print(w)"
   ]
  },
  {
   "cell_type": "code",
   "execution_count": 29,
   "id": "0629c362",
   "metadata": {},
   "outputs": [
    {
     "name": "stdout",
     "output_type": "stream",
     "text": [
      "3 16\n",
      "3\n",
      "5\n",
      "7\n",
      "11\n",
      "13\n"
     ]
    }
   ],
   "source": [
    "# a=[2,3,5,7,11,13,17,19]\n",
    "# m,n=map(int,input().split())\n",
    "\n",
    "# if n>19:\n",
    "#     for i in range(20,n+1):\n",
    "#         for q in a:\n",
    "#             if q==a[-1]:\n",
    "#                 if i%q!=0:\n",
    "#                     a.append(i)\n",
    "#             if i%q==0:\n",
    "#                 break\n",
    "\n",
    "# for w in filter(lambda x:x<=n and x>=m,a):\n",
    "#     print(w)\n",
    "                \n",
    "                    "
   ]
  },
  {
   "cell_type": "code",
   "execution_count": 56,
   "id": "c95d4d27",
   "metadata": {
    "scrolled": true
   },
   "outputs": [
    {
     "name": "stdout",
     "output_type": "stream",
     "text": [
      "140 150\n",
      "149\n"
     ]
    }
   ],
   "source": [
    "import math\n",
    "def prnum(x):\n",
    "    for i in range(2,int(math.sqrt(x))+1):\n",
    "        if x%i == 0:\n",
    "            return False\n",
    "    print(x)\n",
    "\n",
    "m,n=map(int,input().split())\n",
    "\n",
    "for w in range(m,n+1):\n",
    "    if w == 1:\n",
    "        pass\n",
    "    else:\n",
    "        prnum(w)"
   ]
  },
  {
   "cell_type": "code",
   "execution_count": 16,
   "id": "f2948bb6",
   "metadata": {},
   "outputs": [
    {
     "name": "stdout",
     "output_type": "stream",
     "text": [
      "10\n",
      "4\n",
      "0\n"
     ]
    }
   ],
   "source": [
    "#4948\n",
    "def prnum(x):\n",
    "    for i in range(2,int(x**(0.5))+1):\n",
    "        if x%i == 0:\n",
    "            return False\n",
    "    global cnt\n",
    "    cnt+=1\n",
    "\n",
    "\n",
    "while True:\n",
    "    cnt=0\n",
    "    m = int(input())\n",
    "    if m==0:\n",
    "        break\n",
    "    else:\n",
    "        for w in range(m+1,2*m+1):\n",
    "            if w == 1:\n",
    "                pass\n",
    "            else:\n",
    "                prnum(w)\n",
    "        print(cnt)\n",
    "# 시간초과 pypy제출"
   ]
  },
  {
   "cell_type": "code",
   "execution_count": 18,
   "id": "7dfe511d",
   "metadata": {},
   "outputs": [
    {
     "name": "stdout",
     "output_type": "stream",
     "text": [
      "3\n",
      "8\n",
      "3 5\n",
      "10\n",
      "5 5\n",
      "16\n",
      "5 11\n"
     ]
    }
   ],
   "source": [
    "# 9020\n",
    "def prnum(x):\n",
    "    for i in range(2,int(x**(0.5))+1):\n",
    "        if x%i == 0:\n",
    "            return False\n",
    "    return True\n",
    "\n",
    "for q in range(int(input())):\n",
    "    n = int(input())\n",
    "    for i in range(n//2):\n",
    "        if prnum(n//2-i) and prnum(n//2+i):\n",
    "            print(f'{n//2-i} {n//2+i}')\n",
    "            break\n",
    "\n"
   ]
  },
  {
   "cell_type": "code",
   "execution_count": 20,
   "id": "1e7dfa6b",
   "metadata": {},
   "outputs": [
    {
     "name": "stdout",
     "output_type": "stream",
     "text": [
      "0\n",
      "1\n"
     ]
    }
   ],
   "source": [
    "#10872\n",
    "def fac(x):\n",
    "    if x==0 or x==1:\n",
    "        return 1\n",
    "    else:\n",
    "        return fac(x-1) * x\n",
    "    \n",
    "print(fac(int(input())))"
   ]
  },
  {
   "cell_type": "code",
   "execution_count": 22,
   "id": "5aa43fa3",
   "metadata": {},
   "outputs": [
    {
     "name": "stdout",
     "output_type": "stream",
     "text": [
      "11\n",
      "89\n"
     ]
    }
   ],
   "source": [
    "#10870\n",
    "def fibo(x):\n",
    "    if x==0:\n",
    "        return 0\n",
    "    elif x==1:\n",
    "        return 1\n",
    "    else:\n",
    "        return fibo(x-1) + fibo(x-2)\n",
    "\n",
    "print(fibo(int(input())))"
   ]
  },
  {
   "cell_type": "code",
   "execution_count": 23,
   "id": "56944464",
   "metadata": {
    "scrolled": true
   },
   "outputs": [
    {
     "name": "stdout",
     "output_type": "stream",
     "text": [
      "2\n",
      "어느 한 컴퓨터공학과 학생이 유명한 교수님을 찾아가 물었다.\n",
      "\"재귀함수가 뭔가요?\"\n",
      "\"잘 들어보게. 옛날옛날 한 산 꼭대기에 이세상 모든 지식을 통달한 선인이 있었어.\n",
      "마을 사람들은 모두 그 선인에게 수많은 질문을 했고, 모두 지혜롭게 대답해 주었지.\n",
      "그의 답은 대부분 옳았다고 하네. 그런데 어느 날, 그 선인에게 한 선비가 찾아와서 물었어.\"\n",
      "____\"재귀함수가 뭔가요?\"\n",
      "____\"잘 들어보게. 옛날옛날 한 산 꼭대기에 이세상 모든 지식을 통달한 선인이 있었어.\n",
      "____마을 사람들은 모두 그 선인에게 수많은 질문을 했고, 모두 지혜롭게 대답해 주었지.\n",
      "____그의 답은 대부분 옳았다고 하네. 그런데 어느 날, 그 선인에게 한 선비가 찾아와서 물었어.\"\n",
      "________\"재귀함수가 뭔가요?\"\n",
      "________\"재귀함수는 자기 자신을 호출하는 함수라네\"\n",
      "________라고 답변하였지.\n",
      "____라고 답변하였지.\n",
      "라고 답변하였지.\n"
     ]
    }
   ],
   "source": [
    "#17478\n",
    "def fun(x):\n",
    "    print('{}\"재귀함수가 뭔가요?\"'.format((a-x)*4*'_'))\n",
    "    if x==0:\n",
    "        print('{}\"재귀함수는 자기 자신을 호출하는 함수라네\"'.format((a-x)*4*'_'))\n",
    "    else:\n",
    "        print('{}\"잘 들어보게. 옛날옛날 한 산 꼭대기에 이세상 모든 지식을 통달한 선인이 있었어.'.format((a-x)*4*'_'))\n",
    "        print('{}마을 사람들은 모두 그 선인에게 수많은 질문을 했고, 모두 지혜롭게 대답해 주었지.'.format((a-x)*4*'_'))\n",
    "        print('{}그의 답은 대부분 옳았다고 하네. 그런데 어느 날, 그 선인에게 한 선비가 찾아와서 물었어.\"'.format((a-x)*4*'_'))\n",
    "        fun(x-1)\n",
    "    print('{}라고 답변하였지.'.format((a-x)*4*'_'))\n",
    "a= int(input())\n",
    "print('어느 한 컴퓨터공학과 학생이 유명한 교수님을 찾아가 물었다.')\n",
    "fun(a)"
   ]
  },
  {
   "cell_type": "code",
   "execution_count": 65,
   "id": "1683f03d",
   "metadata": {
    "scrolled": false
   },
   "outputs": [
    {
     "name": "stdout",
     "output_type": "stream",
     "text": [
      "3\n",
      "***\n",
      "* *\n",
      "***\n"
     ]
    }
   ],
   "source": [
    "#2447 미완\n",
    "def fun(x):\n",
    "    if x==1:\n",
    "        return '*'\n",
    "    elif x==-1:\n",
    "        return ' '\n",
    "    else:\n",
    "        return f'{fun(x//3)}{fun(x//3)}{fun(x//3)}''\\n'\\\n",
    "    f'{fun(x//3)}{fun(-1)}{fun(x//3)}''\\n'\\\n",
    "    f'{fun(x//3)}{fun(x//3)}{fun(x//3)}'\n",
    "print(fun(int(input())))"
   ]
  },
  {
   "cell_type": "code",
   "execution_count": 73,
   "id": "ab852e80",
   "metadata": {},
   "outputs": [
    {
     "name": "stdout",
     "output_type": "stream",
     "text": [
      "9\n",
      "***\n",
      "* *\n",
      "***\n",
      "***\n",
      "* *\n",
      "***\n",
      "***\n",
      "* *\n",
      "***\n",
      "\n",
      "***\n",
      "* *\n",
      "***\n",
      "            ***\n",
      "* *\n",
      "***\n",
      "\n",
      "***\n",
      "* *\n",
      "***\n",
      "***\n",
      "* *\n",
      "***\n",
      "***\n",
      "* *\n",
      "***\n",
      "\n",
      "\n"
     ]
    }
   ],
   "source": [
    "def fun(x):\n",
    "    if x==1:\n",
    "        return '*'\n",
    "   *** else:\n",
    "        return f'{fun(x//3)*3}''\\n'f'{fun(x//3)+(\" \"*len(fun(x//3)))+fun(x//3)}''\\n'f'{fun(x//3)*3}''\\n'\n",
    "print(fun(int(input())))"
   ]
  },
  {
   "cell_type": "code",
   "execution_count": 10,
   "id": "c1334435",
   "metadata": {
    "scrolled": true
   },
   "outputs": [
    {
     "data": {
      "text/plain": [
       "[['*', '*', '*', ['*', '*', '*']],\n",
       " ['*', ' ', '*'],\n",
       " ['*', '*', '*'],\n",
       " ['*', '*', '*', ['*', '*', '*']],\n",
       " ['*', ' ', '*'],\n",
       " ['*', '*', '*']]"
      ]
     },
     "execution_count": 10,
     "metadata": {},
     "output_type": "execute_result"
    }
   ],
   "source": [
    "a = [['*','*','*'],['*',' ','*'],['*','*','*']]\n",
    "a=a+a\n",
    "a[0].append(a[0][0:3])\n",
    "a"
   ]
  },
  {
   "cell_type": "code",
   "execution_count": 5,
   "id": "1e92c08b",
   "metadata": {},
   "outputs": [
    {
     "name": "stdout",
     "output_type": "stream",
     "text": [
      "4\n",
      "15\n",
      "1 2\n",
      "1 3\n",
      "2 3\n",
      "1 2\n",
      "3 1\n",
      "3 2\n",
      "1 2\n",
      "1 3\n",
      "2 3\n",
      "2 1\n",
      "3 1\n",
      "2 3\n",
      "1 2\n",
      "1 3\n",
      "2 3\n"
     ]
    }
   ],
   "source": [
    "#11729\n",
    "def hanoi(k,a,b,c):\n",
    "    if k ==1:\n",
    "        print(f'{a} {c}')\n",
    "    else:\n",
    "        hanoi(k-1,a,c,b)\n",
    "        print(f'{a} {c}')\n",
    "        hanoi(k-1,b,a,c)\n",
    "k=int(input())\n",
    "print(2**k-1)\n",
    "hanoi(k,1,2,3)\n",
    "    "
   ]
  },
  {
   "cell_type": "code",
   "execution_count": 18,
   "id": "1a9f9505",
   "metadata": {
    "scrolled": true
   },
   "outputs": [
    {
     "name": "stdout",
     "output_type": "stream",
     "text": [
      "10 500\n",
      "93 181 245 214 315 36 185 138 216 295\n",
      "497\n"
     ]
    }
   ],
   "source": [
    "#2798\n",
    "n,m=map(int,input().split())\n",
    "a = input().split()\n",
    "q=0\n",
    "w=1\n",
    "e=2\n",
    "max_n=0\n",
    "i=int\n",
    "while True:\n",
    "    if q==n-3 and w==n-2 and e==n-1:\n",
    "        if max_n<i(a[q])+i(a[w])+i(a[e]) and i(a[q])+i(a[w])+i(a[e])<=m:\n",
    "            max_n=i(a[q])+i(a[w])+i(a[e])\n",
    "        break\n",
    "    elif e==n-1:\n",
    "        if max_n<i(a[q])+i(a[w])+i(a[e]) and i(a[q])+i(a[w])+i(a[e])<=m:\n",
    "            max_n=i(a[q])+i(a[w])+i(a[e])\n",
    "        if w==n-2:\n",
    "            q+=1\n",
    "            w=q+1\n",
    "            e=w+1\n",
    "        else:\n",
    "            w+=1\n",
    "            e=w+1        \n",
    "    else:\n",
    "        if max_n<i(a[q])+i(a[w])+i(a[e]) and i(a[q])+i(a[w])+i(a[e])<=m:\n",
    "            max_n=i(a[q])+i(a[w])+i(a[e])\n",
    "        e+=1\n",
    "print(max_n)"
   ]
  },
  {
   "cell_type": "code",
   "execution_count": null,
   "id": "cb5a0212",
   "metadata": {},
   "outputs": [],
   "source": [
    "itertools\n"
   ]
  },
  {
   "cell_type": "code",
   "execution_count": null,
   "id": "1c00b4e0",
   "metadata": {},
   "outputs": [],
   "source": [
    "#2231\n",
    "n = int(input())\n",
    "b=0\n",
    "for i in range(1,n):\n",
    "    i_ = sum(map(int,list(str(i))))+i\n",
    "    if i_ == n:\n",
    "        print(i)\n",
    "        b=1\n",
    "        break\n",
    "if b!=1:\n",
    "    print(0)"
   ]
  },
  {
   "cell_type": "code",
   "execution_count": null,
   "id": "c2306065",
   "metadata": {},
   "outputs": [],
   "source": [
    "sum(map(int,list(str(198))))+198\n"
   ]
  },
  {
   "cell_type": "code",
   "execution_count": 29,
   "id": "78f2ba19",
   "metadata": {},
   "outputs": [
    {
     "name": "stdout",
     "output_type": "stream",
     "text": [
      "5\n",
      "55 185\n",
      "58 183\n",
      "88 186\n",
      "60 175\n",
      "46 155\n",
      "2 2 1 2 5 \n"
     ]
    }
   ],
   "source": [
    "#7568\n",
    "a=[]\n",
    "b=[]\n",
    "c=int\n",
    "d=\"\"\n",
    "n=c(input())\n",
    "for i in range(n):\n",
    "    a.append(input().split())\n",
    "\n",
    "for i in range(n):\n",
    "    cnt=1\n",
    "    for j in range(n):\n",
    "        if c(a[i][0]) < c(a[j][0]) and c(a[i][1]) < c(a[j][1]):\n",
    "            cnt+=1\n",
    "    b.append(cnt)\n",
    "for i in range(n):\n",
    "    d+=f'{b[i]} '\n",
    "print(d)\n"
   ]
  },
  {
   "cell_type": "code",
   "execution_count": 28,
   "id": "65c13606",
   "metadata": {},
   "outputs": [
    {
     "name": "stdout",
     "output_type": "stream",
     "text": [
      "1 2 3\n",
      "1\n"
     ]
    }
   ],
   "source": [
    "a = input().split()\n",
    "print(a[0])"
   ]
  },
  {
   "cell_type": "code",
   "execution_count": null,
   "id": "1f57dc41",
   "metadata": {},
   "outputs": [],
   "source": [
    "a,b = map(int,input().split())\n"
   ]
  },
  {
   "cell_type": "code",
   "execution_count": null,
   "id": "a5b9ca6f",
   "metadata": {},
   "outputs": [],
   "source": [
    "n = int(input())\n"
   ]
  },
  {
   "cell_type": "code",
   "execution_count": 1,
   "id": "c7cdd265",
   "metadata": {},
   "outputs": [
    {
     "name": "stdout",
     "output_type": "stream",
     "text": [
      "5\n",
      "5\n",
      "2\n",
      "3\n",
      "4\n",
      "1\n",
      "1\n",
      "2\n",
      "3\n",
      "4\n",
      "5\n"
     ]
    }
   ],
   "source": [
    "#2750\n",
    "a=[]\n",
    "for i in range(int(input())):\n",
    "    a.append(int(input()))\n",
    "    a.sort()\n",
    "for i in a:\n",
    "    print(i)\n"
   ]
  },
  {
   "cell_type": "code",
   "execution_count": 1,
   "id": "7c69ce94",
   "metadata": {},
   "outputs": [
    {
     "name": "stdout",
     "output_type": "stream",
     "text": [
      "5\n",
      "5\n",
      "4\n",
      "3\n",
      "2\n",
      "1\n",
      "1\n",
      "2\n",
      "3\n",
      "4\n",
      "5\n"
     ]
    }
   ],
   "source": [
    "#2751\n",
    "a=[]\n",
    "for i in range(int(input())):\n",
    "    a.append(int(input()))\n",
    "a.sort()\n",
    "for i in a:\n",
    "    print(i)"
   ]
  },
  {
   "cell_type": "code",
   "execution_count": 48,
   "id": "59ad7e94",
   "metadata": {
    "scrolled": true
   },
   "outputs": [
    {
     "name": "stdout",
     "output_type": "stream",
     "text": [
      "8 8\n",
      "WBWBWBWB\n",
      "BWBWBWBW\n",
      "WBWBWBWB\n",
      "BWBBBWBW\n",
      "WBWBWBWB\n",
      "BWBWBWBW\n",
      "WBWBWBWB\n",
      "BWBWBWBW\n",
      "64\n"
     ]
    }
   ],
   "source": [
    "# 1018 미완\n",
    "m,n=map(int,input().split())\n",
    "a=[]\n",
    "min_ = 64\n",
    "for i in range(m):\n",
    "    a.append(list(input()))\n",
    "for m_ in range(m-8):\n",
    "    for n_ in range(n-8):\n",
    "        cnt=0\n",
    "        for q in range(8):\n",
    "            for w in [['W','B','W','B',\n",
    "                       'W','B','W','B'],\n",
    "                      ['B','W','B','W',\n",
    "                       'B','W','B','W']]:\n",
    "                for idx,i in enumerate(w):\n",
    "                    print(i,a[q+m_][idx+n_])\n",
    "                    if a[q+m_][idx+n_] != i:\n",
    "                        cnt+=1\n",
    "        print(min_,cnt)\n",
    "        if min_>cnt:\n",
    "            min_=cnt\n",
    "print(min_)\n",
    "            "
   ]
  },
  {
   "cell_type": "code",
   "execution_count": 30,
   "id": "8a4837d6",
   "metadata": {},
   "outputs": [
    {
     "name": "stdout",
     "output_type": "stream",
     "text": [
      "2\n",
      "1666\n"
     ]
    }
   ],
   "source": [
    "# 1436\n",
    "cnt=0\n",
    "a=[]\n",
    "n=int(input())\n",
    "for i in range(3000000):\n",
    "    if '666' in f'{i}':\n",
    "        cnt+=1\n",
    "        if cnt==n:\n",
    "            print(i)\n",
    "            break\n",
    "            \n",
    "\n"
   ]
  },
  {
   "cell_type": "code",
   "execution_count": 2,
   "id": "6335290d",
   "metadata": {},
   "outputs": [
    {
     "name": "stdout",
     "output_type": "stream",
     "text": [
      "5\n",
      "1\n",
      "2\n",
      "3\n",
      "4\n",
      "5\n",
      "1\n",
      "2\n",
      "3\n",
      "4\n",
      "5\n"
     ]
    }
   ],
   "source": [
    "#10989\n",
    "import sys\n",
    "input = sys.stdin.readline\n",
    "n=int(input())\n",
    "a=[0]*10001\n",
    "for _ in range(n):\n",
    "    a[int(input())]+=1\n",
    "\n",
    "for i in range(10001):\n",
    "    if a[i]!=0:\n",
    "        for q in range(a[i]):\n",
    "            print(i)"
   ]
  },
  {
   "cell_type": "code",
   "execution_count": 5,
   "id": "67ca5d16",
   "metadata": {},
   "outputs": [
    {
     "name": "stdout",
     "output_type": "stream",
     "text": [
      "3\n",
      "0\n",
      "0\n",
      "-1\n",
      "0\n",
      "0\n",
      "0\n",
      "1\n"
     ]
    }
   ],
   "source": [
    "# 2108\n",
    "import sys\n",
    "# input = sys.stdin.readline\n",
    "lst=[]\n",
    "n = int(input())\n",
    "for _ in range(n):\n",
    "    lst.append(int(input()))\n",
    "lst.sort()\n",
    "print(round(sum(lst)/n))\n",
    "print(lst[n//2])\n",
    "max_n=0\n",
    "cnt=0\n",
    "mn=0.5\n",
    "for i in range(n):\n",
    "    c=lst[i]\n",
    "    if mn == c:\n",
    "        continue\n",
    "    if lst.count(c)>max_n:\n",
    "        max_n=lst.count(c)\n",
    "        mn = c\n",
    "        cnt=0\n",
    "    elif lst.count(c)==max_n and cnt<1:\n",
    "        max_n=lst.count(c)\n",
    "        mn = c\n",
    "        cnt+=1\n",
    "print(mn)\n",
    "print(lst[-1]-lst[0])"
   ]
  },
  {
   "cell_type": "code",
   "execution_count": 21,
   "id": "8e15e8f2",
   "metadata": {},
   "outputs": [
    {
     "name": "stdout",
     "output_type": "stream",
     "text": [
      "1\n",
      "4000\n",
      "4000\n",
      "4000\n",
      "4000\n",
      "0\n"
     ]
    }
   ],
   "source": [
    "# 2108\n",
    "import sys\n",
    "# input = sys.stdin.readline\n",
    "lst=[]\n",
    "n = int(input())\n",
    "for _ in range(n):\n",
    "    lst.append(int(input()))\n",
    "lst.sort()\n",
    "print(round(sum(lst)/n))\n",
    "print(lst[n//2])\n",
    "\n",
    "dic={}\n",
    "cnt=1\n",
    "m_cnt=1\n",
    "for i in range(1,n+1):\n",
    "    dic[i]=[]\n",
    "for i in range(1,n):\n",
    "    if lst[i-1]==lst[i]:\n",
    "        cnt+=1\n",
    "    else:\n",
    "        dic[cnt].append(lst[i-1])\n",
    "        if cnt>m_cnt:\n",
    "            m_cnt=cnt\n",
    "        cnt=1\n",
    "    if i==n-1:\n",
    "        dic[cnt].append(lst[i-1])\n",
    "        if cnt>m_cnt:\n",
    "            m_cnt=cnt\n",
    "        cnt=1\n",
    "if n==1:\n",
    "    dic[1].append(lst[0])\n",
    "if len(dic[m_cnt])>=2:\n",
    "    print(dic[m_cnt][1])\n",
    "else:\n",
    "    print(dic[m_cnt][0])\n",
    "print(lst[-1]-lst[0])"
   ]
  },
  {
   "cell_type": "code",
   "execution_count": 34,
   "id": "1c0cf1f1",
   "metadata": {},
   "outputs": [
    {
     "name": "stdout",
     "output_type": "stream",
     "text": [
      "135\n",
      "531\n"
     ]
    }
   ],
   "source": [
    "#1427\n",
    "# import sys\n",
    "# n = sys.stdin.readline()\n",
    "a=list(map(int,list(input())))\n",
    "a.sort(reverse=True)\n",
    "s=''\n",
    "for i in a:\n",
    "    s+=str(i)\n",
    "print(int(s))\n",
    "\n"
   ]
  },
  {
   "cell_type": "code",
   "execution_count": 20,
   "id": "af158cc9",
   "metadata": {},
   "outputs": [
    {
     "name": "stdout",
     "output_type": "stream",
     "text": [
      "6\n",
      "3 4\n",
      "3 3\n",
      "2 3\n",
      "2 2\n",
      "1 2\n",
      "1 1\n",
      "1 1\n",
      "1 2\n",
      "2 2\n",
      "2 3\n",
      "3 3\n",
      "3 4\n"
     ]
    }
   ],
   "source": [
    "# 11650\n",
    "import sys\n",
    "# input = sys.stdin.readline\n",
    "dic={}\n",
    "lst1=[]\n",
    "lst2=[]\n",
    "n=int(input())\n",
    "for i in range(n):\n",
    "    b,c=map(int,input().split())\n",
    "    lst1.append(b)\n",
    "    lst2.append(c)\n",
    "    dic[b]=[]\n",
    "for i in range(n):\n",
    "    dic[lst1[i]].append(lst2[i])\n",
    "lst1.sort()\n",
    "d=0.5\n",
    "for i in lst1:\n",
    "    if d==i:\n",
    "        continue\n",
    "    else:\n",
    "        dic[i].sort()\n",
    "        for q in range(len(dic[i])):\n",
    "            print(i,dic[i][q])\n",
    "        d=i\n",
    "    "
   ]
  },
  {
   "cell_type": "code",
   "execution_count": 3,
   "id": "5434673d",
   "metadata": {},
   "outputs": [
    {
     "name": "stdout",
     "output_type": "stream",
     "text": [
      "5\n",
      "0 4\n",
      "1 2\n",
      "1 -1\n",
      "2 2\n",
      "3 3\n",
      "1 -1\n",
      "1 2\n",
      "2 2\n",
      "3 3\n",
      "0 4\n"
     ]
    }
   ],
   "source": [
    "#11651\n",
    "import sys\n",
    "# input = sys.stdin.readline\n",
    "dic={}\n",
    "lst1=[]\n",
    "lst2=[]\n",
    "n=int(input())\n",
    "for i in range(n):\n",
    "    b,c=map(int,input().split())\n",
    "    lst1.append(c)\n",
    "    lst2.append(b)\n",
    "    dic[c]=[]\n",
    "for i in range(n):\n",
    "    dic[lst1[i]].append(lst2[i])\n",
    "lst1.sort()\n",
    "d=0.5\n",
    "for i in lst1:\n",
    "    if d==i:\n",
    "        continue\n",
    "    else:\n",
    "        dic[i].sort()\n",
    "        for q in range(len(dic[i])):\n",
    "            print(dic[i][q],i)\n",
    "        d=i"
   ]
  },
  {
   "cell_type": "code",
   "execution_count": 14,
   "id": "931c20eb",
   "metadata": {},
   "outputs": [
    {
     "name": "stdout",
     "output_type": "stream",
     "text": [
      "13\n",
      "but\n",
      "i\n",
      "wont\n",
      "hesitate\n",
      "no\n",
      "more\n",
      "no\n",
      "more\n",
      "it\n",
      "cannot\n",
      "wait\n",
      "im\n",
      "yours\n",
      "i\n",
      "im\n",
      "it\n",
      "no\n",
      "but\n",
      "more\n",
      "wait\n",
      "wont\n",
      "yours\n",
      "cannot\n",
      "hesitate\n"
     ]
    }
   ],
   "source": [
    "#1181\n",
    "# import sys\n",
    "# input=sys.stdin.readline\n",
    "n = int(input())\n",
    "dic={}\n",
    "lst1=[]\n",
    "lst2=[]\n",
    "\n",
    "for i in range(n):\n",
    "    b=input()\n",
    "    lst1.append(len(b))\n",
    "    lst2.append(b)\n",
    "    dic[len(b)]=[]\n",
    "for i in range(n):\n",
    "    dic[lst1[i]].append(lst2[i])\n",
    "lst1.sort()\n",
    "d=0.5\n",
    "e=''\n",
    "for i in lst1:\n",
    "    if d==i:\n",
    "        continue\n",
    "    else:\n",
    "        dic[i].sort()\n",
    "        for q in range(len(dic[i])):\n",
    "            if e==dic[i][q]:\n",
    "                continue\n",
    "            else:\n",
    "                print(dic[i][q])\n",
    "                e = dic[i][q]\n",
    "        d=i"
   ]
  },
  {
   "cell_type": "code",
   "execution_count": 3,
   "id": "908b8b27",
   "metadata": {},
   "outputs": [
    {
     "name": "stdout",
     "output_type": "stream",
     "text": [
      "3\n",
      "21 Junkyu\n",
      "21 Dohyun\n",
      "20 Sunyoung\n",
      "20 Sunyoung\n",
      "21 Junkyu\n",
      "21 Dohyun\n"
     ]
    }
   ],
   "source": [
    "import sys\n",
    "# input = sys.stdin.readline\n",
    "n=int(input())\n",
    "lst1=[]\n",
    "lst2=[]\n",
    "dic={}\n",
    "for i in range(n):\n",
    "    a,b = input().split()\n",
    "    lst1.append(int(a))\n",
    "    lst2.append(b)\n",
    "    dic[int(a)]=[]\n",
    "for i in range(n):\n",
    "    dic[lst1[i]].append(lst2[i])\n",
    "lst1.sort()\n",
    "d=0\n",
    "for i in lst1:\n",
    "    if d==i:\n",
    "        continue\n",
    "    else:\n",
    "        for q in range(len(dic[i])):\n",
    "            print(i,dic[i][q])\n",
    "        d=i"
   ]
  },
  {
   "cell_type": "code",
   "execution_count": 52,
   "id": "4f10eed5",
   "metadata": {
    "scrolled": true
   },
   "outputs": [
    {
     "name": "stdout",
     "output_type": "stream",
     "text": [
      "5\n",
      "2 4 -10 4 -9\n",
      "2 3 0 3 1\n"
     ]
    }
   ],
   "source": [
    "# 18870\n",
    "import sys\n",
    "# input = sys.stdin.readline\n",
    "n=int(input())\n",
    "a=list(map(int,input().split()))\n",
    "b=a.copy()\n",
    "a.sort()\n",
    "dic={}\n",
    "cnt=0\n",
    "for i in a:\n",
    "    if i in dic:\n",
    "        continue\n",
    "    else:\n",
    "        dic[i]=cnt\n",
    "        cnt+=1\n",
    "c=\"\"\n",
    "for i in b:\n",
    "    c+=f' {dic[i]}'\n",
    "print(c.strip())\n"
   ]
  },
  {
   "cell_type": "code",
   "execution_count": 2,
   "id": "4e9c5253",
   "metadata": {},
   "outputs": [
    {
     "name": "stdout",
     "output_type": "stream",
     "text": [
      "5\n",
      "6 3 2 10 -10\n",
      "8\n",
      "10 9 -5 2 3 4 5 -10\n",
      "1 0 0 1 1 0 0 1\n"
     ]
    }
   ],
   "source": [
    "#10815\n",
    "import sys\n",
    "# input = sys.stdin.readline\n",
    "input()\n",
    "set_1 = set(input().split())\n",
    "input()\n",
    "lst_1 = input().split()\n",
    "c=\"\"\n",
    "for i in lst_1:\n",
    "    if i in set_1:\n",
    "        c+='1 '\n",
    "    else:\n",
    "        c+='0 '\n",
    "print(c.strip())\n",
    "\n",
    "# set 중복 순서 없음 교집합 차집합 등 유용사용"
   ]
  },
  {
   "cell_type": "code",
   "execution_count": 4,
   "id": "db124c2f",
   "metadata": {},
   "outputs": [
    {
     "name": "stdout",
     "output_type": "stream",
     "text": [
      "5 11\n",
      "baekjoononlinejudge\n",
      "startlink\n",
      "codeplus\n",
      "sundaycoding\n",
      "baekjoon\n",
      "codeplus\n",
      "codeminus\n",
      "startlink\n",
      "starlink\n",
      "sundaycoding\n",
      "codingsh\n",
      "codinghs\n",
      "sondaycoding\n",
      "startrink\n",
      "icerink\n",
      "asd\n",
      "3\n"
     ]
    }
   ],
   "source": [
    "#14425\n",
    "import sys\n",
    "# input = sys.stdin.readline\n",
    "set_= set()\n",
    "n,m = map(int,input().split())\n",
    "\n",
    "for i in range(n):\n",
    "    set_.add(input())\n",
    "    \n",
    "a= []\n",
    "for i in range(m):\n",
    "    a.append(input())\n",
    "\n",
    "cnt=0\n",
    "for i in a:\n",
    "    if i in set_:\n",
    "        cnt+=1\n",
    "print(cnt)"
   ]
  },
  {
   "cell_type": "code",
   "execution_count": 4,
   "id": "98619e7a",
   "metadata": {},
   "outputs": [
    {
     "name": "stdout",
     "output_type": "stream",
     "text": [
      "5 3\n",
      "Pikachu\n",
      "Raichu\n",
      "Metapod\n",
      "asd asd\n",
      "asd\n",
      "Metapod\n",
      "3\n",
      "Pikachu\n",
      "1\n",
      "2\n",
      "Raichu\n"
     ]
    }
   ],
   "source": [
    "#1620\n",
    "import sys\n",
    "input = sys.stdin.readline\n",
    "dica={}\n",
    "dicn={}\n",
    "n,m=map(int,input().split())\n",
    "\n",
    "for i in range(n):\n",
    "    name=input().strip()\n",
    "    dica[name]=f'{i+1}'\n",
    "    dicn[f'{i+1}']=name\n",
    "\n",
    "for i in range(m):\n",
    "    a=input().strip()\n",
    "    if a.isdecimal():\n",
    "        print(dicn[a])\n",
    "    else:\n",
    "        print(dica[a])"
   ]
  },
  {
   "cell_type": "code",
   "execution_count": 8,
   "id": "6f364e0b",
   "metadata": {},
   "outputs": [
    {
     "name": "stdout",
     "output_type": "stream",
     "text": [
      "10\n",
      "6 3 2 10 10 10 -10 -10 7 3\n",
      "8\n",
      "10 9 -5 2 3 4 5 -10\n",
      "3 0 0 1 2 0 0 2 \n"
     ]
    }
   ],
   "source": [
    "#10816\n",
    "import sys\n",
    "# input = sys.stdin.readline\n",
    "n=int(input())\n",
    "lst1=list(input().split())\n",
    "dic={}\n",
    "for i in lst1:\n",
    "    dic[i]=0\n",
    "\n",
    "for i in lst1:\n",
    "    dic[i]+=1\n",
    "\n",
    "m=int(input())\n",
    "lst2=list(input().split())\n",
    "c=''\n",
    "for i in lst2:\n",
    "    try:\n",
    "        c+=f'{dic[i]} '\n",
    "    except:\n",
    "        c+='0 '\n",
    "print(c.strip())"
   ]
  },
  {
   "cell_type": "code",
   "execution_count": null,
   "id": "4831e6da",
   "metadata": {},
   "outputs": [],
   "source": [
    "import sys\n",
    "# stdin = sys.stdin.read().splitlines()\n",
    "A = map(int,stdin[1].split())\n",
    "B = map(int,stdin[3].split())\n",
    "dic = {}\n",
    "for n in A:\n",
    "    if n in dic:\n",
    "        dic[n] += 1\n",
    "    else:\n",
    "        dic[n] = 1\n",
    "print(' '.join(str(dic[n]) if n in dic else '0' for n in B))"
   ]
  },
  {
   "cell_type": "code",
   "execution_count": 16,
   "id": "3352da10",
   "metadata": {},
   "outputs": [
    {
     "name": "stdout",
     "output_type": "stream",
     "text": [
      "3 4\n",
      "qwe\n",
      "asd\n",
      "zxc\n",
      "qwe\n",
      "asd\n",
      "wer\n",
      "sdf\n",
      "2\n",
      "asd\n",
      "qwe\n"
     ]
    }
   ],
   "source": [
    "#1764\n",
    "# import sys\n",
    "# input = sys.stdin.readline\n",
    "n,m=map(int,input().split())\n",
    "a=set()\n",
    "b=set()\n",
    "for i in range(n):\n",
    "    a.add(input())\n",
    "for i in range(m):\n",
    "    b.add(input())\n",
    "    \n",
    "c=a&b\n",
    "print(len(c))\n",
    "d=[]\n",
    "for i in c:\n",
    "    d.append(i)\n",
    "d.sort()\n",
    "for i in d:\n",
    "    print(i)"
   ]
  },
  {
   "cell_type": "code",
   "execution_count": null,
   "id": "8f16c217",
   "metadata": {},
   "outputs": [],
   "source": [
    "import sys\n",
    "n, m = map(int, input().split())\n",
    "nameList = sys.stdin.read().splitlines()\n",
    "hearset = set(nameList[:n])\n",
    "seeset = set(nameList[n:])\n",
    "ret = list(hearset & seeset)\n",
    "ret.sort()\n",
    "print(len(ret))\n",
    "for i in ret:\n",
    "    print(i)"
   ]
  },
  {
   "cell_type": "code",
   "execution_count": 17,
   "id": "7aea022c",
   "metadata": {
    "scrolled": true
   },
   "outputs": [
    {
     "name": "stdout",
     "output_type": "stream",
     "text": [
      "3 5\n",
      "1 2 4\n",
      "2 3 4 5 6\n",
      "4\n"
     ]
    }
   ],
   "source": [
    "#1269\n",
    "import sys\n",
    "# input = sys.stdin.readline\n",
    "n,m=map(int,input().split())\n",
    "a=set(input().split())\n",
    "b=set(input().split())\n",
    "print(len(a-b)+len(b-a))"
   ]
  },
  {
   "cell_type": "code",
   "execution_count": 24,
   "id": "abe51ba8",
   "metadata": {},
   "outputs": [
    {
     "name": "stdout",
     "output_type": "stream",
     "text": [
      "qeeq\n",
      "8\n",
      "{'', 'qee', 'eq', 'q', 'eeq', 'ee', 'qeeq', 'qe', 'e'}\n"
     ]
    }
   ],
   "source": [
    "#11478\n",
    "import sys\n",
    "# input = sys.stdin.readline\n",
    "s=input()\n",
    "st=set()\n",
    "for i in range(len(s)):\n",
    "    for q in range(len(s)+1-i):\n",
    "        st.add(s[i:i+q])\n",
    "print(len(st)-1)\n",
    "# print(st)"
   ]
  },
  {
   "cell_type": "code",
   "execution_count": 5,
   "id": "8230c077",
   "metadata": {},
   "outputs": [
    {
     "name": "stdout",
     "output_type": "stream",
     "text": [
      "27\n",
      "***************************\n",
      "* ** ** ** ** ** ** ** ** *\n",
      "***************************\n",
      "***   ******   ******   ***\n",
      "* *   * ** *   * ** *   * *\n",
      "***   ******   ******   ***\n",
      "***************************\n",
      "* ** ** ** ** ** ** ** ** *\n",
      "***************************\n",
      "*********         *********\n",
      "* ** ** *         * ** ** *\n",
      "*********         *********\n",
      "***   ***         ***   ***\n",
      "* *   * *         * *   * *\n",
      "***   ***         ***   ***\n",
      "*********         *********\n",
      "* ** ** *         * ** ** *\n",
      "*********         *********\n",
      "***************************\n",
      "* ** ** ** ** ** ** ** ** *\n",
      "***************************\n",
      "***   ******   ******   ***\n",
      "* *   * ** *   * ** *   * *\n",
      "***   ******   ******   ***\n",
      "***************************\n",
      "* ** ** ** ** ** ** ** ** *\n",
      "***************************\n"
     ]
    }
   ],
   "source": [
    "#2447\n",
    "import sys\n",
    "def star(i,j,num):\n",
    "    global a\n",
    "    if i // num % 3 == 1 and j // num % 3 == 1:\n",
    "        a+=\" \"\n",
    "    else:\n",
    "        if num // 3 == 0:\n",
    "            a+=\"*\"\n",
    "        else:\n",
    "            star(i,j,num//3)\n",
    "\n",
    "n = int(sys.stdin.readline())\n",
    "a=\"\"\n",
    "for i in range(n):\n",
    "    for j in range(n):\n",
    "        star(i, j, n)\n",
    "    print(a)\n",
    "    a=\"\""
   ]
  },
  {
   "cell_type": "code",
   "execution_count": 26,
   "id": "a2d9084e",
   "metadata": {},
   "outputs": [
    {
     "name": "stdout",
     "output_type": "stream",
     "text": [
      "9 23\n",
      "BBBBBBBBBBBBBBBBBBBBBBB\n",
      "BBBBBBBBBBBBBBBBBBBBBBB\n",
      "BBBBBBBBBBBBBBBBBBBBBBB\n",
      "BBBBBBBBBBBBBBBBBBBBBBB\n",
      "BBBBBBBBBBBBBBBBBBBBBBB\n",
      "BBBBBBBBBBBBBBBBBBBBBBB\n",
      "BBBBBBBBBBBBBBBBBBBBBBB\n",
      "BBBBBBBBBBBBBBBBBBBBBBB\n",
      "BBBBBBBBBBBBBBBBBBBBBBW\n",
      "31\n"
     ]
    }
   ],
   "source": [
    "#1018\n",
    "n,m = map(int,input().split())\n",
    "lst = []\n",
    "num = 33\n",
    "for _ in range(n):\n",
    "    lst.append(list(input()))\n",
    "\n",
    "def min_(l,a,b):\n",
    "    g1=0\n",
    "    g2=0\n",
    "    for i in range(8):\n",
    "        for q in range(8):\n",
    "            if (i+q)%2==0:\n",
    "                if l[a+i][b+q]=='W':\n",
    "                    g1+=1\n",
    "                else:\n",
    "                    g2+=1\n",
    "            elif (i+q)%2==1:\n",
    "                if l[a+i][b+q]=='B':\n",
    "                    g1+=1\n",
    "                else:\n",
    "                    g2+=1\n",
    "    return min([g1,g2])\n",
    "\n",
    "for i in range(n-7):\n",
    "    for q in range(m-7):\n",
    "        if num>min_(lst,i,q):\n",
    "            num=min_(lst,i,q)\n",
    "\n",
    "print(num)"
   ]
  },
  {
   "cell_type": "code",
   "execution_count": 33,
   "id": "9123fa87",
   "metadata": {},
   "outputs": [
    {
     "name": "stdout",
     "output_type": "stream",
     "text": [
      "653 375 1000 1000\n",
      "375\n"
     ]
    }
   ],
   "source": [
    "#1085\n",
    "x,y,w,h=map(int,input().split())\n",
    "print(min(x,y,w-x,h-y))"
   ]
  },
  {
   "cell_type": "code",
   "execution_count": 36,
   "id": "fe206a3d",
   "metadata": {},
   "outputs": [
    {
     "name": "stdout",
     "output_type": "stream",
     "text": [
      "0 5\n",
      "5 5\n",
      "0 0\n",
      "5 0\n"
     ]
    }
   ],
   "source": [
    "#3009\n",
    "a=[]\n",
    "b=[]\n",
    "for _ in range(3):\n",
    "    x,y=input().split()\n",
    "    if x in a:\n",
    "        a.remove(x)\n",
    "    else:\n",
    "        a.append(x)\n",
    "    if y in b:\n",
    "        b.remove(y)\n",
    "    else:\n",
    "        b.append(y)\n",
    "    \n",
    "print(a[0],b[0],sep=' ')"
   ]
  },
  {
   "cell_type": "code",
   "execution_count": 50,
   "id": "a6fbaee6",
   "metadata": {
    "scrolled": true
   },
   "outputs": [
    {
     "name": "stdout",
     "output_type": "stream",
     "text": [
      "25 52 60\n",
      "wrong\n",
      "5 12 13\n",
      "right\n",
      "0 0 0\n"
     ]
    }
   ],
   "source": [
    "#4153\n",
    "lst=[]\n",
    "while True:\n",
    "    a,b,c=map(int,input().split())\n",
    "    if a==0 and b==0 and c==0: break\n",
    "    else:\n",
    "        lst=[a,b,c]\n",
    "        lst.sort()\n",
    "        if lst[0]**2+lst[1]**2==lst[2]**2:\n",
    "            print('right')\n",
    "        else:\n",
    "            print('wrong')"
   ]
  },
  {
   "cell_type": "code",
   "execution_count": null,
   "id": "8b1aa79e",
   "metadata": {},
   "outputs": [],
   "source": [
    "while True:\n",
    "    num = list(map(int,input().split()))\n",
    "    max_num = max(num)\n",
    "\n",
    "    if max_num ==0:\n",
    "        break\n",
    "    \n",
    "    num.remove(max_num)\n",
    "    if max_num**2==num[0]**2+num[1]**2:\n",
    "            print(\"right\")\n",
    "    else:\n",
    "        print(\"wrong\")"
   ]
  },
  {
   "cell_type": "code",
   "execution_count": 8,
   "id": "135f3ee8",
   "metadata": {},
   "outputs": [
    {
     "name": "stdout",
     "output_type": "stream",
     "text": [
      "1\n",
      "3 1\n",
      "1 2\n",
      "4 2\n",
      "2 1\n",
      "3 1\n",
      "2 1\n",
      "3\n"
     ]
    }
   ],
   "source": [
    "# 2477\n",
    "import sys\n",
    "# input = sys.stdin.readline\n",
    "k=int(input())\n",
    "lst=[]\n",
    "xmax=0\n",
    "ymax=0\n",
    "for _ in range(6):\n",
    "    a,b = map(int,input().strip().split())\n",
    "    lst.append([a,b])\n",
    "    if a in (3,4) and ymax < b:\n",
    "        ymax=b\n",
    "    elif a in (1,2) and xmax<b:\n",
    "        xmax=b\n",
    "\n",
    "for i in range(6):\n",
    "    if lst[i-3][0] == lst[i-1][0] and lst[i-2][0] == lst[i][0]:\n",
    "        s=lst[i-2][1]*lst[i-1][1]\n",
    "        break\n",
    "print((xmax*ymax-s)*k)"
   ]
  },
  {
   "cell_type": "code",
   "execution_count": 19,
   "id": "8e12be43",
   "metadata": {},
   "outputs": [
    {
     "name": "stdout",
     "output_type": "stream",
     "text": [
      "8 16\n",
      "factor\n",
      "32 4\n",
      "multiple\n",
      "17 5\n",
      "neither\n",
      "0 0\n"
     ]
    }
   ],
   "source": [
    "#5086\n",
    "while True:\n",
    "    a,b=map(int,input().split())\n",
    "    if (a,b)==(0,0):\n",
    "        break\n",
    "    if b/a==b//a:\n",
    "        print('factor')\n",
    "    elif a/b==a//b:\n",
    "        print('multiple')\n",
    "    else:\n",
    "        print('neither')"
   ]
  },
  {
   "cell_type": "code",
   "execution_count": 4,
   "id": "d222c297",
   "metadata": {},
   "outputs": [
    {
     "name": "stdout",
     "output_type": "stream",
     "text": [
      "14\n",
      "14 26456 2 28 13228 3307 7 23149 8 6614 46298 56 4 92596\n",
      "185192\n"
     ]
    }
   ],
   "source": [
    "#1037\n",
    "input()\n",
    "lst=list(map(int,input().split()))\n",
    "print(max(lst)*min(lst))"
   ]
  },
  {
   "cell_type": "code",
   "execution_count": 4,
   "id": "efaf5a50",
   "metadata": {},
   "outputs": [
    {
     "name": "stdout",
     "output_type": "stream",
     "text": [
      "24 12\n",
      "6\n",
      "24\n"
     ]
    }
   ],
   "source": [
    "#2609\n",
    "a,b=map(int,input().split())\n",
    "min_=[]\n",
    "max_=[]\n",
    "for i in range(1,min(a,b)+1):\n",
    "    if a%i==0 and b%i==0:\n",
    "        min_.append(i)\n",
    "for i in range(min(a,b),a*b+1,min(a,b)):\n",
    "    if i%a==0 and i%b==0:\n",
    "        max_.append(i)\n",
    "print(max(min_),min(max_),sep='\\n')"
   ]
  },
  {
   "cell_type": "code",
   "execution_count": 5,
   "id": "5cb799f8",
   "metadata": {},
   "outputs": [
    {
     "name": "stdout",
     "output_type": "stream",
     "text": [
      "24 18\n",
      "6 72\n"
     ]
    }
   ],
   "source": [
    "a,b=map(int,input().split())\n",
    "L=a*b\n",
    "while b:\n",
    "    a,b=b,a%b\n",
    "print(a,L//a)"
   ]
  },
  {
   "cell_type": "code",
   "execution_count": 11,
   "id": "84e69b53",
   "metadata": {
    "scrolled": true
   },
   "outputs": [
    {
     "name": "stdout",
     "output_type": "stream",
     "text": [
      "1\n",
      "3.141593 2.000000\n"
     ]
    }
   ],
   "source": [
    "#3053\n",
    "import math\n",
    "R=int(input())\n",
    "print('%.6f %.6f'%(R**2*(math.pi),R*R*2))"
   ]
  },
  {
   "cell_type": "code",
   "execution_count": null,
   "id": "24829155",
   "metadata": {},
   "outputs": [],
   "source": [
    "가능한 경우는 다음 6가지입니다.\n",
    "두 원이 일치할 때, 답은 -1\n",
    "두 원이 외접할 때, 답은 1\n",
    "두 원이 내접할 때, 답은 1\n",
    "두 원이 서로 떨어져 있고 만나지 않을 때, 답은 0\n",
    "한 원이 다른 원의 내부에 있고 두 원이 만나지 않을 때, 답은 0. 꼭 두 원의 중심이 같을 필요는 없습니다!\n",
    "나머지 경우, 답은 2\n",
    "6가지 경우를 모두 넣으셨으면, 반드시 각각의 경우가 모두 잘 나오는지 직접 테스트를 해 봅시다.\n",
    "두 중심 사이 거리를 R이라고 할 때, 무턱대고 R == r1 + r2인지 검사하는 것은 매우 위험합니다. 세상의 모든 실수를 정확하게 저장하는 건 불가능하기 때문에, 컴퓨터는 약간의 오차가 생기는 방식으로 실수를 저장합니다. 예를 들어 0.1을 저장하는 것만으로 이미 10-18 정도의 오차가 발생합니다. 그런데 ==은 값이 조금이라도 다르면 거짓이기 때문에, R == r1 + r2가 실제로 성립하는 일은 많지 않습니다. 마찬가지로 r1, r2 등을 float, double 등의 자료형으로 저장하면 위험합니다.\n",
    "R을 int 단위로 버림한 다음에 R == r1 + r2인지 검사해도 안 됩니다. 버림하는 순간 더 이상 거리가 아닙니다.\n",
    "R2 == r12 + r22인지 검사해도 안 됩니다. 그 식이랑 R == r1 + r2는 매우 다른 식입니다.\n",
    "R을 계산한 다음에 거기에 R을 곱해서 R2을 만들어도 안 됩니다. R을 계산한 순간 이미 오차가 생겼기 때문에 R2에도 오차가 생깁니다. 다행히도 R2을 오차 없이 계산하는 방법이 존재합니다. 힌트는 여기까지 드리겠습니다.\n"
   ]
  },
  {
   "cell_type": "code",
   "execution_count": 12,
   "id": "a92c0bff",
   "metadata": {},
   "outputs": [
    {
     "name": "stdout",
     "output_type": "stream",
     "text": [
      "3\n",
      "0 0 13 40 0 37\n",
      "2\n",
      "0 0 3 0 7 4\n",
      "1\n",
      "1 1 1 1 1 5\n",
      "0\n"
     ]
    }
   ],
   "source": [
    "#1002\n",
    "n=int(input())\n",
    "for _ in range(n):\n",
    "    x1,y1,r1,x2,y2,r2=map(int,input().split())\n",
    "    l=((x2-x1)**2+(y2-y1)**2)**(0.5)\n",
    "    if x1==x2 and y1==y2 and r1==r2:\n",
    "        print(-1)\n",
    "    elif l==r1+r2 or l+r2==r1 or l+r1==r2:\n",
    "        print(1)\n",
    "    elif l>r1+r2:\n",
    "        print(0)\n",
    "    elif r2>l+r1 or r1>l+r2:\n",
    "        print(0)\n",
    "    else:\n",
    "        print(2)"
   ]
  },
  {
   "cell_type": "code",
   "execution_count": 13,
   "id": "9c09e760",
   "metadata": {},
   "outputs": [
    {
     "name": "stdout",
     "output_type": "stream",
     "text": [
      "3\n",
      "0 0 13 40 0 37\n",
      "2\n",
      "0 0 3 0 7 4\n",
      "1\n",
      "1 1 1 1 1 5\n",
      "0\n"
     ]
    }
   ],
   "source": [
    "for i in range(int(input())):\n",
    "    a,b,c,d,e,f=map(int,input().split())\n",
    "    r=((a-d)**2+(b-e)**2)**.5\n",
    "    s=sorted([c,f,r])\n",
    "    z=s[1]+s[0]-s[2]\n",
    "    if z==0:\n",
    "        print(2*(r>0)-1)  \n",
    "    else:\n",
    "        print(2*(z>0))"
   ]
  },
  {
   "cell_type": "code",
   "execution_count": 8,
   "id": "c4705bf7",
   "metadata": {
    "scrolled": true
   },
   "outputs": [
    {
     "name": "stdout",
     "output_type": "stream",
     "text": [
      "3\n",
      "-5 1 5 1\n",
      "3\n",
      "0 0 2\n",
      "-6 1 2\n",
      "6 2 2\n",
      "2\n",
      "2 3 13 2\n",
      "8\n",
      "-3 -1 1\n",
      "2 2 3\n",
      "2 3 1\n",
      "0 1 7\n",
      "-4 5 1\n",
      "12 1 1\n",
      "12 1 2\n",
      "12 1 3\n",
      "5\n",
      "102 16 19 -108\n",
      "12\n",
      "-107 175 135\n",
      "-38 -115 42\n",
      "140 23 70\n",
      "148 -2 39\n",
      "-198 -49 89\n",
      "172 -151 39\n",
      "-179 -52 43\n",
      "148 42 150\n",
      "176 0 10\n",
      "153 68 120\n",
      "-56 109 16\n",
      "-187 -174 8\n",
      "3\n"
     ]
    }
   ],
   "source": [
    "#1004\n",
    "for i in range(int(input())):\n",
    "    x1,y1,x2,y2 = map(int,input().split())\n",
    "    cnt=0\n",
    "    for j in range(int(input())):\n",
    "        cx,cy,r=map(int,input().split())\n",
    "        if (cx-x1)**2+(cy-y1)**2<r**2:\n",
    "            if (cx-x2)**2+(cy-y2)**2>r**2:\n",
    "                cnt+=1\n",
    "        elif (cx-x2)**2+(cy-y2)**2<r**2:\n",
    "            if (cx-x1)**2+(cy-y1)**2>r**2:\n",
    "                cnt+=1\n",
    "    print(cnt)"
   ]
  },
  {
   "cell_type": "code",
   "execution_count": null,
   "id": "43a677ee",
   "metadata": {},
   "outputs": [],
   "source": [
    "import sys\n",
    "for i in range(int(sys.stdin.readline())):\n",
    "    cnt=0\n",
    "    x1,y1,x2,y2 = map(int, sys.stdin.readline().split())\n",
    "    for n in range(int(sys.stdin.readline())):\n",
    "        cx, cy, r = map(int, sys.stdin.readline().split())\n",
    "        if (r**2 > (x1-cx)**2+(y1-cy)**2) != (r**2 > (x2-cx)**2+(y2-cy)**2):\n",
    "            cnt += 1\n",
    "    print(cnt)"
   ]
  },
  {
   "cell_type": "code",
   "execution_count": 35,
   "id": "4a30e0a9",
   "metadata": {
    "scrolled": true
   },
   "outputs": [
    {
     "name": "stdout",
     "output_type": "stream",
     "text": [
      "24 100 -62 71 8\n",
      "-63 109\n",
      "-26 164\n",
      "-9 91\n",
      "-113 80\n",
      "-124 75\n",
      "-95 140\n",
      "-89 116\n",
      "-55 113\n",
      "6\n"
     ]
    }
   ],
   "source": [
    "#1358\n",
    "w,h,x,y,p=map(int,input().split())\n",
    "cnt=0\n",
    "for i in range(p):\n",
    "    a,b=map(int,input().split())\n",
    "    if (x<=a<=x+w) and (y<=b<=y+h):\n",
    "        cnt+=1\n",
    "    elif (0.5*h)**2>=(a-x)**2+(b-(y+0.5*h))**2:\n",
    "        cnt+=1\n",
    "    elif (0.5*h)**2>=(a-(x+w))**2+(b-(y+0.5*h))**2:\n",
    "        cnt+=1\n",
    "print(cnt)"
   ]
  },
  {
   "cell_type": "code",
   "execution_count": 10,
   "id": "57011cc0",
   "metadata": {},
   "outputs": [
    {
     "name": "stdout",
     "output_type": "stream",
     "text": [
      "3\n",
      "1 45000\n",
      "45000\n",
      "6 10\n",
      "30\n",
      "13 17\n",
      "221\n"
     ]
    }
   ],
   "source": [
    "#1934\n",
    "# import sys\n",
    "# input=sys.stdin.readline\n",
    "n=int(input())\n",
    "for _ in range(n):\n",
    "    a,b=map(int,input().split())\n",
    "    c=max(a,b)\n",
    "    d=min(a,b)\n",
    "    while True:\n",
    "        if (c%d==0)|(d%c==0):\n",
    "            print(a*b//min(c,d))\n",
    "            break\n",
    "        else:\n",
    "            if d>c:\n",
    "                d=d%c\n",
    "            else:\n",
    "                c=c%d\n",
    "# math.lcm"
   ]
  },
  {
   "cell_type": "code",
   "execution_count": 26,
   "id": "fb186488",
   "metadata": {
    "scrolled": true
   },
   "outputs": [
    {
     "name": "stdout",
     "output_type": "stream",
     "text": [
      "5\n",
      "5\n",
      "17\n",
      "23\n",
      "14\n",
      "83\n",
      "3\n"
     ]
    }
   ],
   "source": [
    "#2981\n",
    "import math\n",
    "# import sys\n",
    "# input = sys.stdin.readline\n",
    "n=int(input())\n",
    "s=[]\n",
    "es = set()\n",
    "for _ in range(n):\n",
    "    s.append(int(input()))\n",
    "for j in range(2,abs(s[0]-s[1])+1):\n",
    "    se=set()\n",
    "    for i in s:\n",
    "        se.add(i%j)\n",
    "    if len(se)==1:\n",
    "        es.add(j)\n",
    "for i in es:\n",
    "    print(i,end=' ')"
   ]
  },
  {
   "cell_type": "code",
   "execution_count": 19,
   "id": "9ba7f1ff",
   "metadata": {},
   "outputs": [
    {
     "name": "stdout",
     "output_type": "stream",
     "text": [
      "1\n",
      "2\n",
      "3\n"
     ]
    }
   ],
   "source": [
    "import math\n",
    "# import sys\n",
    "# input = sys.stdin.readline\n",
    "n=int(input())\n",
    "s=[]\n",
    "for _ in range(n):\n",
    "    s.append(int(input()))\n"
   ]
  },
  {
   "cell_type": "code",
   "execution_count": 31,
   "id": "799d7126",
   "metadata": {},
   "outputs": [
    {
     "name": "stdout",
     "output_type": "stream",
     "text": [
      "3\n",
      "6\n",
      "34\n",
      "38\n",
      "2 4 "
     ]
    }
   ],
   "source": [
    "import math\n",
    "import sys\n",
    "input=sys.stdin.readline\n",
    "N=int(input())\n",
    "a=[]\n",
    "b=set()\n",
    "g=0\n",
    "for i in range(N):\n",
    "    a.append(int(input()))\n",
    "    if i==1:\n",
    "        g=abs(a[1]-a[0])\n",
    "    g=math.gcd(abs(a[i]-a[i-1]), g)\n",
    "gf=int(g**(1/2))\n",
    "for i in range(2, gf+1):\n",
    "    if g%i==0:\n",
    "        b.add(i)\n",
    "        b.add(g//i)\n",
    "b.add(g)\n",
    "b=list(b)\n",
    "b.sort()\n",
    "for i in b:\n",
    "    print(i, end=' ')"
   ]
  }
 ],
 "metadata": {
  "kernelspec": {
   "display_name": "Python 3 (ipykernel)",
   "language": "python",
   "name": "python3"
  },
  "language_info": {
   "codemirror_mode": {
    "name": "ipython",
    "version": 3
   },
   "file_extension": ".py",
   "mimetype": "text/x-python",
   "name": "python",
   "nbconvert_exporter": "python",
   "pygments_lexer": "ipython3",
   "version": "3.9.12"
  }
 },
 "nbformat": 4,
 "nbformat_minor": 5
}
