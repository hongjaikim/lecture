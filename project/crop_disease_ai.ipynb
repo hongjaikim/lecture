{
  "nbformat": 4,
  "nbformat_minor": 0,
  "metadata": {
    "colab": {
      "provenance": []
    },
    "kernelspec": {
      "name": "python3",
      "display_name": "Python 3"
    },
    "language_info": {
      "name": "python"
    }
  },
  "cells": [
    {
      "cell_type": "code",
      "execution_count": null,
      "metadata": {
        "id": "19yKEuZnFU-R"
      },
      "outputs": [],
      "source": [
        "import numpy as np\n",
        "from tensorflow.keras.models import load_model\n",
        "from tensorflow.keras.preprocessing.image import load_img, img_to_array, ImageDataGenerator\n",
        "\n",
        "def test(file_path,crop):\n",
        "  generator = ImageDataGenerator(rescale=1. / 255,\n",
        "                               rotation_range=15,\n",
        "                               width_shift_range=0.1,\n",
        "                               height_shift_range=0.1,\n",
        "                               horizontal_flip=True,\n",
        "                               vertical_flip=True\n",
        "                                    )\n",
        "  label = {'apple' : ['Apple scab', 'Black rot', 'Cedar apple rust', 'healthy'],\n",
        "  'cherry' : ['Powdery mildew', 'healthy'],\n",
        "  'corn' : ['Cercospora leaf spot Gray leaf spot', 'Common rust',\n",
        "            'Northern Leaf Blight', 'healthy'],\n",
        "  'grape' : ['Black rot', 'Esca (Black Measles)',\n",
        "             'Leaf blight (Isariopsis Leaf Spot)', 'healthy'],\n",
        "  'peach' : ['Bacterial spot', 'healthy'],\n",
        "  'pepper' : ['Bacterial spot', 'healthy'],\n",
        "  'potato' : ['Early blight', 'Late blight', 'healthy'],\n",
        "  'strawberry' : ['Leaf scorch', 'healthy'],\n",
        "  'tomato' : ['Bacterial spot', 'Early blight', 'Late blight', 'Leaf Mold',\n",
        "              'Septoria leaf spot', 'Spider mites Two-spotted spider mite',\n",
        "              'Target Spot', 'Tomato Yellow Leaf Curl Virus',\n",
        "              'Tomato mosaic virus', 'healthy']\n",
        "  }\n",
        "  # model_path : 모델 경로\n",
        "  model_path = {'apple' : '/content/drive/MyDrive/Applemodel.hdf5',\n",
        "  'cherry' : 'Cherry(including sour)model(0.0014).hdf5',\n",
        "  'corn' : 'Corn (maize)(0.0083).hdf5',\n",
        "  'grape' : 'Grape(0.0419).hdf5',\n",
        "  'peach' : 'Peach(0.0026).hdf5',\n",
        "  'pepper' : 'Pepper, bell(4.6806e-04).hdf5',\n",
        "  'potato' : 'Potato(0.0140).hdf5',\n",
        "  'strawberry' : 'Strawberry(0.0025).hdf5',\n",
        "  'tomato' : 'Tomato(0.0098).hdf5'\n",
        "  }\n",
        "  model = load_model(model_path[crop])\n",
        "  img = load_img(file_path,target_size=(56,56))\n",
        "  img_arr = img_to_array(img)\n",
        "  res_img_arr = np.reshape(img_arr,(1,56,56,3))\n",
        "  pred = model.predict(generator.flow(res_img_arr))\n",
        "  return label[crop][pred.argmax()],f'{round(pred.tolist()[0][pred.argmax()]*100,2)}%'\n",
        "\n",
        "test(file_path,crop)         #실행test(파일경로,작물이름) ex)test('/content/as3.jpg','apple')"
      ]
    }
  ]
}