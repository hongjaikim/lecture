{
  "nbformat": 4,
  "nbformat_minor": 0,
  "metadata": {
    "colab": {
      "provenance": []
    },
    "kernelspec": {
      "name": "python3",
      "display_name": "Python 3"
    },
    "language_info": {
      "name": "python"
    }
  },
  "cells": [
    {
      "cell_type": "code",
      "execution_count": 77,
      "metadata": {
        "colab": {
          "base_uri": "https://localhost:8080/"
        },
        "id": "aCtFmhwmSiME",
        "outputId": "30d31f79-3b68-4674-99b4-b05b47169c5d"
      },
      "outputs": [
        {
          "output_type": "stream",
          "name": "stdout",
          "text": [
            "0.8312932169281748\n",
            "0.800179211469534\n"
          ]
        }
      ],
      "source": [
        "import pandas as pd\n",
        "x_train = pd.read_csv('https://raw.githubusercontent.com/Datamanim/datarepo/main/churnk/X_train.csv')\n",
        "y_train = pd.read_csv('https://raw.githubusercontent.com/Datamanim/datarepo/main/churnk/y_train.csv')\n",
        "x_test = pd.read_csv('https://raw.githubusercontent.com/Datamanim/datarepo/main/churnk/X_test.csv')\n",
        "\n",
        "# print(x_train)\n",
        "# print(x_train.info(),x_test.info())\n",
        "df = pd.concat([x_train,y_train.iloc[:,1]],axis=1)\n",
        "# display(df)\n",
        "from sklearn.preprocessing import StandardScaler,MinMaxScaler\n",
        "scaler = StandardScaler()\n",
        "# scaler = MinMaxScaler()\n",
        "# df['Sc_Credit'] = scaler.fit_transform(df[['CreditScore']])\n",
        "# print(scaler.fit_transform(df[['CreditScore']]))\n",
        "# print(df[['Sc_Credit','Exited']].corr())\n",
        "# print(df['Sc_Credit'])\n",
        "\n",
        "# print(df.corr())\n",
        "# print(df)\n",
        "df.drop(['CustomerId','CreditScore','Tenure','NumOfProducts','HasCrCard','EstimatedSalary'],axis=1,inplace=True)\n",
        "# print(df)\n",
        "df.drop('Surname',axis=1,inplace=True)\n",
        "# print(df)\n",
        "# print(df.groupby(['Geography','Exited'])['Exited'].count())\n",
        "df['Geography'] = df['Geography'].replace('Germany',1).replace(['France','Spain'],0)\n",
        "# print(df)\n",
        "df['Gender'] = df['Gender'].replace('Female',0).replace('Male',1)\n",
        "# print(df)\n",
        "# print(df['Age'].describe())\n",
        "df.loc[df['Age']>56,'Age'] = 56\n",
        "# print(df['Age'].describe())\n",
        "df['Age'] = scaler.fit_transform(df[['Age']])\n",
        "# print(df)\n",
        "df.loc[df['Balance']>0,'Balance'] = 1\n",
        "# print(df.groupby(['Balance','Exited'])['Exited'].size())\n",
        "# print(df)\n",
        "x_test_id = x_test['CustomerId']\n",
        "x_train.drop(['Surname','CustomerId','CreditScore','Tenure','NumOfProducts','HasCrCard','EstimatedSalary'],axis=1,inplace=True)\n",
        "x_test.drop(['Surname','CustomerId','CreditScore','Tenure','NumOfProducts','HasCrCard','EstimatedSalary'],axis=1,inplace=True)\n",
        "x_train['Geography'] = x_train['Geography'].replace('Germany',1).replace(['France','Spain'],0)\n",
        "x_test['Geography'] = x_test['Geography'].replace('Germany',1).replace(['France','Spain'],0)\n",
        "x_train['Gender'] = x_train['Gender'].map(lambda x: x.strip().lower()).replace('female',0).replace('male',1)\n",
        "x_test['Gender'] = x_test['Gender'].map(lambda x:x.strip().lower()).replace('female',0).replace('male',1)\n",
        "x_train.loc[x_train['Age']>56,'Age'] = 56\n",
        "x_test.loc[x_test['Age']>56,'Age'] = 56\n",
        "x_train['Age'] = scaler.transform(x_train[['Age']])\n",
        "x_test['Age'] = scaler.transform(x_test[['Age']])\n",
        "x_train.loc[x_train['Balance']>0,'Balance'] = 1\n",
        "x_test.loc[x_test['Balance']>0,'Balance'] = 1\n",
        "y_train.drop('CustomerId',axis=1,inplace=True)\n",
        "# print(y_train)\n",
        "from sklearn.model_selection import train_test_split\n",
        "x_train,x_val,y_train,y_val = train_test_split(x_train,y_train,test_size=0.2)\n",
        "\n",
        "from sklearn.ensemble import RandomForestClassifier\n",
        "model = RandomForestClassifier(n_estimators=1000,max_depth=3)\n",
        "model.fit(x_train,y_train.values.ravel())\n",
        "x_val_predicted = model.predict(x_val)\n",
        "from sklearn.metrics import roc_auc_score\n",
        "print(roc_auc_score(x_val_predicted,y_val))\n",
        "result = pd.DataFrame(model.predict(x_test),columns=['Exited'])\n",
        "final = pd.concat([x_test_id,result],axis=1)\n",
        "final.to_csv('12345.csv',index=False)\n",
        "\n",
        "y_test = pd.read_csv('https://raw.githubusercontent.com/Datamanim/datarepo/main/churnk/y_test.csv')\n",
        "final = pd.read_csv('12345.csv',index_col=0)\n",
        "print(roc_auc_score(final['Exited'],y_test.iloc[:,1]))"
      ]
    }
  ]
}