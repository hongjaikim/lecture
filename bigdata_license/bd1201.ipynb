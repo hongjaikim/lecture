{
  "nbformat": 4,
  "nbformat_minor": 0,
  "metadata": {
    "colab": {
      "provenance": []
    },
    "kernelspec": {
      "name": "python3",
      "display_name": "Python 3"
    },
    "language_info": {
      "name": "python"
    }
  },
  "cells": [
    {
      "cell_type": "code",
      "execution_count": null,
      "metadata": {
        "id": "fum-Q4PGRshg"
      },
      "outputs": [],
      "source": [
        "import pandas as pd\n",
        "\n",
        "df = pd.read_csv('/content/basic1.csv')\n",
        "# print(df.head())\n",
        "df.sort_values('f5',ascending=False,inplace=True)\n",
        "print(df.iloc[:10])\n",
        "df.iloc[:10,-1] =df.iloc[9,-1]\n",
        "print(df.head(10))\n",
        "print(df.loc[df.age>=80,'f5'].mean())"
      ]
    },
    {
      "cell_type": "code",
      "source": [
        "import pandas as pd\n",
        "\n",
        "df = pd.read_csv('/content/basic1.csv')\n",
        "df_70 = df.iloc[:int(0.7*len(df)),:]\n",
        "print(df_70.f1.std())\n",
        "print(df_70.f1.median())\n",
        "print(df_70.f1.fillna(68).std())\n",
        "print(df_70.f1.std()-df_70.f1.fillna(68).std())"
      ],
      "metadata": {
        "colab": {
          "base_uri": "https://localhost:8080/"
        },
        "id": "1-Rb7LUyTU7X",
        "outputId": "4a6f2191-71aa-4c7b-e79f-15b0fe76bf22"
      },
      "execution_count": 20,
      "outputs": [
        {
          "output_type": "stream",
          "name": "stdout",
          "text": [
            "17.98727579865276\n",
            "68.0\n",
            "14.690773995256688\n",
            "3.2965018033960725\n"
          ]
        }
      ]
    },
    {
      "cell_type": "code",
      "source": [
        "import pandas as pd\n",
        "\n",
        "df = pd.read_csv('/content/basic1.csv')\n",
        "age_std = df.age.std()\n",
        "age_mean = df.age.mean()\n",
        "print(df.loc[(df.age>age_mean+(1.5*age_std))|(df.age<age_mean-(1.5*age_std)),'age'].sum())"
      ],
      "metadata": {
        "colab": {
          "base_uri": "https://localhost:8080/"
        },
        "id": "k24jkaOzaO3W",
        "outputId": "e7051f4b-ea0d-42b6-e38a-3b71689d421e"
      },
      "execution_count": 22,
      "outputs": [
        {
          "output_type": "stream",
          "name": "stdout",
          "text": [
            "473.5\n"
          ]
        }
      ]
    },
    {
      "cell_type": "code",
      "source": [
        "import pandas as pd\n",
        "df = pd.read_csv('/content/t1-data2.csv',index_col='year')\n",
        "# print(df.head())\n",
        "data = df.T['2022년']\n",
        "print(data.loc[data>data.median()].count())"
      ],
      "metadata": {
        "colab": {
          "base_uri": "https://localhost:8080/"
        },
        "id": "CfS8rVqf0rl5",
        "outputId": "0bcbe735-c90c-445f-c221-a061ba7f517a"
      },
      "execution_count": 38,
      "outputs": [
        {
          "output_type": "stream",
          "name": "stdout",
          "text": [
            "50\n"
          ]
        }
      ]
    },
    {
      "cell_type": "code",
      "source": [
        "import pandas as pd\n",
        "df = pd.read_csv('/content/t1-data1.csv')\n",
        "# print(df.head())\n",
        "# print(df.info())\n",
        "df.dropna(inplace=True)\n",
        "# print(df.info())\n",
        "f1_60 = df.iloc[:int(len(df.f1)*0.6),3]\n",
        "print(f1_60.describe()['75%'])"
      ],
      "metadata": {
        "colab": {
          "base_uri": "https://localhost:8080/"
        },
        "id": "b45Iytfs3RHb",
        "outputId": "e813478d-a1db-4dc0-d2a5-11e27a534a0b"
      },
      "execution_count": 49,
      "outputs": [
        {
          "output_type": "stream",
          "name": "stdout",
          "text": [
            "77.25\n"
          ]
        }
      ]
    },
    {
      "cell_type": "code",
      "source": [
        "import pandas as pd\n",
        "df = pd.read_csv('/content/t1-data1.csv')\n",
        "print(df.isnull().sum().reset_index().iloc[3,0])"
      ],
      "metadata": {
        "colab": {
          "base_uri": "https://localhost:8080/"
        },
        "id": "6tSKe9X14g3Q",
        "outputId": "31012bf8-ecea-419a-fea9-d8e971f0241f"
      },
      "execution_count": 64,
      "outputs": [
        {
          "output_type": "stream",
          "name": "stdout",
          "text": [
            "f1\n"
          ]
        }
      ]
    },
    {
      "cell_type": "code",
      "source": [
        "import pandas as pd\n",
        "df  = pd.read_csv('/content/basic1.csv')\n",
        "# print(df.describe())\n",
        "print(int(abs(df.age.describe()['75%']-df.age.describe()['25%'])))"
      ],
      "metadata": {
        "colab": {
          "base_uri": "https://localhost:8080/"
        },
        "id": "sNw34CcV5t7c",
        "outputId": "4a92cda8-c7f8-4742-ca91-1bb0adb31c61"
      },
      "execution_count": 73,
      "outputs": [
        {
          "output_type": "stream",
          "name": "stdout",
          "text": [
            "              age          f1          f2          f5\n",
            "count  100.000000   69.000000  100.000000  100.000000\n",
            "mean    50.963000   66.043478    0.650000   56.734537\n",
            "std     30.442759   19.453893    0.715979   28.454244\n",
            "min    -13.500000   12.000000    0.000000    9.796378\n",
            "25%     26.875000   51.000000    0.000000   29.269869\n",
            "50%     52.500000   63.000000    1.000000   64.113099\n",
            "75%     77.000000   78.000000    1.000000   81.025055\n",
            "max    100.000000  111.000000    2.000000   98.429899\n",
            "50\n"
          ]
        }
      ]
    },
    {
      "cell_type": "code",
      "source": [
        "import pandas as pd\n",
        "df = pd.read_csv('/content/fb.csv')\n",
        "# print(df.head())\n",
        "df['rate'] = (df.loves+df.wows)/df.reactions\n",
        "# print(df.count())\n",
        "print(df.loc[(df.rate>0.4)&(df.rate<0.5)&(df['type']=='video')].id.count())"
      ],
      "metadata": {
        "colab": {
          "base_uri": "https://localhost:8080/"
        },
        "id": "PUboTSgq6npa",
        "outputId": "87080e17-3096-42b1-93bc-8dde962dee02"
      },
      "execution_count": 83,
      "outputs": [
        {
          "output_type": "stream",
          "name": "stdout",
          "text": [
            "90\n"
          ]
        }
      ]
    },
    {
      "cell_type": "code",
      "source": [
        "import pandas as pd\n",
        "df = pd.read_csv('/content/nf.csv')\n",
        "# print(df.head())\n",
        "df.date_added = pd.to_datetime(df.date_added)\n",
        "# print(df.info())\n",
        "# print(df.head())\n",
        "print(df.loc[(df.date_added.dt.year==2018)&\\\n",
        "             (df.date_added.dt.month==1)&\\\n",
        "             (df.country=='United Kingdom')].count()[0])\n",
        "print(df.loc[(df.date_added>='2018-1-1')&\\\n",
        "             (df.date_added<='2018-1-31')&\\\n",
        "             (df.country=='United Kingdom')].count()[0])\n",
        "print(df.loc[(df.date_added.between('2018-1-1','2018-1-31'))&\\\n",
        "             (df.country=='United Kingdom')].count()[0])\n"
      ],
      "metadata": {
        "colab": {
          "base_uri": "https://localhost:8080/"
        },
        "id": "vIW46JRF8CJf",
        "outputId": "fb8ef6ff-0a90-4756-90e7-d8b1df22c0c9"
      },
      "execution_count": 101,
      "outputs": [
        {
          "output_type": "stream",
          "name": "stdout",
          "text": [
            "6\n",
            "6\n",
            "6\n"
          ]
        }
      ]
    }
  ]
}