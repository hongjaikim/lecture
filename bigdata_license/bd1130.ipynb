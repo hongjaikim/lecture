{
  "nbformat": 4,
  "nbformat_minor": 0,
  "metadata": {
    "colab": {
      "provenance": []
    },
    "kernelspec": {
      "name": "python3",
      "display_name": "Python 3"
    },
    "language_info": {
      "name": "python"
    }
  },
  "cells": [
    {
      "cell_type": "code",
      "execution_count": 69,
      "metadata": {
        "colab": {
          "base_uri": "https://localhost:8080/"
        },
        "id": "a0L9UeQsT-Mo",
        "outputId": "fe268fab-acfd-4477-f1c0-c225d88fbc66"
      },
      "outputs": [
        {
          "output_type": "stream",
          "name": "stdout",
          "text": [
            "          videopk  viewcnt  likecnt  dislikecnt  favoritecnt  cmcnt  \\\n",
            "720   c5JQp6xafqc  2153676    34104         830            0   7120   \n",
            "721   c5JQp6xafqc  2228250    34559         849            0   7191   \n",
            "722   c5JQp6xafqc  2228250    34559         849            0   7191   \n",
            "723   c5JQp6xafqc  2228669    34566         849            0   7194   \n",
            "1635  c5JQp6xafqc  2706691    37893         987            0   7410   \n",
            "1636  c5JQp6xafqc  2707933    37901         988            0   7410   \n",
            "1637  c5JQp6xafqc  2708448    37903         988            0   7410   \n",
            "\n",
            "                      ct videoname  \n",
            "720  2021-10-12 19:20:03    공범 EP1  \n",
            "721  2021-10-13 09:41:37    공범 EP1  \n",
            "722  2021-10-13 09:41:37    공범 EP1  \n",
            "723  2021-10-13 09:50:03    공범 EP1  \n",
            "1635 2021-10-19 17:50:02    공범 EP1  \n",
            "1636 2021-10-19 18:20:03    공범 EP1  \n",
            "1637 2021-10-19 18:30:03    공범 EP1  \n"
          ]
        }
      ],
      "source": [
        "import pandas as pd\n",
        "\n",
        "\n",
        "channel =pd.read_csv('https://raw.githubusercontent.com/Datamanim/datarepo/main/youtube/channelInfo.csv')\n",
        "video =pd.read_csv('https://raw.githubusercontent.com/Datamanim/datarepo/main/youtube/videoInfo.csv')\n",
        "# display(channel.head())\n",
        "# display(video.head())\n",
        "\n",
        "channel.ct = pd.to_datetime(channel.ct)\n",
        "video.ct = pd.to_datetime(video.ct)\n",
        "# display(channel.head())\n",
        "# display(video.head())\n",
        "# print(channel.info())\n",
        "# print(video.info())\n",
        "# print(video.videoname.value_counts())\n",
        "\n",
        "# print(video.sort_values(['videoname','ct']).drop_duplicates('videoname',keep='last')[['viewcnt','videoname','ct']].reset_index(drop=True))\n",
        "\n",
        "# print(channel[channel.ct>=pd.to_datetime('2021-10-3')].sort_values(['channelname','ct']).drop_duplicates('channelname',keep='first')[['channelname','subcnt']].reset_index(drop=True))\n",
        "\n",
        "end = channel[channel.ct.dt.strftime('%Y-%m-%d %H')=='2021-11-01 15'][['channelname','subcnt']].reset_index(drop=True)\n",
        "start = channel[channel.ct.dt.strftime('%Y-%m-%d %H')=='2021-10-03 03'][['channelname','subcnt']].reset_index(drop=True)\n",
        "tt = pd.concat([start,end],axis=1)\n",
        "tt['del'] = tt.iloc[:,3]-tt.iloc[:,1]\n",
        "# display(tt.iloc[:,[2,4]])\n",
        "\n",
        "import datetime\n",
        "ep1 = video[video.videoname.str.contains('1')].sort_values('ct')\n",
        "# print(ep1[(ep1.ct.diff(1)>=datetime.timedelta(minutes=20)) | (ep1.ct.diff(1)<=datetime.timedelta(minutes=5))])\n",
        "# print(video[video.index.isin([720,721,722,723,1635,1636,1637])])\n",
        "\n"
      ]
    }
  ]
}