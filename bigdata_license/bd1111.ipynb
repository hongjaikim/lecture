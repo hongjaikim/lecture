{
  "nbformat": 4,
  "nbformat_minor": 0,
  "metadata": {
    "colab": {
      "provenance": [],
      "collapsed_sections": []
    },
    "kernelspec": {
      "name": "python3",
      "display_name": "Python 3"
    },
    "language_info": {
      "name": "python"
    }
  },
  "cells": [
    {
      "cell_type": "code",
      "execution_count": 101,
      "metadata": {
        "colab": {
          "base_uri": "https://localhost:8080/"
        },
        "id": "jbvF1krxTK7Y",
        "outputId": "ffc845bd-0822-4151-89d4-a6cd15793fec"
      },
      "outputs": [
        {
          "output_type": "stream",
          "name": "stdout",
          "text": [
            "fatal: destination path 'bigData' already exists and is not an empty directory.\n"
          ]
        }
      ],
      "source": [
        "!git clone https://github.com/7ieon/bigData"
      ]
    },
    {
      "cell_type": "code",
      "source": [
        "import pandas as pd\n",
        "import numpy as np"
      ],
      "metadata": {
        "id": "J0_GYdB3T5TH"
      },
      "execution_count": 102,
      "outputs": []
    },
    {
      "cell_type": "code",
      "source": [
        "data = pd.read_csv('/content/bigData/mtcars.csv')\n",
        "print(data.head())"
      ],
      "metadata": {
        "colab": {
          "base_uri": "https://localhost:8080/"
        },
        "id": "0WHfw4uaVI4O",
        "outputId": "d5109f3b-89fa-4c50-b34f-106046df2133"
      },
      "execution_count": 103,
      "outputs": [
        {
          "output_type": "stream",
          "name": "stdout",
          "text": [
            "          Unnamed: 0   mpg  cyl   disp   hp  drat     wt   qsec  vs      am  \\\n",
            "0          Mazda RX4  21.0  6.0  160.0  110  3.90  2.620  16.46   0  manual   \n",
            "1      Mazda RX4 Wag  21.0  6.0  160.0  110  3.90  2.875  17.02   0  manual   \n",
            "2         Datsun 710  22.8  4.0  108.0   93  3.85  2.320  18.61   1  manual   \n",
            "3     Hornet 4 Drive  21.4  6.0  258.0  110  3.08  3.215   0.10   1    auto   \n",
            "4  Hornet Sportabout  18.7  8.0  360.0  175  3.15  3.440  17.02   0    auto   \n",
            "\n",
            "  gear  carb  \n",
            "0    4     4  \n",
            "1    4     4  \n",
            "2    4     1  \n",
            "3    3     1  \n",
            "4    3     2  \n"
          ]
        }
      ]
    },
    {
      "cell_type": "code",
      "source": [
        "print(data.shape)"
      ],
      "metadata": {
        "colab": {
          "base_uri": "https://localhost:8080/"
        },
        "id": "iZNGdl34VQum",
        "outputId": "4c5877b6-2ec3-4165-c603-08f8e1a93f66"
      },
      "execution_count": 104,
      "outputs": [
        {
          "output_type": "stream",
          "name": "stdout",
          "text": [
            "(32, 12)\n"
          ]
        }
      ]
    },
    {
      "cell_type": "code",
      "source": [
        "print(type(data))"
      ],
      "metadata": {
        "colab": {
          "base_uri": "https://localhost:8080/"
        },
        "id": "NoOdfciGWFuz",
        "outputId": "237faa7d-2049-45b9-d66b-f72665cffaff"
      },
      "execution_count": 105,
      "outputs": [
        {
          "output_type": "stream",
          "name": "stdout",
          "text": [
            "<class 'pandas.core.frame.DataFrame'>\n"
          ]
        }
      ]
    },
    {
      "cell_type": "code",
      "source": [
        "print(data.columns)"
      ],
      "metadata": {
        "colab": {
          "base_uri": "https://localhost:8080/"
        },
        "id": "Tp4ksqj-WIAl",
        "outputId": "87b5a19f-3f92-4140-81bc-e8907d86e2c2"
      },
      "execution_count": 106,
      "outputs": [
        {
          "output_type": "stream",
          "name": "stdout",
          "text": [
            "Index(['Unnamed: 0', 'mpg', 'cyl', 'disp', 'hp', 'drat', 'wt', 'qsec', 'vs',\n",
            "       'am', 'gear', 'carb'],\n",
            "      dtype='object')\n"
          ]
        }
      ]
    },
    {
      "cell_type": "code",
      "source": [
        "print(data.describe())"
      ],
      "metadata": {
        "colab": {
          "base_uri": "https://localhost:8080/"
        },
        "id": "aOwP-qFUWUpp",
        "outputId": "a77f030a-ac2b-4166-c1cd-eb22ca88f25a"
      },
      "execution_count": 107,
      "outputs": [
        {
          "output_type": "stream",
          "name": "stdout",
          "text": [
            "             mpg        cyl        disp          hp       drat         wt  \\\n",
            "count  32.000000  30.000000   32.000000   32.000000  32.000000  32.000000   \n",
            "mean   20.090625   7.600000  230.721875  146.687500   3.596563   3.217250   \n",
            "std     6.026948   8.194195  123.938694   68.562868   0.534679   0.978457   \n",
            "min    10.400000   4.000000   71.100000   52.000000   2.760000   1.513000   \n",
            "25%    15.425000   4.000000  120.825000   96.500000   3.080000   2.581250   \n",
            "50%    19.200000   6.000000  196.300000  123.000000   3.695000   3.325000   \n",
            "75%    22.800000   8.000000  326.000000  180.000000   3.920000   3.610000   \n",
            "max    33.900000  50.000000  472.000000  335.000000   4.930000   5.424000   \n",
            "\n",
            "             qsec         vs     carb  \n",
            "count   31.000000  32.000000  32.0000  \n",
            "mean    19.866774   0.437500   2.8125  \n",
            "std     15.310469   0.504016   1.6152  \n",
            "min      0.100000   0.000000   1.0000  \n",
            "25%     16.785000   0.000000   2.0000  \n",
            "50%     17.600000   0.000000   2.0000  \n",
            "75%     18.755000   1.000000   4.0000  \n",
            "max    100.000000   1.000000   8.0000  \n"
          ]
        }
      ]
    },
    {
      "cell_type": "code",
      "source": [
        "print(data['am'].unique())"
      ],
      "metadata": {
        "colab": {
          "base_uri": "https://localhost:8080/"
        },
        "id": "1Qc9jKrCWYeE",
        "outputId": "a6a6dba0-ec0c-4c4e-94a9-fef0073543b5"
      },
      "execution_count": 108,
      "outputs": [
        {
          "output_type": "stream",
          "name": "stdout",
          "text": [
            "['manual' 'auto']\n"
          ]
        }
      ]
    },
    {
      "cell_type": "code",
      "source": [
        "print(data['vs'].unique())"
      ],
      "metadata": {
        "colab": {
          "base_uri": "https://localhost:8080/"
        },
        "id": "JNzASJu_Wnh4",
        "outputId": "d197af65-15aa-422f-f24e-0e3f609678e9"
      },
      "execution_count": 109,
      "outputs": [
        {
          "output_type": "stream",
          "name": "stdout",
          "text": [
            "[0 1]\n"
          ]
        }
      ]
    },
    {
      "cell_type": "code",
      "source": [
        "print(data.info())"
      ],
      "metadata": {
        "colab": {
          "base_uri": "https://localhost:8080/"
        },
        "id": "5YLKFAiAW3XU",
        "outputId": "c5281489-a601-4a30-a525-4a3dcf99315c"
      },
      "execution_count": 110,
      "outputs": [
        {
          "output_type": "stream",
          "name": "stdout",
          "text": [
            "<class 'pandas.core.frame.DataFrame'>\n",
            "RangeIndex: 32 entries, 0 to 31\n",
            "Data columns (total 12 columns):\n",
            " #   Column      Non-Null Count  Dtype  \n",
            "---  ------      --------------  -----  \n",
            " 0   Unnamed: 0  32 non-null     object \n",
            " 1   mpg         32 non-null     float64\n",
            " 2   cyl         30 non-null     float64\n",
            " 3   disp        32 non-null     float64\n",
            " 4   hp          32 non-null     int64  \n",
            " 5   drat        32 non-null     float64\n",
            " 6   wt          32 non-null     float64\n",
            " 7   qsec        31 non-null     float64\n",
            " 8   vs          32 non-null     int64  \n",
            " 9   am          32 non-null     object \n",
            " 10  gear        32 non-null     object \n",
            " 11  carb        32 non-null     int64  \n",
            "dtypes: float64(6), int64(3), object(3)\n",
            "memory usage: 3.1+ KB\n",
            "None\n"
          ]
        }
      ]
    },
    {
      "cell_type": "code",
      "source": [
        "print(data.corr())"
      ],
      "metadata": {
        "colab": {
          "base_uri": "https://localhost:8080/"
        },
        "id": "Lui7OTg-W8EX",
        "outputId": "7ef6bc6f-a1a1-44b7-f34b-354807665fe2"
      },
      "execution_count": 111,
      "outputs": [
        {
          "output_type": "stream",
          "name": "stdout",
          "text": [
            "           mpg       cyl      disp        hp      drat        wt      qsec  \\\n",
            "mpg   1.000000 -0.460227 -0.847551 -0.776168  0.681172 -0.867659  0.013668   \n",
            "cyl  -0.460227  1.000000  0.544876  0.323293 -0.372671  0.533690 -0.012755   \n",
            "disp -0.847551  0.544876  1.000000  0.790949 -0.710214  0.887980  0.181810   \n",
            "hp   -0.776168  0.323293  0.790949  1.000000 -0.448759  0.658748  0.010807   \n",
            "drat  0.681172 -0.372671 -0.710214 -0.448759  1.000000 -0.712441 -0.120283   \n",
            "wt   -0.867659  0.533690  0.887980  0.658748 -0.712441  1.000000  0.093900   \n",
            "qsec  0.013668 -0.012755  0.181810  0.010807 -0.120283  0.093900  1.000000   \n",
            "vs    0.664039 -0.323960 -0.710416 -0.723097  0.440278 -0.554916 -0.112146   \n",
            "carb -0.550925  0.239980  0.394977  0.749812 -0.090790  0.427606 -0.120312   \n",
            "\n",
            "            vs      carb  \n",
            "mpg   0.664039 -0.550925  \n",
            "cyl  -0.323960  0.239980  \n",
            "disp -0.710416  0.394977  \n",
            "hp   -0.723097  0.749812  \n",
            "drat  0.440278 -0.090790  \n",
            "wt   -0.554916  0.427606  \n",
            "qsec -0.112146 -0.120312  \n",
            "vs    1.000000 -0.569607  \n",
            "carb -0.569607  1.000000  \n"
          ]
        }
      ]
    },
    {
      "cell_type": "code",
      "source": [
        "X = data.drop(columns='mpg')\n",
        "print(X)"
      ],
      "metadata": {
        "colab": {
          "base_uri": "https://localhost:8080/"
        },
        "id": "-89EJu5VXB3J",
        "outputId": "d606bb3f-c085-42fe-9f67-226f24c25d14"
      },
      "execution_count": 112,
      "outputs": [
        {
          "output_type": "stream",
          "name": "stdout",
          "text": [
            "             Unnamed: 0   cyl   disp   hp  drat     wt    qsec  vs      am  \\\n",
            "0             Mazda RX4   6.0  160.0  110  3.90  2.620   16.46   0  manual   \n",
            "1         Mazda RX4 Wag   6.0  160.0  110  3.90  2.875   17.02   0  manual   \n",
            "2            Datsun 710   4.0  108.0   93  3.85  2.320   18.61   1  manual   \n",
            "3        Hornet 4 Drive   6.0  258.0  110  3.08  3.215    0.10   1    auto   \n",
            "4     Hornet Sportabout   8.0  360.0  175  3.15  3.440   17.02   0    auto   \n",
            "5               Valiant   6.0  225.0  105  2.76  3.460   20.22   1    auto   \n",
            "6            Duster 360   8.0  360.0  245  3.21  3.570   15.84   0    auto   \n",
            "7             Merc 240D   NaN  146.7   62  3.69  3.190   20.00   1    auto   \n",
            "8              Merc 230   4.0  140.8   95  3.92  3.150   22.90   1    auto   \n",
            "9              Merc 280   6.0  167.6  123  3.92  3.440   18.30   1    auto   \n",
            "10            Merc 280C   6.0  167.6  123  3.92  3.440     NaN   1    auto   \n",
            "11           Merc 450SE   8.0  275.8  180  3.07  4.070   17.40   0    auto   \n",
            "12           Merc 450SL   8.0  275.8  180  3.07  3.730   17.60   0    auto   \n",
            "13          Merc 450SLC   8.0  275.8  180  3.07  3.780   18.00   0    auto   \n",
            "14   Cadillac Fleetwood  50.0  472.0  205  2.93  5.250   17.98   0    auto   \n",
            "15  Lincoln Continental   8.0  460.0  215  3.00  5.424   17.82   0    auto   \n",
            "16    Chrysler Imperial   8.0  440.0  230  3.23  5.345   17.42   0    auto   \n",
            "17             Fiat 128   4.0   78.7   66  4.08  2.200   19.47   1  manual   \n",
            "18          Honda Civic   4.0   75.7   52  4.93  1.615   18.52   1  manual   \n",
            "19       Toyota Corolla   4.0   71.1   65  4.22  1.835   19.90   1  manual   \n",
            "20        Toyota Corona   4.0  120.1   97  3.70  2.465   20.01   1    auto   \n",
            "21     Dodge Challenger   8.0  318.0  150  2.76  3.520   16.87   0    auto   \n",
            "22          AMC Javelin   8.0  304.0  150  3.15  3.435   17.30   0    auto   \n",
            "23           Camaro Z28   8.0  350.0  245  3.73  3.840   15.41   0    auto   \n",
            "24     Pontiac Firebird   NaN  400.0  175  3.08  3.845  100.00   0    auto   \n",
            "25            Fiat X1-9   4.0   79.0   66  4.08  1.935   18.90   1  manual   \n",
            "26        Porsche 914-2   4.0  120.3   91  4.43  2.140   16.70   0  manual   \n",
            "27         Lotus Europa   4.0   95.1  113  3.77  1.513   16.90   1  manual   \n",
            "28       Ford Pantera L   8.0  351.0  264  4.22  3.170   14.50   0  manual   \n",
            "29         Ferrari Dino   6.0  145.0  175  3.62  2.770   15.50   0  manual   \n",
            "30        Maserati Bora   8.0  301.0  335  3.54  3.570   14.60   0  manual   \n",
            "31           Volvo 142E   4.0  121.0  109  4.11  2.780   18.60   1  manual   \n",
            "\n",
            "   gear  carb  \n",
            "0     4     4  \n",
            "1     4     4  \n",
            "2     4     1  \n",
            "3     3     1  \n",
            "4     3     2  \n",
            "5     3     1  \n",
            "6     3     4  \n",
            "7     4     2  \n",
            "8     4     2  \n",
            "9     4     4  \n",
            "10    4     4  \n",
            "11    3     3  \n",
            "12   *3     3  \n",
            "13    3     3  \n",
            "14    3     4  \n",
            "15    3     4  \n",
            "16    3     4  \n",
            "17    4     1  \n",
            "18    4     2  \n",
            "19    4     1  \n",
            "20    3     1  \n",
            "21    3     2  \n",
            "22    3     2  \n",
            "23    3     4  \n",
            "24    3     2  \n",
            "25    4     1  \n",
            "26    5     2  \n",
            "27    5     2  \n",
            "28   *5     4  \n",
            "29    5     6  \n",
            "30    5     8  \n",
            "31    4     2  \n"
          ]
        }
      ]
    },
    {
      "cell_type": "code",
      "source": [
        "Y = data['mpg']\n",
        "print(Y)"
      ],
      "metadata": {
        "colab": {
          "base_uri": "https://localhost:8080/"
        },
        "id": "QRdTSNdnXbFc",
        "outputId": "8b210158-62a5-409c-b6c1-4d40bb72e0a2"
      },
      "execution_count": 113,
      "outputs": [
        {
          "output_type": "stream",
          "name": "stdout",
          "text": [
            "0     21.0\n",
            "1     21.0\n",
            "2     22.8\n",
            "3     21.4\n",
            "4     18.7\n",
            "5     18.1\n",
            "6     14.3\n",
            "7     24.4\n",
            "8     22.8\n",
            "9     19.2\n",
            "10    17.8\n",
            "11    16.4\n",
            "12    17.3\n",
            "13    15.2\n",
            "14    10.4\n",
            "15    10.4\n",
            "16    14.7\n",
            "17    32.4\n",
            "18    30.4\n",
            "19    33.9\n",
            "20    21.5\n",
            "21    15.5\n",
            "22    15.2\n",
            "23    13.3\n",
            "24    19.2\n",
            "25    27.3\n",
            "26    26.0\n",
            "27    30.4\n",
            "28    15.8\n",
            "29    19.7\n",
            "30    15.0\n",
            "31    21.4\n",
            "Name: mpg, dtype: float64\n"
          ]
        }
      ]
    },
    {
      "cell_type": "code",
      "source": [
        "X = X.iloc[:,1:]\n",
        "print(X.head())"
      ],
      "metadata": {
        "colab": {
          "base_uri": "https://localhost:8080/"
        },
        "id": "gjQg7UIFXxSK",
        "outputId": "af122315-72aa-44a3-d3d5-ecd2f035b094"
      },
      "execution_count": 114,
      "outputs": [
        {
          "output_type": "stream",
          "name": "stdout",
          "text": [
            "   cyl   disp   hp  drat     wt   qsec  vs      am gear  carb\n",
            "0  6.0  160.0  110  3.90  2.620  16.46   0  manual    4     4\n",
            "1  6.0  160.0  110  3.90  2.875  17.02   0  manual    4     4\n",
            "2  4.0  108.0   93  3.85  2.320  18.61   1  manual    4     1\n",
            "3  6.0  258.0  110  3.08  3.215   0.10   1    auto    3     1\n",
            "4  8.0  360.0  175  3.15  3.440  17.02   0    auto    3     2\n"
          ]
        }
      ]
    },
    {
      "cell_type": "code",
      "source": [
        "print(X.isnull().sum())"
      ],
      "metadata": {
        "colab": {
          "base_uri": "https://localhost:8080/"
        },
        "id": "pAonT1vPYV80",
        "outputId": "1860bd63-81a1-483b-9983-a606a5b32aac"
      },
      "execution_count": 115,
      "outputs": [
        {
          "output_type": "stream",
          "name": "stdout",
          "text": [
            "cyl     2\n",
            "disp    0\n",
            "hp      0\n",
            "drat    0\n",
            "wt      0\n",
            "qsec    1\n",
            "vs      0\n",
            "am      0\n",
            "gear    0\n",
            "carb    0\n",
            "dtype: int64\n"
          ]
        }
      ]
    },
    {
      "cell_type": "code",
      "source": [
        "X_cyl_mean = X['cyl'].mean()\n",
        "print(X_cyl_mean)"
      ],
      "metadata": {
        "colab": {
          "base_uri": "https://localhost:8080/"
        },
        "id": "IngIjA4mYe8N",
        "outputId": "a25038c5-035f-4ad5-b23c-298f670d86d4"
      },
      "execution_count": 116,
      "outputs": [
        {
          "output_type": "stream",
          "name": "stdout",
          "text": [
            "7.6\n"
          ]
        }
      ]
    },
    {
      "cell_type": "code",
      "source": [
        "X['cyl'] = X['cyl'].fillna(X_cyl_mean)"
      ],
      "metadata": {
        "id": "7X6FqQeeYuGh"
      },
      "execution_count": 117,
      "outputs": []
    },
    {
      "cell_type": "code",
      "source": [
        "print(X.isnull().sum())"
      ],
      "metadata": {
        "colab": {
          "base_uri": "https://localhost:8080/"
        },
        "id": "McZZT-JrY5Bi",
        "outputId": "0863f14a-d9b7-4d11-d5cd-4ecd5502d019"
      },
      "execution_count": 118,
      "outputs": [
        {
          "output_type": "stream",
          "name": "stdout",
          "text": [
            "cyl     0\n",
            "disp    0\n",
            "hp      0\n",
            "drat    0\n",
            "wt      0\n",
            "qsec    1\n",
            "vs      0\n",
            "am      0\n",
            "gear    0\n",
            "carb    0\n",
            "dtype: int64\n"
          ]
        }
      ]
    },
    {
      "cell_type": "code",
      "source": [
        "X_qsec_median = X['qsec'].median()\n",
        "print(X_qsec_median)"
      ],
      "metadata": {
        "colab": {
          "base_uri": "https://localhost:8080/"
        },
        "id": "eGi8C_xfY78O",
        "outputId": "9c51ce4e-3947-4dfb-f2f9-9bad94ce16d0"
      },
      "execution_count": 119,
      "outputs": [
        {
          "output_type": "stream",
          "name": "stdout",
          "text": [
            "17.6\n"
          ]
        }
      ]
    },
    {
      "cell_type": "code",
      "source": [
        "X['qsec'] = X['qsec'].fillna(X_qsec_median)"
      ],
      "metadata": {
        "id": "IX4X7hfpZFUQ"
      },
      "execution_count": 120,
      "outputs": []
    },
    {
      "cell_type": "code",
      "source": [
        "print(X.isnull().sum())"
      ],
      "metadata": {
        "colab": {
          "base_uri": "https://localhost:8080/"
        },
        "id": "v48XH5nhZQQp",
        "outputId": "c96094f8-3d45-4cc0-cbc9-5dbc58c8bd44"
      },
      "execution_count": 121,
      "outputs": [
        {
          "output_type": "stream",
          "name": "stdout",
          "text": [
            "cyl     0\n",
            "disp    0\n",
            "hp      0\n",
            "drat    0\n",
            "wt      0\n",
            "qsec    0\n",
            "vs      0\n",
            "am      0\n",
            "gear    0\n",
            "carb    0\n",
            "dtype: int64\n"
          ]
        }
      ]
    },
    {
      "cell_type": "code",
      "source": [
        "print(X['gear'].unique())"
      ],
      "metadata": {
        "colab": {
          "base_uri": "https://localhost:8080/"
        },
        "id": "MXzGZRHLZX0b",
        "outputId": "f349d599-e1b0-4f78-cc18-f66f1eee9962"
      },
      "execution_count": 122,
      "outputs": [
        {
          "output_type": "stream",
          "name": "stdout",
          "text": [
            "['4' '3' '*3' '5' '*5']\n"
          ]
        }
      ]
    },
    {
      "cell_type": "code",
      "source": [
        "print(X['gear'].replace('*3','3').replace('*5','5'))"
      ],
      "metadata": {
        "colab": {
          "base_uri": "https://localhost:8080/"
        },
        "id": "Lxnp8o4RaThv",
        "outputId": "2714e08c-c41e-4962-c9b8-a7cb99edffe4"
      },
      "execution_count": 123,
      "outputs": [
        {
          "output_type": "stream",
          "name": "stdout",
          "text": [
            "0     4\n",
            "1     4\n",
            "2     4\n",
            "3     3\n",
            "4     3\n",
            "5     3\n",
            "6     3\n",
            "7     4\n",
            "8     4\n",
            "9     4\n",
            "10    4\n",
            "11    3\n",
            "12    3\n",
            "13    3\n",
            "14    3\n",
            "15    3\n",
            "16    3\n",
            "17    4\n",
            "18    4\n",
            "19    4\n",
            "20    3\n",
            "21    3\n",
            "22    3\n",
            "23    3\n",
            "24    3\n",
            "25    4\n",
            "26    5\n",
            "27    5\n",
            "28    5\n",
            "29    5\n",
            "30    5\n",
            "31    4\n",
            "Name: gear, dtype: object\n"
          ]
        }
      ]
    },
    {
      "cell_type": "code",
      "source": [
        "X['gear'] = X['gear'].replace('*3','3').replace('*5','5')"
      ],
      "metadata": {
        "id": "V1D-ZSsZagkV"
      },
      "execution_count": 124,
      "outputs": []
    },
    {
      "cell_type": "code",
      "source": [
        "print(X['gear'].unique())"
      ],
      "metadata": {
        "colab": {
          "base_uri": "https://localhost:8080/"
        },
        "id": "cYBP9GMBamqL",
        "outputId": "5b32d049-90fd-484d-9a71-a3eac29e887f"
      },
      "execution_count": 125,
      "outputs": [
        {
          "output_type": "stream",
          "name": "stdout",
          "text": [
            "['4' '3' '5']\n"
          ]
        }
      ]
    },
    {
      "cell_type": "code",
      "source": [
        "X_describe = X.describe()\n",
        "print(X_describe)"
      ],
      "metadata": {
        "colab": {
          "base_uri": "https://localhost:8080/"
        },
        "id": "UWgXpiQEaowE",
        "outputId": "dd27f627-04ec-4f93-e3a2-0563735e749f"
      },
      "execution_count": 126,
      "outputs": [
        {
          "output_type": "stream",
          "name": "stdout",
          "text": [
            "             cyl        disp          hp       drat         wt        qsec  \\\n",
            "count  32.000000   32.000000   32.000000  32.000000  32.000000   32.000000   \n",
            "mean    7.600000  230.721875  146.687500   3.596563   3.217250   19.795938   \n",
            "std     7.925459  123.938694   68.562868   0.534679   0.978457   15.066831   \n",
            "min     4.000000   71.100000   52.000000   2.760000   1.513000    0.100000   \n",
            "25%     4.000000  120.825000   96.500000   3.080000   2.581250   16.827500   \n",
            "50%     6.000000  196.300000  123.000000   3.695000   3.325000   17.600000   \n",
            "75%     8.000000  326.000000  180.000000   3.920000   3.610000   18.682500   \n",
            "max    50.000000  472.000000  335.000000   4.930000   5.424000  100.000000   \n",
            "\n",
            "              vs     carb  \n",
            "count  32.000000  32.0000  \n",
            "mean    0.437500   2.8125  \n",
            "std     0.504016   1.6152  \n",
            "min     0.000000   1.0000  \n",
            "25%     0.000000   2.0000  \n",
            "50%     0.000000   2.0000  \n",
            "75%     1.000000   4.0000  \n",
            "max     1.000000   8.0000  \n"
          ]
        }
      ]
    },
    {
      "cell_type": "code",
      "source": [
        "print(X_describe.loc['75%'],X_describe.loc['25%'])"
      ],
      "metadata": {
        "colab": {
          "base_uri": "https://localhost:8080/"
        },
        "id": "nr91_1f9a0xQ",
        "outputId": "b0a3dfd6-6dc1-4e33-a506-901d008f2a8a"
      },
      "execution_count": 127,
      "outputs": [
        {
          "output_type": "stream",
          "name": "stdout",
          "text": [
            "cyl       8.0000\n",
            "disp    326.0000\n",
            "hp      180.0000\n",
            "drat      3.9200\n",
            "wt        3.6100\n",
            "qsec     18.6825\n",
            "vs        1.0000\n",
            "carb      4.0000\n",
            "Name: 75%, dtype: float64 cyl       4.00000\n",
            "disp    120.82500\n",
            "hp       96.50000\n",
            "drat      3.08000\n",
            "wt        2.58125\n",
            "qsec     16.82750\n",
            "vs        0.00000\n",
            "carb      2.00000\n",
            "Name: 25%, dtype: float64\n"
          ]
        }
      ]
    },
    {
      "cell_type": "code",
      "source": [
        "X_iqr = X_describe.loc['75%']-X_describe.loc['25%']\n",
        "print(X_iqr)"
      ],
      "metadata": {
        "colab": {
          "base_uri": "https://localhost:8080/"
        },
        "id": "0uJpoBebbPNq",
        "outputId": "be6f6337-cbd9-4a13-86ac-bec6ee92b31a"
      },
      "execution_count": 128,
      "outputs": [
        {
          "output_type": "stream",
          "name": "stdout",
          "text": [
            "cyl       4.00000\n",
            "disp    205.17500\n",
            "hp       83.50000\n",
            "drat      0.84000\n",
            "wt        1.02875\n",
            "qsec      1.85500\n",
            "vs        1.00000\n",
            "carb      2.00000\n",
            "dtype: float64\n"
          ]
        }
      ]
    },
    {
      "cell_type": "code",
      "source": [
        "print(X_describe.loc['75%']+(1.5*X_iqr))"
      ],
      "metadata": {
        "colab": {
          "base_uri": "https://localhost:8080/"
        },
        "id": "rHYnxqbQbh73",
        "outputId": "9841b850-ab3c-439c-b30d-7392cddd1579"
      },
      "execution_count": 129,
      "outputs": [
        {
          "output_type": "stream",
          "name": "stdout",
          "text": [
            "cyl      14.000000\n",
            "disp    633.762500\n",
            "hp      305.250000\n",
            "drat      5.180000\n",
            "wt        5.153125\n",
            "qsec     21.465000\n",
            "vs        2.500000\n",
            "carb      7.000000\n",
            "dtype: float64\n"
          ]
        }
      ]
    },
    {
      "cell_type": "code",
      "source": [
        "print(X_describe.loc['max'])"
      ],
      "metadata": {
        "colab": {
          "base_uri": "https://localhost:8080/"
        },
        "id": "np0jvocubwd0",
        "outputId": "ddd250cf-3dcd-4d6b-9598-a0b2e87540c0"
      },
      "execution_count": 130,
      "outputs": [
        {
          "output_type": "stream",
          "name": "stdout",
          "text": [
            "cyl      50.000\n",
            "disp    472.000\n",
            "hp      335.000\n",
            "drat      4.930\n",
            "wt        5.424\n",
            "qsec    100.000\n",
            "vs        1.000\n",
            "carb      8.000\n",
            "Name: max, dtype: float64\n"
          ]
        }
      ]
    },
    {
      "cell_type": "code",
      "source": [
        "print(X.loc[X['cyl']>14])"
      ],
      "metadata": {
        "colab": {
          "base_uri": "https://localhost:8080/"
        },
        "id": "9LjBaZm0b5h_",
        "outputId": "32f7fdb6-a0f0-41d4-8c10-7d11224e923c"
      },
      "execution_count": 131,
      "outputs": [
        {
          "output_type": "stream",
          "name": "stdout",
          "text": [
            "     cyl   disp   hp  drat    wt   qsec  vs    am gear  carb\n",
            "14  50.0  472.0  205  2.93  5.25  17.98   0  auto    3     4\n"
          ]
        }
      ]
    },
    {
      "cell_type": "code",
      "source": [
        "X.loc[14,'cyl'] = 14\n",
        "X.loc[14,'cyl']"
      ],
      "metadata": {
        "colab": {
          "base_uri": "https://localhost:8080/"
        },
        "id": "N2iM7Q7ccI3C",
        "outputId": "52d6e3ed-8c5c-4fcf-e96e-be5e51425a60"
      },
      "execution_count": 132,
      "outputs": [
        {
          "output_type": "execute_result",
          "data": {
            "text/plain": [
              "14.0"
            ]
          },
          "metadata": {},
          "execution_count": 132
        }
      ]
    },
    {
      "cell_type": "code",
      "source": [
        "print(X.loc[X['hp']>305.25])"
      ],
      "metadata": {
        "colab": {
          "base_uri": "https://localhost:8080/"
        },
        "id": "aKbmSI5pcX3n",
        "outputId": "c3184955-fa18-49e5-e1f7-ef204ea48ce1"
      },
      "execution_count": 133,
      "outputs": [
        {
          "output_type": "stream",
          "name": "stdout",
          "text": [
            "    cyl   disp   hp  drat    wt  qsec  vs      am gear  carb\n",
            "30  8.0  301.0  335  3.54  3.57  14.6   0  manual    5     8\n"
          ]
        }
      ]
    },
    {
      "cell_type": "code",
      "source": [
        "X.loc[30,'hp'] = 305.25\n",
        "X.loc[30,'hp']"
      ],
      "metadata": {
        "colab": {
          "base_uri": "https://localhost:8080/"
        },
        "id": "-HRElM7lchTk",
        "outputId": "ee366587-aa19-466e-c23d-f09830417b80"
      },
      "execution_count": 134,
      "outputs": [
        {
          "output_type": "execute_result",
          "data": {
            "text/plain": [
              "305.25"
            ]
          },
          "metadata": {},
          "execution_count": 134
        }
      ]
    },
    {
      "cell_type": "code",
      "source": [
        "print(X_describe.loc['25%']-(X_iqr*1.5))"
      ],
      "metadata": {
        "colab": {
          "base_uri": "https://localhost:8080/"
        },
        "id": "rxwoYHd-cs6P",
        "outputId": "1f75acc3-ee8d-4311-ec5b-3f7af6c1ad49"
      },
      "execution_count": 135,
      "outputs": [
        {
          "output_type": "stream",
          "name": "stdout",
          "text": [
            "cyl      -2.000000\n",
            "disp   -186.937500\n",
            "hp      -28.750000\n",
            "drat      1.820000\n",
            "wt        1.038125\n",
            "qsec     14.045000\n",
            "vs       -1.500000\n",
            "carb     -1.000000\n",
            "dtype: float64\n"
          ]
        }
      ]
    },
    {
      "cell_type": "code",
      "source": [
        "print(X_describe.loc['min'])"
      ],
      "metadata": {
        "colab": {
          "base_uri": "https://localhost:8080/"
        },
        "id": "YoL0Qf7Ic9lx",
        "outputId": "4ec41911-d20d-4735-cdd6-5c1237feff4c"
      },
      "execution_count": 136,
      "outputs": [
        {
          "output_type": "stream",
          "name": "stdout",
          "text": [
            "cyl      4.000\n",
            "disp    71.100\n",
            "hp      52.000\n",
            "drat     2.760\n",
            "wt       1.513\n",
            "qsec     0.100\n",
            "vs       0.000\n",
            "carb     1.000\n",
            "Name: min, dtype: float64\n"
          ]
        }
      ]
    },
    {
      "cell_type": "code",
      "source": [
        "def outlier(data,column):\n",
        "  mean = data[column].mean()\n",
        "  std = data[column].std()\n",
        "  lowest = mean-(std*1.5)\n",
        "  highest = mean+(std*1.5)\n",
        "  print(lowest,highest)\n",
        "  outlier_index = data[column][(data[column]<lowest)|(data[column]>highest)].index\n",
        "  return outlier_index"
      ],
      "metadata": {
        "id": "otkjf4XrdD3T"
      },
      "execution_count": 137,
      "outputs": []
    },
    {
      "cell_type": "code",
      "source": [
        "print(outlier(X,'qsec'))"
      ],
      "metadata": {
        "colab": {
          "base_uri": "https://localhost:8080/"
        },
        "id": "-28F8eQAegkR",
        "outputId": "0f1ccb7f-4b54-4189-c690-a03650423e59"
      },
      "execution_count": 138,
      "outputs": [
        {
          "output_type": "stream",
          "name": "stdout",
          "text": [
            "-2.8043094560577657 42.39618445605777\n",
            "Int64Index([24], dtype='int64')\n"
          ]
        }
      ]
    },
    {
      "cell_type": "code",
      "source": [
        "print(X.loc[24,'qsec'])"
      ],
      "metadata": {
        "colab": {
          "base_uri": "https://localhost:8080/"
        },
        "id": "TD9Tt3qqel-y",
        "outputId": "d7198425-f311-44b8-8e8a-013ee1afe5b5"
      },
      "execution_count": 139,
      "outputs": [
        {
          "output_type": "stream",
          "name": "stdout",
          "text": [
            "100.0\n"
          ]
        }
      ]
    },
    {
      "cell_type": "code",
      "source": [
        "X.loc[24,'qsec'] = 42.396\n",
        "print(X.loc[24,'qsec'])"
      ],
      "metadata": {
        "colab": {
          "base_uri": "https://localhost:8080/"
        },
        "id": "QuzbPmlve1uv",
        "outputId": "54408209-9d2b-4166-9e24-cd6646e3a6be"
      },
      "execution_count": 140,
      "outputs": [
        {
          "output_type": "stream",
          "name": "stdout",
          "text": [
            "42.396\n"
          ]
        }
      ]
    },
    {
      "cell_type": "code",
      "source": [
        "print(outlier(X,'carb'))"
      ],
      "metadata": {
        "colab": {
          "base_uri": "https://localhost:8080/"
        },
        "id": "GohCZ_MdfY2f",
        "outputId": "90e73cc1-a49d-4032-f1bd-6098bba0cdbd"
      },
      "execution_count": 141,
      "outputs": [
        {
          "output_type": "stream",
          "name": "stdout",
          "text": [
            "0.3897000335522218 5.235299966447778\n",
            "Int64Index([29, 30], dtype='int64')\n"
          ]
        }
      ]
    },
    {
      "cell_type": "code",
      "source": [
        "print(X.loc[[29,30],'carb'])"
      ],
      "metadata": {
        "colab": {
          "base_uri": "https://localhost:8080/"
        },
        "id": "th1YQn7sfnf2",
        "outputId": "e7324bdf-bdfc-45de-8d54-75e33587611b"
      },
      "execution_count": 142,
      "outputs": [
        {
          "output_type": "stream",
          "name": "stdout",
          "text": [
            "29    6\n",
            "30    8\n",
            "Name: carb, dtype: int64\n"
          ]
        }
      ]
    },
    {
      "cell_type": "code",
      "source": [
        "X.loc[29,'carb'] = 5.235\n",
        "X.loc[30,'carb'] = 5.235\n",
        "print(X.loc[[29,30],'carb'])"
      ],
      "metadata": {
        "colab": {
          "base_uri": "https://localhost:8080/"
        },
        "id": "--YW_YUKf4Ys",
        "outputId": "40ab871f-e80d-4448-a61c-677ec7b4ceb6"
      },
      "execution_count": 143,
      "outputs": [
        {
          "output_type": "stream",
          "name": "stdout",
          "text": [
            "29    5.235\n",
            "30    5.235\n",
            "Name: carb, dtype: float64\n"
          ]
        }
      ]
    },
    {
      "cell_type": "code",
      "source": [
        "from sklearn.preprocessing import StandardScaler"
      ],
      "metadata": {
        "id": "UaYpHW7BgJyb"
      },
      "execution_count": 144,
      "outputs": []
    },
    {
      "cell_type": "code",
      "source": [
        "temp = X[['qsec']]"
      ],
      "metadata": {
        "id": "RqYZzYWMJ9FZ"
      },
      "execution_count": 145,
      "outputs": []
    },
    {
      "cell_type": "code",
      "source": [
        "scaler = StandardScaler()\n",
        "\n",
        "print(scaler.fit_transform(temp))"
      ],
      "metadata": {
        "colab": {
          "base_uri": "https://localhost:8080/"
        },
        "id": "1SH3d4yJKAGs",
        "outputId": "1be1ae74-86b4-4e88-8d6d-04730b700373"
      },
      "execution_count": 146,
      "outputs": [
        {
          "output_type": "stream",
          "name": "stdout",
          "text": [
            "[[-2.73145534e-01]\n",
            " [-1.73549067e-01]\n",
            " [ 1.09233759e-01]\n",
            " [-3.18278518e+00]\n",
            " [-1.73549067e-01]\n",
            " [ 3.95573602e-01]\n",
            " [-3.83413051e-01]\n",
            " [ 3.56446419e-01]\n",
            " [ 8.72213838e-01]\n",
            " [ 5.41000006e-02]\n",
            " [-7.03955833e-02]\n",
            " [-1.05965750e-01]\n",
            " [-7.03955833e-02]\n",
            " [ 7.44750368e-04]\n",
            " [-2.81226632e-03]\n",
            " [-3.12683998e-02]\n",
            " [-1.02408733e-01]\n",
            " [ 2.62185477e-01]\n",
            " [ 9.32271841e-02]\n",
            " [ 3.38661335e-01]\n",
            " [ 3.58224927e-01]\n",
            " [-2.00226692e-01]\n",
            " [-1.23750834e-01]\n",
            " [-4.59888910e-01]\n",
            " [ 4.33959370e+00]\n",
            " [ 1.60810501e-01]\n",
            " [-2.30461334e-01]\n",
            " [-1.94891167e-01]\n",
            " [-6.21733169e-01]\n",
            " [-4.43882335e-01]\n",
            " [-6.03948086e-01]\n",
            " [ 1.07455251e-01]]\n"
          ]
        }
      ]
    },
    {
      "cell_type": "code",
      "source": [
        "qsec_s_scaler = pd.DataFrame(scaler.fit_transform(temp))\n",
        "\n",
        "print(qsec_s_scaler.describe())"
      ],
      "metadata": {
        "colab": {
          "base_uri": "https://localhost:8080/"
        },
        "id": "opqBK5NlKJQ2",
        "outputId": "19ddc825-cf09-4815-ad1c-191e639d88b8"
      },
      "execution_count": 147,
      "outputs": [
        {
          "output_type": "stream",
          "name": "stdout",
          "text": [
            "                  0\n",
            "count  3.200000e+01\n",
            "mean   6.938894e-17\n",
            "std    1.016001e+00\n",
            "min   -3.182785e+00\n",
            "25%   -2.077854e-01\n",
            "50%   -7.039558e-02\n",
            "75%    1.221279e-01\n",
            "max    4.339594e+00\n"
          ]
        }
      ]
    },
    {
      "cell_type": "code",
      "source": [
        "# X['qsec'] = pd.DataFrame(scaler.fit_transform(temp))"
      ],
      "metadata": {
        "id": "WG_Efm-aKaRV"
      },
      "execution_count": 148,
      "outputs": []
    },
    {
      "cell_type": "code",
      "source": [
        "from sklearn.preprocessing import MinMaxScaler"
      ],
      "metadata": {
        "id": "k4S9hHXUKse5"
      },
      "execution_count": 149,
      "outputs": []
    },
    {
      "cell_type": "code",
      "source": [
        "temp = X[['qsec']]"
      ],
      "metadata": {
        "id": "8W4qvguJKxnn"
      },
      "execution_count": 150,
      "outputs": []
    },
    {
      "cell_type": "code",
      "source": [
        "scaler = MinMaxScaler()"
      ],
      "metadata": {
        "id": "jzBBCqnLK1EG"
      },
      "execution_count": 151,
      "outputs": []
    },
    {
      "cell_type": "code",
      "source": [
        "qsec_m_scaler = pd.DataFrame(scaler.fit_transform(temp))\n",
        "print(qsec_m_scaler)"
      ],
      "metadata": {
        "colab": {
          "base_uri": "https://localhost:8080/"
        },
        "id": "Tp6QpeYAK39c",
        "outputId": "728348fb-ec2c-49e5-a4af-443533b9cf36"
      },
      "execution_count": 152,
      "outputs": [
        {
          "output_type": "stream",
          "name": "stdout",
          "text": [
            "           0\n",
            "0   0.386798\n",
            "1   0.400038\n",
            "2   0.437630\n",
            "3   0.000000\n",
            "4   0.400038\n",
            "5   0.475695\n",
            "6   0.372139\n",
            "7   0.470494\n",
            "8   0.539058\n",
            "9   0.430301\n",
            "10  0.413751\n",
            "11  0.409022\n",
            "12  0.413751\n",
            "13  0.423208\n",
            "14  0.422735\n",
            "15  0.418952\n",
            "16  0.409495\n",
            "17  0.457963\n",
            "18  0.435502\n",
            "19  0.468129\n",
            "20  0.470730\n",
            "21  0.396491\n",
            "22  0.406658\n",
            "23  0.361973\n",
            "24  1.000000\n",
            "25  0.444486\n",
            "26  0.392472\n",
            "27  0.397201\n",
            "28  0.340458\n",
            "29  0.364101\n",
            "30  0.342822\n",
            "31  0.437394\n"
          ]
        }
      ]
    },
    {
      "cell_type": "code",
      "source": [
        "print(qsec_m_scaler.describe())"
      ],
      "metadata": {
        "colab": {
          "base_uri": "https://localhost:8080/"
        },
        "id": "zEQu1hZ0LB2l",
        "outputId": "bd3b5827-ca23-422e-9be1-fddfaf4e8850"
      },
      "execution_count": 153,
      "outputs": [
        {
          "output_type": "stream",
          "name": "stdout",
          "text": [
            "               0\n",
            "count  32.000000\n",
            "mean    0.423109\n",
            "std     0.135064\n",
            "min     0.000000\n",
            "25%     0.395487\n",
            "50%     0.413751\n",
            "75%     0.439344\n",
            "max     1.000000\n"
          ]
        }
      ]
    },
    {
      "cell_type": "code",
      "source": [
        "from sklearn.preprocessing import RobustScaler"
      ],
      "metadata": {
        "id": "uyU3hIg0LIXy"
      },
      "execution_count": 154,
      "outputs": []
    },
    {
      "cell_type": "code",
      "source": [
        "temp = X[['qsec']]"
      ],
      "metadata": {
        "id": "8vi5rAO3LY6W"
      },
      "execution_count": 158,
      "outputs": []
    },
    {
      "cell_type": "code",
      "source": [
        "scaler = RobustScaler()"
      ],
      "metadata": {
        "id": "qHKt8ZiULa6H"
      },
      "execution_count": 159,
      "outputs": []
    },
    {
      "cell_type": "code",
      "source": [
        "qsec_r_scaler = pd.DataFrame(scaler.fit_transform(temp))\n",
        "print(qsec_r_scaler)"
      ],
      "metadata": {
        "colab": {
          "base_uri": "https://localhost:8080/"
        },
        "id": "XKm6jQh8Ld0v",
        "outputId": "9794d167-de56-424d-a017-c7bab1889919"
      },
      "execution_count": 160,
      "outputs": [
        {
          "output_type": "stream",
          "name": "stdout",
          "text": [
            "            0\n",
            "0   -0.614555\n",
            "1   -0.312668\n",
            "2    0.544474\n",
            "3   -9.433962\n",
            "4   -0.312668\n",
            "5    1.412399\n",
            "6   -0.948787\n",
            "7    1.293801\n",
            "8    2.857143\n",
            "9    0.377358\n",
            "10   0.000000\n",
            "11  -0.107817\n",
            "12   0.000000\n",
            "13   0.215633\n",
            "14   0.204852\n",
            "15   0.118598\n",
            "16  -0.097035\n",
            "17   1.008086\n",
            "18   0.495957\n",
            "19   1.239892\n",
            "20   1.299191\n",
            "21  -0.393531\n",
            "22  -0.161725\n",
            "23  -1.180593\n",
            "24  13.367116\n",
            "25   0.700809\n",
            "26  -0.485175\n",
            "27  -0.377358\n",
            "28  -1.671159\n",
            "29  -1.132075\n",
            "30  -1.617251\n",
            "31   0.539084\n"
          ]
        }
      ]
    },
    {
      "cell_type": "code",
      "source": [
        "print(qsec_r_scaler.describe())"
      ],
      "metadata": {
        "colab": {
          "base_uri": "https://localhost:8080/"
        },
        "id": "jQwWJ2P-Lm-W",
        "outputId": "d854e1da-5178-4bb4-8ac7-d0eb95f6a968"
      },
      "execution_count": 161,
      "outputs": [
        {
          "output_type": "stream",
          "name": "stdout",
          "text": [
            "               0\n",
            "count  32.000000\n",
            "mean    0.213376\n",
            "std     3.079600\n",
            "min    -9.433962\n",
            "25%    -0.416442\n",
            "50%     0.000000\n",
            "75%     0.583558\n",
            "max    13.367116\n"
          ]
        }
      ]
    },
    {
      "cell_type": "code",
      "source": [
        "print(X.info())"
      ],
      "metadata": {
        "colab": {
          "base_uri": "https://localhost:8080/"
        },
        "id": "sGn2zlT8Lz-J",
        "outputId": "b08fb528-c769-4ba4-f90d-13b2d0e66203"
      },
      "execution_count": 162,
      "outputs": [
        {
          "output_type": "stream",
          "name": "stdout",
          "text": [
            "<class 'pandas.core.frame.DataFrame'>\n",
            "RangeIndex: 32 entries, 0 to 31\n",
            "Data columns (total 10 columns):\n",
            " #   Column  Non-Null Count  Dtype  \n",
            "---  ------  --------------  -----  \n",
            " 0   cyl     32 non-null     float64\n",
            " 1   disp    32 non-null     float64\n",
            " 2   hp      32 non-null     float64\n",
            " 3   drat    32 non-null     float64\n",
            " 4   wt      32 non-null     float64\n",
            " 5   qsec    32 non-null     float64\n",
            " 6   vs      32 non-null     int64  \n",
            " 7   am      32 non-null     object \n",
            " 8   gear    32 non-null     object \n",
            " 9   carb    32 non-null     float64\n",
            "dtypes: float64(7), int64(1), object(2)\n",
            "memory usage: 2.6+ KB\n",
            "None\n"
          ]
        }
      ]
    },
    {
      "cell_type": "code",
      "source": [
        "X['gear'] = X['gear'].astype('int64')\n",
        "X['gear'].dtype"
      ],
      "metadata": {
        "colab": {
          "base_uri": "https://localhost:8080/"
        },
        "id": "8HR0kNwAMCSy",
        "outputId": "4c6eca69-12d8-4f38-e231-6c23ecf090d8"
      },
      "execution_count": 163,
      "outputs": [
        {
          "output_type": "execute_result",
          "data": {
            "text/plain": [
              "dtype('int64')"
            ]
          },
          "metadata": {},
          "execution_count": 163
        }
      ]
    },
    {
      "cell_type": "code",
      "source": [
        "print(X.head())"
      ],
      "metadata": {
        "colab": {
          "base_uri": "https://localhost:8080/"
        },
        "id": "MXAaXvt8MRZ0",
        "outputId": "8313c6d8-c64b-4204-cc9e-40bacf51b2de"
      },
      "execution_count": 165,
      "outputs": [
        {
          "output_type": "stream",
          "name": "stdout",
          "text": [
            "   cyl   disp     hp  drat     wt   qsec  vs      am  gear  carb\n",
            "0  6.0  160.0  110.0  3.90  2.620  16.46   0  manual     4   4.0\n",
            "1  6.0  160.0  110.0  3.90  2.875  17.02   0  manual     4   4.0\n",
            "2  4.0  108.0   93.0  3.85  2.320  18.61   1  manual     4   1.0\n",
            "3  6.0  258.0  110.0  3.08  3.215   0.10   1    auto     3   1.0\n",
            "4  8.0  360.0  175.0  3.15  3.440  17.02   0    auto     3   2.0\n"
          ]
        }
      ]
    },
    {
      "cell_type": "code",
      "source": [
        "print(X['am'].unique())"
      ],
      "metadata": {
        "colab": {
          "base_uri": "https://localhost:8080/"
        },
        "id": "4q6TmgcnNZhk",
        "outputId": "33d12946-51ac-4dc1-8037-4a6843bd453f"
      },
      "execution_count": 166,
      "outputs": [
        {
          "output_type": "stream",
          "name": "stdout",
          "text": [
            "['manual' 'auto']\n"
          ]
        }
      ]
    },
    {
      "cell_type": "code",
      "source": [
        "print(pd.get_dummies(X['am']))"
      ],
      "metadata": {
        "colab": {
          "base_uri": "https://localhost:8080/"
        },
        "id": "-25TPIIcNjB8",
        "outputId": "14401217-3218-40e0-de00-a118f9e51688"
      },
      "execution_count": 167,
      "outputs": [
        {
          "output_type": "stream",
          "name": "stdout",
          "text": [
            "    auto  manual\n",
            "0      0       1\n",
            "1      0       1\n",
            "2      0       1\n",
            "3      1       0\n",
            "4      1       0\n",
            "5      1       0\n",
            "6      1       0\n",
            "7      1       0\n",
            "8      1       0\n",
            "9      1       0\n",
            "10     1       0\n",
            "11     1       0\n",
            "12     1       0\n",
            "13     1       0\n",
            "14     1       0\n",
            "15     1       0\n",
            "16     1       0\n",
            "17     0       1\n",
            "18     0       1\n",
            "19     0       1\n",
            "20     1       0\n",
            "21     1       0\n",
            "22     1       0\n",
            "23     1       0\n",
            "24     1       0\n",
            "25     0       1\n",
            "26     0       1\n",
            "27     0       1\n",
            "28     0       1\n",
            "29     0       1\n",
            "30     0       1\n",
            "31     0       1\n"
          ]
        }
      ]
    },
    {
      "cell_type": "code",
      "source": [
        "print(pd.get_dummies(X['am'],drop_first=True))"
      ],
      "metadata": {
        "colab": {
          "base_uri": "https://localhost:8080/"
        },
        "id": "KanKRapKNoZ5",
        "outputId": "be4afb66-d55a-4412-d4c2-577bd6009aba"
      },
      "execution_count": 168,
      "outputs": [
        {
          "output_type": "stream",
          "name": "stdout",
          "text": [
            "    manual\n",
            "0        1\n",
            "1        1\n",
            "2        1\n",
            "3        0\n",
            "4        0\n",
            "5        0\n",
            "6        0\n",
            "7        0\n",
            "8        0\n",
            "9        0\n",
            "10       0\n",
            "11       0\n",
            "12       0\n",
            "13       0\n",
            "14       0\n",
            "15       0\n",
            "16       0\n",
            "17       1\n",
            "18       1\n",
            "19       1\n",
            "20       0\n",
            "21       0\n",
            "22       0\n",
            "23       0\n",
            "24       0\n",
            "25       1\n",
            "26       1\n",
            "27       1\n",
            "28       1\n",
            "29       1\n",
            "30       1\n",
            "31       1\n"
          ]
        }
      ]
    },
    {
      "cell_type": "code",
      "source": [
        "print(pd.get_dummies(X,drop_first=True))"
      ],
      "metadata": {
        "colab": {
          "base_uri": "https://localhost:8080/"
        },
        "id": "8nfiVm9lN4fp",
        "outputId": "46d26d1b-99e3-4da8-d409-0fb5cb338ae6"
      },
      "execution_count": 169,
      "outputs": [
        {
          "output_type": "stream",
          "name": "stdout",
          "text": [
            "     cyl   disp      hp  drat     wt    qsec  vs  gear   carb  am_manual\n",
            "0    6.0  160.0  110.00  3.90  2.620  16.460   0     4  4.000          1\n",
            "1    6.0  160.0  110.00  3.90  2.875  17.020   0     4  4.000          1\n",
            "2    4.0  108.0   93.00  3.85  2.320  18.610   1     4  1.000          1\n",
            "3    6.0  258.0  110.00  3.08  3.215   0.100   1     3  1.000          0\n",
            "4    8.0  360.0  175.00  3.15  3.440  17.020   0     3  2.000          0\n",
            "5    6.0  225.0  105.00  2.76  3.460  20.220   1     3  1.000          0\n",
            "6    8.0  360.0  245.00  3.21  3.570  15.840   0     3  4.000          0\n",
            "7    7.6  146.7   62.00  3.69  3.190  20.000   1     4  2.000          0\n",
            "8    4.0  140.8   95.00  3.92  3.150  22.900   1     4  2.000          0\n",
            "9    6.0  167.6  123.00  3.92  3.440  18.300   1     4  4.000          0\n",
            "10   6.0  167.6  123.00  3.92  3.440  17.600   1     4  4.000          0\n",
            "11   8.0  275.8  180.00  3.07  4.070  17.400   0     3  3.000          0\n",
            "12   8.0  275.8  180.00  3.07  3.730  17.600   0     3  3.000          0\n",
            "13   8.0  275.8  180.00  3.07  3.780  18.000   0     3  3.000          0\n",
            "14  14.0  472.0  205.00  2.93  5.250  17.980   0     3  4.000          0\n",
            "15   8.0  460.0  215.00  3.00  5.424  17.820   0     3  4.000          0\n",
            "16   8.0  440.0  230.00  3.23  5.345  17.420   0     3  4.000          0\n",
            "17   4.0   78.7   66.00  4.08  2.200  19.470   1     4  1.000          1\n",
            "18   4.0   75.7   52.00  4.93  1.615  18.520   1     4  2.000          1\n",
            "19   4.0   71.1   65.00  4.22  1.835  19.900   1     4  1.000          1\n",
            "20   4.0  120.1   97.00  3.70  2.465  20.010   1     3  1.000          0\n",
            "21   8.0  318.0  150.00  2.76  3.520  16.870   0     3  2.000          0\n",
            "22   8.0  304.0  150.00  3.15  3.435  17.300   0     3  2.000          0\n",
            "23   8.0  350.0  245.00  3.73  3.840  15.410   0     3  4.000          0\n",
            "24   7.6  400.0  175.00  3.08  3.845  42.396   0     3  2.000          0\n",
            "25   4.0   79.0   66.00  4.08  1.935  18.900   1     4  1.000          1\n",
            "26   4.0  120.3   91.00  4.43  2.140  16.700   0     5  2.000          1\n",
            "27   4.0   95.1  113.00  3.77  1.513  16.900   1     5  2.000          1\n",
            "28   8.0  351.0  264.00  4.22  3.170  14.500   0     5  4.000          1\n",
            "29   6.0  145.0  175.00  3.62  2.770  15.500   0     5  5.235          1\n",
            "30   8.0  301.0  305.25  3.54  3.570  14.600   0     5  5.235          1\n",
            "31   4.0  121.0  109.00  4.11  2.780  18.600   1     4  2.000          1\n"
          ]
        }
      ]
    },
    {
      "cell_type": "code",
      "source": [
        "print(X['am'].head())"
      ],
      "metadata": {
        "colab": {
          "base_uri": "https://localhost:8080/"
        },
        "id": "gNVJDfMQOKSI",
        "outputId": "cdaaf7e9-9333-4067-9c8c-467c9f1e9615"
      },
      "execution_count": 170,
      "outputs": [
        {
          "output_type": "stream",
          "name": "stdout",
          "text": [
            "0    manual\n",
            "1    manual\n",
            "2    manual\n",
            "3      auto\n",
            "4      auto\n",
            "Name: am, dtype: object\n"
          ]
        }
      ]
    },
    {
      "cell_type": "code",
      "source": [
        "from sklearn.preprocessing import LabelEncoder"
      ],
      "metadata": {
        "id": "Vsjd-ie7OaPr"
      },
      "execution_count": 171,
      "outputs": []
    },
    {
      "cell_type": "code",
      "source": [
        "encoder = LabelEncoder()"
      ],
      "metadata": {
        "id": "leP5EW3uOicC"
      },
      "execution_count": 172,
      "outputs": []
    },
    {
      "cell_type": "code",
      "source": [
        "print(encoder.fit_transform(X['am']))"
      ],
      "metadata": {
        "colab": {
          "base_uri": "https://localhost:8080/"
        },
        "id": "sub_vU5hOmX4",
        "outputId": "0dd5dc98-5bd8-4e60-d10c-68369b6a136f"
      },
      "execution_count": 173,
      "outputs": [
        {
          "output_type": "stream",
          "name": "stdout",
          "text": [
            "[1 1 1 0 0 0 0 0 0 0 0 0 0 0 0 0 0 1 1 1 0 0 0 0 0 1 1 1 1 1 1 1]\n"
          ]
        }
      ]
    },
    {
      "cell_type": "code",
      "source": [
        "X['am_new'] = X['am'].replace('manual',0).replace('auto',1)\n",
        "print(X.head())"
      ],
      "metadata": {
        "colab": {
          "base_uri": "https://localhost:8080/"
        },
        "id": "mol8h57KOraD",
        "outputId": "302db322-e369-4396-aa47-227dc7c0d69e"
      },
      "execution_count": 175,
      "outputs": [
        {
          "output_type": "stream",
          "name": "stdout",
          "text": [
            "   cyl   disp     hp  drat     wt   qsec  vs      am  gear  carb  am_new\n",
            "0  6.0  160.0  110.0  3.90  2.620  16.46   0  manual     4   4.0       0\n",
            "1  6.0  160.0  110.0  3.90  2.875  17.02   0  manual     4   4.0       0\n",
            "2  4.0  108.0   93.0  3.85  2.320  18.61   1  manual     4   1.0       0\n",
            "3  6.0  258.0  110.0  3.08  3.215   0.10   1    auto     3   1.0       1\n",
            "4  8.0  360.0  175.0  3.15  3.440  17.02   0    auto     3   2.0       1\n"
          ]
        }
      ]
    },
    {
      "cell_type": "code",
      "source": [
        "X = X.drop(columns = ['am'])\n",
        "\n",
        "print(X.head())"
      ],
      "metadata": {
        "colab": {
          "base_uri": "https://localhost:8080/"
        },
        "id": "IQscDb1AQGUZ",
        "outputId": "97aa618e-110b-4b75-d19a-4c3f43cc3e65"
      },
      "execution_count": 185,
      "outputs": [
        {
          "output_type": "stream",
          "name": "stdout",
          "text": [
            "   cyl   disp     hp  drat   qsec  vs  gear  carb  am_new  wt_class\n",
            "0  6.0  160.0  110.0  3.90  16.46   0     4   4.0       0       0.0\n",
            "1  6.0  160.0  110.0  3.90  17.02   0     4   4.0       0       0.0\n",
            "2  4.0  108.0   93.0  3.85  18.61   1     4   1.0       0       0.0\n",
            "3  6.0  258.0  110.0  3.08   0.10   1     3   1.0       1       0.0\n",
            "4  8.0  360.0  175.0  3.15  17.02   0     3   2.0       1       1.0\n"
          ]
        }
      ]
    },
    {
      "cell_type": "code",
      "source": [
        "print(X['wt']<3.3)"
      ],
      "metadata": {
        "colab": {
          "base_uri": "https://localhost:8080/"
        },
        "id": "cGn-E92YO_cS",
        "outputId": "e912b664-46b2-479f-c46d-c6ceefbda689"
      },
      "execution_count": 176,
      "outputs": [
        {
          "output_type": "stream",
          "name": "stdout",
          "text": [
            "0      True\n",
            "1      True\n",
            "2      True\n",
            "3      True\n",
            "4     False\n",
            "5     False\n",
            "6     False\n",
            "7      True\n",
            "8      True\n",
            "9     False\n",
            "10    False\n",
            "11    False\n",
            "12    False\n",
            "13    False\n",
            "14    False\n",
            "15    False\n",
            "16    False\n",
            "17     True\n",
            "18     True\n",
            "19     True\n",
            "20     True\n",
            "21    False\n",
            "22    False\n",
            "23    False\n",
            "24    False\n",
            "25     True\n",
            "26     True\n",
            "27     True\n",
            "28     True\n",
            "29     True\n",
            "30    False\n",
            "31     True\n",
            "Name: wt, dtype: bool\n"
          ]
        }
      ]
    },
    {
      "cell_type": "code",
      "source": [
        "condition = X['wt']<3.3\n",
        "\n",
        "X.loc[condition,'wt_class'] = 0\n",
        "\n",
        "X.loc[~condition,'wt_class'] = 1"
      ],
      "metadata": {
        "id": "MoU8fk7ZPJi8"
      },
      "execution_count": 179,
      "outputs": []
    },
    {
      "cell_type": "code",
      "source": [
        "print(X[['wt','wt_class']])"
      ],
      "metadata": {
        "colab": {
          "base_uri": "https://localhost:8080/"
        },
        "id": "uaubTjsFPZWw",
        "outputId": "b0c970f7-0cd8-4307-ee0c-bf6497cee254"
      },
      "execution_count": 180,
      "outputs": [
        {
          "output_type": "stream",
          "name": "stdout",
          "text": [
            "       wt  wt_class\n",
            "0   2.620       0.0\n",
            "1   2.875       0.0\n",
            "2   2.320       0.0\n",
            "3   3.215       0.0\n",
            "4   3.440       1.0\n",
            "5   3.460       1.0\n",
            "6   3.570       1.0\n",
            "7   3.190       0.0\n",
            "8   3.150       0.0\n",
            "9   3.440       1.0\n",
            "10  3.440       1.0\n",
            "11  4.070       1.0\n",
            "12  3.730       1.0\n",
            "13  3.780       1.0\n",
            "14  5.250       1.0\n",
            "15  5.424       1.0\n",
            "16  5.345       1.0\n",
            "17  2.200       0.0\n",
            "18  1.615       0.0\n",
            "19  1.835       0.0\n",
            "20  2.465       0.0\n",
            "21  3.520       1.0\n",
            "22  3.435       1.0\n",
            "23  3.840       1.0\n",
            "24  3.845       1.0\n",
            "25  1.935       0.0\n",
            "26  2.140       0.0\n",
            "27  1.513       0.0\n",
            "28  3.170       0.0\n",
            "29  2.770       0.0\n",
            "30  3.570       1.0\n",
            "31  2.780       0.0\n"
          ]
        }
      ]
    },
    {
      "cell_type": "code",
      "source": [
        "X = X.drop(columns = ['wt'])\n",
        "\n",
        "print(X.head())"
      ],
      "metadata": {
        "colab": {
          "base_uri": "https://localhost:8080/"
        },
        "id": "6VpKUOnPPdG4",
        "outputId": "025475fc-5365-4f82-c526-d49ac3285d1a"
      },
      "execution_count": 183,
      "outputs": [
        {
          "output_type": "stream",
          "name": "stdout",
          "text": [
            "   cyl   disp     hp  drat   qsec  vs  gear  carb  am_new  wt_class\n",
            "0  6.0  160.0  110.0  3.90  16.46   0     4   4.0       0       0.0\n",
            "1  6.0  160.0  110.0  3.90  17.02   0     4   4.0       0       0.0\n",
            "2  4.0  108.0   93.0  3.85  18.61   1     4   1.0       0       0.0\n",
            "3  6.0  258.0  110.0  3.08   0.10   1     3   1.0       1       0.0\n",
            "4  8.0  360.0  175.0  3.15  17.02   0     3   2.0       1       1.0\n"
          ]
        }
      ]
    },
    {
      "cell_type": "code",
      "source": [
        "X['qsec_4'] = X['qsec']*4\n",
        "\n",
        "print(X[['qsec','qsec_4']])"
      ],
      "metadata": {
        "colab": {
          "base_uri": "https://localhost:8080/"
        },
        "id": "UEAM0R5RPxrZ",
        "outputId": "f412777a-3609-46c8-dd12-1cefdfa46db8"
      },
      "execution_count": 186,
      "outputs": [
        {
          "output_type": "stream",
          "name": "stdout",
          "text": [
            "      qsec   qsec_4\n",
            "0   16.460   65.840\n",
            "1   17.020   68.080\n",
            "2   18.610   74.440\n",
            "3    0.100    0.400\n",
            "4   17.020   68.080\n",
            "5   20.220   80.880\n",
            "6   15.840   63.360\n",
            "7   20.000   80.000\n",
            "8   22.900   91.600\n",
            "9   18.300   73.200\n",
            "10  17.600   70.400\n",
            "11  17.400   69.600\n",
            "12  17.600   70.400\n",
            "13  18.000   72.000\n",
            "14  17.980   71.920\n",
            "15  17.820   71.280\n",
            "16  17.420   69.680\n",
            "17  19.470   77.880\n",
            "18  18.520   74.080\n",
            "19  19.900   79.600\n",
            "20  20.010   80.040\n",
            "21  16.870   67.480\n",
            "22  17.300   69.200\n",
            "23  15.410   61.640\n",
            "24  42.396  169.584\n",
            "25  18.900   75.600\n",
            "26  16.700   66.800\n",
            "27  16.900   67.600\n",
            "28  14.500   58.000\n",
            "29  15.500   62.000\n",
            "30  14.600   58.400\n",
            "31  18.600   74.400\n"
          ]
        }
      ]
    },
    {
      "cell_type": "code",
      "source": [
        "X = X.drop(columns=['qsec'])\n",
        "\n",
        "print(X.head())"
      ],
      "metadata": {
        "colab": {
          "base_uri": "https://localhost:8080/"
        },
        "id": "kfwG8Ii9QY7B",
        "outputId": "12694258-eacf-4a72-8c84-a6423843fc3d"
      },
      "execution_count": 187,
      "outputs": [
        {
          "output_type": "stream",
          "name": "stdout",
          "text": [
            "   cyl   disp     hp  drat  vs  gear  carb  am_new  wt_class  qsec_4\n",
            "0  6.0  160.0  110.0  3.90   0     4   4.0       0       0.0   65.84\n",
            "1  6.0  160.0  110.0  3.90   0     4   4.0       0       0.0   68.08\n",
            "2  4.0  108.0   93.0  3.85   1     4   1.0       0       0.0   74.44\n",
            "3  6.0  258.0  110.0  3.08   1     3   1.0       1       0.0    0.40\n",
            "4  8.0  360.0  175.0  3.15   0     3   2.0       1       1.0   68.08\n"
          ]
        }
      ]
    },
    {
      "cell_type": "code",
      "source": [
        "from sklearn.model_selection import train_test_split"
      ],
      "metadata": {
        "id": "naJzdDZkQh-S"
      },
      "execution_count": 188,
      "outputs": []
    },
    {
      "cell_type": "code",
      "source": [
        "x_train, x_test, y_train, y_test = train_test_split(X,Y,test_size=0.3,random_state=10)"
      ],
      "metadata": {
        "id": "SJaKKQwkTuL2"
      },
      "execution_count": 189,
      "outputs": []
    },
    {
      "cell_type": "code",
      "source": [
        "print(x_train.head())"
      ],
      "metadata": {
        "colab": {
          "base_uri": "https://localhost:8080/"
        },
        "id": "g083RZSBUDvi",
        "outputId": "313bdd11-102c-4ae5-9fd7-2a2681df02b8"
      },
      "execution_count": 190,
      "outputs": [
        {
          "output_type": "stream",
          "name": "stdout",
          "text": [
            "     cyl   disp     hp  drat  vs  gear  carb  am_new  wt_class  qsec_4\n",
            "19   4.0   71.1   65.0  4.22   1     4   1.0       0       0.0   79.60\n",
            "14  14.0  472.0  205.0  2.93   0     3   4.0       1       1.0   71.92\n",
            "18   4.0   75.7   52.0  4.93   1     4   2.0       0       0.0   74.08\n",
            "6    8.0  360.0  245.0  3.21   0     3   4.0       1       1.0   63.36\n",
            "11   8.0  275.8  180.0  3.07   0     3   3.0       1       1.0   69.60\n"
          ]
        }
      ]
    },
    {
      "cell_type": "code",
      "source": [
        "print(y_train.head())"
      ],
      "metadata": {
        "colab": {
          "base_uri": "https://localhost:8080/"
        },
        "id": "rYGyaFGcUHH2",
        "outputId": "4f1b2fa0-951a-4b8d-db86-aab05612abf5"
      },
      "execution_count": 191,
      "outputs": [
        {
          "output_type": "stream",
          "name": "stdout",
          "text": [
            "19    33.9\n",
            "14    10.4\n",
            "18    30.4\n",
            "6     14.3\n",
            "11    16.4\n",
            "Name: mpg, dtype: float64\n"
          ]
        }
      ]
    },
    {
      "cell_type": "code",
      "source": [
        "print(x_test.head())"
      ],
      "metadata": {
        "colab": {
          "base_uri": "https://localhost:8080/"
        },
        "id": "aVnXA6OjUKbw",
        "outputId": "f4c70dc6-a0ea-4852-bdeb-150c9cac9216"
      },
      "execution_count": 192,
      "outputs": [
        {
          "output_type": "stream",
          "name": "stdout",
          "text": [
            "    cyl   disp     hp  drat  vs  gear  carb  am_new  wt_class  qsec_4\n",
            "20  4.0  120.1   97.0  3.70   1     3   1.0       1       0.0   80.04\n",
            "7   7.6  146.7   62.0  3.69   1     4   2.0       1       0.0   80.00\n",
            "5   6.0  225.0  105.0  2.76   1     3   1.0       1       1.0   80.88\n",
            "2   4.0  108.0   93.0  3.85   1     4   1.0       0       0.0   74.44\n",
            "3   6.0  258.0  110.0  3.08   1     3   1.0       1       0.0    0.40\n"
          ]
        }
      ]
    },
    {
      "cell_type": "code",
      "source": [
        "print(y_test.head())"
      ],
      "metadata": {
        "colab": {
          "base_uri": "https://localhost:8080/"
        },
        "id": "OuylzUEuUO2C",
        "outputId": "fd2d76d5-330c-476c-f42e-28989bba8e44"
      },
      "execution_count": 193,
      "outputs": [
        {
          "output_type": "stream",
          "name": "stdout",
          "text": [
            "20    21.5\n",
            "7     24.4\n",
            "5     18.1\n",
            "2     22.8\n",
            "3     21.4\n",
            "Name: mpg, dtype: float64\n"
          ]
        }
      ]
    },
    {
      "cell_type": "code",
      "source": [
        "from sklearn.linear_model import LinearRegression"
      ],
      "metadata": {
        "id": "Iewc_emQUQWB"
      },
      "execution_count": 194,
      "outputs": []
    },
    {
      "cell_type": "code",
      "source": [
        "model = LinearRegression()\n",
        "model.fit(x_train,y_train)"
      ],
      "metadata": {
        "colab": {
          "base_uri": "https://localhost:8080/"
        },
        "id": "NMCMYh_5VVrS",
        "outputId": "99e4b2e8-f858-4dd2-9814-442d4a486a4b"
      },
      "execution_count": 195,
      "outputs": [
        {
          "output_type": "execute_result",
          "data": {
            "text/plain": [
              "LinearRegression()"
            ]
          },
          "metadata": {},
          "execution_count": 195
        }
      ]
    },
    {
      "cell_type": "code",
      "source": [
        "y_train_predicted = model.predict(x_train)"
      ],
      "metadata": {
        "id": "i1gExvJpVdAs"
      },
      "execution_count": 196,
      "outputs": []
    },
    {
      "cell_type": "code",
      "source": [
        "y_test_predicted = model.predict(x_test)"
      ],
      "metadata": {
        "id": "mr0IiP3NVnPg"
      },
      "execution_count": 197,
      "outputs": []
    },
    {
      "cell_type": "code",
      "source": [
        "print(model.intercept_)"
      ],
      "metadata": {
        "colab": {
          "base_uri": "https://localhost:8080/"
        },
        "id": "MbwERLuoVrsY",
        "outputId": "ce837583-42e0-4330-b1ed-50a677528bcd"
      },
      "execution_count": 198,
      "outputs": [
        {
          "output_type": "stream",
          "name": "stdout",
          "text": [
            "24.269976151248557\n"
          ]
        }
      ]
    },
    {
      "cell_type": "code",
      "source": [
        "print(model.coef_)"
      ],
      "metadata": {
        "colab": {
          "base_uri": "https://localhost:8080/"
        },
        "id": "CFCKtasvVvOQ",
        "outputId": "c5ec74a7-1d24-4398-d627-394e91f4fb13"
      },
      "execution_count": 199,
      "outputs": [
        {
          "output_type": "stream",
          "name": "stdout",
          "text": [
            "[-0.13806535 -0.01231226 -0.00409045  0.96664468  1.12299283  0.65737698\n",
            " -1.97459464 -3.57949528  0.01935106  0.02389729]\n"
          ]
        }
      ]
    },
    {
      "cell_type": "code",
      "source": [
        "print(model.score(x_train,y_train))"
      ],
      "metadata": {
        "colab": {
          "base_uri": "https://localhost:8080/"
        },
        "id": "a74pLi87Vx7O",
        "outputId": "7748c6f6-11d4-4969-e94e-6f74dbd1bbda"
      },
      "execution_count": 200,
      "outputs": [
        {
          "output_type": "stream",
          "name": "stdout",
          "text": [
            "0.9063060047456276\n"
          ]
        }
      ]
    },
    {
      "cell_type": "code",
      "source": [
        "print(model.score(x_test,y_test))"
      ],
      "metadata": {
        "colab": {
          "base_uri": "https://localhost:8080/"
        },
        "id": "jP98ugi9V4RU",
        "outputId": "b9c90efc-8b3b-471c-8403-e177411fe4b5"
      },
      "execution_count": 201,
      "outputs": [
        {
          "output_type": "stream",
          "name": "stdout",
          "text": [
            "0.10181427149458\n"
          ]
        }
      ]
    },
    {
      "cell_type": "code",
      "source": [
        "from sklearn.metrics import r2_score,mean_absolute_error,mean_squared_error\n",
        "import numpy as np"
      ],
      "metadata": {
        "id": "wpLCyrwRV75L"
      },
      "execution_count": 202,
      "outputs": []
    },
    {
      "cell_type": "code",
      "source": [
        "print(r2_score(y_train,y_train_predicted))\n",
        "print(r2_score(y_test,y_test_predicted))"
      ],
      "metadata": {
        "colab": {
          "base_uri": "https://localhost:8080/"
        },
        "id": "UgzecAIqWOh7",
        "outputId": "6d537cd4-9305-4d1d-fbbf-296f512ca82d"
      },
      "execution_count": 204,
      "outputs": [
        {
          "output_type": "stream",
          "name": "stdout",
          "text": [
            "0.9063060047456276\n",
            "0.10181427149458\n"
          ]
        }
      ]
    },
    {
      "cell_type": "code",
      "source": [
        "print(mean_squared_error(y_test,y_test_predicted))"
      ],
      "metadata": {
        "colab": {
          "base_uri": "https://localhost:8080/"
        },
        "id": "bAv55pxKWW_O",
        "outputId": "87e3c094-465d-4e72-bb7b-553e76827610"
      },
      "execution_count": 205,
      "outputs": [
        {
          "output_type": "stream",
          "name": "stdout",
          "text": [
            "8.922577026972842\n"
          ]
        }
      ]
    },
    {
      "cell_type": "code",
      "source": [
        "print(np.sqrt(mean_squared_error(y_test,y_test_predicted)))"
      ],
      "metadata": {
        "colab": {
          "base_uri": "https://localhost:8080/"
        },
        "id": "a3uL47QEWzIS",
        "outputId": "d2e09820-049e-45ab-b80a-5e521bcef736"
      },
      "execution_count": 207,
      "outputs": [
        {
          "output_type": "stream",
          "name": "stdout",
          "text": [
            "2.9870682996832936\n"
          ]
        }
      ]
    },
    {
      "cell_type": "code",
      "source": [
        "print(mean_absolute_error(y_test,y_test_predicted))"
      ],
      "metadata": {
        "colab": {
          "base_uri": "https://localhost:8080/"
        },
        "id": "Btmdx-X_WoAo",
        "outputId": "a3788d0b-4f52-4875-eb50-73155296f308"
      },
      "execution_count": 206,
      "outputs": [
        {
          "output_type": "stream",
          "name": "stdout",
          "text": [
            "2.3740787517183968\n"
          ]
        }
      ]
    },
    {
      "cell_type": "code",
      "source": [
        "from sklearn.ensemble import RandomForestRegressor"
      ],
      "metadata": {
        "id": "q4wsTViwWvs8"
      },
      "execution_count": 209,
      "outputs": []
    },
    {
      "cell_type": "code",
      "source": [
        "model = RandomForestRegressor(random_state=10)"
      ],
      "metadata": {
        "id": "0pXnzyqsXNOq"
      },
      "execution_count": 210,
      "outputs": []
    },
    {
      "cell_type": "code",
      "source": [
        "model.fit(x_train,y_train)"
      ],
      "metadata": {
        "colab": {
          "base_uri": "https://localhost:8080/"
        },
        "id": "sGtTTUj1Xao8",
        "outputId": "4896b386-be76-4092-9eb4-77fe9eed1e08"
      },
      "execution_count": 211,
      "outputs": [
        {
          "output_type": "execute_result",
          "data": {
            "text/plain": [
              "RandomForestRegressor(random_state=10)"
            ]
          },
          "metadata": {},
          "execution_count": 211
        }
      ]
    },
    {
      "cell_type": "code",
      "source": [
        "y_train_predicted = model.predict(x_train)\n",
        "y_test_predicted = model.predict(x_test)"
      ],
      "metadata": {
        "id": "rOdrhh5ZXdQw"
      },
      "execution_count": 212,
      "outputs": []
    },
    {
      "cell_type": "code",
      "source": [
        "from sklearn.metrics import r2_score,mean_squared_error,mean_absolute_error"
      ],
      "metadata": {
        "id": "oaZJaG70ZXaT"
      },
      "execution_count": 213,
      "outputs": []
    },
    {
      "cell_type": "code",
      "source": [
        "print(r2_score(y_train,y_train_predicted))"
      ],
      "metadata": {
        "colab": {
          "base_uri": "https://localhost:8080/"
        },
        "id": "_eqZAgGVZiNB",
        "outputId": "60c53df1-8daa-45ad-9039-88cb609d31ff"
      },
      "execution_count": 214,
      "outputs": [
        {
          "output_type": "stream",
          "name": "stdout",
          "text": [
            "0.9799238759255713\n"
          ]
        }
      ]
    },
    {
      "cell_type": "code",
      "source": [
        "print(r2_score(y_test,y_test_predicted))"
      ],
      "metadata": {
        "colab": {
          "base_uri": "https://localhost:8080/"
        },
        "id": "y2ySzi7gZnKU",
        "outputId": "406c1420-f4df-4080-902f-461bec705031"
      },
      "execution_count": 215,
      "outputs": [
        {
          "output_type": "stream",
          "name": "stdout",
          "text": [
            "0.379084225890872\n"
          ]
        }
      ]
    },
    {
      "cell_type": "code",
      "source": [
        "print(mean_squared_error(y_test,y_test_predicted))"
      ],
      "metadata": {
        "colab": {
          "base_uri": "https://localhost:8080/"
        },
        "id": "DCPCtluzZryi",
        "outputId": "c9ab5cc2-f8fa-4d9c-c874-548379371944"
      },
      "execution_count": 216,
      "outputs": [
        {
          "output_type": "stream",
          "name": "stdout",
          "text": [
            "6.168177300000077\n"
          ]
        }
      ]
    },
    {
      "cell_type": "code",
      "source": [
        "print(mean_absolute_error(y_test,y_test_predicted))"
      ],
      "metadata": {
        "colab": {
          "base_uri": "https://localhost:8080/"
        },
        "id": "wvgrUe8pZzej",
        "outputId": "d70f6325-b680-4665-9ff0-5db3ff0d244b"
      },
      "execution_count": 217,
      "outputs": [
        {
          "output_type": "stream",
          "name": "stdout",
          "text": [
            "1.809100000000011\n"
          ]
        }
      ]
    },
    {
      "cell_type": "code",
      "source": [
        "model = RandomForestRegressor(n_estimators=1000,criterion='mae',random_state=10)"
      ],
      "metadata": {
        "id": "RKrTGEjRZ5Vw"
      },
      "execution_count": 218,
      "outputs": []
    },
    {
      "cell_type": "code",
      "source": [
        "model.fit(x_train,y_train)"
      ],
      "metadata": {
        "colab": {
          "base_uri": "https://localhost:8080/"
        },
        "id": "HsKtL1AXaMOt",
        "outputId": "ef58cc9b-d2ef-4091-d0b5-f15d50ce09dd"
      },
      "execution_count": 219,
      "outputs": [
        {
          "output_type": "stream",
          "name": "stderr",
          "text": [
            "/usr/local/lib/python3.7/dist-packages/sklearn/ensemble/_forest.py:407: FutureWarning: Criterion 'mae' was deprecated in v1.0 and will be removed in version 1.2. Use `criterion='absolute_error'` which is equivalent.\n",
            "  FutureWarning,\n"
          ]
        },
        {
          "output_type": "execute_result",
          "data": {
            "text/plain": [
              "RandomForestRegressor(criterion='mae', n_estimators=1000, random_state=10)"
            ]
          },
          "metadata": {},
          "execution_count": 219
        }
      ]
    },
    {
      "cell_type": "code",
      "source": [
        "y_train_predicted = model.predict(x_train)\n",
        "y_test_predicted = model.predict(x_test)"
      ],
      "metadata": {
        "id": "QKbSoU1-aOu4"
      },
      "execution_count": 220,
      "outputs": []
    },
    {
      "cell_type": "code",
      "source": [
        "print(r2_score(y_train,y_train_predicted))"
      ],
      "metadata": {
        "colab": {
          "base_uri": "https://localhost:8080/"
        },
        "id": "v47tsbaLaX9Z",
        "outputId": "a69ee45a-f2ff-4ec5-9099-8eaae773983d"
      },
      "execution_count": 221,
      "outputs": [
        {
          "output_type": "stream",
          "name": "stdout",
          "text": [
            "0.9805355759422818\n"
          ]
        }
      ]
    },
    {
      "cell_type": "code",
      "source": [
        "print(r2_score(y_test,y_test_predicted))"
      ],
      "metadata": {
        "colab": {
          "base_uri": "https://localhost:8080/"
        },
        "id": "PUFu4mgJac4l",
        "outputId": "bcae1109-e4f2-41bc-da1e-df952aecaab0"
      },
      "execution_count": 222,
      "outputs": [
        {
          "output_type": "stream",
          "name": "stdout",
          "text": [
            "0.44313226215521484\n"
          ]
        }
      ]
    },
    {
      "cell_type": "code",
      "source": [
        "print(mean_squared_error(y_test,y_test_predicted))\n",
        "print(mean_absolute_error(y_test,y_test_predicted))"
      ],
      "metadata": {
        "colab": {
          "base_uri": "https://localhost:8080/"
        },
        "id": "ucrr78B5ahV7",
        "outputId": "1d782b36-5137-4fb2-dc76-1ca7f6376087"
      },
      "execution_count": 223,
      "outputs": [
        {
          "output_type": "stream",
          "name": "stdout",
          "text": [
            "5.531924107750095\n",
            "1.7446750000000346\n"
          ]
        }
      ]
    },
    {
      "cell_type": "code",
      "source": [
        "from xgboost import XGBRegressor"
      ],
      "metadata": {
        "id": "dDtIiEy1avZU"
      },
      "execution_count": 224,
      "outputs": []
    },
    {
      "cell_type": "code",
      "source": [
        "model = XGBRegressor(random_state=10)"
      ],
      "metadata": {
        "id": "_kkPSkpKixmz"
      },
      "execution_count": 225,
      "outputs": []
    },
    {
      "cell_type": "code",
      "source": [
        "model.fit(x_train,y_train)"
      ],
      "metadata": {
        "colab": {
          "base_uri": "https://localhost:8080/"
        },
        "id": "TIw9D5Ddi07u",
        "outputId": "b2503e40-2ed6-43bb-a448-937951ddc589"
      },
      "execution_count": 226,
      "outputs": [
        {
          "output_type": "stream",
          "name": "stdout",
          "text": [
            "[07:16:00] WARNING: /workspace/src/objective/regression_obj.cu:152: reg:linear is now deprecated in favor of reg:squarederror.\n"
          ]
        },
        {
          "output_type": "execute_result",
          "data": {
            "text/plain": [
              "XGBRegressor(random_state=10)"
            ]
          },
          "metadata": {},
          "execution_count": 226
        }
      ]
    },
    {
      "cell_type": "code",
      "source": [
        "y_train_predicted = model.predict(x_train)\n",
        "y_test_predicted = model.predict(x_test)"
      ],
      "metadata": {
        "id": "WcPw86Vii56a"
      },
      "execution_count": 232,
      "outputs": []
    },
    {
      "cell_type": "code",
      "source": [
        "from sklearn.metrics import r2_score,mean_squared_error,mean_absolute_error"
      ],
      "metadata": {
        "id": "wviHi9tpjIVu"
      },
      "execution_count": 233,
      "outputs": []
    },
    {
      "cell_type": "code",
      "source": [
        "print(r2_score(y_train,y_train_predicted))"
      ],
      "metadata": {
        "colab": {
          "base_uri": "https://localhost:8080/"
        },
        "id": "8Sak0DvnjQsh",
        "outputId": "5d89e0fe-2917-4ef8-b730-5e69410bcce5"
      },
      "execution_count": 234,
      "outputs": [
        {
          "output_type": "stream",
          "name": "stdout",
          "text": [
            "0.9994029070331579\n"
          ]
        }
      ]
    },
    {
      "cell_type": "code",
      "source": [
        "print(r2_score(y_test,y_test_predicted))"
      ],
      "metadata": {
        "colab": {
          "base_uri": "https://localhost:8080/"
        },
        "id": "X-KA6T_7jWgm",
        "outputId": "111adc59-409a-49a2-f86f-4e7ab37c2629"
      },
      "execution_count": 235,
      "outputs": [
        {
          "output_type": "stream",
          "name": "stdout",
          "text": [
            "0.4476128447475184\n"
          ]
        }
      ]
    },
    {
      "cell_type": "code",
      "source": [
        "print(mean_squared_error(y_test,y_test_predicted))"
      ],
      "metadata": {
        "colab": {
          "base_uri": "https://localhost:8080/"
        },
        "id": "Z0oki3JQjZ3x",
        "outputId": "a19f667d-e933-4ffd-ad21-39174ab4edc4"
      },
      "execution_count": 236,
      "outputs": [
        {
          "output_type": "stream",
          "name": "stdout",
          "text": [
            "5.487414000278152\n"
          ]
        }
      ]
    },
    {
      "cell_type": "code",
      "source": [
        "print(mean_absolute_error(y_test, y_test_predicted))"
      ],
      "metadata": {
        "colab": {
          "base_uri": "https://localhost:8080/"
        },
        "id": "tsL0sqk6jg59",
        "outputId": "b0682f0b-8523-4f72-8434-7a1f3f2da3fb"
      },
      "execution_count": 238,
      "outputs": [
        {
          "output_type": "stream",
          "name": "stdout",
          "text": [
            "2.0459949302673337\n"
          ]
        }
      ]
    },
    {
      "cell_type": "code",
      "source": [
        "x_train2 = x_train.drop(columns='am_new')"
      ],
      "metadata": {
        "id": "VYGKh7EijyI3"
      },
      "execution_count": 239,
      "outputs": []
    },
    {
      "cell_type": "code",
      "source": [
        "y_train2 = x_train['am_new']"
      ],
      "metadata": {
        "id": "deXbgGC9j7_h"
      },
      "execution_count": 241,
      "outputs": []
    },
    {
      "cell_type": "code",
      "source": [
        "x_test2 = x_test.drop(columns='am_new')"
      ],
      "metadata": {
        "id": "DSFqsm9Ej_NH"
      },
      "execution_count": 242,
      "outputs": []
    },
    {
      "cell_type": "code",
      "source": [
        "y_test2 = x_test['am_new']"
      ],
      "metadata": {
        "id": "yiDuRXOJkFbq"
      },
      "execution_count": 243,
      "outputs": []
    },
    {
      "cell_type": "code",
      "source": [
        "print(x_train2.head())"
      ],
      "metadata": {
        "colab": {
          "base_uri": "https://localhost:8080/"
        },
        "id": "5TxK52XnkIqB",
        "outputId": "fc62a1de-3b79-4989-b4f7-a73307371068"
      },
      "execution_count": 244,
      "outputs": [
        {
          "output_type": "stream",
          "name": "stdout",
          "text": [
            "     cyl   disp     hp  drat  vs  gear  carb  wt_class  qsec_4\n",
            "19   4.0   71.1   65.0  4.22   1     4   1.0       0.0   79.60\n",
            "14  14.0  472.0  205.0  2.93   0     3   4.0       1.0   71.92\n",
            "18   4.0   75.7   52.0  4.93   1     4   2.0       0.0   74.08\n",
            "6    8.0  360.0  245.0  3.21   0     3   4.0       1.0   63.36\n",
            "11   8.0  275.8  180.0  3.07   0     3   3.0       1.0   69.60\n"
          ]
        }
      ]
    },
    {
      "cell_type": "code",
      "source": [
        "print(x_test2.head())"
      ],
      "metadata": {
        "colab": {
          "base_uri": "https://localhost:8080/"
        },
        "id": "bNsExKrQkNtu",
        "outputId": "7cede9cb-97ea-49f9-f9f2-f37d30b9a20b"
      },
      "execution_count": 245,
      "outputs": [
        {
          "output_type": "stream",
          "name": "stdout",
          "text": [
            "    cyl   disp     hp  drat  vs  gear  carb  wt_class  qsec_4\n",
            "20  4.0  120.1   97.0  3.70   1     3   1.0       0.0   80.04\n",
            "7   7.6  146.7   62.0  3.69   1     4   2.0       0.0   80.00\n",
            "5   6.0  225.0  105.0  2.76   1     3   1.0       1.0   80.88\n",
            "2   4.0  108.0   93.0  3.85   1     4   1.0       0.0   74.44\n",
            "3   6.0  258.0  110.0  3.08   1     3   1.0       0.0    0.40\n"
          ]
        }
      ]
    },
    {
      "cell_type": "code",
      "source": [
        "print(y_train2.head())"
      ],
      "metadata": {
        "colab": {
          "base_uri": "https://localhost:8080/"
        },
        "id": "pJL6qn11kQST",
        "outputId": "2bef09de-ff1d-4c91-82e1-41a2ffc854f6"
      },
      "execution_count": 246,
      "outputs": [
        {
          "output_type": "stream",
          "name": "stdout",
          "text": [
            "19    0\n",
            "14    1\n",
            "18    0\n",
            "6     1\n",
            "11    1\n",
            "Name: am_new, dtype: int64\n"
          ]
        }
      ]
    },
    {
      "cell_type": "code",
      "source": [
        "print(y_test2.head())"
      ],
      "metadata": {
        "colab": {
          "base_uri": "https://localhost:8080/"
        },
        "id": "RTJfqMX9kUXf",
        "outputId": "6f15ae41-44fd-4888-9424-aed598d12ba2"
      },
      "execution_count": 247,
      "outputs": [
        {
          "output_type": "stream",
          "name": "stdout",
          "text": [
            "20    1\n",
            "7     1\n",
            "5     1\n",
            "2     0\n",
            "3     1\n",
            "Name: am_new, dtype: int64\n"
          ]
        }
      ]
    },
    {
      "cell_type": "code",
      "source": [
        "from sklearn.tree import DecisionTreeClassifier"
      ],
      "metadata": {
        "id": "cgBn30APkV9O"
      },
      "execution_count": 248,
      "outputs": []
    },
    {
      "cell_type": "code",
      "source": [
        "model = DecisionTreeClassifier()"
      ],
      "metadata": {
        "id": "XM3BhrNBkfGy"
      },
      "execution_count": 250,
      "outputs": []
    },
    {
      "cell_type": "code",
      "source": [
        "model.fit(x_train2,y_train2)"
      ],
      "metadata": {
        "colab": {
          "base_uri": "https://localhost:8080/"
        },
        "id": "c08uha81kjDE",
        "outputId": "3720c431-dd62-4893-c71b-f8fab39175b7"
      },
      "execution_count": 251,
      "outputs": [
        {
          "output_type": "execute_result",
          "data": {
            "text/plain": [
              "DecisionTreeClassifier()"
            ]
          },
          "metadata": {},
          "execution_count": 251
        }
      ]
    },
    {
      "cell_type": "code",
      "source": [
        "y_test2_predicted = model.predict(x_test2)"
      ],
      "metadata": {
        "id": "wLJbu2MGkosM"
      },
      "execution_count": 252,
      "outputs": []
    },
    {
      "cell_type": "code",
      "source": [
        "from sklearn.metrics import roc_auc_score"
      ],
      "metadata": {
        "id": "1Y-49ZWJktnQ"
      },
      "execution_count": 253,
      "outputs": []
    },
    {
      "cell_type": "code",
      "source": [
        "from sklearn.metrics import accuracy_score,precision_score,recall_score"
      ],
      "metadata": {
        "id": "NnA1vKROk18E"
      },
      "execution_count": 254,
      "outputs": []
    },
    {
      "cell_type": "code",
      "source": [
        "print(roc_auc_score(y_test2,y_test2_predicted))"
      ],
      "metadata": {
        "colab": {
          "base_uri": "https://localhost:8080/"
        },
        "id": "QgetLJ_tk-L0",
        "outputId": "0a0e92a8-2951-4255-f0cb-ef8d33ed29f1"
      },
      "execution_count": 255,
      "outputs": [
        {
          "output_type": "stream",
          "name": "stdout",
          "text": [
            "0.7857142857142857\n"
          ]
        }
      ]
    },
    {
      "cell_type": "code",
      "source": [
        "print(accuracy_score(y_test2,y_test2_predicted))"
      ],
      "metadata": {
        "colab": {
          "base_uri": "https://localhost:8080/"
        },
        "id": "HXXO7YellEKe",
        "outputId": "d086615f-8a0f-4d28-fdfb-edbd25861b86"
      },
      "execution_count": 256,
      "outputs": [
        {
          "output_type": "stream",
          "name": "stdout",
          "text": [
            "0.7\n"
          ]
        }
      ]
    },
    {
      "cell_type": "code",
      "source": [
        "print(precision_score(y_test2,y_test2_predicted))"
      ],
      "metadata": {
        "colab": {
          "base_uri": "https://localhost:8080/"
        },
        "id": "rWKIW_53lJ7l",
        "outputId": "ad0eb405-e407-4fc8-b407-fcf3c270bce7"
      },
      "execution_count": 257,
      "outputs": [
        {
          "output_type": "stream",
          "name": "stdout",
          "text": [
            "1.0\n"
          ]
        }
      ]
    },
    {
      "cell_type": "code",
      "source": [
        "print(recall_score(y_test2,y_test2_predicted))"
      ],
      "metadata": {
        "colab": {
          "base_uri": "https://localhost:8080/"
        },
        "id": "W5J7Tsi-lOl2",
        "outputId": "7801d4b0-d5f9-4fe5-b08d-ccc545b5c0d0"
      },
      "execution_count": 258,
      "outputs": [
        {
          "output_type": "stream",
          "name": "stdout",
          "text": [
            "0.5714285714285714\n"
          ]
        }
      ]
    },
    {
      "cell_type": "code",
      "source": [
        "from sklearn.ensemble import RandomForestClassifier"
      ],
      "metadata": {
        "id": "JvmTEwYElTmw"
      },
      "execution_count": 259,
      "outputs": []
    },
    {
      "cell_type": "code",
      "source": [
        "model = RandomForestClassifier()"
      ],
      "metadata": {
        "id": "jQ39LQ7dlh3r"
      },
      "execution_count": 260,
      "outputs": []
    },
    {
      "cell_type": "code",
      "source": [
        "model.fit(x_train2,y_train2)"
      ],
      "metadata": {
        "colab": {
          "base_uri": "https://localhost:8080/"
        },
        "id": "ZnHQspwslk6b",
        "outputId": "12bd9dd1-bdfd-4413-e246-1eaead311880"
      },
      "execution_count": 261,
      "outputs": [
        {
          "output_type": "execute_result",
          "data": {
            "text/plain": [
              "RandomForestClassifier()"
            ]
          },
          "metadata": {},
          "execution_count": 261
        }
      ]
    },
    {
      "cell_type": "code",
      "source": [
        "y_test2_predicted = model.predict(x_test2)"
      ],
      "metadata": {
        "id": "B202rlMulnis"
      },
      "execution_count": 262,
      "outputs": []
    },
    {
      "cell_type": "code",
      "source": [
        "from sklearn.metrics import roc_auc_score"
      ],
      "metadata": {
        "id": "H8qfaqamlvLS"
      },
      "execution_count": 263,
      "outputs": []
    },
    {
      "cell_type": "code",
      "source": [
        "print(roc_auc_score(y_test2,y_test2_predicted))"
      ],
      "metadata": {
        "colab": {
          "base_uri": "https://localhost:8080/"
        },
        "id": "ZXmEK4rql0md",
        "outputId": "d586cb44-917a-4978-8e6e-66710993e1ab"
      },
      "execution_count": 264,
      "outputs": [
        {
          "output_type": "stream",
          "name": "stdout",
          "text": [
            "0.8571428571428572\n"
          ]
        }
      ]
    },
    {
      "cell_type": "code",
      "source": [
        "from sklearn.linear_model import LogisticRegression"
      ],
      "metadata": {
        "id": "lnTcdkw-l5jm"
      },
      "execution_count": 265,
      "outputs": []
    },
    {
      "cell_type": "code",
      "source": [
        "model = LogisticRegression()"
      ],
      "metadata": {
        "id": "N6YqbG1ymDC6"
      },
      "execution_count": 266,
      "outputs": []
    },
    {
      "cell_type": "code",
      "source": [
        "model.fit(x_train2,y_train2)"
      ],
      "metadata": {
        "colab": {
          "base_uri": "https://localhost:8080/"
        },
        "id": "45h9ptFFmGzh",
        "outputId": "62e3f371-b0be-4840-915a-d5d96f350770"
      },
      "execution_count": 267,
      "outputs": [
        {
          "output_type": "stream",
          "name": "stderr",
          "text": [
            "/usr/local/lib/python3.7/dist-packages/sklearn/linear_model/_logistic.py:818: ConvergenceWarning: lbfgs failed to converge (status=1):\n",
            "STOP: TOTAL NO. of ITERATIONS REACHED LIMIT.\n",
            "\n",
            "Increase the number of iterations (max_iter) or scale the data as shown in:\n",
            "    https://scikit-learn.org/stable/modules/preprocessing.html\n",
            "Please also refer to the documentation for alternative solver options:\n",
            "    https://scikit-learn.org/stable/modules/linear_model.html#logistic-regression\n",
            "  extra_warning_msg=_LOGISTIC_SOLVER_CONVERGENCE_MSG,\n"
          ]
        },
        {
          "output_type": "execute_result",
          "data": {
            "text/plain": [
              "LogisticRegression()"
            ]
          },
          "metadata": {},
          "execution_count": 267
        }
      ]
    },
    {
      "cell_type": "code",
      "source": [
        "y_test2_predicted = model.predict(x_test2)"
      ],
      "metadata": {
        "id": "SajODwOKmJIy"
      },
      "execution_count": 268,
      "outputs": []
    },
    {
      "cell_type": "code",
      "source": [
        "from sklearn.metrics import roc_auc_score"
      ],
      "metadata": {
        "id": "-1C1a3RvmSAW"
      },
      "execution_count": 269,
      "outputs": []
    },
    {
      "cell_type": "code",
      "source": [
        "print(roc_auc_score(y_test2,y_test2_predicted))"
      ],
      "metadata": {
        "colab": {
          "base_uri": "https://localhost:8080/"
        },
        "id": "V3sEBGcnmWgG",
        "outputId": "195a7744-3818-4224-fc3b-c1204d1d92bb"
      },
      "execution_count": 270,
      "outputs": [
        {
          "output_type": "stream",
          "name": "stdout",
          "text": [
            "0.7619047619047621\n"
          ]
        }
      ]
    },
    {
      "cell_type": "code",
      "source": [
        "from xgboost import XGBClassifier"
      ],
      "metadata": {
        "id": "s4aW2BXbma6g"
      },
      "execution_count": 271,
      "outputs": []
    },
    {
      "cell_type": "code",
      "source": [
        "model = XGBClassifier()"
      ],
      "metadata": {
        "id": "g3JvT8lEmhhV"
      },
      "execution_count": 272,
      "outputs": []
    },
    {
      "cell_type": "code",
      "source": [
        "model.fit(x_train2,y_train2)"
      ],
      "metadata": {
        "colab": {
          "base_uri": "https://localhost:8080/"
        },
        "id": "jdinJL42mk6k",
        "outputId": "111eb4c5-673a-4280-90d2-f43279482a37"
      },
      "execution_count": 273,
      "outputs": [
        {
          "output_type": "execute_result",
          "data": {
            "text/plain": [
              "XGBClassifier()"
            ]
          },
          "metadata": {},
          "execution_count": 273
        }
      ]
    },
    {
      "cell_type": "code",
      "source": [
        "y_test2_predicted = model.predict(x_test2)"
      ],
      "metadata": {
        "id": "CageN46Emm_X"
      },
      "execution_count": 274,
      "outputs": []
    },
    {
      "cell_type": "code",
      "source": [
        "print(y_test2_predicted)"
      ],
      "metadata": {
        "colab": {
          "base_uri": "https://localhost:8080/"
        },
        "id": "2glFb8cZms9J",
        "outputId": "54d94bc0-d553-49be-9da8-c64bb95511ec"
      },
      "execution_count": 275,
      "outputs": [
        {
          "output_type": "stream",
          "name": "stdout",
          "text": [
            "[0 0 1 0 1 1 1 1 1 0]\n"
          ]
        }
      ]
    },
    {
      "cell_type": "code",
      "source": [
        "y_test2_proba = model.predict_proba(x_test2)"
      ],
      "metadata": {
        "id": "OUsXngy2mw2y"
      },
      "execution_count": 276,
      "outputs": []
    },
    {
      "cell_type": "code",
      "source": [
        "print(y_test2_proba)"
      ],
      "metadata": {
        "colab": {
          "base_uri": "https://localhost:8080/"
        },
        "id": "wC9JTlCqm3zZ",
        "outputId": "c240861f-94a8-4b63-a98f-7a399689b866"
      },
      "execution_count": 277,
      "outputs": [
        {
          "output_type": "stream",
          "name": "stdout",
          "text": [
            "[[0.55889904 0.44110098]\n",
            " [0.6538493  0.3461507 ]\n",
            " [0.03395873 0.96604127]\n",
            " [0.8737407  0.1262593 ]\n",
            " [0.11220491 0.8877951 ]\n",
            " [0.06976068 0.9302393 ]\n",
            " [0.04053593 0.9594641 ]\n",
            " [0.39705497 0.602945  ]\n",
            " [0.04464304 0.95535696]\n",
            " [0.85149    0.14851001]]\n"
          ]
        }
      ]
    },
    {
      "cell_type": "code",
      "source": [
        "from sklearn.metrics import roc_auc_score"
      ],
      "metadata": {
        "id": "Ky6T31OXm7sR"
      },
      "execution_count": 278,
      "outputs": []
    },
    {
      "cell_type": "code",
      "source": [
        "print(roc_auc_score(y_test2,y_test2_predicted))"
      ],
      "metadata": {
        "colab": {
          "base_uri": "https://localhost:8080/"
        },
        "id": "cSNo1zAQnEe_",
        "outputId": "f2dfc311-8a70-481a-c8a9-7b86419a13a7"
      },
      "execution_count": 280,
      "outputs": [
        {
          "output_type": "stream",
          "name": "stdout",
          "text": [
            "0.6904761904761906\n"
          ]
        }
      ]
    },
    {
      "cell_type": "code",
      "source": [
        "from sklearn.svm import SVC"
      ],
      "metadata": {
        "id": "fYEEFgcAnJ64"
      },
      "execution_count": 282,
      "outputs": []
    },
    {
      "cell_type": "code",
      "source": [
        "model = SVC()"
      ],
      "metadata": {
        "id": "GoBNj-2InQRI"
      },
      "execution_count": 283,
      "outputs": []
    },
    {
      "cell_type": "code",
      "source": [
        "model.fit(x_train2,y_train2)"
      ],
      "metadata": {
        "colab": {
          "base_uri": "https://localhost:8080/"
        },
        "id": "uwwhBh9GnZFG",
        "outputId": "1ee2fa9a-1a8b-4b4d-8e29-63e1433a9462"
      },
      "execution_count": 284,
      "outputs": [
        {
          "output_type": "execute_result",
          "data": {
            "text/plain": [
              "SVC()"
            ]
          },
          "metadata": {},
          "execution_count": 284
        }
      ]
    },
    {
      "cell_type": "code",
      "source": [
        "y_test2_predicted = model.predict(x_test2)"
      ],
      "metadata": {
        "id": "w5LFunX_ncSd"
      },
      "execution_count": 285,
      "outputs": []
    },
    {
      "cell_type": "code",
      "source": [
        "from sklearn.metrics import roc_auc_score"
      ],
      "metadata": {
        "id": "6RP8ci35ng0J"
      },
      "execution_count": 286,
      "outputs": []
    },
    {
      "cell_type": "code",
      "source": [
        "print(roc_auc_score(y_test2,y_test2_predicted))"
      ],
      "metadata": {
        "colab": {
          "base_uri": "https://localhost:8080/"
        },
        "id": "Iy2xS3g4nk5U",
        "outputId": "5b9fdef2-5379-492e-e919-77b907d80439"
      },
      "execution_count": 287,
      "outputs": [
        {
          "output_type": "stream",
          "name": "stdout",
          "text": [
            "0.6904761904761906\n"
          ]
        }
      ]
    },
    {
      "cell_type": "code",
      "source": [
        "from sklearn.ensemble import BaggingClassifier"
      ],
      "metadata": {
        "id": "UD6sOzzdnpG_"
      },
      "execution_count": 288,
      "outputs": []
    },
    {
      "cell_type": "code",
      "source": [
        "model = BaggingClassifier()"
      ],
      "metadata": {
        "id": "2M0x2er0nw45"
      },
      "execution_count": 289,
      "outputs": []
    },
    {
      "cell_type": "code",
      "source": [
        "model.fit(x_train2,y_train2)"
      ],
      "metadata": {
        "colab": {
          "base_uri": "https://localhost:8080/"
        },
        "id": "OnWdVvE1nzgk",
        "outputId": "11c6fd98-6219-416a-9622-f3523de60627"
      },
      "execution_count": 290,
      "outputs": [
        {
          "output_type": "execute_result",
          "data": {
            "text/plain": [
              "BaggingClassifier()"
            ]
          },
          "metadata": {},
          "execution_count": 290
        }
      ]
    },
    {
      "cell_type": "code",
      "source": [
        "y_test2_predicted = model.predict(x_test2)"
      ],
      "metadata": {
        "id": "IBxaJZ9kn2vc"
      },
      "execution_count": 291,
      "outputs": []
    },
    {
      "cell_type": "code",
      "source": [
        "from sklearn.metrics import roc_auc_score"
      ],
      "metadata": {
        "id": "OTX5X46Hn7WW"
      },
      "execution_count": 292,
      "outputs": []
    },
    {
      "cell_type": "code",
      "source": [
        "print(roc_auc_score(y_test2,y_test2_predicted))"
      ],
      "metadata": {
        "colab": {
          "base_uri": "https://localhost:8080/"
        },
        "id": "yihFyoJ2oIe5",
        "outputId": "3ac74b6b-34bc-40d3-8f57-1e775d7a8e3e"
      },
      "execution_count": 293,
      "outputs": [
        {
          "output_type": "stream",
          "name": "stdout",
          "text": [
            "0.7857142857142857\n"
          ]
        }
      ]
    },
    {
      "cell_type": "code",
      "source": [
        "from sklearn.neighbors import KNeighborsClassifier"
      ],
      "metadata": {
        "id": "QbbWUD50oOBe"
      },
      "execution_count": 294,
      "outputs": []
    },
    {
      "cell_type": "code",
      "source": [
        "model = KNeighborsClassifier()"
      ],
      "metadata": {
        "id": "Ay3ZEEBUoUod"
      },
      "execution_count": 295,
      "outputs": []
    },
    {
      "cell_type": "code",
      "source": [
        "model.fit(x_train2,y_train2)"
      ],
      "metadata": {
        "colab": {
          "base_uri": "https://localhost:8080/"
        },
        "id": "H6irgzrooXhI",
        "outputId": "9ee8db9e-c253-436f-cd7d-a02777933907"
      },
      "execution_count": 296,
      "outputs": [
        {
          "output_type": "execute_result",
          "data": {
            "text/plain": [
              "KNeighborsClassifier()"
            ]
          },
          "metadata": {},
          "execution_count": 296
        }
      ]
    },
    {
      "cell_type": "code",
      "source": [
        "y_test2_predicted = model.predict(x_test2)"
      ],
      "metadata": {
        "id": "XiimyJR3oZnn"
      },
      "execution_count": 297,
      "outputs": []
    },
    {
      "cell_type": "code",
      "source": [
        "from sklearn.metrics import roc_auc_score"
      ],
      "metadata": {
        "id": "nE0leQoZodun"
      },
      "execution_count": 298,
      "outputs": []
    },
    {
      "cell_type": "code",
      "source": [
        "print(roc_auc_score(y_test2,y_test2_predicted))"
      ],
      "metadata": {
        "colab": {
          "base_uri": "https://localhost:8080/"
        },
        "id": "wEyEl4NKoiXs",
        "outputId": "01e65194-cb6e-4278-c5da-0f8dc633fc75"
      },
      "execution_count": 299,
      "outputs": [
        {
          "output_type": "stream",
          "name": "stdout",
          "text": [
            "0.5238095238095238\n"
          ]
        }
      ]
    },
    {
      "cell_type": "code",
      "source": [
        "from sklearn.neural_network import MLPClassifier"
      ],
      "metadata": {
        "id": "OUTziOzKomRD"
      },
      "execution_count": 302,
      "outputs": []
    },
    {
      "cell_type": "code",
      "source": [
        "model = MLPClassifier()"
      ],
      "metadata": {
        "id": "AsjX4EXHotLs"
      },
      "execution_count": 303,
      "outputs": []
    },
    {
      "cell_type": "code",
      "source": [
        "model.fit(x_train2,y_train2)"
      ],
      "metadata": {
        "colab": {
          "base_uri": "https://localhost:8080/"
        },
        "id": "xqrl5JLPo0wT",
        "outputId": "1ff7ff4b-66d0-483e-b1dd-76e7724f0dd9"
      },
      "execution_count": 304,
      "outputs": [
        {
          "output_type": "execute_result",
          "data": {
            "text/plain": [
              "MLPClassifier()"
            ]
          },
          "metadata": {},
          "execution_count": 304
        }
      ]
    },
    {
      "cell_type": "code",
      "source": [
        "y_test2_predicted = model.predict(x_test2)"
      ],
      "metadata": {
        "id": "1AETfcrDo5ug"
      },
      "execution_count": 305,
      "outputs": []
    },
    {
      "cell_type": "code",
      "source": [
        "from sklearn.metrics import roc_auc_score"
      ],
      "metadata": {
        "id": "D1D2Y72go-jc"
      },
      "execution_count": 306,
      "outputs": []
    },
    {
      "cell_type": "code",
      "source": [
        "print(roc_auc_score(y_test2,y_test2_predicted))"
      ],
      "metadata": {
        "colab": {
          "base_uri": "https://localhost:8080/"
        },
        "id": "mV09OBjMpDbW",
        "outputId": "ee0183c0-96de-4a2a-a4d1-1d2c8cbb94fd"
      },
      "execution_count": 307,
      "outputs": [
        {
          "output_type": "stream",
          "name": "stdout",
          "text": [
            "0.5\n"
          ]
        }
      ]
    },
    {
      "cell_type": "code",
      "source": [
        "print(roc_auc_score(y_test2,y_test2_predicted))"
      ],
      "metadata": {
        "colab": {
          "base_uri": "https://localhost:8080/"
        },
        "id": "2RmzU5NKpJGk",
        "outputId": "4db9a852-54ee-4dc9-f53e-93a07a3e9757"
      },
      "execution_count": 308,
      "outputs": [
        {
          "output_type": "stream",
          "name": "stdout",
          "text": [
            "0.5\n"
          ]
        }
      ]
    },
    {
      "cell_type": "code",
      "source": [
        "print(type(y_test2_predicted))"
      ],
      "metadata": {
        "colab": {
          "base_uri": "https://localhost:8080/"
        },
        "id": "2RF89hMbpSXy",
        "outputId": "4f87e857-68bf-450d-ed07-0679eb6381ed"
      },
      "execution_count": 309,
      "outputs": [
        {
          "output_type": "stream",
          "name": "stdout",
          "text": [
            "<class 'numpy.ndarray'>\n"
          ]
        }
      ]
    },
    {
      "cell_type": "code",
      "source": [
        "pd.DataFrame(y_test2_predicted).to_csv('/content/result.csv',index=False)"
      ],
      "metadata": {
        "id": "XkzLggUtpV9d"
      },
      "execution_count": 310,
      "outputs": []
    },
    {
      "cell_type": "code",
      "source": [],
      "metadata": {
        "id": "Oowoc74ypkcI"
      },
      "execution_count": null,
      "outputs": []
    }
  ]
}