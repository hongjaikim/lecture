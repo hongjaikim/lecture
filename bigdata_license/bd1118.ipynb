{
  "nbformat": 4,
  "nbformat_minor": 0,
  "metadata": {
    "colab": {
      "provenance": []
    },
    "kernelspec": {
      "name": "python3",
      "display_name": "Python 3"
    },
    "language_info": {
      "name": "python"
    }
  },
  "cells": [
    {
      "cell_type": "code",
      "execution_count": 20,
      "metadata": {
        "id": "QQa6SfaOJf_Q"
      },
      "outputs": [],
      "source": [
        "import pandas as pd\n",
        "data = pd.read_csv('https://raw.githubusercontent.com/Datamanim/pandas/main/lol.csv',sep='\\t')\n",
        "# print(data)\n",
        "\n",
        "# print(data.head())\n",
        "\n",
        "# print(data.shape)\n",
        "\n",
        "# print(data.columns)\n",
        "\n",
        "# print(data.columns[5])\n",
        "\n",
        "# print(data.iloc[:,5].dtype)\n",
        "\n",
        "# print(data.index)\n",
        "\n",
        "# print(data.iloc[2,5])\n",
        "\n"
      ]
    },
    {
      "cell_type": "code",
      "source": [
        "import pandas as pd\n",
        "data =pd.read_csv('https://raw.githubusercontent.com/Datamanim/pandas/main/Jeju.csv',encoding='CP949')\n",
        "# print(data)\n",
        "\n",
        "# print(data.tail(3))\n",
        "\n",
        "# print(data.select_dtypes(exclude=object).columns)\n",
        "\n",
        "# print(data.select_dtypes(include=object).columns)\n",
        "\n",
        "# print(data.isnull().sum())\n",
        "\n",
        "# print(data.info())\n",
        "\n",
        "# print(data.describe())\n",
        "\n",
        "# print(data['거주인구'])\n",
        "\n",
        "# desc = data['평균 속도'].describe()\n",
        "# print(desc['75%']-desc['25%'])\n",
        "\n",
        "# print(data['평균 속도'].quantile(0.75)-data['평균 속도'].quantile(0.25))\n",
        "\n",
        "# print(len(data['읍면동명'].unique()))\n",
        "\n",
        "# print(data.읍면동명.nunique())\n",
        "# print(data['읍면동명'].nunique())\n",
        "\n",
        "# print(data.읍면동명.unique())"
      ],
      "metadata": {
        "id": "a7S1BXrhO7B5"
      },
      "execution_count": 47,
      "outputs": []
    },
    {
      "cell_type": "code",
      "source": [
        "import pandas as pd\n",
        "data = pd.read_csv('https://raw.githubusercontent.com/Datamanim/pandas/main/chipo.csv')\n",
        "# print(data)\n",
        "\n",
        "# print(data[data['quantity']==3].head())\n",
        "\n",
        "# print(data.loc[data['quantity']==3].head().reset_index(drop=True))\n",
        "\n",
        "# print(data[['quantity','item_price']])\n",
        "\n",
        "data['new_price'] = data['item_price'].str[1:].astype('float')\n",
        "# print(data['new_price'])\n",
        "\n",
        "# print(len(data[data['new_price']<=5]))\n",
        "\n",
        "# print(data[data['item_name']=='Chicken Salad Bowl'].reset_index(drop=True))\n",
        "\n",
        "# print(data[(data['new_price']<=9)&(data['item_name']=='Chicken Salad Bowl')])\n",
        "\n",
        "# print(data.sort_values('new_price',ascending=True).reset_index(drop=True).head())\n",
        "\n",
        "# print(data[data['item_name'].str.contains('Chips')].head())\n",
        "\n",
        "# print(data.iloc[:,1::2])\n",
        "\n",
        "# print(data.sort_values(by='new_price',ascending=False).reset_index(drop=True).head())\n",
        "\n",
        "# print(data[(data['item_name']=='Steak Salad') |( data['item_name']=='Bowl')].head())\n",
        "\n",
        "# print(data[(data['item_name']=='Steak Salad')|(data['item_name']=='Bowl')].drop_duplicates('item_name'))\n",
        "\n",
        "# print(data[(data['item_name']=='Steak Salad')|(data['item_name']=='Bowl')].drop_duplicates('item_name',keep='last'))\n",
        "\n",
        "# print(data[data['new_price']>=data['new_price'].mean()].head())\n",
        "\n",
        "data.loc[data['item_name']=='Izze','item_name']='Fizzy Lizzy'\n",
        "# print(data.head())\n",
        "\n",
        "# print(data['choice_description'].isnull().sum())\n",
        "\n",
        "data.loc[data['choice_description'].isnull(),'choice_description']='NoData'\n",
        "# print(data.head())\n",
        "\n",
        "# print(data[data['choice_description'].str.contains('Black')].head())\n",
        "\n",
        "# print(len(data[~data['choice_description'].str.contains('Vegetables')]))\n",
        "\n",
        "# print(data[data['item_name'].str.startswith('N')].head())\n",
        "\n",
        "# print(data[data['item_name'].str.len()>=15].head())\n",
        "\n",
        "# print(len(data[data.new_price.isin([1.69, 2.39, 3.39, 4.45, 9.25, 10.98, 11.75, 16.98])]))\n",
        "\n"
      ],
      "metadata": {
        "id": "m0oIXFk3RIDl"
      },
      "execution_count": 144,
      "outputs": []
    },
    {
      "cell_type": "code",
      "source": [
        "import pandas as pd\n",
        "df = pd.read_csv('https://raw.githubusercontent.com/Datamanim/pandas/main/AB_NYC_2019.csv')\n",
        "# print(df.head())\n",
        "\n",
        "# print(df['host_name'].value_counts().sort_index().head())\n",
        "\n",
        "a = df.groupby('host_name').size().to_frame().rename(columns={0:'counts'}).sort_values('counts',ascending=False)\n",
        "# print(a.head())\n",
        "\n",
        "# print(df.groupby(['neighbourhood_group','neighbourhood'],as_index=False).size().head())\n",
        "\n",
        "# print(df.groupby(['neighbourhood_group','neighbourhood']).size().groupby('neighbourhood_group').max())\n",
        "\n",
        "# print(df.groupby(['neighbourhood_group'])['price'].agg(['mean','var','min','max']))\n",
        "# print(df[['neighbourhood_group','price']].groupby('neighbourhood_group').agg(['mean','var','min','max']))\n",
        "\n",
        "# print(df[['neighbourhood_group','reviews_per_month']].groupby('neighbourhood_group').agg(['mean','var','max','min']))\n",
        "\n",
        "# print(df.groupby(['neighbourhood','neighbourhood_group'])['price'].mean())\n",
        "\n",
        "# print(df.groupby(['neighbourhood','neighbourhood_group']).price.mean().unstack())\n",
        "\n",
        "# print(df.groupby(['neighbourhood','neighbourhood_group']).price.mean().unstack().fillna(-999))\n",
        "\n",
        "# print(df[df.neighbourhood_group=='Queens'].groupby('neighbourhood').price.agg(['mean','var','max','min']))\n",
        "\n",
        "a = df.groupby(['neighbourhood_group','room_type']).size().unstack()\n",
        "a[:] = a.values/a.sum(axis=1).values.reshape(-1,1)\n",
        "# print(a)"
      ],
      "metadata": {
        "id": "XV2kassPWNRo"
      },
      "execution_count": 205,
      "outputs": []
    },
    {
      "cell_type": "markdown",
      "source": [
        "Q56"
      ],
      "metadata": {
        "id": "zvIXUjVgz717"
      }
    },
    {
      "cell_type": "code",
      "source": [],
      "metadata": {
        "id": "DKKiOnbXrE6x"
      },
      "execution_count": 206,
      "outputs": []
    }
  ]
}