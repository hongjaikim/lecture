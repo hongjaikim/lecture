{
  "nbformat": 4,
  "nbformat_minor": 0,
  "metadata": {
    "colab": {
      "provenance": []
    },
    "kernelspec": {
      "name": "python3",
      "display_name": "Python 3"
    },
    "language_info": {
      "name": "python"
    }
  },
  "cells": [
    {
      "cell_type": "code",
      "execution_count": null,
      "metadata": {
        "colab": {
          "base_uri": "https://localhost:8080/"
        },
        "id": "i6phvia5-zSJ",
        "outputId": "e7aa44ac-a42f-4baa-e831-f29fa8fbb26b"
      },
      "outputs": [
        {
          "output_type": "stream",
          "name": "stdout",
          "text": [
            "Cloning into 'bigData'...\n",
            "remote: Enumerating objects: 13, done.\u001b[K\n",
            "remote: Counting objects: 100% (13/13), done.\u001b[K\n",
            "remote: Compressing objects: 100% (13/13), done.\u001b[K\n",
            "remote: Total 13 (delta 0), reused 0 (delta 0), pack-reused 0\u001b[K\n",
            "Unpacking objects: 100% (13/13), done.\n"
          ]
        }
      ],
      "source": [
        "!git clone https://github.com/7ieon/bigData"
      ]
    },
    {
      "cell_type": "markdown",
      "source": [
        "11.15"
      ],
      "metadata": {
        "id": "oXzpDX3XcKkr"
      }
    },
    {
      "cell_type": "markdown",
      "source": [
        "top10 구하기"
      ],
      "metadata": {
        "id": "TIxamNtTBhtx"
      }
    },
    {
      "cell_type": "code",
      "source": [
        "import pandas as pd"
      ],
      "metadata": {
        "id": "-rIlHQFp_fZG"
      },
      "execution_count": null,
      "outputs": []
    },
    {
      "cell_type": "code",
      "source": [
        "data = pd.read_csv('/content/bigData/boston.csv')"
      ],
      "metadata": {
        "id": "vskhQFzPAPpC"
      },
      "execution_count": null,
      "outputs": []
    },
    {
      "cell_type": "code",
      "source": [
        "print(data.head())"
      ],
      "metadata": {
        "colab": {
          "base_uri": "https://localhost:8080/"
        },
        "id": "Jo1cenWyAUiW",
        "outputId": "91d67210-d32f-45cc-dbb2-662b6ceef4b5"
      },
      "execution_count": null,
      "outputs": [
        {
          "output_type": "stream",
          "name": "stdout",
          "text": [
            "      CRIM    ZN  INDUS  CHAS    NOX     RM   AGE     DIS  RAD  TAX  PTRATIO  \\\n",
            "0  0.00632  18.0   2.31     0  0.538  6.575  65.2  4.0900    1  296     15.3   \n",
            "1  0.02731   0.0   7.07     0  0.469  6.421  78.9  4.9671    2  242     17.8   \n",
            "2  0.02729   0.0   7.07     0  0.469  7.185  61.1  4.9671    2  242     17.8   \n",
            "3  0.03237   0.0   2.18     0  0.458  6.998  45.8  6.0622    3  222     18.7   \n",
            "4  0.06905   0.0   2.18     0  0.458  7.147  54.2  6.0622    3  222     18.7   \n",
            "\n",
            "        B  LSTAT  MEDV  \n",
            "0  396.90   4.98  24.0  \n",
            "1  396.90   9.14  21.6  \n",
            "2  392.83   4.03  34.7  \n",
            "3  394.63   2.94  33.4  \n",
            "4  396.90   5.33  36.2  \n"
          ]
        }
      ]
    },
    {
      "cell_type": "code",
      "source": [
        "print(data.sort_values('MEDV',ascending=True))"
      ],
      "metadata": {
        "colab": {
          "base_uri": "https://localhost:8080/"
        },
        "id": "opT7hrE8AVYm",
        "outputId": "9f0b497b-5f42-4025-db17-8303d37676f0"
      },
      "execution_count": null,
      "outputs": [
        {
          "output_type": "stream",
          "name": "stdout",
          "text": [
            "         CRIM    ZN  INDUS  CHAS    NOX     RM    AGE     DIS  RAD  TAX  \\\n",
            "398  38.35180   0.0  18.10     0  0.693    NaN  100.0  1.4896   24  666   \n",
            "405  67.92080   0.0  18.10     0  0.693  5.683  100.0  1.4254   24  666   \n",
            "400  25.04610   0.0  18.10     0  0.693  5.987  100.0  1.5888   24  666   \n",
            "399   9.91655   0.0  18.10     0  0.693  5.852   77.8  1.5004   24  666   \n",
            "414  45.74610   0.0  18.10     0  0.693  4.519  100.0  1.6582   24  666   \n",
            "..        ...   ...    ...   ...    ...    ...    ...     ...  ...  ...   \n",
            "166   2.01019   0.0  19.58     0  0.605  7.929   96.2  2.0459    5  403   \n",
            "195   0.01381  80.0   0.46     0  0.422  7.875   32.0  5.6484    4  255   \n",
            "283   0.01501  90.0   1.21     1  0.401  7.923   24.8  5.8850    1  198   \n",
            "225   0.52693   0.0   6.20     0  0.504  8.725   83.0  2.8944    8  307   \n",
            "186   0.05602   0.0   2.46     0  0.488  7.831   53.6  3.1992    3  193   \n",
            "\n",
            "     PTRATIO       B  LSTAT  MEDV  \n",
            "398     20.2  396.90  30.59   5.0  \n",
            "405     20.2  384.97  22.98   5.0  \n",
            "400     20.2  396.90  26.77   5.6  \n",
            "399     20.2  338.16  29.97   6.3  \n",
            "414     20.2   88.27  36.98   7.0  \n",
            "..       ...     ...    ...   ...  \n",
            "166     14.7  369.30   3.70  50.0  \n",
            "195     14.4  394.23   2.97  50.0  \n",
            "283     13.6  395.52   3.16  50.0  \n",
            "225     17.4  382.00   4.63  50.0  \n",
            "186     17.8  392.63   4.45  50.0  \n",
            "\n",
            "[506 rows x 14 columns]\n"
          ]
        }
      ]
    },
    {
      "cell_type": "code",
      "source": [
        "print(data.sort_values('MEDV',ascending=True)['MEDV'])"
      ],
      "metadata": {
        "colab": {
          "base_uri": "https://localhost:8080/"
        },
        "id": "aqOqMR5PBASB",
        "outputId": "feff7b78-ded9-4449-e8f6-2dcd4c9c2ea7"
      },
      "execution_count": null,
      "outputs": [
        {
          "output_type": "stream",
          "name": "stdout",
          "text": [
            "398     5.0\n",
            "405     5.0\n",
            "400     5.6\n",
            "399     6.3\n",
            "414     7.0\n",
            "       ... \n",
            "166    50.0\n",
            "195    50.0\n",
            "283    50.0\n",
            "225    50.0\n",
            "186    50.0\n",
            "Name: MEDV, Length: 506, dtype: float64\n"
          ]
        }
      ]
    },
    {
      "cell_type": "code",
      "source": [
        "print(data.sort_values('MEDV',ascending=True)['MEDV'].head(10))"
      ],
      "metadata": {
        "colab": {
          "base_uri": "https://localhost:8080/"
        },
        "id": "NKaoH1piBUgy",
        "outputId": "2afa5056-83bb-450f-a37a-ad9561e12d07"
      },
      "execution_count": null,
      "outputs": [
        {
          "output_type": "stream",
          "name": "stdout",
          "text": [
            "398    5.0\n",
            "405    5.0\n",
            "400    5.6\n",
            "399    6.3\n",
            "414    7.0\n",
            "489    7.0\n",
            "401    7.2\n",
            "385    7.2\n",
            "415    7.2\n",
            "387    7.4\n",
            "Name: MEDV, dtype: float64\n"
          ]
        }
      ]
    },
    {
      "cell_type": "markdown",
      "source": [
        "결측치 확인하기"
      ],
      "metadata": {
        "id": "DVFuT7U3BmRx"
      }
    },
    {
      "cell_type": "code",
      "source": [
        "import pandas as pd"
      ],
      "metadata": {
        "id": "jdhq_aJcBft0"
      },
      "execution_count": null,
      "outputs": []
    },
    {
      "cell_type": "code",
      "source": [
        "data = pd.read_csv('/content/bigData/boston.csv')"
      ],
      "metadata": {
        "id": "uUQR13FCB7-_"
      },
      "execution_count": null,
      "outputs": []
    },
    {
      "cell_type": "code",
      "source": [
        "data.head()"
      ],
      "metadata": {
        "colab": {
          "base_uri": "https://localhost:8080/",
          "height": 206
        },
        "id": "wcqPcfGCCGLz",
        "outputId": "5666d012-56ee-4a1c-a8bf-445aa93d07f8"
      },
      "execution_count": null,
      "outputs": [
        {
          "output_type": "execute_result",
          "data": {
            "text/plain": [
              "      CRIM    ZN  INDUS  CHAS    NOX     RM   AGE     DIS  RAD  TAX  PTRATIO  \\\n",
              "0  0.00632  18.0   2.31     0  0.538  6.575  65.2  4.0900    1  296     15.3   \n",
              "1  0.02731   0.0   7.07     0  0.469  6.421  78.9  4.9671    2  242     17.8   \n",
              "2  0.02729   0.0   7.07     0  0.469  7.185  61.1  4.9671    2  242     17.8   \n",
              "3  0.03237   0.0   2.18     0  0.458  6.998  45.8  6.0622    3  222     18.7   \n",
              "4  0.06905   0.0   2.18     0  0.458  7.147  54.2  6.0622    3  222     18.7   \n",
              "\n",
              "        B  LSTAT  MEDV  \n",
              "0  396.90   4.98  24.0  \n",
              "1  396.90   9.14  21.6  \n",
              "2  392.83   4.03  34.7  \n",
              "3  394.63   2.94  33.4  \n",
              "4  396.90   5.33  36.2  "
            ],
            "text/html": [
              "\n",
              "  <div id=\"df-1b3109c9-fa29-4f8f-bb76-4a9e9ecd26ec\">\n",
              "    <div class=\"colab-df-container\">\n",
              "      <div>\n",
              "<style scoped>\n",
              "    .dataframe tbody tr th:only-of-type {\n",
              "        vertical-align: middle;\n",
              "    }\n",
              "\n",
              "    .dataframe tbody tr th {\n",
              "        vertical-align: top;\n",
              "    }\n",
              "\n",
              "    .dataframe thead th {\n",
              "        text-align: right;\n",
              "    }\n",
              "</style>\n",
              "<table border=\"1\" class=\"dataframe\">\n",
              "  <thead>\n",
              "    <tr style=\"text-align: right;\">\n",
              "      <th></th>\n",
              "      <th>CRIM</th>\n",
              "      <th>ZN</th>\n",
              "      <th>INDUS</th>\n",
              "      <th>CHAS</th>\n",
              "      <th>NOX</th>\n",
              "      <th>RM</th>\n",
              "      <th>AGE</th>\n",
              "      <th>DIS</th>\n",
              "      <th>RAD</th>\n",
              "      <th>TAX</th>\n",
              "      <th>PTRATIO</th>\n",
              "      <th>B</th>\n",
              "      <th>LSTAT</th>\n",
              "      <th>MEDV</th>\n",
              "    </tr>\n",
              "  </thead>\n",
              "  <tbody>\n",
              "    <tr>\n",
              "      <th>0</th>\n",
              "      <td>0.00632</td>\n",
              "      <td>18.0</td>\n",
              "      <td>2.31</td>\n",
              "      <td>0</td>\n",
              "      <td>0.538</td>\n",
              "      <td>6.575</td>\n",
              "      <td>65.2</td>\n",
              "      <td>4.0900</td>\n",
              "      <td>1</td>\n",
              "      <td>296</td>\n",
              "      <td>15.3</td>\n",
              "      <td>396.90</td>\n",
              "      <td>4.98</td>\n",
              "      <td>24.0</td>\n",
              "    </tr>\n",
              "    <tr>\n",
              "      <th>1</th>\n",
              "      <td>0.02731</td>\n",
              "      <td>0.0</td>\n",
              "      <td>7.07</td>\n",
              "      <td>0</td>\n",
              "      <td>0.469</td>\n",
              "      <td>6.421</td>\n",
              "      <td>78.9</td>\n",
              "      <td>4.9671</td>\n",
              "      <td>2</td>\n",
              "      <td>242</td>\n",
              "      <td>17.8</td>\n",
              "      <td>396.90</td>\n",
              "      <td>9.14</td>\n",
              "      <td>21.6</td>\n",
              "    </tr>\n",
              "    <tr>\n",
              "      <th>2</th>\n",
              "      <td>0.02729</td>\n",
              "      <td>0.0</td>\n",
              "      <td>7.07</td>\n",
              "      <td>0</td>\n",
              "      <td>0.469</td>\n",
              "      <td>7.185</td>\n",
              "      <td>61.1</td>\n",
              "      <td>4.9671</td>\n",
              "      <td>2</td>\n",
              "      <td>242</td>\n",
              "      <td>17.8</td>\n",
              "      <td>392.83</td>\n",
              "      <td>4.03</td>\n",
              "      <td>34.7</td>\n",
              "    </tr>\n",
              "    <tr>\n",
              "      <th>3</th>\n",
              "      <td>0.03237</td>\n",
              "      <td>0.0</td>\n",
              "      <td>2.18</td>\n",
              "      <td>0</td>\n",
              "      <td>0.458</td>\n",
              "      <td>6.998</td>\n",
              "      <td>45.8</td>\n",
              "      <td>6.0622</td>\n",
              "      <td>3</td>\n",
              "      <td>222</td>\n",
              "      <td>18.7</td>\n",
              "      <td>394.63</td>\n",
              "      <td>2.94</td>\n",
              "      <td>33.4</td>\n",
              "    </tr>\n",
              "    <tr>\n",
              "      <th>4</th>\n",
              "      <td>0.06905</td>\n",
              "      <td>0.0</td>\n",
              "      <td>2.18</td>\n",
              "      <td>0</td>\n",
              "      <td>0.458</td>\n",
              "      <td>7.147</td>\n",
              "      <td>54.2</td>\n",
              "      <td>6.0622</td>\n",
              "      <td>3</td>\n",
              "      <td>222</td>\n",
              "      <td>18.7</td>\n",
              "      <td>396.90</td>\n",
              "      <td>5.33</td>\n",
              "      <td>36.2</td>\n",
              "    </tr>\n",
              "  </tbody>\n",
              "</table>\n",
              "</div>\n",
              "      <button class=\"colab-df-convert\" onclick=\"convertToInteractive('df-1b3109c9-fa29-4f8f-bb76-4a9e9ecd26ec')\"\n",
              "              title=\"Convert this dataframe to an interactive table.\"\n",
              "              style=\"display:none;\">\n",
              "        \n",
              "  <svg xmlns=\"http://www.w3.org/2000/svg\" height=\"24px\"viewBox=\"0 0 24 24\"\n",
              "       width=\"24px\">\n",
              "    <path d=\"M0 0h24v24H0V0z\" fill=\"none\"/>\n",
              "    <path d=\"M18.56 5.44l.94 2.06.94-2.06 2.06-.94-2.06-.94-.94-2.06-.94 2.06-2.06.94zm-11 1L8.5 8.5l.94-2.06 2.06-.94-2.06-.94L8.5 2.5l-.94 2.06-2.06.94zm10 10l.94 2.06.94-2.06 2.06-.94-2.06-.94-.94-2.06-.94 2.06-2.06.94z\"/><path d=\"M17.41 7.96l-1.37-1.37c-.4-.4-.92-.59-1.43-.59-.52 0-1.04.2-1.43.59L10.3 9.45l-7.72 7.72c-.78.78-.78 2.05 0 2.83L4 21.41c.39.39.9.59 1.41.59.51 0 1.02-.2 1.41-.59l7.78-7.78 2.81-2.81c.8-.78.8-2.07 0-2.86zM5.41 20L4 18.59l7.72-7.72 1.47 1.35L5.41 20z\"/>\n",
              "  </svg>\n",
              "      </button>\n",
              "      \n",
              "  <style>\n",
              "    .colab-df-container {\n",
              "      display:flex;\n",
              "      flex-wrap:wrap;\n",
              "      gap: 12px;\n",
              "    }\n",
              "\n",
              "    .colab-df-convert {\n",
              "      background-color: #E8F0FE;\n",
              "      border: none;\n",
              "      border-radius: 50%;\n",
              "      cursor: pointer;\n",
              "      display: none;\n",
              "      fill: #1967D2;\n",
              "      height: 32px;\n",
              "      padding: 0 0 0 0;\n",
              "      width: 32px;\n",
              "    }\n",
              "\n",
              "    .colab-df-convert:hover {\n",
              "      background-color: #E2EBFA;\n",
              "      box-shadow: 0px 1px 2px rgba(60, 64, 67, 0.3), 0px 1px 3px 1px rgba(60, 64, 67, 0.15);\n",
              "      fill: #174EA6;\n",
              "    }\n",
              "\n",
              "    [theme=dark] .colab-df-convert {\n",
              "      background-color: #3B4455;\n",
              "      fill: #D2E3FC;\n",
              "    }\n",
              "\n",
              "    [theme=dark] .colab-df-convert:hover {\n",
              "      background-color: #434B5C;\n",
              "      box-shadow: 0px 1px 3px 1px rgba(0, 0, 0, 0.15);\n",
              "      filter: drop-shadow(0px 1px 2px rgba(0, 0, 0, 0.3));\n",
              "      fill: #FFFFFF;\n",
              "    }\n",
              "  </style>\n",
              "\n",
              "      <script>\n",
              "        const buttonEl =\n",
              "          document.querySelector('#df-1b3109c9-fa29-4f8f-bb76-4a9e9ecd26ec button.colab-df-convert');\n",
              "        buttonEl.style.display =\n",
              "          google.colab.kernel.accessAllowed ? 'block' : 'none';\n",
              "\n",
              "        async function convertToInteractive(key) {\n",
              "          const element = document.querySelector('#df-1b3109c9-fa29-4f8f-bb76-4a9e9ecd26ec');\n",
              "          const dataTable =\n",
              "            await google.colab.kernel.invokeFunction('convertToInteractive',\n",
              "                                                     [key], {});\n",
              "          if (!dataTable) return;\n",
              "\n",
              "          const docLinkHtml = 'Like what you see? Visit the ' +\n",
              "            '<a target=\"_blank\" href=https://colab.research.google.com/notebooks/data_table.ipynb>data table notebook</a>'\n",
              "            + ' to learn more about interactive tables.';\n",
              "          element.innerHTML = '';\n",
              "          dataTable['output_type'] = 'display_data';\n",
              "          await google.colab.output.renderOutput(dataTable, element);\n",
              "          const docLink = document.createElement('div');\n",
              "          docLink.innerHTML = docLinkHtml;\n",
              "          element.appendChild(docLink);\n",
              "        }\n",
              "      </script>\n",
              "    </div>\n",
              "  </div>\n",
              "  "
            ]
          },
          "metadata": {},
          "execution_count": 12
        }
      ]
    },
    {
      "cell_type": "code",
      "source": [
        "data.info()"
      ],
      "metadata": {
        "colab": {
          "base_uri": "https://localhost:8080/"
        },
        "id": "zbzuJAo2CJYs",
        "outputId": "f0788ea2-6bb3-4e5c-f09f-fa344caaa423"
      },
      "execution_count": null,
      "outputs": [
        {
          "output_type": "stream",
          "name": "stdout",
          "text": [
            "<class 'pandas.core.frame.DataFrame'>\n",
            "RangeIndex: 506 entries, 0 to 505\n",
            "Data columns (total 14 columns):\n",
            " #   Column   Non-Null Count  Dtype  \n",
            "---  ------   --------------  -----  \n",
            " 0   CRIM     506 non-null    float64\n",
            " 1   ZN       506 non-null    float64\n",
            " 2   INDUS    506 non-null    float64\n",
            " 3   CHAS     506 non-null    int64  \n",
            " 4   NOX      506 non-null    float64\n",
            " 5   RM       491 non-null    float64\n",
            " 6   AGE      506 non-null    float64\n",
            " 7   DIS      506 non-null    float64\n",
            " 8   RAD      506 non-null    int64  \n",
            " 9   TAX      506 non-null    int64  \n",
            " 10  PTRATIO  506 non-null    float64\n",
            " 11  B        506 non-null    float64\n",
            " 12  LSTAT    506 non-null    float64\n",
            " 13  MEDV     506 non-null    float64\n",
            "dtypes: float64(11), int64(3)\n",
            "memory usage: 55.5 KB\n"
          ]
        }
      ]
    },
    {
      "cell_type": "code",
      "source": [
        "print(data.isnull().sum())"
      ],
      "metadata": {
        "colab": {
          "base_uri": "https://localhost:8080/"
        },
        "id": "sUajR5CRCMYQ",
        "outputId": "51665f28-b1e4-4c6f-f025-60ac301ca0aa"
      },
      "execution_count": null,
      "outputs": [
        {
          "output_type": "stream",
          "name": "stdout",
          "text": [
            "CRIM        0\n",
            "ZN          0\n",
            "INDUS       0\n",
            "CHAS        0\n",
            "NOX         0\n",
            "RM         15\n",
            "AGE         0\n",
            "DIS         0\n",
            "RAD         0\n",
            "TAX         0\n",
            "PTRATIO     0\n",
            "B           0\n",
            "LSTAT       0\n",
            "MEDV        0\n",
            "dtype: int64\n"
          ]
        }
      ]
    },
    {
      "cell_type": "code",
      "source": [
        "data_describe = data.describe()"
      ],
      "metadata": {
        "id": "xK89hrlpCXmJ"
      },
      "execution_count": null,
      "outputs": []
    },
    {
      "cell_type": "code",
      "source": [
        "print(data_describe['RM']['mean'])"
      ],
      "metadata": {
        "colab": {
          "base_uri": "https://localhost:8080/"
        },
        "id": "dM8XUawWCkkf",
        "outputId": "0e428a86-e709-4389-b6e3-95f7c44b7451"
      },
      "execution_count": null,
      "outputs": [
        {
          "output_type": "stream",
          "name": "stdout",
          "text": [
            "6.285101832993889\n"
          ]
        }
      ]
    },
    {
      "cell_type": "code",
      "source": [
        "data_mean = data['RM'].copy()"
      ],
      "metadata": {
        "id": "51-llMc7CrBw"
      },
      "execution_count": null,
      "outputs": []
    },
    {
      "cell_type": "code",
      "source": [
        "print(data_mean.isnull().sum())"
      ],
      "metadata": {
        "colab": {
          "base_uri": "https://localhost:8080/"
        },
        "id": "GhL-H07tEQVs",
        "outputId": "207544fa-64f9-40e9-d821-e2fd633c4f6f"
      },
      "execution_count": null,
      "outputs": [
        {
          "output_type": "stream",
          "name": "stdout",
          "text": [
            "15\n"
          ]
        }
      ]
    },
    {
      "cell_type": "code",
      "source": [
        "rm_mean = data_mean.mean()"
      ],
      "metadata": {
        "id": "X5hvIigPET2Y"
      },
      "execution_count": null,
      "outputs": []
    },
    {
      "cell_type": "code",
      "source": [
        "print(rm_mean)"
      ],
      "metadata": {
        "colab": {
          "base_uri": "https://localhost:8080/"
        },
        "id": "BtZf89AQEejQ",
        "outputId": "7abc36ee-27a6-456f-fff0-78ec1e3299aa"
      },
      "execution_count": null,
      "outputs": [
        {
          "output_type": "stream",
          "name": "stdout",
          "text": [
            "6.285101832993889\n"
          ]
        }
      ]
    },
    {
      "cell_type": "code",
      "source": [
        "print(data_mean.fillna(rm_mean,inplace=True))"
      ],
      "metadata": {
        "colab": {
          "base_uri": "https://localhost:8080/"
        },
        "id": "FoEwR5t0Ejvy",
        "outputId": "dabd7e92-a29a-43a7-d6f6-cb1c66c8c202"
      },
      "execution_count": null,
      "outputs": [
        {
          "output_type": "stream",
          "name": "stdout",
          "text": [
            "None\n"
          ]
        }
      ]
    },
    {
      "cell_type": "code",
      "source": [
        "print(data_mean.isnull().sum())"
      ],
      "metadata": {
        "colab": {
          "base_uri": "https://localhost:8080/"
        },
        "id": "wOkxO0OoEtrG",
        "outputId": "e4f702e5-360c-461a-d37e-adcc57ab6d62"
      },
      "execution_count": null,
      "outputs": [
        {
          "output_type": "stream",
          "name": "stdout",
          "text": [
            "0\n"
          ]
        }
      ]
    },
    {
      "cell_type": "code",
      "source": [
        "data_del = data['RM'].copy()"
      ],
      "metadata": {
        "id": "yks2BEuAE5Hn"
      },
      "execution_count": null,
      "outputs": []
    },
    {
      "cell_type": "code",
      "source": [
        "data_del.dropna(inplace=True)"
      ],
      "metadata": {
        "id": "Hpt4yh7fE-Ix"
      },
      "execution_count": null,
      "outputs": []
    },
    {
      "cell_type": "code",
      "source": [
        "print(data_del.isnull().sum())"
      ],
      "metadata": {
        "colab": {
          "base_uri": "https://localhost:8080/"
        },
        "id": "6iHg2qOmFERS",
        "outputId": "8f04993f-7b0c-472e-c692-6be5c128e60b"
      },
      "execution_count": null,
      "outputs": [
        {
          "output_type": "stream",
          "name": "stdout",
          "text": [
            "0\n"
          ]
        }
      ]
    },
    {
      "cell_type": "code",
      "source": [
        "print(data_mean.std(),data_del.std())"
      ],
      "metadata": {
        "colab": {
          "base_uri": "https://localhost:8080/"
        },
        "id": "Z-1iyKOmFHXA",
        "outputId": "b9f6107d-1f09-4393-856a-1a912bdca491"
      },
      "execution_count": null,
      "outputs": [
        {
          "output_type": "stream",
          "name": "stdout",
          "text": [
            "0.6975001826300912 0.7080957287241957\n"
          ]
        }
      ]
    },
    {
      "cell_type": "code",
      "source": [
        "print(abs(data_mean.std()-data_del.std()))"
      ],
      "metadata": {
        "colab": {
          "base_uri": "https://localhost:8080/"
        },
        "id": "brXukSXsFR8o",
        "outputId": "83bc0b78-903f-4dc9-c180-84497de5097a"
      },
      "execution_count": null,
      "outputs": [
        {
          "output_type": "stream",
          "name": "stdout",
          "text": [
            "0.010595546094104513\n"
          ]
        }
      ]
    },
    {
      "cell_type": "markdown",
      "source": [
        "이상값 확인하기"
      ],
      "metadata": {
        "id": "XjDo0kW1GuSJ"
      }
    },
    {
      "cell_type": "code",
      "source": [
        "import pandas as pd"
      ],
      "metadata": {
        "id": "IoWH1CdcFaw-"
      },
      "execution_count": null,
      "outputs": []
    },
    {
      "cell_type": "code",
      "source": [
        "data = pd.read_csv('/content/bigData/boston.csv')"
      ],
      "metadata": {
        "id": "srMjYOYTGzTT"
      },
      "execution_count": null,
      "outputs": []
    },
    {
      "cell_type": "code",
      "source": [
        "print(data['ZN'])"
      ],
      "metadata": {
        "colab": {
          "base_uri": "https://localhost:8080/"
        },
        "id": "wvOdYVDsG2sC",
        "outputId": "8f48c278-37a2-451b-e9c6-5b96e336b511"
      },
      "execution_count": null,
      "outputs": [
        {
          "output_type": "stream",
          "name": "stdout",
          "text": [
            "0      18.0\n",
            "1       0.0\n",
            "2       0.0\n",
            "3       0.0\n",
            "4       0.0\n",
            "       ... \n",
            "501     0.0\n",
            "502     0.0\n",
            "503     0.0\n",
            "504     0.0\n",
            "505     0.0\n",
            "Name: ZN, Length: 506, dtype: float64\n"
          ]
        }
      ]
    },
    {
      "cell_type": "code",
      "source": [
        "ZN_describe = data['ZN'].describe()"
      ],
      "metadata": {
        "id": "rl77cIwUG5Bj"
      },
      "execution_count": null,
      "outputs": []
    },
    {
      "cell_type": "code",
      "source": [
        "print(ZN_describe)"
      ],
      "metadata": {
        "colab": {
          "base_uri": "https://localhost:8080/"
        },
        "id": "5uehvNveHGHn",
        "outputId": "f37ddf3f-2c73-4640-bf3b-a0bb72152714"
      },
      "execution_count": null,
      "outputs": [
        {
          "output_type": "stream",
          "name": "stdout",
          "text": [
            "count    506.000000\n",
            "mean      11.363636\n",
            "std       23.322453\n",
            "min        0.000000\n",
            "25%        0.000000\n",
            "50%        0.000000\n",
            "75%       12.500000\n",
            "max      100.000000\n",
            "Name: ZN, dtype: float64\n"
          ]
        }
      ]
    },
    {
      "cell_type": "code",
      "source": [
        "print(data['ZN'][data['ZN']>ZN_describe['mean']+(ZN_describe['std']*1.5)].sum())"
      ],
      "metadata": {
        "colab": {
          "base_uri": "https://localhost:8080/"
        },
        "id": "3Ftbm1nMHIEP",
        "outputId": "b9a731b5-2911-4297-ec4c-bb919d3e8252"
      },
      "execution_count": null,
      "outputs": [
        {
          "output_type": "stream",
          "name": "stdout",
          "text": [
            "3462.5\n"
          ]
        }
      ]
    },
    {
      "cell_type": "code",
      "source": [
        "print(data['ZN'][data['ZN']<ZN_describe['mean']-(ZN_describe['std']*1.5)].sum())"
      ],
      "metadata": {
        "colab": {
          "base_uri": "https://localhost:8080/"
        },
        "id": "8jCp0Rw4HuO2",
        "outputId": "6f592226-67a7-4e91-bbac-5145d1f77504"
      },
      "execution_count": null,
      "outputs": [
        {
          "output_type": "stream",
          "name": "stdout",
          "text": [
            "0.0\n"
          ]
        }
      ]
    },
    {
      "cell_type": "markdown",
      "source": [
        "11.16(331p)"
      ],
      "metadata": {
        "id": "jI8Ud059cE_f"
      }
    },
    {
      "cell_type": "markdown",
      "source": [
        "사분위수 구하기"
      ],
      "metadata": {
        "id": "Hztj0jJCIIfo"
      }
    },
    {
      "cell_type": "code",
      "source": [
        "!git clone https://github.com/7ieon/bigData"
      ],
      "metadata": {
        "colab": {
          "base_uri": "https://localhost:8080/"
        },
        "id": "BDyXqcq6Apvp",
        "outputId": "4ba5c426-d5a5-4840-cc1d-bb958a7c8802"
      },
      "execution_count": 1,
      "outputs": [
        {
          "output_type": "stream",
          "name": "stdout",
          "text": [
            "Cloning into 'bigData'...\n",
            "remote: Enumerating objects: 13, done.\u001b[K\n",
            "remote: Counting objects: 100% (13/13), done.\u001b[K\n",
            "remote: Compressing objects: 100% (13/13), done.\u001b[K\n",
            "remote: Total 13 (delta 0), reused 0 (delta 0), pack-reused 0\u001b[K\n",
            "Unpacking objects: 100% (13/13), done.\n"
          ]
        }
      ]
    },
    {
      "cell_type": "code",
      "source": [
        "import pandas as pd"
      ],
      "metadata": {
        "id": "OTahw3k7IANx"
      },
      "execution_count": 2,
      "outputs": []
    },
    {
      "cell_type": "code",
      "source": [
        "data = pd.read_csv('/content/bigData/boston.csv')"
      ],
      "metadata": {
        "id": "iPlhJfUsIW2G"
      },
      "execution_count": 3,
      "outputs": []
    },
    {
      "cell_type": "code",
      "source": [
        "print(data)"
      ],
      "metadata": {
        "colab": {
          "base_uri": "https://localhost:8080/"
        },
        "id": "_G_bkCZJA2TA",
        "outputId": "d23074e6-9fe2-4e72-fe03-475e28f26cef"
      },
      "execution_count": 4,
      "outputs": [
        {
          "output_type": "stream",
          "name": "stdout",
          "text": [
            "        CRIM    ZN  INDUS  CHAS    NOX     RM   AGE     DIS  RAD  TAX  \\\n",
            "0    0.00632  18.0   2.31     0  0.538  6.575  65.2  4.0900    1  296   \n",
            "1    0.02731   0.0   7.07     0  0.469  6.421  78.9  4.9671    2  242   \n",
            "2    0.02729   0.0   7.07     0  0.469  7.185  61.1  4.9671    2  242   \n",
            "3    0.03237   0.0   2.18     0  0.458  6.998  45.8  6.0622    3  222   \n",
            "4    0.06905   0.0   2.18     0  0.458  7.147  54.2  6.0622    3  222   \n",
            "..       ...   ...    ...   ...    ...    ...   ...     ...  ...  ...   \n",
            "501  0.06263   0.0  11.93     0  0.573  6.593  69.1  2.4786    1  273   \n",
            "502  0.04527   0.0  11.93     0  0.573    NaN  76.7  2.2875    1  273   \n",
            "503  0.06076   0.0  11.93     0  0.573  6.976  91.0  2.1675    1  273   \n",
            "504  0.10959   0.0  11.93     0  0.573  6.794  89.3  2.3889    1  273   \n",
            "505  0.04741   0.0  11.93     0  0.573  6.030  80.8  2.5050    1  273   \n",
            "\n",
            "     PTRATIO       B  LSTAT  MEDV  \n",
            "0       15.3  396.90   4.98  24.0  \n",
            "1       17.8  396.90   9.14  21.6  \n",
            "2       17.8  392.83   4.03  34.7  \n",
            "3       18.7  394.63   2.94  33.4  \n",
            "4       18.7  396.90   5.33  36.2  \n",
            "..       ...     ...    ...   ...  \n",
            "501     21.0  391.99   9.67  22.4  \n",
            "502     21.0  396.90   9.08  20.6  \n",
            "503     21.0  396.90   5.64  23.9  \n",
            "504     21.0  393.45   6.48  22.0  \n",
            "505     21.0  396.90   7.88  11.9  \n",
            "\n",
            "[506 rows x 14 columns]\n"
          ]
        }
      ]
    },
    {
      "cell_type": "code",
      "source": [
        "data.drop(columns='CHAS',inplace=True)"
      ],
      "metadata": {
        "id": "e48-4eMQIeJd"
      },
      "execution_count": 9,
      "outputs": []
    },
    {
      "cell_type": "code",
      "source": [
        "print(data.head())"
      ],
      "metadata": {
        "colab": {
          "base_uri": "https://localhost:8080/"
        },
        "id": "agBwahAkA919",
        "outputId": "aeaefab7-41d1-4aea-8cba-8660327b8f50"
      },
      "execution_count": 10,
      "outputs": [
        {
          "output_type": "stream",
          "name": "stdout",
          "text": [
            "      CRIM    ZN  INDUS    NOX     RM   AGE     DIS  RAD  TAX  PTRATIO  \\\n",
            "0  0.00632  18.0   2.31  0.538  6.575  65.2  4.0900    1  296     15.3   \n",
            "1  0.02731   0.0   7.07  0.469  6.421  78.9  4.9671    2  242     17.8   \n",
            "2  0.02729   0.0   7.07  0.469  7.185  61.1  4.9671    2  242     17.8   \n",
            "3  0.03237   0.0   2.18  0.458  6.998  45.8  6.0622    3  222     18.7   \n",
            "4  0.06905   0.0   2.18  0.458  7.147  54.2  6.0622    3  222     18.7   \n",
            "\n",
            "        B  LSTAT  MEDV  \n",
            "0  396.90   4.98  24.0  \n",
            "1  396.90   9.14  21.6  \n",
            "2  392.83   4.03  34.7  \n",
            "3  394.63   2.94  33.4  \n",
            "4  396.90   5.33  36.2  \n"
          ]
        }
      ]
    },
    {
      "cell_type": "code",
      "source": [
        "data.drop(columns='RAD',inplace=True)"
      ],
      "metadata": {
        "id": "hM3YjWVnBF1y"
      },
      "execution_count": 12,
      "outputs": []
    },
    {
      "cell_type": "code",
      "source": [
        "print(data.head())"
      ],
      "metadata": {
        "colab": {
          "base_uri": "https://localhost:8080/"
        },
        "id": "-i1JH-bqB8RN",
        "outputId": "2453b9f1-4c61-4fed-990c-647233f4f51b"
      },
      "execution_count": 13,
      "outputs": [
        {
          "output_type": "stream",
          "name": "stdout",
          "text": [
            "      CRIM    ZN  INDUS    NOX     RM   AGE     DIS  TAX  PTRATIO       B  \\\n",
            "0  0.00632  18.0   2.31  0.538  6.575  65.2  4.0900  296     15.3  396.90   \n",
            "1  0.02731   0.0   7.07  0.469  6.421  78.9  4.9671  242     17.8  396.90   \n",
            "2  0.02729   0.0   7.07  0.469  7.185  61.1  4.9671  242     17.8  392.83   \n",
            "3  0.03237   0.0   2.18  0.458  6.998  45.8  6.0622  222     18.7  394.63   \n",
            "4  0.06905   0.0   2.18  0.458  7.147  54.2  6.0622  222     18.7  396.90   \n",
            "\n",
            "   LSTAT  MEDV  \n",
            "0   4.98  24.0  \n",
            "1   9.14  21.6  \n",
            "2   4.03  34.7  \n",
            "3   2.94  33.4  \n",
            "4   5.33  36.2  \n"
          ]
        }
      ]
    },
    {
      "cell_type": "code",
      "source": [
        "data_describe = data.describe()"
      ],
      "metadata": {
        "id": "UfxyS7fLCB4C"
      },
      "execution_count": 18,
      "outputs": []
    },
    {
      "cell_type": "code",
      "source": [
        "print(data_describe)"
      ],
      "metadata": {
        "colab": {
          "base_uri": "https://localhost:8080/"
        },
        "id": "tOi-QDV2CVVE",
        "outputId": "47fc1f29-5630-4521-eee1-4a1b7ae43d40"
      },
      "execution_count": 19,
      "outputs": [
        {
          "output_type": "stream",
          "name": "stdout",
          "text": [
            "             CRIM          ZN       INDUS         NOX          RM         AGE  \\\n",
            "count  506.000000  506.000000  506.000000  506.000000  491.000000  506.000000   \n",
            "mean     3.613524   11.363636   11.136779    0.554695    6.285102   68.574901   \n",
            "std      8.601545   23.322453    6.860353    0.115878    0.708096   28.148861   \n",
            "min      0.006320    0.000000    0.460000    0.385000    3.561000    2.900000   \n",
            "25%      0.082045    0.000000    5.190000    0.449000    5.886000   45.025000   \n",
            "50%      0.256510    0.000000    9.690000    0.538000    6.209000   77.500000   \n",
            "75%      3.677083   12.500000   18.100000    0.624000    6.622000   94.075000   \n",
            "max     88.976200  100.000000   27.740000    0.871000    8.780000  100.000000   \n",
            "\n",
            "              DIS         TAX     PTRATIO           B       LSTAT        MEDV  \n",
            "count  506.000000  506.000000  506.000000  506.000000  506.000000  506.000000  \n",
            "mean     3.795043  408.237154   18.455534  356.674032   12.653063   22.532806  \n",
            "std      2.105710  168.537116    2.164946   91.294864    7.141062    9.197104  \n",
            "min      1.129600  187.000000   12.600000    0.320000    1.730000    5.000000  \n",
            "25%      2.100175  279.000000   17.400000  375.377500    6.950000   17.025000  \n",
            "50%      3.207450  330.000000   19.050000  391.440000   11.360000   21.200000  \n",
            "75%      5.188425  666.000000   20.200000  396.225000   16.955000   25.000000  \n",
            "max     12.126500  711.000000   22.000000  396.900000   37.970000   50.000000  \n"
          ]
        }
      ]
    },
    {
      "cell_type": "code",
      "source": [
        "data_describe_T = data_describe.T"
      ],
      "metadata": {
        "id": "J5-z-s4iCE4N"
      },
      "execution_count": 26,
      "outputs": []
    },
    {
      "cell_type": "code",
      "source": [
        "print(data_describe_T)"
      ],
      "metadata": {
        "colab": {
          "base_uri": "https://localhost:8080/"
        },
        "id": "ZP3KaGybCQWI",
        "outputId": "a418d5fe-ba92-482d-a7dc-0a2d226808fe"
      },
      "execution_count": 27,
      "outputs": [
        {
          "output_type": "stream",
          "name": "stdout",
          "text": [
            "         count        mean         std        min         25%        50%  \\\n",
            "CRIM     506.0    3.613524    8.601545    0.00632    0.082045    0.25651   \n",
            "ZN       506.0   11.363636   23.322453    0.00000    0.000000    0.00000   \n",
            "INDUS    506.0   11.136779    6.860353    0.46000    5.190000    9.69000   \n",
            "NOX      506.0    0.554695    0.115878    0.38500    0.449000    0.53800   \n",
            "RM       491.0    6.285102    0.708096    3.56100    5.886000    6.20900   \n",
            "AGE      506.0   68.574901   28.148861    2.90000   45.025000   77.50000   \n",
            "DIS      506.0    3.795043    2.105710    1.12960    2.100175    3.20745   \n",
            "TAX      506.0  408.237154  168.537116  187.00000  279.000000  330.00000   \n",
            "PTRATIO  506.0   18.455534    2.164946   12.60000   17.400000   19.05000   \n",
            "B        506.0  356.674032   91.294864    0.32000  375.377500  391.44000   \n",
            "LSTAT    506.0   12.653063    7.141062    1.73000    6.950000   11.36000   \n",
            "MEDV     506.0   22.532806    9.197104    5.00000   17.025000   21.20000   \n",
            "\n",
            "                75%       max  \n",
            "CRIM       3.677083   88.9762  \n",
            "ZN        12.500000  100.0000  \n",
            "INDUS     18.100000   27.7400  \n",
            "NOX        0.624000    0.8710  \n",
            "RM         6.622000    8.7800  \n",
            "AGE       94.075000  100.0000  \n",
            "DIS        5.188425   12.1265  \n",
            "TAX      666.000000  711.0000  \n",
            "PTRATIO   20.200000   22.0000  \n",
            "B        396.225000  396.9000  \n",
            "LSTAT     16.955000   37.9700  \n",
            "MEDV      25.000000   50.0000  \n"
          ]
        }
      ]
    },
    {
      "cell_type": "code",
      "source": [
        "print(data_describe_T['75%']-data_describe_T['25%'])"
      ],
      "metadata": {
        "colab": {
          "base_uri": "https://localhost:8080/"
        },
        "id": "Yi6gtFkfDAJO",
        "outputId": "5a2c6c27-67db-4c44-a901-84964b5f2a96"
      },
      "execution_count": 28,
      "outputs": [
        {
          "output_type": "stream",
          "name": "stdout",
          "text": [
            "CRIM         3.595038\n",
            "ZN          12.500000\n",
            "INDUS       12.910000\n",
            "NOX          0.175000\n",
            "RM           0.736000\n",
            "AGE         49.050000\n",
            "DIS          3.088250\n",
            "TAX        387.000000\n",
            "PTRATIO      2.800000\n",
            "B           20.847500\n",
            "LSTAT       10.005000\n",
            "MEDV         7.975000\n",
            "dtype: float64\n"
          ]
        }
      ]
    },
    {
      "cell_type": "markdown",
      "source": [
        "1.5순위 구하기 (336p)"
      ],
      "metadata": {
        "id": "1C1n5Zo0DUb1"
      }
    },
    {
      "cell_type": "code",
      "source": [
        "import pandas as pd"
      ],
      "metadata": {
        "id": "obHyc1HqDMTA"
      },
      "execution_count": 29,
      "outputs": []
    },
    {
      "cell_type": "code",
      "source": [
        "data = pd.read_csv('/content/bigData/boston.csv')"
      ],
      "metadata": {
        "id": "RgG3ppNyDZvW"
      },
      "execution_count": 30,
      "outputs": []
    },
    {
      "cell_type": "code",
      "source": [
        "print(data.head())"
      ],
      "metadata": {
        "colab": {
          "base_uri": "https://localhost:8080/"
        },
        "id": "A3wUUgkbES9A",
        "outputId": "f1cba0dd-d4d2-459e-dbe6-fb856c392323"
      },
      "execution_count": 32,
      "outputs": [
        {
          "output_type": "stream",
          "name": "stdout",
          "text": [
            "      CRIM    ZN  INDUS  CHAS    NOX     RM   AGE     DIS  RAD  TAX  PTRATIO  \\\n",
            "0  0.00632  18.0   2.31     0  0.538  6.575  65.2  4.0900    1  296     15.3   \n",
            "1  0.02731   0.0   7.07     0  0.469  6.421  78.9  4.9671    2  242     17.8   \n",
            "2  0.02729   0.0   7.07     0  0.469  7.185  61.1  4.9671    2  242     17.8   \n",
            "3  0.03237   0.0   2.18     0  0.458  6.998  45.8  6.0622    3  222     18.7   \n",
            "4  0.06905   0.0   2.18     0  0.458  7.147  54.2  6.0622    3  222     18.7   \n",
            "\n",
            "        B  LSTAT  MEDV  \n",
            "0  396.90   4.98  24.0  \n",
            "1  396.90   9.14  21.6  \n",
            "2  392.83   4.03  34.7  \n",
            "3  394.63   2.94  33.4  \n",
            "4  396.90   5.33  36.2  \n"
          ]
        }
      ]
    },
    {
      "cell_type": "code",
      "source": [
        "data_medv = data['MEDV']"
      ],
      "metadata": {
        "id": "ck4sW3ZdEUVN"
      },
      "execution_count": 33,
      "outputs": []
    },
    {
      "cell_type": "code",
      "source": [
        "print(data_medv.head())"
      ],
      "metadata": {
        "colab": {
          "base_uri": "https://localhost:8080/"
        },
        "id": "xklrDOMtEauw",
        "outputId": "d9bc6a0b-e835-4499-a767-0f50da0bef28"
      },
      "execution_count": 34,
      "outputs": [
        {
          "output_type": "stream",
          "name": "stdout",
          "text": [
            "0    24.0\n",
            "1    21.6\n",
            "2    34.7\n",
            "3    33.4\n",
            "4    36.2\n",
            "Name: MEDV, dtype: float64\n"
          ]
        }
      ]
    },
    {
      "cell_type": "code",
      "source": [
        "data_new = data['MEDV'].sort_values(ascending=False)"
      ],
      "metadata": {
        "id": "bdtpXt7rEczi"
      },
      "execution_count": 38,
      "outputs": []
    },
    {
      "cell_type": "code",
      "source": [
        "print(data_new.head(30))"
      ],
      "metadata": {
        "colab": {
          "base_uri": "https://localhost:8080/"
        },
        "id": "EnHyP9WyEp9m",
        "outputId": "ee146da1-a34b-42fa-9328-8cdf058e35fc"
      },
      "execution_count": 40,
      "outputs": [
        {
          "output_type": "stream",
          "name": "stdout",
          "text": [
            "283    50.0\n",
            "225    50.0\n",
            "369    50.0\n",
            "370    50.0\n",
            "371    50.0\n",
            "372    50.0\n",
            "186    50.0\n",
            "204    50.0\n",
            "257    50.0\n",
            "195    50.0\n",
            "166    50.0\n",
            "163    50.0\n",
            "267    50.0\n",
            "162    50.0\n",
            "161    50.0\n",
            "368    50.0\n",
            "262    48.8\n",
            "203    48.5\n",
            "233    48.3\n",
            "228    46.7\n",
            "282    46.0\n",
            "280    45.4\n",
            "224    44.8\n",
            "256    44.0\n",
            "98     43.8\n",
            "268    43.5\n",
            "261    43.1\n",
            "253    42.8\n",
            "202    42.3\n",
            "232    41.7\n",
            "Name: MEDV, dtype: float64\n"
          ]
        }
      ]
    },
    {
      "cell_type": "code",
      "source": [
        "num_30 = data_new.head(30).iloc[-1]"
      ],
      "metadata": {
        "id": "XAAC-eHsE-sq"
      },
      "execution_count": 41,
      "outputs": []
    },
    {
      "cell_type": "code",
      "source": [
        "print(num_30)"
      ],
      "metadata": {
        "colab": {
          "base_uri": "https://localhost:8080/"
        },
        "id": "1SzKUGZwFiAm",
        "outputId": "e45dbd55-4160-449c-f110-75b6ef7d0285"
      },
      "execution_count": 42,
      "outputs": [
        {
          "output_type": "stream",
          "name": "stdout",
          "text": [
            "41.7\n"
          ]
        }
      ]
    },
    {
      "cell_type": "code",
      "source": [
        "data_new.iloc[:29] = num_30"
      ],
      "metadata": {
        "id": "iJNQ02lWFkG-"
      },
      "execution_count": 48,
      "outputs": []
    },
    {
      "cell_type": "code",
      "source": [
        "print(data_new.head(30))"
      ],
      "metadata": {
        "colab": {
          "base_uri": "https://localhost:8080/"
        },
        "id": "71b1tN_aFuLv",
        "outputId": "c3258b3b-a42f-40e0-9303-fded9d78b405"
      },
      "execution_count": 49,
      "outputs": [
        {
          "output_type": "stream",
          "name": "stdout",
          "text": [
            "283    41.7\n",
            "225    41.7\n",
            "369    41.7\n",
            "370    41.7\n",
            "371    41.7\n",
            "372    41.7\n",
            "186    41.7\n",
            "204    41.7\n",
            "257    41.7\n",
            "195    41.7\n",
            "166    41.7\n",
            "163    41.7\n",
            "267    41.7\n",
            "162    41.7\n",
            "161    41.7\n",
            "368    41.7\n",
            "262    41.7\n",
            "203    41.7\n",
            "233    41.7\n",
            "228    41.7\n",
            "282    41.7\n",
            "280    41.7\n",
            "224    41.7\n",
            "256    41.7\n",
            "98     41.7\n",
            "268    41.7\n",
            "261    41.7\n",
            "253    41.7\n",
            "202    41.7\n",
            "232    41.7\n",
            "Name: MEDV, dtype: float64\n"
          ]
        }
      ]
    },
    {
      "cell_type": "code",
      "source": [
        "print(data_new.mean(),data_new.median(),data_new.min(),data_new.max())"
      ],
      "metadata": {
        "colab": {
          "base_uri": "https://localhost:8080/"
        },
        "id": "35qEms8IF3zi",
        "outputId": "318cc79b-9a42-47df-ba8a-15cf719036b1"
      },
      "execution_count": 50,
      "outputs": [
        {
          "output_type": "stream",
          "name": "stdout",
          "text": [
            "22.1796442687747 21.2 5.0 41.7\n"
          ]
        }
      ]
    },
    {
      "cell_type": "markdown",
      "source": [
        "2.1 그룹별 집계,요약 (341p)"
      ],
      "metadata": {
        "id": "S3wEdpA2GpaH"
      }
    },
    {
      "cell_type": "code",
      "source": [
        "import pandas as pd"
      ],
      "metadata": {
        "id": "_PKAIM4DGHb6"
      },
      "execution_count": 51,
      "outputs": []
    },
    {
      "cell_type": "code",
      "source": [
        "data = pd.read_csv('/content/bigData/boston.csv')"
      ],
      "metadata": {
        "id": "cu0TdaF9Izy4"
      },
      "execution_count": 52,
      "outputs": []
    },
    {
      "cell_type": "code",
      "source": [
        "print(data['TAX'].describe())"
      ],
      "metadata": {
        "colab": {
          "base_uri": "https://localhost:8080/"
        },
        "id": "fCNjwk5UI10o",
        "outputId": "e3983e3f-3c59-4a49-c181-d43a4217f38a"
      },
      "execution_count": 54,
      "outputs": [
        {
          "output_type": "stream",
          "name": "stdout",
          "text": [
            "count    506.000000\n",
            "mean     408.237154\n",
            "std      168.537116\n",
            "min      187.000000\n",
            "25%      279.000000\n",
            "50%      330.000000\n",
            "75%      666.000000\n",
            "max      711.000000\n",
            "Name: TAX, dtype: float64\n"
          ]
        }
      ]
    },
    {
      "cell_type": "code",
      "source": [
        "tax_median = data['TAX'].median()"
      ],
      "metadata": {
        "id": "ViFC1VstJIZB"
      },
      "execution_count": 57,
      "outputs": []
    },
    {
      "cell_type": "code",
      "source": [
        "print(tax_median)"
      ],
      "metadata": {
        "colab": {
          "base_uri": "https://localhost:8080/"
        },
        "id": "DDILGp4rJUhe",
        "outputId": "2426b747-91ce-4288-df52-06e1e169c3fb"
      },
      "execution_count": 58,
      "outputs": [
        {
          "output_type": "stream",
          "name": "stdout",
          "text": [
            "330.0\n"
          ]
        }
      ]
    },
    {
      "cell_type": "code",
      "source": [
        "print(data[data['TAX']>tax_median])"
      ],
      "metadata": {
        "colab": {
          "base_uri": "https://localhost:8080/"
        },
        "id": "Yisp0_4SJXWH",
        "outputId": "5d8aa7f6-93d3-42c2-9f4d-dc1aa861bc90"
      },
      "execution_count": 59,
      "outputs": [
        {
          "output_type": "stream",
          "name": "stdout",
          "text": [
            "        CRIM    ZN  INDUS  CHAS    NOX     RM   AGE     DIS  RAD  TAX  \\\n",
            "54   0.01360  75.0   4.00     0  0.410  5.888  47.6  7.3197    3  469   \n",
            "65   0.03584  80.0   3.37     0  0.398  6.290  17.8  6.6115    4  337   \n",
            "66   0.04379  80.0   3.37     0  0.398  5.787  31.1  6.6115    4  337   \n",
            "67   0.05789  12.5   6.07     0  0.409  5.878  21.4  6.4980    4  345   \n",
            "68   0.13554  12.5   6.07     0  0.409  5.594  36.8  6.4980    4  345   \n",
            "..       ...   ...    ...   ...    ...    ...   ...     ...  ...  ...   \n",
            "496  0.28960   0.0   9.69     0  0.585  5.390  72.9  2.7986    6  391   \n",
            "497  0.26838   0.0   9.69     0  0.585    NaN  70.6  2.8927    6  391   \n",
            "498  0.23912   0.0   9.69     0  0.585  6.019  65.3  2.4091    6  391   \n",
            "499  0.17783   0.0   9.69     0  0.585  5.569  73.5  2.3999    6  391   \n",
            "500  0.22438   0.0   9.69     0  0.585  6.027  79.7  2.4982    6  391   \n",
            "\n",
            "     PTRATIO       B  LSTAT  MEDV  \n",
            "54      21.1  396.90  14.80  18.9  \n",
            "65      16.1  396.90   4.67  23.5  \n",
            "66      16.1  396.90  10.24  19.4  \n",
            "67      18.9  396.21   8.10  22.0  \n",
            "68      18.9  396.90  13.09  17.4  \n",
            "..       ...     ...    ...   ...  \n",
            "496     19.2  396.90  21.14  19.7  \n",
            "497     19.2  396.90  14.10  18.3  \n",
            "498     19.2  396.90  12.92  21.2  \n",
            "499     19.2  395.77  15.10  17.5  \n",
            "500     19.2  396.90  14.33  16.8  \n",
            "\n",
            "[250 rows x 14 columns]\n"
          ]
        }
      ]
    },
    {
      "cell_type": "code",
      "source": [
        "data_new = data[data['TAX']>tax_median][['CHAS','RAD']]"
      ],
      "metadata": {
        "id": "Mw_AOdAHJj2x"
      },
      "execution_count": 60,
      "outputs": []
    },
    {
      "cell_type": "code",
      "source": [
        "print(data_new)"
      ],
      "metadata": {
        "colab": {
          "base_uri": "https://localhost:8080/"
        },
        "id": "SgUvEq89J8Xh",
        "outputId": "60f33a6d-f22b-43fc-b13d-44a7271a817a"
      },
      "execution_count": 61,
      "outputs": [
        {
          "output_type": "stream",
          "name": "stdout",
          "text": [
            "     CHAS  RAD\n",
            "54      0    3\n",
            "65      0    4\n",
            "66      0    4\n",
            "67      0    4\n",
            "68      0    4\n",
            "..    ...  ...\n",
            "496     0    6\n",
            "497     0    6\n",
            "498     0    6\n",
            "499     0    6\n",
            "500     0    6\n",
            "\n",
            "[250 rows x 2 columns]\n"
          ]
        }
      ]
    },
    {
      "cell_type": "code",
      "source": [
        "print(data_new['CHAS'].unique())"
      ],
      "metadata": {
        "colab": {
          "base_uri": "https://localhost:8080/"
        },
        "id": "FAnYl-xyJ9ke",
        "outputId": "b2b37dad-e2d6-4d99-9f6c-39b0d018c90a"
      },
      "execution_count": 63,
      "outputs": [
        {
          "output_type": "stream",
          "name": "stdout",
          "text": [
            "[0 1]\n"
          ]
        }
      ]
    },
    {
      "cell_type": "code",
      "source": [
        "print(data_new['RAD'].unique())"
      ],
      "metadata": {
        "colab": {
          "base_uri": "https://localhost:8080/"
        },
        "id": "CayivYZFKIel",
        "outputId": "a041df98-813d-4252-8e39-7fc35073de39"
      },
      "execution_count": 64,
      "outputs": [
        {
          "output_type": "stream",
          "name": "stdout",
          "text": [
            "[ 3  4  5  6  2  1 24]\n"
          ]
        }
      ]
    },
    {
      "cell_type": "code",
      "source": [
        "data_new2 = data_new.groupby(['CHAS','RAD'])['RAD'].count()"
      ],
      "metadata": {
        "id": "MYoGOsopKPg-"
      },
      "execution_count": 86,
      "outputs": []
    },
    {
      "cell_type": "code",
      "source": [
        "print(data_new2)"
      ],
      "metadata": {
        "colab": {
          "base_uri": "https://localhost:8080/"
        },
        "id": "V5AvNzekKqAx",
        "outputId": "7c66445d-97e9-48e9-90bc-259f334c9801"
      },
      "execution_count": 87,
      "outputs": [
        {
          "output_type": "stream",
          "name": "stdout",
          "text": [
            "CHAS  RAD\n",
            "0     1        3\n",
            "      2        2\n",
            "      3        5\n",
            "      4       33\n",
            "      5       51\n",
            "      6       17\n",
            "      24     124\n",
            "1     5        7\n",
            "      24       8\n",
            "Name: RAD, dtype: int64\n"
          ]
        }
      ]
    },
    {
      "cell_type": "code",
      "source": [
        "print(type(data_new2))"
      ],
      "metadata": {
        "colab": {
          "base_uri": "https://localhost:8080/"
        },
        "id": "o-eC4yNeKrOp",
        "outputId": "56c1ad7d-be6f-4a18-fe6a-b12d0317e1ff"
      },
      "execution_count": 88,
      "outputs": [
        {
          "output_type": "stream",
          "name": "stdout",
          "text": [
            "<class 'pandas.core.series.Series'>\n"
          ]
        }
      ]
    },
    {
      "cell_type": "code",
      "source": [
        "data_new3 = pd.DataFrame(data_new2)"
      ],
      "metadata": {
        "id": "73DLZbA_LE86"
      },
      "execution_count": 89,
      "outputs": []
    },
    {
      "cell_type": "code",
      "source": [
        "print(data_new3)"
      ],
      "metadata": {
        "colab": {
          "base_uri": "https://localhost:8080/"
        },
        "id": "xutdlquXLNP4",
        "outputId": "751d5813-2789-4c73-967a-85dcc66349cb"
      },
      "execution_count": 90,
      "outputs": [
        {
          "output_type": "stream",
          "name": "stdout",
          "text": [
            "          RAD\n",
            "CHAS RAD     \n",
            "0    1      3\n",
            "     2      2\n",
            "     3      5\n",
            "     4     33\n",
            "     5     51\n",
            "     6     17\n",
            "     24   124\n",
            "1    5      7\n",
            "     24     8\n"
          ]
        }
      ]
    },
    {
      "cell_type": "code",
      "source": [
        "data_new3.columns = ['COUNT']"
      ],
      "metadata": {
        "id": "qZv-Gth_LOtm"
      },
      "execution_count": 91,
      "outputs": []
    },
    {
      "cell_type": "code",
      "source": [
        "print(data_new3)"
      ],
      "metadata": {
        "colab": {
          "base_uri": "https://localhost:8080/"
        },
        "id": "eEs-EKC6LVYh",
        "outputId": "a1f281e0-0591-4065-c8f4-1453f69de0cc"
      },
      "execution_count": 92,
      "outputs": [
        {
          "output_type": "stream",
          "name": "stdout",
          "text": [
            "          COUNT\n",
            "CHAS RAD       \n",
            "0    1        3\n",
            "     2        2\n",
            "     3        5\n",
            "     4       33\n",
            "     5       51\n",
            "     6       17\n",
            "     24     124\n",
            "1    5        7\n",
            "     24       8\n"
          ]
        }
      ]
    },
    {
      "cell_type": "markdown",
      "source": [
        "2.2오름차순,내림차순 정렬하기 (349p)"
      ],
      "metadata": {
        "id": "K2DmOdgHMhX5"
      }
    },
    {
      "cell_type": "code",
      "source": [
        "import pandas as pd"
      ],
      "metadata": {
        "id": "KgRmpRJzLW71"
      },
      "execution_count": 93,
      "outputs": []
    },
    {
      "cell_type": "code",
      "source": [
        "data = pd.read_csv('/content/bigData/boston.csv')"
      ],
      "metadata": {
        "id": "yX8s-Fe8MmmM"
      },
      "execution_count": 94,
      "outputs": []
    },
    {
      "cell_type": "code",
      "source": [
        "print(data.head())"
      ],
      "metadata": {
        "colab": {
          "base_uri": "https://localhost:8080/"
        },
        "id": "K_7u5-UrMp8X",
        "outputId": "c6a716d9-b3f9-4163-84df-a2b02505a164"
      },
      "execution_count": 95,
      "outputs": [
        {
          "output_type": "stream",
          "name": "stdout",
          "text": [
            "      CRIM    ZN  INDUS  CHAS    NOX     RM   AGE     DIS  RAD  TAX  PTRATIO  \\\n",
            "0  0.00632  18.0   2.31     0  0.538  6.575  65.2  4.0900    1  296     15.3   \n",
            "1  0.02731   0.0   7.07     0  0.469  6.421  78.9  4.9671    2  242     17.8   \n",
            "2  0.02729   0.0   7.07     0  0.469  7.185  61.1  4.9671    2  242     17.8   \n",
            "3  0.03237   0.0   2.18     0  0.458  6.998  45.8  6.0622    3  222     18.7   \n",
            "4  0.06905   0.0   2.18     0  0.458  7.147  54.2  6.0622    3  222     18.7   \n",
            "\n",
            "        B  LSTAT  MEDV  \n",
            "0  396.90   4.98  24.0  \n",
            "1  396.90   9.14  21.6  \n",
            "2  392.83   4.03  34.7  \n",
            "3  394.63   2.94  33.4  \n",
            "4  396.90   5.33  36.2  \n"
          ]
        }
      ]
    },
    {
      "cell_type": "code",
      "source": [
        "print(data['TAX'].head())"
      ],
      "metadata": {
        "colab": {
          "base_uri": "https://localhost:8080/"
        },
        "id": "xjgaGZ7hOMu7",
        "outputId": "68fc140b-c454-4b88-a3ed-991a5a13172c"
      },
      "execution_count": 96,
      "outputs": [
        {
          "output_type": "stream",
          "name": "stdout",
          "text": [
            "0    296\n",
            "1    242\n",
            "2    242\n",
            "3    222\n",
            "4    222\n",
            "Name: TAX, dtype: int64\n"
          ]
        }
      ]
    },
    {
      "cell_type": "code",
      "source": [
        "tax_asc = data['TAX'].copy().sort_values(ascending=True)"
      ],
      "metadata": {
        "id": "Hl-_efTeOQIz"
      },
      "execution_count": 105,
      "outputs": []
    },
    {
      "cell_type": "code",
      "source": [
        "tax_desc = data['TAX'].copy().sort_values(ascending=False)"
      ],
      "metadata": {
        "id": "KDKrKKg7OaQ8"
      },
      "execution_count": 106,
      "outputs": []
    },
    {
      "cell_type": "code",
      "source": [
        "print(tax_asc,tax_desc)"
      ],
      "metadata": {
        "colab": {
          "base_uri": "https://localhost:8080/"
        },
        "id": "2omhMiMpOgAG",
        "outputId": "cdbeaf77-8dd4-48e9-9fe2-41f369f915c0"
      },
      "execution_count": 107,
      "outputs": [
        {
          "output_type": "stream",
          "name": "stdout",
          "text": [
            "353    187\n",
            "123    188\n",
            "122    188\n",
            "126    188\n",
            "125    188\n",
            "      ... \n",
            "492    711\n",
            "491    711\n",
            "490    711\n",
            "489    711\n",
            "488    711\n",
            "Name: TAX, Length: 506, dtype: int64 492    711\n",
            "491    711\n",
            "490    711\n",
            "489    711\n",
            "488    711\n",
            "      ... \n",
            "121    188\n",
            "120    188\n",
            "125    188\n",
            "124    188\n",
            "353    187\n",
            "Name: TAX, Length: 506, dtype: int64\n"
          ]
        }
      ]
    },
    {
      "cell_type": "code",
      "source": [
        "tax_asc.reset_index(drop=True,inplace=True)"
      ],
      "metadata": {
        "id": "QFSJZEtwPSbN"
      },
      "execution_count": 112,
      "outputs": []
    },
    {
      "cell_type": "code",
      "source": [
        "print(tax_asc)"
      ],
      "metadata": {
        "colab": {
          "base_uri": "https://localhost:8080/"
        },
        "id": "7fNk0NiFPl3E",
        "outputId": "272cc0b2-3aad-4b21-ca46-7ed58fde5526"
      },
      "execution_count": 113,
      "outputs": [
        {
          "output_type": "stream",
          "name": "stdout",
          "text": [
            "0      187\n",
            "1      188\n",
            "2      188\n",
            "3      188\n",
            "4      188\n",
            "      ... \n",
            "501    711\n",
            "502    711\n",
            "503    711\n",
            "504    711\n",
            "505    711\n",
            "Name: TAX, Length: 506, dtype: int64\n"
          ]
        }
      ]
    },
    {
      "cell_type": "code",
      "source": [
        "tax_desc.reset_index(drop=True,inplace=True)"
      ],
      "metadata": {
        "id": "-LXjTudtPsbh"
      },
      "execution_count": 114,
      "outputs": []
    },
    {
      "cell_type": "code",
      "source": [
        "print(tax_desc)"
      ],
      "metadata": {
        "colab": {
          "base_uri": "https://localhost:8080/"
        },
        "id": "KYLPs89PPwxO",
        "outputId": "df9d8bbf-484a-484c-faee-83f9d999005d"
      },
      "execution_count": 115,
      "outputs": [
        {
          "output_type": "stream",
          "name": "stdout",
          "text": [
            "0      711\n",
            "1      711\n",
            "2      711\n",
            "3      711\n",
            "4      711\n",
            "      ... \n",
            "501    188\n",
            "502    188\n",
            "503    188\n",
            "504    188\n",
            "505    187\n",
            "Name: TAX, Length: 506, dtype: int64\n"
          ]
        }
      ]
    },
    {
      "cell_type": "code",
      "source": [
        "# print(abs(tax_asc-tax_desc).var())"
      ],
      "metadata": {
        "colab": {
          "base_uri": "https://localhost:8080/"
        },
        "id": "ecCWcRT1Px58",
        "outputId": "69cd2b43-1de9-4876-c270-99ca6ab4d83b"
      },
      "execution_count": 118,
      "outputs": [
        {
          "output_type": "stream",
          "name": "stdout",
          "text": [
            "28490.598645951555\n"
          ]
        }
      ]
    },
    {
      "cell_type": "code",
      "source": [
        "data_concat = pd.concat([tax_asc,tax_desc],axis=1)"
      ],
      "metadata": {
        "id": "v2J408KkQABk"
      },
      "execution_count": 119,
      "outputs": []
    },
    {
      "cell_type": "code",
      "source": [
        "print(data_concat)"
      ],
      "metadata": {
        "colab": {
          "base_uri": "https://localhost:8080/"
        },
        "id": "KHD2RHkxQSB4",
        "outputId": "250d4f8e-e898-4ded-c401-dad57c593d6e"
      },
      "execution_count": 120,
      "outputs": [
        {
          "output_type": "stream",
          "name": "stdout",
          "text": [
            "     TAX  TAX\n",
            "0    187  711\n",
            "1    188  711\n",
            "2    188  711\n",
            "3    188  711\n",
            "4    188  711\n",
            "..   ...  ...\n",
            "501  711  188\n",
            "502  711  188\n",
            "503  711  188\n",
            "504  711  188\n",
            "505  711  187\n",
            "\n",
            "[506 rows x 2 columns]\n"
          ]
        }
      ]
    },
    {
      "cell_type": "code",
      "source": [
        "data_concat['diff'] = abs(data_concat.iloc[:,0]-data_concat.iloc[:,1])"
      ],
      "metadata": {
        "id": "LKaqeTm8QTEP"
      },
      "execution_count": 121,
      "outputs": []
    },
    {
      "cell_type": "code",
      "source": [
        "print(data_concat)"
      ],
      "metadata": {
        "colab": {
          "base_uri": "https://localhost:8080/"
        },
        "id": "rIFRozdZQh3E",
        "outputId": "a9ba94bb-6908-40bc-806d-7fa34b52465b"
      },
      "execution_count": 122,
      "outputs": [
        {
          "output_type": "stream",
          "name": "stdout",
          "text": [
            "     TAX  TAX  diff\n",
            "0    187  711   524\n",
            "1    188  711   523\n",
            "2    188  711   523\n",
            "3    188  711   523\n",
            "4    188  711   523\n",
            "..   ...  ...   ...\n",
            "501  711  188   523\n",
            "502  711  188   523\n",
            "503  711  188   523\n",
            "504  711  188   523\n",
            "505  711  187   524\n",
            "\n",
            "[506 rows x 3 columns]\n"
          ]
        }
      ]
    },
    {
      "cell_type": "code",
      "source": [
        "print(data_concat['diff'].var())"
      ],
      "metadata": {
        "colab": {
          "base_uri": "https://localhost:8080/"
        },
        "id": "t7vYKmWFQjXh",
        "outputId": "deb3b1dd-18ec-415a-f3ed-05d0c38a22a2"
      },
      "execution_count": 123,
      "outputs": [
        {
          "output_type": "stream",
          "name": "stdout",
          "text": [
            "28490.598645951555\n"
          ]
        }
      ]
    },
    {
      "cell_type": "markdown",
      "source": [
        "2.3최소최대 변환하기 (358p)"
      ],
      "metadata": {
        "id": "GpkxdaAiQ4ls"
      }
    },
    {
      "cell_type": "code",
      "source": [
        "import pandas as pd"
      ],
      "metadata": {
        "id": "8UGiaB-bQpkf"
      },
      "execution_count": 124,
      "outputs": []
    },
    {
      "cell_type": "code",
      "source": [
        "data = pd.read_csv('/content/bigData/boston.csv')"
      ],
      "metadata": {
        "id": "kT-rB5LLQ9Z-"
      },
      "execution_count": 125,
      "outputs": []
    },
    {
      "cell_type": "code",
      "source": [
        "from sklearn.preprocessing import MinMaxScaler"
      ],
      "metadata": {
        "id": "2ACu0GIMRAVr"
      },
      "execution_count": 126,
      "outputs": []
    },
    {
      "cell_type": "code",
      "source": [
        "scaler = MinMaxScaler()"
      ],
      "metadata": {
        "id": "EDW2T_5uSj4-"
      },
      "execution_count": 127,
      "outputs": []
    },
    {
      "cell_type": "code",
      "source": [
        "data_minmax = scaler.fit_transform(data)"
      ],
      "metadata": {
        "id": "HMwB0tC8SocU"
      },
      "execution_count": 128,
      "outputs": []
    },
    {
      "cell_type": "code",
      "source": [
        "print(type(data_minmax))"
      ],
      "metadata": {
        "colab": {
          "base_uri": "https://localhost:8080/"
        },
        "id": "otQnUz-vSuII",
        "outputId": "ccf12d25-54df-4aa4-db65-dcac98dc3729"
      },
      "execution_count": 130,
      "outputs": [
        {
          "output_type": "stream",
          "name": "stdout",
          "text": [
            "<class 'numpy.ndarray'>\n"
          ]
        }
      ]
    },
    {
      "cell_type": "code",
      "source": [
        "data_minmax = pd.DataFrame(data_minmax,columns=data.columns)"
      ],
      "metadata": {
        "id": "aJ7ipPIOS5FR"
      },
      "execution_count": 131,
      "outputs": []
    },
    {
      "cell_type": "code",
      "source": [
        "print(data_minmax.head())"
      ],
      "metadata": {
        "colab": {
          "base_uri": "https://localhost:8080/"
        },
        "id": "g-DFOiGxTFw8",
        "outputId": "c5a782de-d61d-4397-b00a-002dbd491acd"
      },
      "execution_count": 132,
      "outputs": [
        {
          "output_type": "stream",
          "name": "stdout",
          "text": [
            "       CRIM    ZN     INDUS  CHAS       NOX        RM       AGE       DIS  \\\n",
            "0  0.000000  0.18  0.067815   0.0  0.314815  0.577505  0.641607  0.269203   \n",
            "1  0.000236  0.00  0.242302   0.0  0.172840  0.547998  0.782698  0.348962   \n",
            "2  0.000236  0.00  0.242302   0.0  0.172840  0.694386  0.599382  0.348962   \n",
            "3  0.000293  0.00  0.063050   0.0  0.150206  0.658555  0.441813  0.448545   \n",
            "4  0.000705  0.00  0.063050   0.0  0.150206  0.687105  0.528321  0.448545   \n",
            "\n",
            "        RAD       TAX   PTRATIO         B     LSTAT      MEDV  \n",
            "0  0.000000  0.208015  0.287234  1.000000  0.089680  0.422222  \n",
            "1  0.043478  0.104962  0.553191  1.000000  0.204470  0.368889  \n",
            "2  0.043478  0.104962  0.553191  0.989737  0.063466  0.660000  \n",
            "3  0.086957  0.066794  0.648936  0.994276  0.033389  0.631111  \n",
            "4  0.086957  0.066794  0.648936  1.000000  0.099338  0.693333  \n"
          ]
        }
      ]
    },
    {
      "cell_type": "code",
      "source": [
        "print(data_minmax['MEDV'].describe())"
      ],
      "metadata": {
        "colab": {
          "base_uri": "https://localhost:8080/"
        },
        "id": "iWloWDC4TIhN",
        "outputId": "c2d27620-a10f-4910-c16e-426fb182364e"
      },
      "execution_count": 133,
      "outputs": [
        {
          "output_type": "stream",
          "name": "stdout",
          "text": [
            "count    506.000000\n",
            "mean       0.389618\n",
            "std        0.204380\n",
            "min        0.000000\n",
            "25%        0.267222\n",
            "50%        0.360000\n",
            "75%        0.444444\n",
            "max        1.000000\n",
            "Name: MEDV, dtype: float64\n"
          ]
        }
      ]
    },
    {
      "cell_type": "code",
      "source": [
        "print(data_minmax[data_minmax['MEDV']>0.5]['MEDV'])"
      ],
      "metadata": {
        "colab": {
          "base_uri": "https://localhost:8080/"
        },
        "id": "GB0WUwKKTSEI",
        "outputId": "aa1a8b6a-b699-4093-8ace-b9f0544742fa"
      },
      "execution_count": 134,
      "outputs": [
        {
          "output_type": "stream",
          "name": "stdout",
          "text": [
            "2      0.660000\n",
            "3      0.631111\n",
            "4      0.693333\n",
            "5      0.526667\n",
            "39     0.573333\n",
            "         ...   \n",
            "370    1.000000\n",
            "371    1.000000\n",
            "372    1.000000\n",
            "407    0.508889\n",
            "473    0.551111\n",
            "Name: MEDV, Length: 106, dtype: float64\n"
          ]
        }
      ]
    },
    {
      "cell_type": "markdown",
      "source": [
        "2.4빈도값 구하기 (363p)"
      ],
      "metadata": {
        "id": "ZcTZ7r3he0XC"
      }
    },
    {
      "cell_type": "code",
      "source": [
        "import pandas as pd"
      ],
      "metadata": {
        "id": "cFaWHg29Th-r"
      },
      "execution_count": 135,
      "outputs": []
    },
    {
      "cell_type": "code",
      "source": [
        "data = pd.read_csv('/content/bigData/boston.csv')"
      ],
      "metadata": {
        "id": "tYJ93dc0e9eg"
      },
      "execution_count": 153,
      "outputs": []
    },
    {
      "cell_type": "code",
      "source": [
        "print(data.head())"
      ],
      "metadata": {
        "colab": {
          "base_uri": "https://localhost:8080/"
        },
        "id": "t8Y4jK5Xe_tx",
        "outputId": "91b8435e-6678-44c2-ff7b-ee53fe805737"
      },
      "execution_count": 161,
      "outputs": [
        {
          "output_type": "stream",
          "name": "stdout",
          "text": [
            "      CRIM    ZN  INDUS  CHAS    NOX     RM   AGE     DIS  RAD  TAX  PTRATIO  \\\n",
            "0  0.00632  18.0   2.31     0  0.538  6.575  65.2  4.0900    1  296     15.3   \n",
            "1  0.02731   0.0   7.07     0  0.469  6.421  78.9  4.9671    2  242     17.8   \n",
            "2  0.02729   0.0   7.07     0  0.469  7.185  61.1  4.9671    2  242     17.8   \n",
            "3  0.03237   0.0   2.18     0  0.458  6.998  45.8  6.0622    3  222     18.7   \n",
            "4  0.06905   0.0   2.18     0  0.458  7.147  54.2  6.0622    3  222     18.7   \n",
            "\n",
            "        B  LSTAT  MEDV  \n",
            "0  396.90   4.98  24.0  \n",
            "1  396.90   9.14  21.6  \n",
            "2  392.83   4.03  34.7  \n",
            "3  394.63   2.94  33.4  \n",
            "4  396.90   5.33  36.2  \n"
          ]
        }
      ]
    },
    {
      "cell_type": "code",
      "source": [
        "data2 = round(data['AGE'])"
      ],
      "metadata": {
        "id": "hES33Tk9fN_l"
      },
      "execution_count": 162,
      "outputs": []
    },
    {
      "cell_type": "code",
      "source": [
        "print(data2.head())"
      ],
      "metadata": {
        "colab": {
          "base_uri": "https://localhost:8080/"
        },
        "id": "1fYOZhkYfbNS",
        "outputId": "30fb6542-a9f1-4037-9443-735cde50a5ae"
      },
      "execution_count": 139,
      "outputs": [
        {
          "output_type": "stream",
          "name": "stdout",
          "text": [
            "0    65.0\n",
            "1    79.0\n",
            "2    61.0\n",
            "3    46.0\n",
            "4    54.0\n",
            "Name: AGE, dtype: float64\n"
          ]
        }
      ]
    },
    {
      "cell_type": "code",
      "source": [
        "data2 = pd.DataFrame(data2)"
      ],
      "metadata": {
        "id": "f7rSlahMffx-"
      },
      "execution_count": 140,
      "outputs": []
    },
    {
      "cell_type": "code",
      "source": [
        "print(data2.groupby('AGE')['AGE'].count())"
      ],
      "metadata": {
        "colab": {
          "base_uri": "https://localhost:8080/"
        },
        "id": "CfJn9PUpfmgm",
        "outputId": "ce5cf4c0-a92a-4694-d151-31660cc31ff7"
      },
      "execution_count": 142,
      "outputs": [
        {
          "output_type": "stream",
          "name": "stdout",
          "text": [
            "AGE\n",
            "3.0       1\n",
            "6.0       3\n",
            "7.0       3\n",
            "8.0       3\n",
            "9.0       1\n",
            "         ..\n",
            "96.0     15\n",
            "97.0     17\n",
            "98.0     19\n",
            "99.0     10\n",
            "100.0    43\n",
            "Name: AGE, Length: 91, dtype: int64\n"
          ]
        }
      ]
    },
    {
      "cell_type": "code",
      "source": [
        "data3 = data2.groupby('AGE')['AGE'].count()"
      ],
      "metadata": {
        "id": "kPo1n6LvfpgB"
      },
      "execution_count": 143,
      "outputs": []
    },
    {
      "cell_type": "code",
      "source": [
        "data3 = pd.DataFrame(data3)"
      ],
      "metadata": {
        "id": "TNfYXmuVf1A4"
      },
      "execution_count": 145,
      "outputs": []
    },
    {
      "cell_type": "code",
      "source": [
        "data3.columns = ['COUNT']"
      ],
      "metadata": {
        "id": "LUFeG4ntf3xg"
      },
      "execution_count": 146,
      "outputs": []
    },
    {
      "cell_type": "code",
      "source": [
        "print(data3.head())"
      ],
      "metadata": {
        "colab": {
          "base_uri": "https://localhost:8080/"
        },
        "id": "bhlevxfOgUDm",
        "outputId": "ec5d9ec3-12a9-4d5e-a232-5f841ef0cf91"
      },
      "execution_count": 147,
      "outputs": [
        {
          "output_type": "stream",
          "name": "stdout",
          "text": [
            "     COUNT\n",
            "AGE       \n",
            "3.0      1\n",
            "6.0      3\n",
            "7.0      3\n",
            "8.0      3\n",
            "9.0      1\n"
          ]
        }
      ]
    },
    {
      "cell_type": "code",
      "source": [
        "data3.reset_index(drop=False,inplace=True)"
      ],
      "metadata": {
        "id": "KkwW6aPUgV6q"
      },
      "execution_count": 150,
      "outputs": []
    },
    {
      "cell_type": "code",
      "source": [
        "print(data3.head())"
      ],
      "metadata": {
        "colab": {
          "base_uri": "https://localhost:8080/"
        },
        "id": "tqfiASm2gePb",
        "outputId": "17abe53b-20c1-4443-e574-4234a0502f81"
      },
      "execution_count": 151,
      "outputs": [
        {
          "output_type": "stream",
          "name": "stdout",
          "text": [
            "   AGE  COUNT\n",
            "0  3.0      1\n",
            "1  6.0      3\n",
            "2  7.0      3\n",
            "3  8.0      3\n",
            "4  9.0      1\n"
          ]
        }
      ]
    },
    {
      "cell_type": "code",
      "source": [
        "print(data3['AGE'].iloc[-1],data3['COUNT'].iloc[-1])"
      ],
      "metadata": {
        "colab": {
          "base_uri": "https://localhost:8080/"
        },
        "id": "51glyxYcgjDt",
        "outputId": "acb45c96-641a-4848-b712-2985f121cd52"
      },
      "execution_count": 152,
      "outputs": [
        {
          "output_type": "stream",
          "name": "stdout",
          "text": [
            "100.0 43\n"
          ]
        }
      ]
    },
    {
      "cell_type": "code",
      "source": [],
      "metadata": {
        "id": "5d3JNe5mgunO"
      },
      "execution_count": 152,
      "outputs": []
    },
    {
      "cell_type": "code",
      "source": [
        "from scipy.stats import mode"
      ],
      "metadata": {
        "id": "Jf2xW_lkg0LJ"
      },
      "execution_count": 154,
      "outputs": []
    },
    {
      "cell_type": "code",
      "source": [
        "print(mode(data2))"
      ],
      "metadata": {
        "colab": {
          "base_uri": "https://localhost:8080/"
        },
        "id": "3bUSol1hg6G7",
        "outputId": "20357436-44f1-4144-ecaf-2e0552cb3727"
      },
      "execution_count": 163,
      "outputs": [
        {
          "output_type": "stream",
          "name": "stdout",
          "text": [
            "ModeResult(mode=array([100.]), count=array([43]))\n"
          ]
        }
      ]
    },
    {
      "cell_type": "code",
      "source": [
        "print(mode(data2)[0])"
      ],
      "metadata": {
        "colab": {
          "base_uri": "https://localhost:8080/"
        },
        "id": "yPC1mu4Gg9DV",
        "outputId": "edc119ec-ad9a-443d-d6f6-4bfd5aeeb76b"
      },
      "execution_count": 164,
      "outputs": [
        {
          "output_type": "stream",
          "name": "stdout",
          "text": [
            "[100.]\n"
          ]
        }
      ]
    },
    {
      "cell_type": "code",
      "source": [
        "print(mode(data2)[1])"
      ],
      "metadata": {
        "colab": {
          "base_uri": "https://localhost:8080/"
        },
        "id": "BaOIG8tbhKr5",
        "outputId": "88420957-1fba-428a-9d92-31cd821f86b1"
      },
      "execution_count": 165,
      "outputs": [
        {
          "output_type": "stream",
          "name": "stdout",
          "text": [
            "[43]\n"
          ]
        }
      ]
    },
    {
      "cell_type": "markdown",
      "source": [
        "2.5 표준 변환하기(371p)"
      ],
      "metadata": {
        "id": "2EAXLdF2hZmk"
      }
    },
    {
      "cell_type": "code",
      "source": [
        "import pandas as pd"
      ],
      "metadata": {
        "id": "-Gp0GEAqhPkN"
      },
      "execution_count": 180,
      "outputs": []
    },
    {
      "cell_type": "code",
      "source": [
        "data = pd.read_csv('/content/bigData/boston.csv')"
      ],
      "metadata": {
        "id": "e6aDw_cGhldc"
      },
      "execution_count": 181,
      "outputs": []
    },
    {
      "cell_type": "code",
      "source": [
        "from sklearn.preprocessing import StandardScaler"
      ],
      "metadata": {
        "id": "0z2_1nX8hpx1"
      },
      "execution_count": 182,
      "outputs": []
    },
    {
      "cell_type": "code",
      "source": [
        "scaler = StandardScaler()"
      ],
      "metadata": {
        "id": "NmlESCjiis-9"
      },
      "execution_count": 183,
      "outputs": []
    },
    {
      "cell_type": "code",
      "source": [
        "data_stdd = scaler.fit_transform(data)"
      ],
      "metadata": {
        "id": "zrqemsUxiwAM"
      },
      "execution_count": 184,
      "outputs": []
    },
    {
      "cell_type": "code",
      "source": [
        "print(type(data_stdd))"
      ],
      "metadata": {
        "colab": {
          "base_uri": "https://localhost:8080/"
        },
        "id": "cHld0iRei99Y",
        "outputId": "b4b63b0d-5201-4995-fb2d-044f0caaf451"
      },
      "execution_count": 185,
      "outputs": [
        {
          "output_type": "stream",
          "name": "stdout",
          "text": [
            "<class 'numpy.ndarray'>\n"
          ]
        }
      ]
    },
    {
      "cell_type": "code",
      "source": [
        "data_stdd = pd.DataFrame(data_stdd,columns=data.columns)"
      ],
      "metadata": {
        "id": "uJ-I1LZWjUxX"
      },
      "execution_count": 186,
      "outputs": []
    },
    {
      "cell_type": "code",
      "source": [
        "print(data_stdd)"
      ],
      "metadata": {
        "colab": {
          "base_uri": "https://localhost:8080/"
        },
        "id": "lTXmClyWjZQK",
        "outputId": "b1398df7-7182-4024-9028-b47148e4b1dd"
      },
      "execution_count": 187,
      "outputs": [
        {
          "output_type": "stream",
          "name": "stdout",
          "text": [
            "         CRIM        ZN     INDUS      CHAS       NOX        RM       AGE  \\\n",
            "0   -0.419782  0.284830 -1.287909 -0.272599 -0.144217  0.409823 -0.120013   \n",
            "1   -0.417339 -0.487722 -0.593381 -0.272599 -0.740262  0.192116  0.367166   \n",
            "2   -0.417342 -0.487722 -0.593381 -0.272599 -0.740262  1.272167 -0.265812   \n",
            "3   -0.416750 -0.487722 -1.306878 -0.272599 -0.835284  1.007809 -0.809889   \n",
            "4   -0.412482 -0.487722 -1.306878 -0.272599 -0.835284  1.218447 -0.511180   \n",
            "..        ...       ...       ...       ...       ...       ...       ...   \n",
            "501 -0.413229 -0.487722  0.115738 -0.272599  0.158124  0.435269  0.018673   \n",
            "502 -0.415249 -0.487722  0.115738 -0.272599  0.158124       NaN  0.288933   \n",
            "503 -0.413447 -0.487722  0.115738 -0.272599  0.158124  0.976708  0.797449   \n",
            "504 -0.407764 -0.487722  0.115738 -0.272599  0.158124  0.719419  0.736996   \n",
            "505 -0.415000 -0.487722  0.115738 -0.272599  0.158124 -0.360632  0.434732   \n",
            "\n",
            "          DIS       RAD       TAX   PTRATIO         B     LSTAT      MEDV  \n",
            "0    0.140214 -0.982843 -0.666608 -1.459000  0.441052 -1.075562  0.159686  \n",
            "1    0.557160 -0.867883 -0.987329 -0.303094  0.441052 -0.492439 -0.101524  \n",
            "2    0.557160 -0.867883 -0.987329 -0.303094  0.396427 -1.208727  1.324247  \n",
            "3    1.077737 -0.752922 -1.106115  0.113032  0.416163 -1.361517  1.182758  \n",
            "4    1.077737 -0.752922 -1.106115  0.113032  0.441052 -1.026501  1.487503  \n",
            "..        ...       ...       ...       ...       ...       ...       ...  \n",
            "501 -0.625796 -0.982843 -0.803212  1.176466  0.387217 -0.418147 -0.014454  \n",
            "502 -0.716639 -0.982843 -0.803212  1.176466  0.441052 -0.500850 -0.210362  \n",
            "503 -0.773684 -0.982843 -0.803212  1.176466  0.441052 -0.983048  0.148802  \n",
            "504 -0.668437 -0.982843 -0.803212  1.176466  0.403225 -0.865302 -0.057989  \n",
            "505 -0.613246 -0.982843 -0.803212  1.176466  0.441052 -0.669058 -1.157248  \n",
            "\n",
            "[506 rows x 14 columns]\n"
          ]
        }
      ]
    },
    {
      "cell_type": "code",
      "source": [
        "data_stdd = data_stdd[((data_stdd['DIS']>0.4)&(data_stdd['DIS']<0.6))]['DIS']"
      ],
      "metadata": {
        "id": "CfFKO9vYjaz7"
      },
      "execution_count": 190,
      "outputs": []
    },
    {
      "cell_type": "code",
      "source": [
        "print(round(data_stdd.mean(),2))"
      ],
      "metadata": {
        "colab": {
          "base_uri": "https://localhost:8080/"
        },
        "id": "IOEGRS--j1hm",
        "outputId": "063de327-1256-4bc1-fca8-d30bd2a05883"
      },
      "execution_count": 192,
      "outputs": [
        {
          "output_type": "stream",
          "name": "stdout",
          "text": [
            "0.48\n"
          ]
        }
      ]
    },
    {
      "cell_type": "markdown",
      "source": [
        "2.6유니크한 값 구하기 (376p)"
      ],
      "metadata": {
        "id": "xmUA5HgfkLL0"
      }
    },
    {
      "cell_type": "code",
      "source": [
        "import pandas as pd"
      ],
      "metadata": {
        "id": "PHWPm3hVkB-R"
      },
      "execution_count": 221,
      "outputs": []
    },
    {
      "cell_type": "code",
      "source": [
        "data = pd.read_csv('/content/bigData/boston.csv')"
      ],
      "metadata": {
        "id": "MYiA1WvOkPwh"
      },
      "execution_count": 222,
      "outputs": []
    },
    {
      "cell_type": "code",
      "source": [
        "col = list(data.columns)"
      ],
      "metadata": {
        "id": "rkpFpUqnkR3L"
      },
      "execution_count": 223,
      "outputs": []
    },
    {
      "cell_type": "code",
      "source": [
        "print(col)"
      ],
      "metadata": {
        "colab": {
          "base_uri": "https://localhost:8080/"
        },
        "id": "1KYXHOeFkw4O",
        "outputId": "896f0a5d-5373-48d6-90bf-88d865ac2bfa"
      },
      "execution_count": 224,
      "outputs": [
        {
          "output_type": "stream",
          "name": "stdout",
          "text": [
            "['CRIM', 'ZN', 'INDUS', 'CHAS', 'NOX', 'RM', 'AGE', 'DIS', 'RAD', 'TAX', 'PTRATIO', 'B', 'LSTAT', 'MEDV']\n"
          ]
        }
      ]
    },
    {
      "cell_type": "code",
      "source": [
        "sum = 0\n",
        "for i in col:\n",
        "  sum+=pd.DataFrame(data[i].unique()).count()[0]"
      ],
      "metadata": {
        "id": "RhU0bW3Zk42-"
      },
      "execution_count": 228,
      "outputs": []
    },
    {
      "cell_type": "code",
      "source": [
        "print(sum)"
      ],
      "metadata": {
        "colab": {
          "base_uri": "https://localhost:8080/"
        },
        "id": "hdFdDTNblwo3",
        "outputId": "ba3b89bd-3a34-441a-c24b-0989648bcd91"
      },
      "execution_count": 229,
      "outputs": [
        {
          "output_type": "stream",
          "name": "stdout",
          "text": [
            "3052\n"
          ]
        }
      ]
    },
    {
      "cell_type": "code",
      "source": [
        "print(sum/len(col))"
      ],
      "metadata": {
        "colab": {
          "base_uri": "https://localhost:8080/"
        },
        "id": "S8Ml3MS2lXLz",
        "outputId": "b4c239eb-7ee8-4b34-ca59-6643512aded7"
      },
      "execution_count": 230,
      "outputs": [
        {
          "output_type": "stream",
          "name": "stdout",
          "text": [
            "218.0\n"
          ]
        }
      ]
    },
    {
      "cell_type": "code",
      "source": [],
      "metadata": {
        "id": "eIY8xipOl-UP"
      },
      "execution_count": null,
      "outputs": []
    }
  ]
}