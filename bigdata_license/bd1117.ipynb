{
  "nbformat": 4,
  "nbformat_minor": 0,
  "metadata": {
    "colab": {
      "provenance": []
    },
    "kernelspec": {
      "name": "python3",
      "display_name": "Python 3"
    },
    "language_info": {
      "name": "python"
    }
  },
  "cells": [
    {
      "cell_type": "code",
      "execution_count": 1,
      "metadata": {
        "colab": {
          "base_uri": "https://localhost:8080/"
        },
        "id": "9H6ULncv-8RV",
        "outputId": "b4e591fc-abec-4281-b8d5-1ee486c4583b"
      },
      "outputs": [
        {
          "output_type": "stream",
          "name": "stdout",
          "text": [
            "Cloning into 'bigData'...\n",
            "remote: Enumerating objects: 13, done.\u001b[K\n",
            "remote: Counting objects: 100% (13/13), done.\u001b[K\n",
            "remote: Compressing objects: 100% (13/13), done.\u001b[K\n",
            "remote: Total 13 (delta 0), reused 0 (delta 0), pack-reused 0\u001b[K\n",
            "Unpacking objects: 100% (13/13), done.\n"
          ]
        }
      ],
      "source": [
        "!git clone https://github.com/7ieon/bigData"
      ]
    },
    {
      "cell_type": "code",
      "source": [
        "import pandas as pd"
      ],
      "metadata": {
        "id": "217jTx2y--8_"
      },
      "execution_count": 44,
      "outputs": []
    },
    {
      "cell_type": "code",
      "source": [
        "x_train = pd.read_csv('/content/bigData/x_train.csv',encoding='CP949')"
      ],
      "metadata": {
        "id": "KclaTCWj_zQ4"
      },
      "execution_count": 78,
      "outputs": []
    },
    {
      "cell_type": "code",
      "source": [
        "y_train= pd.read_csv('/content/bigData/y_train.csv',encoding='CP949')"
      ],
      "metadata": {
        "id": "M4QTOJLE_39M"
      },
      "execution_count": 79,
      "outputs": []
    },
    {
      "cell_type": "code",
      "source": [
        "x_test = pd.read_csv('/content/bigData/x_test.csv',encoding='CP949')"
      ],
      "metadata": {
        "id": "jm2nCe_dAMc5"
      },
      "execution_count": 80,
      "outputs": []
    },
    {
      "cell_type": "code",
      "source": [
        "print(x_train.head())"
      ],
      "metadata": {
        "colab": {
          "base_uri": "https://localhost:8080/"
        },
        "id": "rspaPrTdAW7-",
        "outputId": "30177abe-fe2e-4925-a0f2-63d32ab31b35"
      },
      "execution_count": 81,
      "outputs": [
        {
          "output_type": "stream",
          "name": "stdout",
          "text": [
            "   cust_id      총구매액     최대구매액       환불금액   주구매상품 주구매지점  내점일수   내점당구매건수  \\\n",
            "0        0  68282840  11264000  6860000.0      기타   강남점    19  3.894737   \n",
            "1        1   2136000   2136000   300000.0     스포츠   잠실점     2  1.500000   \n",
            "2        2   3197000   1639000        NaN  남성 캐주얼   관악점     2  2.000000   \n",
            "3        3  16077620   4935000        NaN      기타   광주점    18  2.444444   \n",
            "4        4  29050000  24000000        NaN      보석  본  점     2  1.500000   \n",
            "\n",
            "     주말방문비율  구매주기  \n",
            "0  0.527027    17  \n",
            "1  0.000000     1  \n",
            "2  0.000000     1  \n",
            "3  0.318182    16  \n",
            "4  0.000000    85  \n"
          ]
        }
      ]
    },
    {
      "cell_type": "code",
      "source": [
        "display(x_test.head())"
      ],
      "metadata": {
        "colab": {
          "base_uri": "https://localhost:8080/",
          "height": 206
        },
        "id": "jRZA6QIDAgH8",
        "outputId": "bec98c83-8a3f-4344-f59a-c7fb15914425"
      },
      "execution_count": 82,
      "outputs": [
        {
          "output_type": "display_data",
          "data": {
            "text/plain": [
              "   cust_id       총구매액     최대구매액        환불금액 주구매상품 주구매지점  내점일수    내점당구매건수  \\\n",
              "0     3500   70900400  22000000   4050000.0    골프  부산본점    13   1.461538   \n",
              "1     3501  310533100  38558000  48034700.0   농산물   잠실점    90   2.433333   \n",
              "2     3502  305264140  14825000  30521000.0  가공식품  본  점   101  14.623762   \n",
              "3     3503    7594080   5225000         NaN  주방용품  부산본점     5   2.000000   \n",
              "4     3504    1795790   1411200         NaN   수산품  청량리점     3   2.666667   \n",
              "\n",
              "     주말방문비율  구매주기  \n",
              "0  0.789474    26  \n",
              "1  0.369863     3  \n",
              "2  0.083277     3  \n",
              "3  0.000000    47  \n",
              "4  0.125000     8  "
            ],
            "text/html": [
              "\n",
              "  <div id=\"df-868ab233-3264-49c1-a9df-eba3bab73796\">\n",
              "    <div class=\"colab-df-container\">\n",
              "      <div>\n",
              "<style scoped>\n",
              "    .dataframe tbody tr th:only-of-type {\n",
              "        vertical-align: middle;\n",
              "    }\n",
              "\n",
              "    .dataframe tbody tr th {\n",
              "        vertical-align: top;\n",
              "    }\n",
              "\n",
              "    .dataframe thead th {\n",
              "        text-align: right;\n",
              "    }\n",
              "</style>\n",
              "<table border=\"1\" class=\"dataframe\">\n",
              "  <thead>\n",
              "    <tr style=\"text-align: right;\">\n",
              "      <th></th>\n",
              "      <th>cust_id</th>\n",
              "      <th>총구매액</th>\n",
              "      <th>최대구매액</th>\n",
              "      <th>환불금액</th>\n",
              "      <th>주구매상품</th>\n",
              "      <th>주구매지점</th>\n",
              "      <th>내점일수</th>\n",
              "      <th>내점당구매건수</th>\n",
              "      <th>주말방문비율</th>\n",
              "      <th>구매주기</th>\n",
              "    </tr>\n",
              "  </thead>\n",
              "  <tbody>\n",
              "    <tr>\n",
              "      <th>0</th>\n",
              "      <td>3500</td>\n",
              "      <td>70900400</td>\n",
              "      <td>22000000</td>\n",
              "      <td>4050000.0</td>\n",
              "      <td>골프</td>\n",
              "      <td>부산본점</td>\n",
              "      <td>13</td>\n",
              "      <td>1.461538</td>\n",
              "      <td>0.789474</td>\n",
              "      <td>26</td>\n",
              "    </tr>\n",
              "    <tr>\n",
              "      <th>1</th>\n",
              "      <td>3501</td>\n",
              "      <td>310533100</td>\n",
              "      <td>38558000</td>\n",
              "      <td>48034700.0</td>\n",
              "      <td>농산물</td>\n",
              "      <td>잠실점</td>\n",
              "      <td>90</td>\n",
              "      <td>2.433333</td>\n",
              "      <td>0.369863</td>\n",
              "      <td>3</td>\n",
              "    </tr>\n",
              "    <tr>\n",
              "      <th>2</th>\n",
              "      <td>3502</td>\n",
              "      <td>305264140</td>\n",
              "      <td>14825000</td>\n",
              "      <td>30521000.0</td>\n",
              "      <td>가공식품</td>\n",
              "      <td>본  점</td>\n",
              "      <td>101</td>\n",
              "      <td>14.623762</td>\n",
              "      <td>0.083277</td>\n",
              "      <td>3</td>\n",
              "    </tr>\n",
              "    <tr>\n",
              "      <th>3</th>\n",
              "      <td>3503</td>\n",
              "      <td>7594080</td>\n",
              "      <td>5225000</td>\n",
              "      <td>NaN</td>\n",
              "      <td>주방용품</td>\n",
              "      <td>부산본점</td>\n",
              "      <td>5</td>\n",
              "      <td>2.000000</td>\n",
              "      <td>0.000000</td>\n",
              "      <td>47</td>\n",
              "    </tr>\n",
              "    <tr>\n",
              "      <th>4</th>\n",
              "      <td>3504</td>\n",
              "      <td>1795790</td>\n",
              "      <td>1411200</td>\n",
              "      <td>NaN</td>\n",
              "      <td>수산품</td>\n",
              "      <td>청량리점</td>\n",
              "      <td>3</td>\n",
              "      <td>2.666667</td>\n",
              "      <td>0.125000</td>\n",
              "      <td>8</td>\n",
              "    </tr>\n",
              "  </tbody>\n",
              "</table>\n",
              "</div>\n",
              "      <button class=\"colab-df-convert\" onclick=\"convertToInteractive('df-868ab233-3264-49c1-a9df-eba3bab73796')\"\n",
              "              title=\"Convert this dataframe to an interactive table.\"\n",
              "              style=\"display:none;\">\n",
              "        \n",
              "  <svg xmlns=\"http://www.w3.org/2000/svg\" height=\"24px\"viewBox=\"0 0 24 24\"\n",
              "       width=\"24px\">\n",
              "    <path d=\"M0 0h24v24H0V0z\" fill=\"none\"/>\n",
              "    <path d=\"M18.56 5.44l.94 2.06.94-2.06 2.06-.94-2.06-.94-.94-2.06-.94 2.06-2.06.94zm-11 1L8.5 8.5l.94-2.06 2.06-.94-2.06-.94L8.5 2.5l-.94 2.06-2.06.94zm10 10l.94 2.06.94-2.06 2.06-.94-2.06-.94-.94-2.06-.94 2.06-2.06.94z\"/><path d=\"M17.41 7.96l-1.37-1.37c-.4-.4-.92-.59-1.43-.59-.52 0-1.04.2-1.43.59L10.3 9.45l-7.72 7.72c-.78.78-.78 2.05 0 2.83L4 21.41c.39.39.9.59 1.41.59.51 0 1.02-.2 1.41-.59l7.78-7.78 2.81-2.81c.8-.78.8-2.07 0-2.86zM5.41 20L4 18.59l7.72-7.72 1.47 1.35L5.41 20z\"/>\n",
              "  </svg>\n",
              "      </button>\n",
              "      \n",
              "  <style>\n",
              "    .colab-df-container {\n",
              "      display:flex;\n",
              "      flex-wrap:wrap;\n",
              "      gap: 12px;\n",
              "    }\n",
              "\n",
              "    .colab-df-convert {\n",
              "      background-color: #E8F0FE;\n",
              "      border: none;\n",
              "      border-radius: 50%;\n",
              "      cursor: pointer;\n",
              "      display: none;\n",
              "      fill: #1967D2;\n",
              "      height: 32px;\n",
              "      padding: 0 0 0 0;\n",
              "      width: 32px;\n",
              "    }\n",
              "\n",
              "    .colab-df-convert:hover {\n",
              "      background-color: #E2EBFA;\n",
              "      box-shadow: 0px 1px 2px rgba(60, 64, 67, 0.3), 0px 1px 3px 1px rgba(60, 64, 67, 0.15);\n",
              "      fill: #174EA6;\n",
              "    }\n",
              "\n",
              "    [theme=dark] .colab-df-convert {\n",
              "      background-color: #3B4455;\n",
              "      fill: #D2E3FC;\n",
              "    }\n",
              "\n",
              "    [theme=dark] .colab-df-convert:hover {\n",
              "      background-color: #434B5C;\n",
              "      box-shadow: 0px 1px 3px 1px rgba(0, 0, 0, 0.15);\n",
              "      filter: drop-shadow(0px 1px 2px rgba(0, 0, 0, 0.3));\n",
              "      fill: #FFFFFF;\n",
              "    }\n",
              "  </style>\n",
              "\n",
              "      <script>\n",
              "        const buttonEl =\n",
              "          document.querySelector('#df-868ab233-3264-49c1-a9df-eba3bab73796 button.colab-df-convert');\n",
              "        buttonEl.style.display =\n",
              "          google.colab.kernel.accessAllowed ? 'block' : 'none';\n",
              "\n",
              "        async function convertToInteractive(key) {\n",
              "          const element = document.querySelector('#df-868ab233-3264-49c1-a9df-eba3bab73796');\n",
              "          const dataTable =\n",
              "            await google.colab.kernel.invokeFunction('convertToInteractive',\n",
              "                                                     [key], {});\n",
              "          if (!dataTable) return;\n",
              "\n",
              "          const docLinkHtml = 'Like what you see? Visit the ' +\n",
              "            '<a target=\"_blank\" href=https://colab.research.google.com/notebooks/data_table.ipynb>data table notebook</a>'\n",
              "            + ' to learn more about interactive tables.';\n",
              "          element.innerHTML = '';\n",
              "          dataTable['output_type'] = 'display_data';\n",
              "          await google.colab.output.renderOutput(dataTable, element);\n",
              "          const docLink = document.createElement('div');\n",
              "          docLink.innerHTML = docLinkHtml;\n",
              "          element.appendChild(docLink);\n",
              "        }\n",
              "      </script>\n",
              "    </div>\n",
              "  </div>\n",
              "  "
            ]
          },
          "metadata": {}
        }
      ]
    },
    {
      "cell_type": "code",
      "source": [
        "print(y_train.head())"
      ],
      "metadata": {
        "colab": {
          "base_uri": "https://localhost:8080/"
        },
        "id": "QeZA0B2ZAxwW",
        "outputId": "a45b8690-28ff-438d-8908-69ddc17777ff"
      },
      "execution_count": 83,
      "outputs": [
        {
          "output_type": "stream",
          "name": "stdout",
          "text": [
            "   cust_id  gender\n",
            "0        0       0\n",
            "1        1       0\n",
            "2        2       1\n",
            "3        3       1\n",
            "4        4       0\n"
          ]
        }
      ]
    },
    {
      "cell_type": "code",
      "source": [
        "print(x_train.shape)\n",
        "print(x_test.shape)\n",
        "print(y_train.shape)"
      ],
      "metadata": {
        "colab": {
          "base_uri": "https://localhost:8080/"
        },
        "id": "zB_4co2dBER_",
        "outputId": "2d5fd301-63a4-4ce8-9377-49dd63e8174a"
      },
      "execution_count": 84,
      "outputs": [
        {
          "output_type": "stream",
          "name": "stdout",
          "text": [
            "(3500, 10)\n",
            "(2482, 10)\n",
            "(3500, 2)\n"
          ]
        }
      ]
    },
    {
      "cell_type": "code",
      "source": [
        "print(x_train.info())"
      ],
      "metadata": {
        "colab": {
          "base_uri": "https://localhost:8080/"
        },
        "id": "VfGQosPvBfBj",
        "outputId": "fee53786-b8d6-4f6a-822c-580429b4a42d"
      },
      "execution_count": 85,
      "outputs": [
        {
          "output_type": "stream",
          "name": "stdout",
          "text": [
            "<class 'pandas.core.frame.DataFrame'>\n",
            "RangeIndex: 3500 entries, 0 to 3499\n",
            "Data columns (total 10 columns):\n",
            " #   Column   Non-Null Count  Dtype  \n",
            "---  ------   --------------  -----  \n",
            " 0   cust_id  3500 non-null   int64  \n",
            " 1   총구매액     3500 non-null   int64  \n",
            " 2   최대구매액    3500 non-null   int64  \n",
            " 3   환불금액     1205 non-null   float64\n",
            " 4   주구매상품    3500 non-null   object \n",
            " 5   주구매지점    3500 non-null   object \n",
            " 6   내점일수     3500 non-null   int64  \n",
            " 7   내점당구매건수  3500 non-null   float64\n",
            " 8   주말방문비율   3500 non-null   float64\n",
            " 9   구매주기     3500 non-null   int64  \n",
            "dtypes: float64(3), int64(5), object(2)\n",
            "memory usage: 273.6+ KB\n",
            "None\n"
          ]
        }
      ]
    },
    {
      "cell_type": "code",
      "source": [
        "print(x_train.describe())"
      ],
      "metadata": {
        "colab": {
          "base_uri": "https://localhost:8080/"
        },
        "id": "PXmZZgzzBx4T",
        "outputId": "df5db21f-6b62-478c-992f-5f3de2bc4855"
      },
      "execution_count": 86,
      "outputs": [
        {
          "output_type": "stream",
          "name": "stdout",
          "text": [
            "           cust_id          총구매액         최대구매액          환불금액         내점일수  \\\n",
            "count  3500.000000  3.500000e+03  3.500000e+03  1.205000e+03  3500.000000   \n",
            "mean   1749.500000  9.191925e+07  1.966424e+07  2.407822e+07    19.253714   \n",
            "std    1010.507298  1.635065e+08  3.199235e+07  4.746453e+07    27.174942   \n",
            "min       0.000000 -5.242152e+07 -2.992000e+06  5.600000e+03     1.000000   \n",
            "25%     874.750000  4.747050e+06  2.875000e+06  2.259000e+06     2.000000   \n",
            "50%    1749.500000  2.822270e+07  9.837000e+06  7.392000e+06     8.000000   \n",
            "75%    2624.250000  1.065079e+08  2.296250e+07  2.412000e+07    25.000000   \n",
            "max    3499.000000  2.323180e+09  7.066290e+08  5.637530e+08   285.000000   \n",
            "\n",
            "           내점당구매건수       주말방문비율         구매주기  \n",
            "count  3500.000000  3500.000000  3500.000000  \n",
            "mean      2.834963     0.307246    20.958286  \n",
            "std       1.912368     0.289752    24.748682  \n",
            "min       1.000000     0.000000     0.000000  \n",
            "25%       1.666667     0.027291     4.000000  \n",
            "50%       2.333333     0.256410    13.000000  \n",
            "75%       3.375000     0.448980    28.000000  \n",
            "max      22.083333     1.000000   166.000000  \n"
          ]
        }
      ]
    },
    {
      "cell_type": "code",
      "source": [
        "x_test_cust_id = x_test['cust_id']"
      ],
      "metadata": {
        "id": "dYbmmTQlB-vd"
      },
      "execution_count": 87,
      "outputs": []
    },
    {
      "cell_type": "code",
      "source": [
        "print(x_test_cust_id)"
      ],
      "metadata": {
        "colab": {
          "base_uri": "https://localhost:8080/"
        },
        "id": "2YuOGUvyC-xI",
        "outputId": "9a747c7e-3120-472c-9d0a-7512e5e6d5c1"
      },
      "execution_count": 88,
      "outputs": [
        {
          "output_type": "stream",
          "name": "stdout",
          "text": [
            "0       3500\n",
            "1       3501\n",
            "2       3502\n",
            "3       3503\n",
            "4       3504\n",
            "        ... \n",
            "2477    5977\n",
            "2478    5978\n",
            "2479    5979\n",
            "2480    5980\n",
            "2481    5981\n",
            "Name: cust_id, Length: 2482, dtype: int64\n"
          ]
        }
      ]
    },
    {
      "cell_type": "code",
      "source": [
        "x_train = x_train.drop(columns=['cust_id'])"
      ],
      "metadata": {
        "id": "msL76dHVDAmi"
      },
      "execution_count": 89,
      "outputs": []
    },
    {
      "cell_type": "code",
      "source": [
        "x_test = x_test.drop(columns=['cust_id'])"
      ],
      "metadata": {
        "id": "nwePm309DNPc"
      },
      "execution_count": 90,
      "outputs": []
    },
    {
      "cell_type": "code",
      "source": [
        "y_train = y_train.drop(columns=['cust_id'])"
      ],
      "metadata": {
        "id": "ATFi8wh6DR8E"
      },
      "execution_count": 91,
      "outputs": []
    },
    {
      "cell_type": "code",
      "source": [
        "print(x_train.head())"
      ],
      "metadata": {
        "colab": {
          "base_uri": "https://localhost:8080/"
        },
        "id": "V4j0jOlADWxg",
        "outputId": "55ddbe9a-47cc-40bf-ee0e-26f5a5af0528"
      },
      "execution_count": 92,
      "outputs": [
        {
          "output_type": "stream",
          "name": "stdout",
          "text": [
            "       총구매액     최대구매액       환불금액   주구매상품 주구매지점  내점일수   내점당구매건수    주말방문비율  구매주기\n",
            "0  68282840  11264000  6860000.0      기타   강남점    19  3.894737  0.527027    17\n",
            "1   2136000   2136000   300000.0     스포츠   잠실점     2  1.500000  0.000000     1\n",
            "2   3197000   1639000        NaN  남성 캐주얼   관악점     2  2.000000  0.000000     1\n",
            "3  16077620   4935000        NaN      기타   광주점    18  2.444444  0.318182    16\n",
            "4  29050000  24000000        NaN      보석  본  점     2  1.500000  0.000000    85\n"
          ]
        }
      ]
    },
    {
      "cell_type": "code",
      "source": [
        "print(x_train.isnull().sum())"
      ],
      "metadata": {
        "colab": {
          "base_uri": "https://localhost:8080/"
        },
        "id": "hr3r1UdnDbQ0",
        "outputId": "9abd8ee9-ee32-458a-b20f-817198a29b28"
      },
      "execution_count": 93,
      "outputs": [
        {
          "output_type": "stream",
          "name": "stdout",
          "text": [
            "총구매액          0\n",
            "최대구매액         0\n",
            "환불금액       2295\n",
            "주구매상품         0\n",
            "주구매지점         0\n",
            "내점일수          0\n",
            "내점당구매건수       0\n",
            "주말방문비율        0\n",
            "구매주기          0\n",
            "dtype: int64\n"
          ]
        }
      ]
    },
    {
      "cell_type": "code",
      "source": [
        "x_train['환불금액'].fillna(0,inplace=True)"
      ],
      "metadata": {
        "id": "_FYHdNvJDjQh"
      },
      "execution_count": 94,
      "outputs": []
    },
    {
      "cell_type": "code",
      "source": [
        "x_test['환불금액'].fillna(0,inplace=True)"
      ],
      "metadata": {
        "id": "3cMCTjd5D8Fh"
      },
      "execution_count": 95,
      "outputs": []
    },
    {
      "cell_type": "code",
      "source": [
        "print(x_train.isnull().sum())"
      ],
      "metadata": {
        "colab": {
          "base_uri": "https://localhost:8080/"
        },
        "id": "_JvOImc5EE6v",
        "outputId": "698e2c5f-767d-4331-999c-2a0cfe07fe9e"
      },
      "execution_count": 96,
      "outputs": [
        {
          "output_type": "stream",
          "name": "stdout",
          "text": [
            "총구매액       0\n",
            "최대구매액      0\n",
            "환불금액       0\n",
            "주구매상품      0\n",
            "주구매지점      0\n",
            "내점일수       0\n",
            "내점당구매건수    0\n",
            "주말방문비율     0\n",
            "구매주기       0\n",
            "dtype: int64\n"
          ]
        }
      ]
    },
    {
      "cell_type": "code",
      "source": [
        "print(x_test.isnull().sum())"
      ],
      "metadata": {
        "colab": {
          "base_uri": "https://localhost:8080/"
        },
        "id": "j54cvl6kEIkI",
        "outputId": "a3adaec2-d3e3-402c-ca33-dcc483534410"
      },
      "execution_count": 97,
      "outputs": [
        {
          "output_type": "stream",
          "name": "stdout",
          "text": [
            "총구매액       0\n",
            "최대구매액      0\n",
            "환불금액       0\n",
            "주구매상품      0\n",
            "주구매지점      0\n",
            "내점일수       0\n",
            "내점당구매건수    0\n",
            "주말방문비율     0\n",
            "구매주기       0\n",
            "dtype: int64\n"
          ]
        }
      ]
    },
    {
      "cell_type": "code",
      "source": [
        "print(x_train.info())"
      ],
      "metadata": {
        "colab": {
          "base_uri": "https://localhost:8080/"
        },
        "id": "UBof4hbGELhZ",
        "outputId": "6976ec79-16be-4802-92cd-f64051f1de71"
      },
      "execution_count": 98,
      "outputs": [
        {
          "output_type": "stream",
          "name": "stdout",
          "text": [
            "<class 'pandas.core.frame.DataFrame'>\n",
            "RangeIndex: 3500 entries, 0 to 3499\n",
            "Data columns (total 9 columns):\n",
            " #   Column   Non-Null Count  Dtype  \n",
            "---  ------   --------------  -----  \n",
            " 0   총구매액     3500 non-null   int64  \n",
            " 1   최대구매액    3500 non-null   int64  \n",
            " 2   환불금액     3500 non-null   float64\n",
            " 3   주구매상품    3500 non-null   object \n",
            " 4   주구매지점    3500 non-null   object \n",
            " 5   내점일수     3500 non-null   int64  \n",
            " 6   내점당구매건수  3500 non-null   float64\n",
            " 7   주말방문비율   3500 non-null   float64\n",
            " 8   구매주기     3500 non-null   int64  \n",
            "dtypes: float64(3), int64(4), object(2)\n",
            "memory usage: 246.2+ KB\n",
            "None\n"
          ]
        }
      ]
    },
    {
      "cell_type": "code",
      "source": [
        "print(x_train['주구매상품'].unique())"
      ],
      "metadata": {
        "colab": {
          "base_uri": "https://localhost:8080/"
        },
        "id": "W1qMf4-6EayZ",
        "outputId": "26411a8e-fe93-4dfc-ccad-4755b7fed796"
      },
      "execution_count": 99,
      "outputs": [
        {
          "output_type": "stream",
          "name": "stdout",
          "text": [
            "['기타' '스포츠' '남성 캐주얼' '보석' '디자이너' '시티웨어' '명품' '농산물' '화장품' '골프' '구두' '가공식품'\n",
            " '수산품' '아동' '차/커피' '캐주얼' '섬유잡화' '육류' '축산가공' '젓갈/반찬' '액세서리' '피혁잡화' '일용잡화'\n",
            " '주방가전' '주방용품' '건강식품' '가구' '주류' '모피/피혁' '남성 트랜디' '셔츠' '남성정장' '생활잡화'\n",
            " '트래디셔널' '란제리/내의' '커리어' '침구/수예' '대형가전' '통신/컴퓨터' '식기' '소형가전' '악기']\n"
          ]
        }
      ]
    },
    {
      "cell_type": "code",
      "source": [
        "print(x_train['주구매상품'].unique().size)"
      ],
      "metadata": {
        "colab": {
          "base_uri": "https://localhost:8080/"
        },
        "id": "YQqZ_KSEEqU1",
        "outputId": "3d98839d-01e5-45ab-fb95-5973f178ec4f"
      },
      "execution_count": 100,
      "outputs": [
        {
          "output_type": "stream",
          "name": "stdout",
          "text": [
            "42\n"
          ]
        }
      ]
    },
    {
      "cell_type": "code",
      "source": [
        "print(x_train['주구매지점'].unique())"
      ],
      "metadata": {
        "colab": {
          "base_uri": "https://localhost:8080/"
        },
        "id": "sgFobHpnEgzZ",
        "outputId": "27a2783b-7e0d-446c-a1fb-db640d6698ae"
      },
      "execution_count": 101,
      "outputs": [
        {
          "output_type": "stream",
          "name": "stdout",
          "text": [
            "['강남점' '잠실점' '관악점' '광주점' '본  점' '일산점' '대전점' '부산본점' '분당점' '영등포점' '미아점'\n",
            " '청량리점' '안양점' '부평점' '동래점' '포항점' '노원점' '창원점' '센텀시티점' '인천점' '대구점' '전주점'\n",
            " '울산점' '상인점']\n"
          ]
        }
      ]
    },
    {
      "cell_type": "code",
      "source": [
        "print(x_train['주구매지점'].unique().size)"
      ],
      "metadata": {
        "colab": {
          "base_uri": "https://localhost:8080/"
        },
        "id": "WSIkuvfKEmh2",
        "outputId": "b6ed8323-1edb-4ecf-c297-3403ecb43ef4"
      },
      "execution_count": 102,
      "outputs": [
        {
          "output_type": "stream",
          "name": "stdout",
          "text": [
            "24\n"
          ]
        }
      ]
    },
    {
      "cell_type": "code",
      "source": [
        "from sklearn.preprocessing import LabelEncoder"
      ],
      "metadata": {
        "id": "bFkYH67KEvaN"
      },
      "execution_count": 103,
      "outputs": []
    },
    {
      "cell_type": "code",
      "source": [
        "encoder = LabelEncoder()"
      ],
      "metadata": {
        "id": "G1XHFpXeE4vR"
      },
      "execution_count": 104,
      "outputs": []
    },
    {
      "cell_type": "code",
      "source": [
        "x_train['주구매상품'] = encoder.fit_transform(x_train['주구매상품'])"
      ],
      "metadata": {
        "id": "rhqCRO2WE720"
      },
      "execution_count": 105,
      "outputs": []
    },
    {
      "cell_type": "code",
      "source": [
        "print(x_train['주구매상품'].head())"
      ],
      "metadata": {
        "colab": {
          "base_uri": "https://localhost:8080/"
        },
        "id": "gekqhr8ZFFlU",
        "outputId": "ebc2620c-ebe1-439b-b338-c771e1e1a47b"
      },
      "execution_count": 106,
      "outputs": [
        {
          "output_type": "stream",
          "name": "stdout",
          "text": [
            "0     5\n",
            "1    21\n",
            "2     6\n",
            "3     5\n",
            "4    15\n",
            "Name: 주구매상품, dtype: int64\n"
          ]
        }
      ]
    },
    {
      "cell_type": "code",
      "source": [
        "x_train['주구매상품'].unique().size"
      ],
      "metadata": {
        "colab": {
          "base_uri": "https://localhost:8080/"
        },
        "id": "3hZUPAS4GAb9",
        "outputId": "25a97deb-d54e-4522-d376-32839a74ecf0"
      },
      "execution_count": 107,
      "outputs": [
        {
          "output_type": "execute_result",
          "data": {
            "text/plain": [
              "42"
            ]
          },
          "metadata": {},
          "execution_count": 107
        }
      ]
    },
    {
      "cell_type": "code",
      "source": [
        "x_test['주구매상품'] = encoder.transform(x_test['주구매상품'])"
      ],
      "metadata": {
        "id": "FTkdPTcpFKVp"
      },
      "execution_count": 108,
      "outputs": []
    },
    {
      "cell_type": "code",
      "source": [
        "print(x_test['주구매상품'])"
      ],
      "metadata": {
        "colab": {
          "base_uri": "https://localhost:8080/"
        },
        "id": "b_MyoGlEFiGa",
        "outputId": "82059d81-3fc2-41bd-847b-c8e92628404d"
      },
      "execution_count": 109,
      "outputs": [
        {
          "output_type": "stream",
          "name": "stdout",
          "text": [
            "0        3\n",
            "1        9\n",
            "2        0\n",
            "3       32\n",
            "4       20\n",
            "        ..\n",
            "2477     3\n",
            "2478    17\n",
            "2479     6\n",
            "2480    27\n",
            "2481     0\n",
            "Name: 주구매상품, Length: 2482, dtype: int64\n"
          ]
        }
      ]
    },
    {
      "cell_type": "code",
      "source": [
        "x_test['주구매상품'].unique().size"
      ],
      "metadata": {
        "colab": {
          "base_uri": "https://localhost:8080/"
        },
        "id": "qdLevMT8FlK5",
        "outputId": "bf65393b-f4c0-4fb2-bbcc-7798f767357a"
      },
      "execution_count": 110,
      "outputs": [
        {
          "output_type": "execute_result",
          "data": {
            "text/plain": [
              "41"
            ]
          },
          "metadata": {},
          "execution_count": 110
        }
      ]
    },
    {
      "cell_type": "code",
      "source": [
        "x_train['주구매지점'].unique()"
      ],
      "metadata": {
        "colab": {
          "base_uri": "https://localhost:8080/"
        },
        "id": "VjU8MfV1Jwrf",
        "outputId": "b9d15674-2a84-4f17-bb1e-3d14de0100a2"
      },
      "execution_count": 115,
      "outputs": [
        {
          "output_type": "execute_result",
          "data": {
            "text/plain": [
              "array([ 0, 19,  1,  2,  8, 18,  5,  9, 11, 15,  7, 22, 14, 10,  6, 23,  3,\n",
              "       21, 13, 17,  4, 20, 16, 12])"
            ]
          },
          "metadata": {},
          "execution_count": 115
        }
      ]
    },
    {
      "cell_type": "code",
      "source": [
        "x_train['주구매지점'] = encoder.fit_transform(x_train['주구매지점'])"
      ],
      "metadata": {
        "id": "0hxeqAukFrWi"
      },
      "execution_count": 111,
      "outputs": []
    },
    {
      "cell_type": "code",
      "source": [
        "print(x_train['주구매지점'].head())"
      ],
      "metadata": {
        "colab": {
          "base_uri": "https://localhost:8080/"
        },
        "id": "s3jjRERRJpG7",
        "outputId": "dfae2fb6-ef8f-4323-f2d4-e699747080e7"
      },
      "execution_count": 114,
      "outputs": [
        {
          "output_type": "stream",
          "name": "stdout",
          "text": [
            "0     0\n",
            "1    19\n",
            "2     1\n",
            "3     2\n",
            "4     8\n",
            "Name: 주구매지점, dtype: int64\n"
          ]
        }
      ]
    },
    {
      "cell_type": "code",
      "source": [
        "x_test['주구매지점'] = encoder.transform(x_test['주구매지점'])"
      ],
      "metadata": {
        "id": "nrxjPQQqJrhH"
      },
      "execution_count": 116,
      "outputs": []
    },
    {
      "cell_type": "code",
      "source": [
        "print(x_test['주구매지점'])"
      ],
      "metadata": {
        "colab": {
          "base_uri": "https://localhost:8080/"
        },
        "id": "XtR3cHBSKFdO",
        "outputId": "6b2297dc-3078-444a-af30-92b78cf3f9c2"
      },
      "execution_count": 117,
      "outputs": [
        {
          "output_type": "stream",
          "name": "stdout",
          "text": [
            "0        9\n",
            "1       19\n",
            "2        8\n",
            "3        9\n",
            "4       22\n",
            "        ..\n",
            "2477     9\n",
            "2478     2\n",
            "2479     8\n",
            "2480     8\n",
            "2481    15\n",
            "Name: 주구매지점, Length: 2482, dtype: int64\n"
          ]
        }
      ]
    },
    {
      "cell_type": "code",
      "source": [
        "print(x_train['주구매지점'].unique().size,x_test['주구매지점'].unique().size)"
      ],
      "metadata": {
        "colab": {
          "base_uri": "https://localhost:8080/"
        },
        "id": "UYDsEh5fKH-1",
        "outputId": "bc2366cc-fe61-4b89-dd9e-408bbfbb61a5"
      },
      "execution_count": 118,
      "outputs": [
        {
          "output_type": "stream",
          "name": "stdout",
          "text": [
            "24 24\n"
          ]
        }
      ]
    },
    {
      "cell_type": "code",
      "source": [
        "x_train.loc[x_train['환불금액']>0,'환불여부']=1"
      ],
      "metadata": {
        "id": "tRr2NW1ZKVCw"
      },
      "execution_count": 119,
      "outputs": []
    },
    {
      "cell_type": "code",
      "source": [
        "x_train.loc[x_train['환불금액']<=0,'환불여부']=0"
      ],
      "metadata": {
        "id": "rzQUnbAmKuKB"
      },
      "execution_count": 120,
      "outputs": []
    },
    {
      "cell_type": "code",
      "source": [
        "print(x_train[['환불금액','환불여부']].head())"
      ],
      "metadata": {
        "colab": {
          "base_uri": "https://localhost:8080/",
          "height": 311
        },
        "id": "hL3Ps_QwK3rk",
        "outputId": "205655f5-8517-4fca-ef0f-22d63bfd1610"
      },
      "execution_count": 127,
      "outputs": [
        {
          "output_type": "error",
          "ename": "KeyError",
          "evalue": "ignored",
          "traceback": [
            "\u001b[0;31m---------------------------------------------------------------------------\u001b[0m",
            "\u001b[0;31mKeyError\u001b[0m                                  Traceback (most recent call last)",
            "\u001b[0;32m<ipython-input-127-206337c8d0f7>\u001b[0m in \u001b[0;36m<module>\u001b[0;34m\u001b[0m\n\u001b[0;32m----> 1\u001b[0;31m \u001b[0mprint\u001b[0m\u001b[0;34m(\u001b[0m\u001b[0mx_train\u001b[0m\u001b[0;34m[\u001b[0m\u001b[0;34m[\u001b[0m\u001b[0;34m'환불금액'\u001b[0m\u001b[0;34m,\u001b[0m\u001b[0;34m'환불여부'\u001b[0m\u001b[0;34m]\u001b[0m\u001b[0;34m]\u001b[0m\u001b[0;34m.\u001b[0m\u001b[0mhead\u001b[0m\u001b[0;34m(\u001b[0m\u001b[0;34m)\u001b[0m\u001b[0;34m)\u001b[0m\u001b[0;34m\u001b[0m\u001b[0;34m\u001b[0m\u001b[0m\n\u001b[0m",
            "\u001b[0;32m/usr/local/lib/python3.7/dist-packages/pandas/core/frame.py\u001b[0m in \u001b[0;36m__getitem__\u001b[0;34m(self, key)\u001b[0m\n\u001b[1;32m   3462\u001b[0m             \u001b[0;32mif\u001b[0m \u001b[0mis_iterator\u001b[0m\u001b[0;34m(\u001b[0m\u001b[0mkey\u001b[0m\u001b[0;34m)\u001b[0m\u001b[0;34m:\u001b[0m\u001b[0;34m\u001b[0m\u001b[0;34m\u001b[0m\u001b[0m\n\u001b[1;32m   3463\u001b[0m                 \u001b[0mkey\u001b[0m \u001b[0;34m=\u001b[0m \u001b[0mlist\u001b[0m\u001b[0;34m(\u001b[0m\u001b[0mkey\u001b[0m\u001b[0;34m)\u001b[0m\u001b[0;34m\u001b[0m\u001b[0;34m\u001b[0m\u001b[0m\n\u001b[0;32m-> 3464\u001b[0;31m             \u001b[0mindexer\u001b[0m \u001b[0;34m=\u001b[0m \u001b[0mself\u001b[0m\u001b[0;34m.\u001b[0m\u001b[0mloc\u001b[0m\u001b[0;34m.\u001b[0m\u001b[0m_get_listlike_indexer\u001b[0m\u001b[0;34m(\u001b[0m\u001b[0mkey\u001b[0m\u001b[0;34m,\u001b[0m \u001b[0maxis\u001b[0m\u001b[0;34m=\u001b[0m\u001b[0;36m1\u001b[0m\u001b[0;34m)\u001b[0m\u001b[0;34m[\u001b[0m\u001b[0;36m1\u001b[0m\u001b[0;34m]\u001b[0m\u001b[0;34m\u001b[0m\u001b[0;34m\u001b[0m\u001b[0m\n\u001b[0m\u001b[1;32m   3465\u001b[0m \u001b[0;34m\u001b[0m\u001b[0m\n\u001b[1;32m   3466\u001b[0m         \u001b[0;31m# take() does not accept boolean indexers\u001b[0m\u001b[0;34m\u001b[0m\u001b[0;34m\u001b[0m\u001b[0;34m\u001b[0m\u001b[0m\n",
            "\u001b[0;32m/usr/local/lib/python3.7/dist-packages/pandas/core/indexing.py\u001b[0m in \u001b[0;36m_get_listlike_indexer\u001b[0;34m(self, key, axis)\u001b[0m\n\u001b[1;32m   1312\u001b[0m             \u001b[0mkeyarr\u001b[0m\u001b[0;34m,\u001b[0m \u001b[0mindexer\u001b[0m\u001b[0;34m,\u001b[0m \u001b[0mnew_indexer\u001b[0m \u001b[0;34m=\u001b[0m \u001b[0max\u001b[0m\u001b[0;34m.\u001b[0m\u001b[0m_reindex_non_unique\u001b[0m\u001b[0;34m(\u001b[0m\u001b[0mkeyarr\u001b[0m\u001b[0;34m)\u001b[0m\u001b[0;34m\u001b[0m\u001b[0;34m\u001b[0m\u001b[0m\n\u001b[1;32m   1313\u001b[0m \u001b[0;34m\u001b[0m\u001b[0m\n\u001b[0;32m-> 1314\u001b[0;31m         \u001b[0mself\u001b[0m\u001b[0;34m.\u001b[0m\u001b[0m_validate_read_indexer\u001b[0m\u001b[0;34m(\u001b[0m\u001b[0mkeyarr\u001b[0m\u001b[0;34m,\u001b[0m \u001b[0mindexer\u001b[0m\u001b[0;34m,\u001b[0m \u001b[0maxis\u001b[0m\u001b[0;34m)\u001b[0m\u001b[0;34m\u001b[0m\u001b[0;34m\u001b[0m\u001b[0m\n\u001b[0m\u001b[1;32m   1315\u001b[0m \u001b[0;34m\u001b[0m\u001b[0m\n\u001b[1;32m   1316\u001b[0m         if needs_i8_conversion(ax.dtype) or isinstance(\n",
            "\u001b[0;32m/usr/local/lib/python3.7/dist-packages/pandas/core/indexing.py\u001b[0m in \u001b[0;36m_validate_read_indexer\u001b[0;34m(self, key, indexer, axis)\u001b[0m\n\u001b[1;32m   1375\u001b[0m \u001b[0;34m\u001b[0m\u001b[0m\n\u001b[1;32m   1376\u001b[0m             \u001b[0mnot_found\u001b[0m \u001b[0;34m=\u001b[0m \u001b[0mlist\u001b[0m\u001b[0;34m(\u001b[0m\u001b[0mensure_index\u001b[0m\u001b[0;34m(\u001b[0m\u001b[0mkey\u001b[0m\u001b[0;34m)\u001b[0m\u001b[0;34m[\u001b[0m\u001b[0mmissing_mask\u001b[0m\u001b[0;34m.\u001b[0m\u001b[0mnonzero\u001b[0m\u001b[0;34m(\u001b[0m\u001b[0;34m)\u001b[0m\u001b[0;34m[\u001b[0m\u001b[0;36m0\u001b[0m\u001b[0;34m]\u001b[0m\u001b[0;34m]\u001b[0m\u001b[0;34m.\u001b[0m\u001b[0munique\u001b[0m\u001b[0;34m(\u001b[0m\u001b[0;34m)\u001b[0m\u001b[0;34m)\u001b[0m\u001b[0;34m\u001b[0m\u001b[0;34m\u001b[0m\u001b[0m\n\u001b[0;32m-> 1377\u001b[0;31m             \u001b[0;32mraise\u001b[0m \u001b[0mKeyError\u001b[0m\u001b[0;34m(\u001b[0m\u001b[0;34mf\"{not_found} not in index\"\u001b[0m\u001b[0;34m)\u001b[0m\u001b[0;34m\u001b[0m\u001b[0;34m\u001b[0m\u001b[0m\n\u001b[0m\u001b[1;32m   1378\u001b[0m \u001b[0;34m\u001b[0m\u001b[0m\n\u001b[1;32m   1379\u001b[0m \u001b[0;34m\u001b[0m\u001b[0m\n",
            "\u001b[0;31mKeyError\u001b[0m: \"['환불금액'] not in index\""
          ]
        }
      ]
    },
    {
      "cell_type": "code",
      "source": [
        "x_train.drop(columns='환불금액',inplace=True)"
      ],
      "metadata": {
        "id": "qOcZrR4_LCsy"
      },
      "execution_count": 123,
      "outputs": []
    },
    {
      "cell_type": "code",
      "source": [
        "x_test.loc[x_test['환불금액']>0,'환불여부']=1"
      ],
      "metadata": {
        "id": "qDdgZRrLLNON"
      },
      "execution_count": 124,
      "outputs": []
    },
    {
      "cell_type": "code",
      "source": [
        "x_test.loc[x_test['환불금액']<=0,'환불여부']=0"
      ],
      "metadata": {
        "id": "vlN5VbnYLcmh"
      },
      "execution_count": 125,
      "outputs": []
    },
    {
      "cell_type": "code",
      "source": [
        "print(x_test[['환불금액','환불여부']])"
      ],
      "metadata": {
        "colab": {
          "base_uri": "https://localhost:8080/"
        },
        "id": "m3GQ0zfSLjQA",
        "outputId": "f3e81508-68f0-4e60-cb8c-f6c4ef4b5d37"
      },
      "execution_count": 126,
      "outputs": [
        {
          "output_type": "stream",
          "name": "stdout",
          "text": [
            "            환불금액  환불여부\n",
            "0      4050000.0   1.0\n",
            "1     48034700.0   1.0\n",
            "2     30521000.0   1.0\n",
            "3            0.0   0.0\n",
            "4            0.0   0.0\n",
            "...          ...   ...\n",
            "2477         0.0   0.0\n",
            "2478         0.0   0.0\n",
            "2479         0.0   0.0\n",
            "2480         0.0   0.0\n",
            "2481         0.0   0.0\n",
            "\n",
            "[2482 rows x 2 columns]\n"
          ]
        }
      ]
    },
    {
      "cell_type": "code",
      "source": [
        "x_test.drop(columns='환불금액',inplace=True)"
      ],
      "metadata": {
        "id": "vrUGVrVlLoYa"
      },
      "execution_count": 128,
      "outputs": []
    },
    {
      "cell_type": "code",
      "source": [
        "print(x_test.head())"
      ],
      "metadata": {
        "colab": {
          "base_uri": "https://localhost:8080/"
        },
        "id": "EdhNCHkVL0R4",
        "outputId": "fa825b34-6c01-4bf2-f09c-b0569c2df34a"
      },
      "execution_count": 129,
      "outputs": [
        {
          "output_type": "stream",
          "name": "stdout",
          "text": [
            "        총구매액     최대구매액  주구매상품  주구매지점  내점일수    내점당구매건수    주말방문비율  구매주기  환불여부\n",
            "0   70900400  22000000      3      9    13   1.461538  0.789474    26   1.0\n",
            "1  310533100  38558000      9     19    90   2.433333  0.369863     3   1.0\n",
            "2  305264140  14825000      0      8   101  14.623762  0.083277     3   1.0\n",
            "3    7594080   5225000     32      9     5   2.000000  0.000000    47   0.0\n",
            "4    1795790   1411200     20     22     3   2.666667  0.125000     8   0.0\n"
          ]
        }
      ]
    },
    {
      "cell_type": "code",
      "source": [
        "print(x_train.describe())"
      ],
      "metadata": {
        "colab": {
          "base_uri": "https://localhost:8080/"
        },
        "id": "pRRae6s_L3Jr",
        "outputId": "0fab9a6b-cc92-45a9-adf2-d13a278953f9"
      },
      "execution_count": 130,
      "outputs": [
        {
          "output_type": "stream",
          "name": "stdout",
          "text": [
            "               총구매액         최대구매액        주구매상품        주구매지점         내점일수  \\\n",
            "count  3.500000e+03  3.500000e+03  3500.000000  3500.000000  3500.000000   \n",
            "mean   9.191925e+07  1.966424e+07    14.612000    10.734286    19.253714   \n",
            "std    1.635065e+08  3.199235e+07    13.019947     5.636480    27.174942   \n",
            "min   -5.242152e+07 -2.992000e+06     0.000000     0.000000     1.000000   \n",
            "25%    4.747050e+06  2.875000e+06     5.000000     8.000000     2.000000   \n",
            "50%    2.822270e+07  9.837000e+06     9.000000     9.000000     8.000000   \n",
            "75%    1.065079e+08  2.296250e+07    22.000000    15.000000    25.000000   \n",
            "max    2.323180e+09  7.066290e+08    41.000000    23.000000   285.000000   \n",
            "\n",
            "           내점당구매건수       주말방문비율         구매주기         환불여부  \n",
            "count  3500.000000  3500.000000  3500.000000  3500.000000  \n",
            "mean      2.834963     0.307246    20.958286     0.344286  \n",
            "std       1.912368     0.289752    24.748682     0.475203  \n",
            "min       1.000000     0.000000     0.000000     0.000000  \n",
            "25%       1.666667     0.027291     4.000000     0.000000  \n",
            "50%       2.333333     0.256410    13.000000     0.000000  \n",
            "75%       3.375000     0.448980    28.000000     1.000000  \n",
            "max      22.083333     1.000000   166.000000     1.000000  \n"
          ]
        }
      ]
    },
    {
      "cell_type": "code",
      "source": [
        "from sklearn.preprocessing import StandardScaler"
      ],
      "metadata": {
        "id": "X8e1Jqf1MeiF"
      },
      "execution_count": 131,
      "outputs": []
    },
    {
      "cell_type": "code",
      "source": [
        "scaler = StandardScaler()"
      ],
      "metadata": {
        "id": "kbpXy0sqMuMW"
      },
      "execution_count": 132,
      "outputs": []
    },
    {
      "cell_type": "code",
      "source": [
        "x_train = pd.DataFrame(scaler.fit_transform(x_train),columns=x_train.columns)"
      ],
      "metadata": {
        "id": "Yy6gnn45MwTN"
      },
      "execution_count": 133,
      "outputs": []
    },
    {
      "cell_type": "code",
      "source": [
        "print(x_train.describe())"
      ],
      "metadata": {
        "colab": {
          "base_uri": "https://localhost:8080/"
        },
        "id": "-aRNDC2SM9hE",
        "outputId": "f74d948a-94d8-4ad6-d8ae-01942960596b"
      },
      "execution_count": 134,
      "outputs": [
        {
          "output_type": "stream",
          "name": "stdout",
          "text": [
            "               총구매액         최대구매액         주구매상품         주구매지점          내점일수  \\\n",
            "count  3.500000e+03  3.500000e+03  3.500000e+03  3.500000e+03  3.500000e+03   \n",
            "mean  -3.349701e-17 -4.263256e-17 -6.090366e-17 -8.767590e-17  4.669281e-17   \n",
            "std    1.000143e+00  1.000143e+00  1.000143e+00  1.000143e+00  1.000143e+00   \n",
            "min   -8.829091e-01 -7.082781e-01 -1.122438e+00 -1.904703e+00 -6.718072e-01   \n",
            "25%   -5.332182e-01 -5.248643e-01 -7.383573e-01 -4.851745e-01 -6.350034e-01   \n",
            "50%   -3.896215e-01 -3.072187e-01 -4.310925e-01 -3.077335e-01 -4.141802e-01   \n",
            "75%    8.923657e-02  1.031100e-01  5.675181e-01  7.569129e-01  2.114855e-01   \n",
            "max    1.364826e+01  2.147585e+01  2.027026e+00  2.176441e+00  9.780490e+00   \n",
            "\n",
            "            내점당구매건수        주말방문비율          구매주기          환불여부  \n",
            "count  3.500000e+03  3.500000e+03  3.500000e+03  3.500000e+03  \n",
            "mean  -2.618858e-16  7.917476e-17 -4.263256e-17  1.218073e-17  \n",
            "std    1.000143e+00  1.000143e+00  1.000143e+00  1.000143e+00  \n",
            "min   -9.596611e-01 -1.060530e+00 -8.469655e-01 -7.246064e-01  \n",
            "25%   -6.110034e-01 -9.663293e-01 -6.853177e-01 -7.246064e-01  \n",
            "50%   -2.623457e-01 -1.754721e-01 -3.216100e-01 -7.246064e-01  \n",
            "75%    2.824320e-01  4.892244e-01  2.845695e-01  1.380060e+00  \n",
            "max    1.006664e+01  2.391196e+00  5.861421e+00  1.380060e+00  \n"
          ]
        }
      ]
    },
    {
      "cell_type": "code",
      "source": [
        "x_test = pd.DataFrame(scaler.transform(x_test),columns=x_test.columns)"
      ],
      "metadata": {
        "id": "jy2J7AdjNAZS"
      },
      "execution_count": 135,
      "outputs": []
    },
    {
      "cell_type": "code",
      "source": [
        "print(x_test.describe())"
      ],
      "metadata": {
        "colab": {
          "base_uri": "https://localhost:8080/"
        },
        "id": "Nwm2TO5fNUmb",
        "outputId": "1ff7b9b2-0432-4b58-d1d3-ea2180f34879"
      },
      "execution_count": 136,
      "outputs": [
        {
          "output_type": "stream",
          "name": "stdout",
          "text": [
            "              총구매액        최대구매액        주구매상품        주구매지점         내점일수  \\\n",
            "count  2482.000000  2482.000000  2482.000000  2482.000000  2482.000000   \n",
            "mean      0.055714     0.065845    -0.042926     0.041715     0.009687   \n",
            "std       1.059517     1.095706     0.983605     1.012016     0.955943   \n",
            "min      -0.791270    -1.785189    -1.122438    -1.904703    -0.671807   \n",
            "25%      -0.531201    -0.524572    -0.738357    -0.485175    -0.635003   \n",
            "50%      -0.375588    -0.278598    -0.431093    -0.307733    -0.377376   \n",
            "75%       0.211069     0.206728     0.567518     1.067435     0.275892   \n",
            "max      16.939470    17.930622     2.027026     2.176441     7.461847   \n",
            "\n",
            "           내점당구매건수       주말방문비율         구매주기         환불여부  \n",
            "count  2482.000000  2482.000000  2482.000000  2482.000000  \n",
            "mean     -0.008146    -0.046372    -0.027166     0.013977  \n",
            "std       0.917606     0.975457     0.974282     1.004675  \n",
            "min      -0.959661    -1.060530    -0.846966    -0.724606  \n",
            "25%      -0.567421    -0.979567    -0.685318    -0.724606  \n",
            "50%      -0.211292    -0.197599    -0.321610    -0.724606  \n",
            "75%       0.282432     0.401503     0.244158     1.380060  \n",
            "max       6.819764     2.391196     6.305952     1.380060  \n"
          ]
        }
      ]
    },
    {
      "cell_type": "code",
      "source": [
        "print(x_train.corr())"
      ],
      "metadata": {
        "colab": {
          "base_uri": "https://localhost:8080/"
        },
        "id": "6LOrRXaUNX5K",
        "outputId": "0a8dc1f8-c048-4f9f-e184-9be02631948d"
      },
      "execution_count": 137,
      "outputs": [
        {
          "output_type": "stream",
          "name": "stdout",
          "text": [
            "             총구매액     최대구매액     주구매상품     주구매지점      내점일수   내점당구매건수    주말방문비율  \\\n",
            "총구매액     1.000000  0.700080 -0.082916 -0.038724  0.659084  0.090022  0.014396   \n",
            "최대구매액    0.700080  1.000000 -0.090729 -0.024819  0.374147  0.018980  0.022277   \n",
            "주구매상품   -0.082916 -0.090729  1.000000  0.015874 -0.185275 -0.274178 -0.010018   \n",
            "주구매지점   -0.038724 -0.024819  0.015874  1.000000 -0.059570 -0.080804  0.011990   \n",
            "내점일수     0.659084  0.374147 -0.185275 -0.059570  1.000000  0.225264 -0.010325   \n",
            "내점당구매건수  0.090022  0.018980 -0.274178 -0.080804  0.225264  1.000000  0.007659   \n",
            "주말방문비율   0.014396  0.022277 -0.010018  0.011990 -0.010325  0.007659  1.000000   \n",
            "구매주기    -0.212944 -0.115837  0.032469  0.035344 -0.293200 -0.091151  0.003372   \n",
            "환불여부     0.403357  0.330687 -0.121414 -0.061974  0.498958  0.063000 -0.008775   \n",
            "\n",
            "             구매주기      환불여부  \n",
            "총구매액    -0.212944  0.403357  \n",
            "최대구매액   -0.115837  0.330687  \n",
            "주구매상품    0.032469 -0.121414  \n",
            "주구매지점    0.035344 -0.061974  \n",
            "내점일수    -0.293200  0.498958  \n",
            "내점당구매건수 -0.091151  0.063000  \n",
            "주말방문비율   0.003372 -0.008775  \n",
            "구매주기     1.000000 -0.204851  \n",
            "환불여부    -0.204851  1.000000  \n"
          ]
        }
      ]
    },
    {
      "cell_type": "code",
      "source": [
        "x_train.drop(columns=['최대구매액','내점일수'],inplace=True)"
      ],
      "metadata": {
        "id": "vIp_a4muNjO5"
      },
      "execution_count": 139,
      "outputs": []
    },
    {
      "cell_type": "code",
      "source": [
        "x_test.drop(columns=['최대구매액','내점일수'],inplace=True)"
      ],
      "metadata": {
        "id": "nc3CIA-9OGwt"
      },
      "execution_count": 141,
      "outputs": []
    },
    {
      "cell_type": "code",
      "source": [
        "from sklearn.tree import DecisionTreeClassifier"
      ],
      "metadata": {
        "id": "3HfkhF_nOUvE"
      },
      "execution_count": 145,
      "outputs": []
    },
    {
      "cell_type": "code",
      "source": [
        "model = DecisionTreeClassifier(max_depth=10,criterion='entropy')"
      ],
      "metadata": {
        "id": "EbLBgH17OmZM"
      },
      "execution_count": 150,
      "outputs": []
    },
    {
      "cell_type": "code",
      "source": [
        "model.fit(x_train,y_train)"
      ],
      "metadata": {
        "colab": {
          "base_uri": "https://localhost:8080/"
        },
        "id": "zjAUUiI2Oukk",
        "outputId": "b3cb666b-ceb7-41c7-9347-a11a12d343b9"
      },
      "execution_count": 151,
      "outputs": [
        {
          "output_type": "execute_result",
          "data": {
            "text/plain": [
              "DecisionTreeClassifier(criterion='entropy', max_depth=10)"
            ]
          },
          "metadata": {},
          "execution_count": 151
        }
      ]
    },
    {
      "cell_type": "code",
      "source": [
        "y_test_predicted = model.predict(x_test)"
      ],
      "metadata": {
        "id": "gA3NJO8MO8-U"
      },
      "execution_count": 152,
      "outputs": []
    },
    {
      "cell_type": "code",
      "source": [
        "print(pd.DataFrame(y_test_predicted))"
      ],
      "metadata": {
        "colab": {
          "base_uri": "https://localhost:8080/"
        },
        "id": "aDxexbNwPDYI",
        "outputId": "5af03adc-129c-4a35-8775-f631d2e79ad9"
      },
      "execution_count": 155,
      "outputs": [
        {
          "output_type": "stream",
          "name": "stdout",
          "text": [
            "      0\n",
            "0     1\n",
            "1     0\n",
            "2     0\n",
            "3     0\n",
            "4     1\n",
            "...  ..\n",
            "2477  1\n",
            "2478  1\n",
            "2479  0\n",
            "2480  1\n",
            "2481  0\n",
            "\n",
            "[2482 rows x 1 columns]\n"
          ]
        }
      ]
    },
    {
      "cell_type": "code",
      "source": [
        "y_test_proba = model.predict_proba(x_test)"
      ],
      "metadata": {
        "id": "8C-FwDqhPGvW"
      },
      "execution_count": 165,
      "outputs": []
    },
    {
      "cell_type": "code",
      "source": [
        "print(pd.DataFrame(y_test_proba).head())"
      ],
      "metadata": {
        "colab": {
          "base_uri": "https://localhost:8080/"
        },
        "id": "hfpopMf-P5E-",
        "outputId": "b68d8a57-06d1-46d1-d9d6-507e3629cf49"
      },
      "execution_count": 166,
      "outputs": [
        {
          "output_type": "stream",
          "name": "stdout",
          "text": [
            "          0         1\n",
            "0  0.333333  0.666667\n",
            "1  0.809668  0.190332\n",
            "2  1.000000  0.000000\n",
            "3  0.567976  0.432024\n",
            "4  0.491409  0.508591\n"
          ]
        }
      ]
    },
    {
      "cell_type": "code",
      "source": [
        "result = pd.DataFrame(y_test_proba)[1]"
      ],
      "metadata": {
        "id": "x2HIY1kLP7ta"
      },
      "execution_count": 160,
      "outputs": []
    },
    {
      "cell_type": "code",
      "source": [
        "print(result)"
      ],
      "metadata": {
        "colab": {
          "base_uri": "https://localhost:8080/"
        },
        "id": "c1atMZ32QHz2",
        "outputId": "76c7c4a5-2afe-4f3c-82b5-b8a932dbd4a1"
      },
      "execution_count": 161,
      "outputs": [
        {
          "output_type": "stream",
          "name": "stdout",
          "text": [
            "0       0.666667\n",
            "1       0.190332\n",
            "2       0.000000\n",
            "3       0.432024\n",
            "4       0.508591\n",
            "          ...   \n",
            "2477    1.000000\n",
            "2478    0.508591\n",
            "2479    0.000000\n",
            "2480    0.583333\n",
            "2481    0.448718\n",
            "Name: 1, Length: 2482, dtype: float64\n"
          ]
        }
      ]
    },
    {
      "cell_type": "code",
      "source": [
        "y_train_predicted = model.predict(x_train)"
      ],
      "metadata": {
        "id": "Ok9uemsKQJiC"
      },
      "execution_count": 162,
      "outputs": []
    },
    {
      "cell_type": "code",
      "source": [
        "from sklearn.metrics import roc_auc_score"
      ],
      "metadata": {
        "id": "4Z0IxyqrQe5_"
      },
      "execution_count": 163,
      "outputs": []
    },
    {
      "cell_type": "code",
      "source": [
        "print(roc_auc_score(y_train,y_train_predicted))"
      ],
      "metadata": {
        "colab": {
          "base_uri": "https://localhost:8080/"
        },
        "id": "qsCZVw1QQkCR",
        "outputId": "527ddd9d-2ff4-49fe-ff1c-d4dada2b921f"
      },
      "execution_count": 164,
      "outputs": [
        {
          "output_type": "stream",
          "name": "stdout",
          "text": [
            "0.7121522094926351\n"
          ]
        }
      ]
    },
    {
      "cell_type": "code",
      "source": [
        "pd.concat([x_test_cust_id,result],axis=1).rename(columns={1:'gender'})"
      ],
      "metadata": {
        "colab": {
          "base_uri": "https://localhost:8080/",
          "height": 424
        },
        "id": "3DeKmnTwQo51",
        "outputId": "c79b7005-ea0e-462b-8488-10e92356f0fa"
      },
      "execution_count": 168,
      "outputs": [
        {
          "output_type": "execute_result",
          "data": {
            "text/plain": [
              "      cust_id    gender\n",
              "0        3500  0.666667\n",
              "1        3501  0.190332\n",
              "2        3502  0.000000\n",
              "3        3503  0.432024\n",
              "4        3504  0.508591\n",
              "...       ...       ...\n",
              "2477     5977  1.000000\n",
              "2478     5978  0.508591\n",
              "2479     5979  0.000000\n",
              "2480     5980  0.583333\n",
              "2481     5981  0.448718\n",
              "\n",
              "[2482 rows x 2 columns]"
            ],
            "text/html": [
              "\n",
              "  <div id=\"df-ba84f475-9aae-4410-aba9-8bf420e6d590\">\n",
              "    <div class=\"colab-df-container\">\n",
              "      <div>\n",
              "<style scoped>\n",
              "    .dataframe tbody tr th:only-of-type {\n",
              "        vertical-align: middle;\n",
              "    }\n",
              "\n",
              "    .dataframe tbody tr th {\n",
              "        vertical-align: top;\n",
              "    }\n",
              "\n",
              "    .dataframe thead th {\n",
              "        text-align: right;\n",
              "    }\n",
              "</style>\n",
              "<table border=\"1\" class=\"dataframe\">\n",
              "  <thead>\n",
              "    <tr style=\"text-align: right;\">\n",
              "      <th></th>\n",
              "      <th>cust_id</th>\n",
              "      <th>gender</th>\n",
              "    </tr>\n",
              "  </thead>\n",
              "  <tbody>\n",
              "    <tr>\n",
              "      <th>0</th>\n",
              "      <td>3500</td>\n",
              "      <td>0.666667</td>\n",
              "    </tr>\n",
              "    <tr>\n",
              "      <th>1</th>\n",
              "      <td>3501</td>\n",
              "      <td>0.190332</td>\n",
              "    </tr>\n",
              "    <tr>\n",
              "      <th>2</th>\n",
              "      <td>3502</td>\n",
              "      <td>0.000000</td>\n",
              "    </tr>\n",
              "    <tr>\n",
              "      <th>3</th>\n",
              "      <td>3503</td>\n",
              "      <td>0.432024</td>\n",
              "    </tr>\n",
              "    <tr>\n",
              "      <th>4</th>\n",
              "      <td>3504</td>\n",
              "      <td>0.508591</td>\n",
              "    </tr>\n",
              "    <tr>\n",
              "      <th>...</th>\n",
              "      <td>...</td>\n",
              "      <td>...</td>\n",
              "    </tr>\n",
              "    <tr>\n",
              "      <th>2477</th>\n",
              "      <td>5977</td>\n",
              "      <td>1.000000</td>\n",
              "    </tr>\n",
              "    <tr>\n",
              "      <th>2478</th>\n",
              "      <td>5978</td>\n",
              "      <td>0.508591</td>\n",
              "    </tr>\n",
              "    <tr>\n",
              "      <th>2479</th>\n",
              "      <td>5979</td>\n",
              "      <td>0.000000</td>\n",
              "    </tr>\n",
              "    <tr>\n",
              "      <th>2480</th>\n",
              "      <td>5980</td>\n",
              "      <td>0.583333</td>\n",
              "    </tr>\n",
              "    <tr>\n",
              "      <th>2481</th>\n",
              "      <td>5981</td>\n",
              "      <td>0.448718</td>\n",
              "    </tr>\n",
              "  </tbody>\n",
              "</table>\n",
              "<p>2482 rows × 2 columns</p>\n",
              "</div>\n",
              "      <button class=\"colab-df-convert\" onclick=\"convertToInteractive('df-ba84f475-9aae-4410-aba9-8bf420e6d590')\"\n",
              "              title=\"Convert this dataframe to an interactive table.\"\n",
              "              style=\"display:none;\">\n",
              "        \n",
              "  <svg xmlns=\"http://www.w3.org/2000/svg\" height=\"24px\"viewBox=\"0 0 24 24\"\n",
              "       width=\"24px\">\n",
              "    <path d=\"M0 0h24v24H0V0z\" fill=\"none\"/>\n",
              "    <path d=\"M18.56 5.44l.94 2.06.94-2.06 2.06-.94-2.06-.94-.94-2.06-.94 2.06-2.06.94zm-11 1L8.5 8.5l.94-2.06 2.06-.94-2.06-.94L8.5 2.5l-.94 2.06-2.06.94zm10 10l.94 2.06.94-2.06 2.06-.94-2.06-.94-.94-2.06-.94 2.06-2.06.94z\"/><path d=\"M17.41 7.96l-1.37-1.37c-.4-.4-.92-.59-1.43-.59-.52 0-1.04.2-1.43.59L10.3 9.45l-7.72 7.72c-.78.78-.78 2.05 0 2.83L4 21.41c.39.39.9.59 1.41.59.51 0 1.02-.2 1.41-.59l7.78-7.78 2.81-2.81c.8-.78.8-2.07 0-2.86zM5.41 20L4 18.59l7.72-7.72 1.47 1.35L5.41 20z\"/>\n",
              "  </svg>\n",
              "      </button>\n",
              "      \n",
              "  <style>\n",
              "    .colab-df-container {\n",
              "      display:flex;\n",
              "      flex-wrap:wrap;\n",
              "      gap: 12px;\n",
              "    }\n",
              "\n",
              "    .colab-df-convert {\n",
              "      background-color: #E8F0FE;\n",
              "      border: none;\n",
              "      border-radius: 50%;\n",
              "      cursor: pointer;\n",
              "      display: none;\n",
              "      fill: #1967D2;\n",
              "      height: 32px;\n",
              "      padding: 0 0 0 0;\n",
              "      width: 32px;\n",
              "    }\n",
              "\n",
              "    .colab-df-convert:hover {\n",
              "      background-color: #E2EBFA;\n",
              "      box-shadow: 0px 1px 2px rgba(60, 64, 67, 0.3), 0px 1px 3px 1px rgba(60, 64, 67, 0.15);\n",
              "      fill: #174EA6;\n",
              "    }\n",
              "\n",
              "    [theme=dark] .colab-df-convert {\n",
              "      background-color: #3B4455;\n",
              "      fill: #D2E3FC;\n",
              "    }\n",
              "\n",
              "    [theme=dark] .colab-df-convert:hover {\n",
              "      background-color: #434B5C;\n",
              "      box-shadow: 0px 1px 3px 1px rgba(0, 0, 0, 0.15);\n",
              "      filter: drop-shadow(0px 1px 2px rgba(0, 0, 0, 0.3));\n",
              "      fill: #FFFFFF;\n",
              "    }\n",
              "  </style>\n",
              "\n",
              "      <script>\n",
              "        const buttonEl =\n",
              "          document.querySelector('#df-ba84f475-9aae-4410-aba9-8bf420e6d590 button.colab-df-convert');\n",
              "        buttonEl.style.display =\n",
              "          google.colab.kernel.accessAllowed ? 'block' : 'none';\n",
              "\n",
              "        async function convertToInteractive(key) {\n",
              "          const element = document.querySelector('#df-ba84f475-9aae-4410-aba9-8bf420e6d590');\n",
              "          const dataTable =\n",
              "            await google.colab.kernel.invokeFunction('convertToInteractive',\n",
              "                                                     [key], {});\n",
              "          if (!dataTable) return;\n",
              "\n",
              "          const docLinkHtml = 'Like what you see? Visit the ' +\n",
              "            '<a target=\"_blank\" href=https://colab.research.google.com/notebooks/data_table.ipynb>data table notebook</a>'\n",
              "            + ' to learn more about interactive tables.';\n",
              "          element.innerHTML = '';\n",
              "          dataTable['output_type'] = 'display_data';\n",
              "          await google.colab.output.renderOutput(dataTable, element);\n",
              "          const docLink = document.createElement('div');\n",
              "          docLink.innerHTML = docLinkHtml;\n",
              "          element.appendChild(docLink);\n",
              "        }\n",
              "      </script>\n",
              "    </div>\n",
              "  </div>\n",
              "  "
            ]
          },
          "metadata": {},
          "execution_count": 168
        }
      ]
    },
    {
      "cell_type": "code",
      "source": [
        "final = pd.concat([x_test_cust_id,result],axis=1).rename(columns={1:'gender'})"
      ],
      "metadata": {
        "id": "0oioOmc0RkSw"
      },
      "execution_count": 169,
      "outputs": []
    },
    {
      "cell_type": "code",
      "source": [
        "final.to_csv('12345.csv',index=False)"
      ],
      "metadata": {
        "id": "WqWxJn33R8iZ"
      },
      "execution_count": 173,
      "outputs": []
    },
    {
      "cell_type": "code",
      "source": [
        "final = pd.read_csv('12345.csv')"
      ],
      "metadata": {
        "id": "q--sZpL_SHig"
      },
      "execution_count": 174,
      "outputs": []
    },
    {
      "cell_type": "code",
      "source": [
        "print(final)"
      ],
      "metadata": {
        "colab": {
          "base_uri": "https://localhost:8080/"
        },
        "id": "kGxtAzbvSSDH",
        "outputId": "31b0fb82-685e-4d6d-d500-a8febdfadb44"
      },
      "execution_count": 175,
      "outputs": [
        {
          "output_type": "stream",
          "name": "stdout",
          "text": [
            "      cust_id    gender\n",
            "0        3500  0.666667\n",
            "1        3501  0.190332\n",
            "2        3502  0.000000\n",
            "3        3503  0.432024\n",
            "4        3504  0.508591\n",
            "...       ...       ...\n",
            "2477     5977  1.000000\n",
            "2478     5978  0.508591\n",
            "2479     5979  0.000000\n",
            "2480     5980  0.583333\n",
            "2481     5981  0.448718\n",
            "\n",
            "[2482 rows x 2 columns]\n"
          ]
        }
      ]
    },
    {
      "cell_type": "code",
      "source": [],
      "metadata": {
        "id": "2ZHn42jZSl5z"
      },
      "execution_count": null,
      "outputs": []
    },
    {
      "cell_type": "code",
      "source": [],
      "metadata": {
        "id": "q0sm6i8G3k3l"
      },
      "execution_count": null,
      "outputs": []
    },
    {
      "cell_type": "code",
      "source": [
        "!git clone https://github.com/7ieon/bigData"
      ],
      "metadata": {
        "colab": {
          "base_uri": "https://localhost:8080/"
        },
        "id": "zenW43-D3kr1",
        "outputId": "d03b4208-c35d-4344-c715-bc7bff70793a"
      },
      "execution_count": 1,
      "outputs": [
        {
          "output_type": "stream",
          "name": "stdout",
          "text": [
            "Cloning into 'bigData'...\n",
            "remote: Enumerating objects: 13, done.\u001b[K\n",
            "remote: Counting objects: 100% (13/13), done.\u001b[K\n",
            "remote: Compressing objects: 100% (13/13), done.\u001b[K\n",
            "remote: Total 13 (delta 0), reused 0 (delta 0), pack-reused 0\u001b[K\n",
            "Unpacking objects: 100% (13/13), done.\n"
          ]
        }
      ]
    },
    {
      "cell_type": "code",
      "source": [
        "import pandas as pd"
      ],
      "metadata": {
        "id": "UJCGTTLa3lPI"
      },
      "execution_count": 114,
      "outputs": []
    },
    {
      "cell_type": "code",
      "source": [
        "x_train = pd.read_csv('/content/bigData/titanic_x_train.csv',encoding='CP949')"
      ],
      "metadata": {
        "id": "v9C3Vc413m7C"
      },
      "execution_count": 159,
      "outputs": []
    },
    {
      "cell_type": "code",
      "source": [
        "x_test = pd.read_csv('/content/bigData/titanic_x_test.csv',encoding='CP949')"
      ],
      "metadata": {
        "id": "cB1eJaXy41AE"
      },
      "execution_count": 160,
      "outputs": []
    },
    {
      "cell_type": "code",
      "source": [
        "y_train = pd.read_csv('/content/bigData/titanic_y_train.csv')"
      ],
      "metadata": {
        "id": "cYXJ3b8V5JlW"
      },
      "execution_count": 161,
      "outputs": []
    },
    {
      "cell_type": "code",
      "source": [
        "print(x_train.head())"
      ],
      "metadata": {
        "colab": {
          "base_uri": "https://localhost:8080/"
        },
        "id": "jh-TapoX5Pr4",
        "outputId": "8e6657b8-182f-4c40-e263-06b92e39ad79"
      },
      "execution_count": 162,
      "outputs": [
        {
          "output_type": "stream",
          "name": "stdout",
          "text": [
            "   PassengerId  티켓등급                                               승객이름  \\\n",
            "0            1     3                            Braund, Mr. Owen Harris   \n",
            "1            2     1  Cumings, Mrs. John Bradley (Florence Briggs Th...   \n",
            "2            3     3                             Heikkinen, Miss. Laina   \n",
            "3            4     1       Futrelle, Mrs. Jacques Heath (Lily May Peel)   \n",
            "4            5     3                           Allen, Mr. William Henry   \n",
            "\n",
            "       성별    나이  형제자매배우자수  부모자식수              티켓번호     운임요금  객실번호 선착장  \n",
            "0    male  22.0         1      0         A/5 21171   7.2500   NaN   S  \n",
            "1  female  38.0         1      0          PC 17599  71.2833   C85   C  \n",
            "2  female  26.0         0      0  STON/O2. 3101282   7.9250   NaN   S  \n",
            "3  female  35.0         1      0            113803  53.1000  C123   S  \n",
            "4    male  35.0         0      0            373450   8.0500   NaN   S  \n"
          ]
        }
      ]
    },
    {
      "cell_type": "code",
      "source": [
        "print(y_train)"
      ],
      "metadata": {
        "colab": {
          "base_uri": "https://localhost:8080/"
        },
        "id": "64pzQ7ZH5UX6",
        "outputId": "5926d7c9-b773-4f2f-9a8f-f3a49d8056f3"
      },
      "execution_count": 163,
      "outputs": [
        {
          "output_type": "stream",
          "name": "stdout",
          "text": [
            "     PassengerId  Survived\n",
            "0              1         0\n",
            "1              2         1\n",
            "2              3         1\n",
            "3              4         1\n",
            "4              5         0\n",
            "..           ...       ...\n",
            "886          887         0\n",
            "887          888         1\n",
            "888          889         0\n",
            "889          890         1\n",
            "890          891         0\n",
            "\n",
            "[891 rows x 2 columns]\n"
          ]
        }
      ]
    },
    {
      "cell_type": "code",
      "source": [
        "print(x_train.shape)"
      ],
      "metadata": {
        "colab": {
          "base_uri": "https://localhost:8080/"
        },
        "id": "V9kd93L_5ao2",
        "outputId": "9632842d-f994-4bb4-9289-a52db136ce87"
      },
      "execution_count": 164,
      "outputs": [
        {
          "output_type": "stream",
          "name": "stdout",
          "text": [
            "(891, 11)\n"
          ]
        }
      ]
    },
    {
      "cell_type": "code",
      "source": [
        "print(x_test.shape)"
      ],
      "metadata": {
        "colab": {
          "base_uri": "https://localhost:8080/"
        },
        "id": "nobuA69x5p7T",
        "outputId": "3d5c61e2-e7b5-4b8f-9173-b7b6cb1679f3"
      },
      "execution_count": 165,
      "outputs": [
        {
          "output_type": "stream",
          "name": "stdout",
          "text": [
            "(418, 11)\n"
          ]
        }
      ]
    },
    {
      "cell_type": "code",
      "source": [
        "print(y_train.shape)"
      ],
      "metadata": {
        "colab": {
          "base_uri": "https://localhost:8080/"
        },
        "id": "b1ilDzHA5svo",
        "outputId": "23e7e788-34f2-4e15-90b0-25ff4e15b5ef"
      },
      "execution_count": 166,
      "outputs": [
        {
          "output_type": "stream",
          "name": "stdout",
          "text": [
            "(891, 2)\n"
          ]
        }
      ]
    },
    {
      "cell_type": "code",
      "source": [
        "print(x_train.info())"
      ],
      "metadata": {
        "colab": {
          "base_uri": "https://localhost:8080/"
        },
        "id": "WHczaNMu5uUm",
        "outputId": "fe321ce3-28b8-46af-bc09-aea8c672edef"
      },
      "execution_count": 167,
      "outputs": [
        {
          "output_type": "stream",
          "name": "stdout",
          "text": [
            "<class 'pandas.core.frame.DataFrame'>\n",
            "RangeIndex: 891 entries, 0 to 890\n",
            "Data columns (total 11 columns):\n",
            " #   Column       Non-Null Count  Dtype  \n",
            "---  ------       --------------  -----  \n",
            " 0   PassengerId  891 non-null    int64  \n",
            " 1   티켓등급         891 non-null    int64  \n",
            " 2   승객이름         891 non-null    object \n",
            " 3   성별           891 non-null    object \n",
            " 4   나이           714 non-null    float64\n",
            " 5   형제자매배우자수     891 non-null    int64  \n",
            " 6   부모자식수        891 non-null    int64  \n",
            " 7   티켓번호         891 non-null    object \n",
            " 8   운임요금         891 non-null    float64\n",
            " 9   객실번호         204 non-null    object \n",
            " 10  선착장          889 non-null    object \n",
            "dtypes: float64(2), int64(4), object(5)\n",
            "memory usage: 76.7+ KB\n",
            "None\n"
          ]
        }
      ]
    },
    {
      "cell_type": "code",
      "source": [
        "print(x_train['승객이름'].unique().size)"
      ],
      "metadata": {
        "colab": {
          "base_uri": "https://localhost:8080/"
        },
        "id": "23tfnJVD53L-",
        "outputId": "79707ad0-df5b-46b2-f341-067f7110d9b7"
      },
      "execution_count": 168,
      "outputs": [
        {
          "output_type": "stream",
          "name": "stdout",
          "text": [
            "891\n"
          ]
        }
      ]
    },
    {
      "cell_type": "code",
      "source": [
        "print(x_train['성별'].unique().size)"
      ],
      "metadata": {
        "colab": {
          "base_uri": "https://localhost:8080/"
        },
        "id": "Kq-DcFbR6Dxc",
        "outputId": "4381a3de-17a2-4ae2-c788-c531988e9f83"
      },
      "execution_count": 169,
      "outputs": [
        {
          "output_type": "stream",
          "name": "stdout",
          "text": [
            "2\n"
          ]
        }
      ]
    },
    {
      "cell_type": "code",
      "source": [
        "print(x_train['티켓번호'].unique().size)"
      ],
      "metadata": {
        "colab": {
          "base_uri": "https://localhost:8080/"
        },
        "id": "vHESn1Ot6I0l",
        "outputId": "2387ae8f-46fb-4432-8f66-1d8a30301ff1"
      },
      "execution_count": 170,
      "outputs": [
        {
          "output_type": "stream",
          "name": "stdout",
          "text": [
            "681\n"
          ]
        }
      ]
    },
    {
      "cell_type": "code",
      "source": [
        "print(x_train['선착장'].unique().size)"
      ],
      "metadata": {
        "colab": {
          "base_uri": "https://localhost:8080/"
        },
        "id": "gGqOgerL6Rni",
        "outputId": "e8318391-2642-479e-e49c-59ece2a7a60e"
      },
      "execution_count": 171,
      "outputs": [
        {
          "output_type": "stream",
          "name": "stdout",
          "text": [
            "4\n"
          ]
        }
      ]
    },
    {
      "cell_type": "code",
      "source": [
        "print(x_train.describe())"
      ],
      "metadata": {
        "colab": {
          "base_uri": "https://localhost:8080/"
        },
        "id": "gkqoNLUT6ZPn",
        "outputId": "176815c8-a658-4d66-88de-acab6f0e1f3a"
      },
      "execution_count": 172,
      "outputs": [
        {
          "output_type": "stream",
          "name": "stdout",
          "text": [
            "       PassengerId        티켓등급          나이    형제자매배우자수       부모자식수        운임요금\n",
            "count   891.000000  891.000000  714.000000  891.000000  891.000000  891.000000\n",
            "mean    446.000000    2.308642   29.699118    0.523008    0.381594   32.204208\n",
            "std     257.353842    0.836071   14.526497    1.102743    0.806057   49.693429\n",
            "min       1.000000    1.000000    0.420000    0.000000    0.000000    0.000000\n",
            "25%     223.500000    2.000000   20.125000    0.000000    0.000000    7.910400\n",
            "50%     446.000000    3.000000   28.000000    0.000000    0.000000   14.454200\n",
            "75%     668.500000    3.000000   38.000000    1.000000    0.000000   31.000000\n",
            "max     891.000000    3.000000   80.000000    8.000000    6.000000  512.329200\n"
          ]
        }
      ]
    },
    {
      "cell_type": "code",
      "source": [
        "data = pd.concat([x_train,y_train],axis=1)"
      ],
      "metadata": {
        "id": "mpc1kem06t7s"
      },
      "execution_count": 173,
      "outputs": []
    },
    {
      "cell_type": "code",
      "source": [
        "print(data.groupby(['성별'])['Survived'].mean())"
      ],
      "metadata": {
        "colab": {
          "base_uri": "https://localhost:8080/"
        },
        "id": "Mr2etcQS6l03",
        "outputId": "b53e8e99-c4eb-4c83-e0d0-55b54ed02137"
      },
      "execution_count": 174,
      "outputs": [
        {
          "output_type": "stream",
          "name": "stdout",
          "text": [
            "성별\n",
            "female    0.742038\n",
            "male      0.188908\n",
            "Name: Survived, dtype: float64\n"
          ]
        }
      ]
    },
    {
      "cell_type": "code",
      "source": [
        "print(data.groupby(['티켓등급'])['Survived'].mean())"
      ],
      "metadata": {
        "colab": {
          "base_uri": "https://localhost:8080/"
        },
        "id": "pe2ZwaEA66-R",
        "outputId": "d06c1636-882d-49eb-de6e-70071bb25b8f"
      },
      "execution_count": 175,
      "outputs": [
        {
          "output_type": "stream",
          "name": "stdout",
          "text": [
            "티켓등급\n",
            "1    0.629630\n",
            "2    0.472826\n",
            "3    0.242363\n",
            "Name: Survived, dtype: float64\n"
          ]
        }
      ]
    },
    {
      "cell_type": "code",
      "source": [
        "print(data.groupby(['선착장'])['Survived'].mean())"
      ],
      "metadata": {
        "colab": {
          "base_uri": "https://localhost:8080/"
        },
        "id": "WifpAKqX7ZWi",
        "outputId": "1e96abf1-fc9c-4e64-f0db-edfba1e9090a"
      },
      "execution_count": 176,
      "outputs": [
        {
          "output_type": "stream",
          "name": "stdout",
          "text": [
            "선착장\n",
            "C    0.553571\n",
            "Q    0.389610\n",
            "S    0.336957\n",
            "Name: Survived, dtype: float64\n"
          ]
        }
      ]
    },
    {
      "cell_type": "code",
      "source": [
        "x_test_pass_id = x_test['PassengerId']"
      ],
      "metadata": {
        "id": "_ulqkpfw7msX"
      },
      "execution_count": 177,
      "outputs": []
    },
    {
      "cell_type": "code",
      "source": [
        "x_train.drop(columns=['PassengerId','티켓번호','승객이름'],inplace=True)"
      ],
      "metadata": {
        "id": "lAzhAgvH76yj"
      },
      "execution_count": 178,
      "outputs": []
    },
    {
      "cell_type": "code",
      "source": [
        "x_test.drop(columns=['PassengerId','티켓번호','승객이름'],inplace=True)"
      ],
      "metadata": {
        "id": "WSplDHJg8LSL"
      },
      "execution_count": 179,
      "outputs": []
    },
    {
      "cell_type": "code",
      "source": [
        "y_train.drop(columns=['PassengerId'],inplace=True)"
      ],
      "metadata": {
        "id": "XWYWC9Jm8WtE"
      },
      "execution_count": 180,
      "outputs": []
    },
    {
      "cell_type": "code",
      "source": [
        "print(x_train.info())"
      ],
      "metadata": {
        "colab": {
          "base_uri": "https://localhost:8080/"
        },
        "id": "CUR5G0QG8hCg",
        "outputId": "7c4640cd-fbab-4ef5-afba-79d7be115c1e"
      },
      "execution_count": 181,
      "outputs": [
        {
          "output_type": "stream",
          "name": "stdout",
          "text": [
            "<class 'pandas.core.frame.DataFrame'>\n",
            "RangeIndex: 891 entries, 0 to 890\n",
            "Data columns (total 8 columns):\n",
            " #   Column    Non-Null Count  Dtype  \n",
            "---  ------    --------------  -----  \n",
            " 0   티켓등급      891 non-null    int64  \n",
            " 1   성별        891 non-null    object \n",
            " 2   나이        714 non-null    float64\n",
            " 3   형제자매배우자수  891 non-null    int64  \n",
            " 4   부모자식수     891 non-null    int64  \n",
            " 5   운임요금      891 non-null    float64\n",
            " 6   객실번호      204 non-null    object \n",
            " 7   선착장       889 non-null    object \n",
            "dtypes: float64(2), int64(3), object(3)\n",
            "memory usage: 55.8+ KB\n",
            "None\n"
          ]
        }
      ]
    },
    {
      "cell_type": "code",
      "source": [
        "print(data.corr())"
      ],
      "metadata": {
        "colab": {
          "base_uri": "https://localhost:8080/"
        },
        "id": "sIBot_lR8obD",
        "outputId": "c8e267f4-3f87-46bd-8dd6-c3f42a87f3bc"
      },
      "execution_count": 182,
      "outputs": [
        {
          "output_type": "stream",
          "name": "stdout",
          "text": [
            "             PassengerId      티켓등급        나이  형제자매배우자수     부모자식수      운임요금  \\\n",
            "PassengerId     1.000000 -0.035144  0.036847 -0.057527 -0.001652  0.012658   \n",
            "티켓등급           -0.035144  1.000000 -0.369226  0.083081  0.018443 -0.549500   \n",
            "나이              0.036847 -0.369226  1.000000 -0.308247 -0.189119  0.096067   \n",
            "형제자매배우자수       -0.057527  0.083081 -0.308247  1.000000  0.414838  0.159651   \n",
            "부모자식수          -0.001652  0.018443 -0.189119  0.414838  1.000000  0.216225   \n",
            "운임요금            0.012658 -0.549500  0.096067  0.159651  0.216225  1.000000   \n",
            "PassengerId     1.000000 -0.035144  0.036847 -0.057527 -0.001652  0.012658   \n",
            "Survived       -0.005007 -0.338481 -0.077221 -0.035322  0.081629  0.257307   \n",
            "\n",
            "             PassengerId  Survived  \n",
            "PassengerId     1.000000 -0.005007  \n",
            "티켓등급           -0.035144 -0.338481  \n",
            "나이              0.036847 -0.077221  \n",
            "형제자매배우자수       -0.057527 -0.035322  \n",
            "부모자식수          -0.001652  0.081629  \n",
            "운임요금            0.012658  0.257307  \n",
            "PassengerId     1.000000 -0.005007  \n",
            "Survived       -0.005007  1.000000  \n"
          ]
        }
      ]
    },
    {
      "cell_type": "code",
      "source": [
        "x_train.drop(columns=['나이'],inplace=True)"
      ],
      "metadata": {
        "id": "7LmlnOoT8uyl"
      },
      "execution_count": 183,
      "outputs": []
    },
    {
      "cell_type": "code",
      "source": [
        "x_test.drop(columns=['나이'],inplace=True)"
      ],
      "metadata": {
        "id": "xbOIzss585ra"
      },
      "execution_count": 184,
      "outputs": []
    },
    {
      "cell_type": "code",
      "source": [
        "x_train.drop(columns=['객실번호'],inplace=True)"
      ],
      "metadata": {
        "id": "WxamUJ558-WR"
      },
      "execution_count": 185,
      "outputs": []
    },
    {
      "cell_type": "code",
      "source": [
        "x_test.drop(columns=['객실번호'],inplace=True)"
      ],
      "metadata": {
        "id": "u0Sy6CXa9LIN"
      },
      "execution_count": 186,
      "outputs": []
    },
    {
      "cell_type": "code",
      "source": [
        "print(x_train.groupby(['선착장'])['선착장'].count())"
      ],
      "metadata": {
        "colab": {
          "base_uri": "https://localhost:8080/"
        },
        "id": "-6XjFYEm9POU",
        "outputId": "607fc0b8-369e-4606-beb0-f2474f6a42ae"
      },
      "execution_count": 187,
      "outputs": [
        {
          "output_type": "stream",
          "name": "stdout",
          "text": [
            "선착장\n",
            "C    168\n",
            "Q     77\n",
            "S    644\n",
            "Name: 선착장, dtype: int64\n"
          ]
        }
      ]
    },
    {
      "cell_type": "code",
      "source": [
        "x_train['선착장'].fillna('S',inplace=True)"
      ],
      "metadata": {
        "id": "GAJ6AkKY9aMX"
      },
      "execution_count": 188,
      "outputs": []
    },
    {
      "cell_type": "code",
      "source": [
        "x_test['선착장'].fillna('S',inplace=True)"
      ],
      "metadata": {
        "id": "exuxQ30r9odH"
      },
      "execution_count": 189,
      "outputs": []
    },
    {
      "cell_type": "code",
      "source": [
        "x_train['성별'] = x_train['성별'].replace('female',1).replace('male',0)"
      ],
      "metadata": {
        "id": "mkdsMZcH9xyb"
      },
      "execution_count": 190,
      "outputs": []
    },
    {
      "cell_type": "code",
      "source": [
        "x_test['성별'] = x_test['성별'].replace('female',1).replace('male',0)"
      ],
      "metadata": {
        "id": "zEIStfgN-G0p"
      },
      "execution_count": 191,
      "outputs": []
    },
    {
      "cell_type": "code",
      "source": [
        "선착장_dummy = pd.get_dummies(x_train['선착장'],drop_first=True)"
      ],
      "metadata": {
        "id": "aUxj9wJg-P-S"
      },
      "execution_count": 192,
      "outputs": []
    },
    {
      "cell_type": "code",
      "source": [
        "print(선착장_dummy)"
      ],
      "metadata": {
        "colab": {
          "base_uri": "https://localhost:8080/"
        },
        "id": "KSuseimF-y1f",
        "outputId": "929169fc-16bd-42bd-c2a2-49876bdcf2e3"
      },
      "execution_count": 193,
      "outputs": [
        {
          "output_type": "stream",
          "name": "stdout",
          "text": [
            "     Q  S\n",
            "0    0  1\n",
            "1    0  0\n",
            "2    0  1\n",
            "3    0  1\n",
            "4    0  1\n",
            "..  .. ..\n",
            "886  0  1\n",
            "887  0  1\n",
            "888  0  1\n",
            "889  0  0\n",
            "890  1  0\n",
            "\n",
            "[891 rows x 2 columns]\n"
          ]
        }
      ]
    },
    {
      "cell_type": "code",
      "source": [
        "x_train = pd.concat([x_train,선착장_dummy],axis=1)"
      ],
      "metadata": {
        "id": "aPL3AfPP-1sX"
      },
      "execution_count": 194,
      "outputs": []
    },
    {
      "cell_type": "code",
      "source": [
        "x_train.drop(columns=['선착장'],inplace=True)"
      ],
      "metadata": {
        "id": "cShE6QBj_EkT"
      },
      "execution_count": 195,
      "outputs": []
    },
    {
      "cell_type": "code",
      "source": [
        "dummy = pd.get_dummies(x_test['선착장'],drop_first=True)"
      ],
      "metadata": {
        "id": "Hq1jhbNs_MMs"
      },
      "execution_count": 196,
      "outputs": []
    },
    {
      "cell_type": "code",
      "source": [
        "x_test = pd.concat([x_test,dummy],axis=1)"
      ],
      "metadata": {
        "id": "m2WQQACl_aeg"
      },
      "execution_count": 197,
      "outputs": []
    },
    {
      "cell_type": "code",
      "source": [
        "x_test.drop(columns=['선착장'],inplace=True)"
      ],
      "metadata": {
        "id": "shuA-1vd_h4K"
      },
      "execution_count": 198,
      "outputs": []
    },
    {
      "cell_type": "code",
      "source": [
        "print(x_train.head())"
      ],
      "metadata": {
        "colab": {
          "base_uri": "https://localhost:8080/"
        },
        "id": "-ORmiT0p_mnq",
        "outputId": "758ed389-7db6-4873-c167-1811226033fb"
      },
      "execution_count": 199,
      "outputs": [
        {
          "output_type": "stream",
          "name": "stdout",
          "text": [
            "   티켓등급  성별  형제자매배우자수  부모자식수     운임요금  Q  S\n",
            "0     3   0         1      0   7.2500  0  1\n",
            "1     1   1         1      0  71.2833  0  0\n",
            "2     3   1         0      0   7.9250  0  1\n",
            "3     1   1         1      0  53.1000  0  1\n",
            "4     3   0         0      0   8.0500  0  1\n"
          ]
        }
      ]
    },
    {
      "cell_type": "code",
      "source": [
        "print(x_test.head())"
      ],
      "metadata": {
        "colab": {
          "base_uri": "https://localhost:8080/"
        },
        "id": "1di42zTK_oVE",
        "outputId": "f45118d8-75ea-4345-8e5f-1465956999e7"
      },
      "execution_count": 200,
      "outputs": [
        {
          "output_type": "stream",
          "name": "stdout",
          "text": [
            "   티켓등급  성별  형제자매배우자수  부모자식수     운임요금  Q  S\n",
            "0     3   0         0      0   7.8292  1  0\n",
            "1     3   1         1      0   7.0000  0  1\n",
            "2     2   0         0      0   9.6875  1  0\n",
            "3     3   0         0      0   8.6625  0  1\n",
            "4     3   1         1      1  12.2875  0  1\n"
          ]
        }
      ]
    },
    {
      "cell_type": "code",
      "source": [
        "# x_test.rename(columns={'선착장_Q':'Q','선착장_S':'S'},inplace=True)"
      ],
      "metadata": {
        "id": "R7EgQ-V4_p0v"
      },
      "execution_count": 201,
      "outputs": []
    },
    {
      "cell_type": "code",
      "source": [
        "print(x_test.head())"
      ],
      "metadata": {
        "colab": {
          "base_uri": "https://localhost:8080/"
        },
        "id": "Ig2W81nnAEGd",
        "outputId": "cd3db6bf-4f55-4d7d-9cfa-7a281b0bfb6a"
      },
      "execution_count": 202,
      "outputs": [
        {
          "output_type": "stream",
          "name": "stdout",
          "text": [
            "   티켓등급  성별  형제자매배우자수  부모자식수     운임요금  Q  S\n",
            "0     3   0         0      0   7.8292  1  0\n",
            "1     3   1         1      0   7.0000  0  1\n",
            "2     2   0         0      0   9.6875  1  0\n",
            "3     3   0         0      0   8.6625  0  1\n",
            "4     3   1         1      1  12.2875  0  1\n"
          ]
        }
      ]
    },
    {
      "cell_type": "code",
      "source": [
        "x_train['가족수'] = x_train['부모자식수']+x_train['형제자매배우자수']"
      ],
      "metadata": {
        "id": "XHx3wvOwAJIg"
      },
      "execution_count": 203,
      "outputs": []
    },
    {
      "cell_type": "code",
      "source": [
        "x_test['가족수'] = x_test['부모자식수']+x_test['형제자매배우자수']"
      ],
      "metadata": {
        "id": "0L3XTVzeBe28"
      },
      "execution_count": 204,
      "outputs": []
    },
    {
      "cell_type": "code",
      "source": [
        "print(x_train['가족수'])"
      ],
      "metadata": {
        "colab": {
          "base_uri": "https://localhost:8080/"
        },
        "id": "aA4ZIbUUBllC",
        "outputId": "c59f1ec2-6b04-4255-ab44-792d5e5e2d9c"
      },
      "execution_count": 205,
      "outputs": [
        {
          "output_type": "stream",
          "name": "stdout",
          "text": [
            "0      1\n",
            "1      1\n",
            "2      0\n",
            "3      1\n",
            "4      0\n",
            "      ..\n",
            "886    0\n",
            "887    0\n",
            "888    3\n",
            "889    0\n",
            "890    0\n",
            "Name: 가족수, Length: 891, dtype: int64\n"
          ]
        }
      ]
    },
    {
      "cell_type": "code",
      "source": [
        "print(x_test['가족수'])"
      ],
      "metadata": {
        "colab": {
          "base_uri": "https://localhost:8080/"
        },
        "id": "zIq0MQ1jBpHx",
        "outputId": "e97dee9a-b38a-402f-9aa9-92ce90e2eaa1"
      },
      "execution_count": 206,
      "outputs": [
        {
          "output_type": "stream",
          "name": "stdout",
          "text": [
            "0      0\n",
            "1      1\n",
            "2      0\n",
            "3      0\n",
            "4      2\n",
            "      ..\n",
            "413    0\n",
            "414    0\n",
            "415    0\n",
            "416    0\n",
            "417    2\n",
            "Name: 가족수, Length: 418, dtype: int64\n"
          ]
        }
      ]
    },
    {
      "cell_type": "code",
      "source": [
        "x_train.drop(columns=['부모자식수','형제자매배우자수'],inplace=True)"
      ],
      "metadata": {
        "id": "AM7UkLm1BsBK"
      },
      "execution_count": 208,
      "outputs": []
    },
    {
      "cell_type": "code",
      "source": [
        "x_test.drop(columns=['부모자식수','형제자매배우자수'],inplace=True)"
      ],
      "metadata": {
        "id": "c1YU7f7mB171"
      },
      "execution_count": 209,
      "outputs": []
    },
    {
      "cell_type": "code",
      "source": [
        "from sklearn.model_selection import train_test_split"
      ],
      "metadata": {
        "id": "cclqlmsZB-C7"
      },
      "execution_count": 210,
      "outputs": []
    },
    {
      "cell_type": "code",
      "source": [
        "x_train,x_val,y_train,y_val = train_test_split(x_train,y_train,test_size=0.2)"
      ],
      "metadata": {
        "id": "u3Ng1ZaVCNPb"
      },
      "execution_count": 211,
      "outputs": []
    },
    {
      "cell_type": "code",
      "source": [
        "print(x_train.shape)"
      ],
      "metadata": {
        "colab": {
          "base_uri": "https://localhost:8080/"
        },
        "id": "bQTO1G1_CZTB",
        "outputId": "598722ca-fb68-4bcf-b375-7fdea035202e"
      },
      "execution_count": 212,
      "outputs": [
        {
          "output_type": "stream",
          "name": "stdout",
          "text": [
            "(712, 6)\n"
          ]
        }
      ]
    },
    {
      "cell_type": "code",
      "source": [
        "print(y_train.shape)"
      ],
      "metadata": {
        "colab": {
          "base_uri": "https://localhost:8080/"
        },
        "id": "sVMxmEvHCbX-",
        "outputId": "c7984d5b-0732-4f5f-ac50-e546144c9806"
      },
      "execution_count": 213,
      "outputs": [
        {
          "output_type": "stream",
          "name": "stdout",
          "text": [
            "(712, 1)\n"
          ]
        }
      ]
    },
    {
      "cell_type": "code",
      "source": [
        "from xgboost import XGBClassifier"
      ],
      "metadata": {
        "id": "3aF3UV86CdgX"
      },
      "execution_count": 214,
      "outputs": []
    },
    {
      "cell_type": "code",
      "source": [
        "model = XGBClassifier(eval_metric='error')"
      ],
      "metadata": {
        "id": "X9Qm4XSyCkWw"
      },
      "execution_count": 215,
      "outputs": []
    },
    {
      "cell_type": "code",
      "source": [
        "model.fit(x_train,y_train)"
      ],
      "metadata": {
        "colab": {
          "base_uri": "https://localhost:8080/"
        },
        "id": "ns2P7vdnCsGn",
        "outputId": "39664faf-0dd8-4c38-b54e-fc1861406632"
      },
      "execution_count": 216,
      "outputs": [
        {
          "output_type": "stream",
          "name": "stderr",
          "text": [
            "/usr/local/lib/python3.7/dist-packages/sklearn/preprocessing/_label.py:98: DataConversionWarning: A column-vector y was passed when a 1d array was expected. Please change the shape of y to (n_samples, ), for example using ravel().\n",
            "  y = column_or_1d(y, warn=True)\n",
            "/usr/local/lib/python3.7/dist-packages/sklearn/preprocessing/_label.py:133: DataConversionWarning: A column-vector y was passed when a 1d array was expected. Please change the shape of y to (n_samples, ), for example using ravel().\n",
            "  y = column_or_1d(y, warn=True)\n"
          ]
        },
        {
          "output_type": "execute_result",
          "data": {
            "text/plain": [
              "XGBClassifier(eval_metric='error')"
            ]
          },
          "metadata": {},
          "execution_count": 216
        }
      ]
    },
    {
      "cell_type": "code",
      "source": [
        "model = XGBClassifier(n_estimators=100,max_depth=5,eval_metric='error')"
      ],
      "metadata": {
        "id": "0sKTdNnvCumH"
      },
      "execution_count": 217,
      "outputs": []
    },
    {
      "cell_type": "code",
      "source": [
        "model.fit(x_train,y_train)"
      ],
      "metadata": {
        "colab": {
          "base_uri": "https://localhost:8080/"
        },
        "id": "964QSZpJC-O6",
        "outputId": "401447ed-abd9-4fd6-c826-db6431d6e596"
      },
      "execution_count": 218,
      "outputs": [
        {
          "output_type": "execute_result",
          "data": {
            "text/plain": [
              "XGBClassifier(eval_metric='error', max_depth=5)"
            ]
          },
          "metadata": {},
          "execution_count": 218
        }
      ]
    },
    {
      "cell_type": "code",
      "source": [
        "y_test_predicted = pd.DataFrame(model.predict(x_test))"
      ],
      "metadata": {
        "id": "h2cARPvgC_8l"
      },
      "execution_count": 219,
      "outputs": []
    },
    {
      "cell_type": "code",
      "source": [
        "print(y_test_predicted)"
      ],
      "metadata": {
        "colab": {
          "base_uri": "https://localhost:8080/"
        },
        "id": "JEnrq35cDN4v",
        "outputId": "16d46ea5-a3d1-4d5e-8e2b-26c17e07b4b1"
      },
      "execution_count": 220,
      "outputs": [
        {
          "output_type": "stream",
          "name": "stdout",
          "text": [
            "     0\n",
            "0    0\n",
            "1    1\n",
            "2    0\n",
            "3    0\n",
            "4    1\n",
            "..  ..\n",
            "413  0\n",
            "414  1\n",
            "415  0\n",
            "416  0\n",
            "417  0\n",
            "\n",
            "[418 rows x 1 columns]\n"
          ]
        }
      ]
    },
    {
      "cell_type": "code",
      "source": [
        "y_test_predicted.rename(columns={0:'Survived'},inplace=True)"
      ],
      "metadata": {
        "id": "A4OXM7i0DQOz"
      },
      "execution_count": 222,
      "outputs": []
    },
    {
      "cell_type": "code",
      "source": [
        "y_val_predicted = pd.DataFrame(model.predict(x_val))"
      ],
      "metadata": {
        "id": "coo3tnWZDYb6"
      },
      "execution_count": 224,
      "outputs": []
    },
    {
      "cell_type": "code",
      "source": [
        "from sklearn.metrics import roc_auc_score"
      ],
      "metadata": {
        "id": "1PcLR8_oDpUb"
      },
      "execution_count": 225,
      "outputs": []
    },
    {
      "cell_type": "code",
      "source": [
        "print(roc_auc_score(y_val_predicted,y_val))"
      ],
      "metadata": {
        "colab": {
          "base_uri": "https://localhost:8080/"
        },
        "id": "VNygN6oyDwSI",
        "outputId": "e92fe6d8-652b-4414-9c53-f3ac2f76f786"
      },
      "execution_count": 226,
      "outputs": [
        {
          "output_type": "stream",
          "name": "stdout",
          "text": [
            "0.7678916827852998\n"
          ]
        }
      ]
    },
    {
      "cell_type": "code",
      "source": [
        "print(pd.concat([x_test_pass_id,y_test_predicted],axis=1))"
      ],
      "metadata": {
        "colab": {
          "base_uri": "https://localhost:8080/"
        },
        "id": "JRJV6hI1D7md",
        "outputId": "c6e3073e-6654-4586-90f4-e7b594d51bf1"
      },
      "execution_count": 227,
      "outputs": [
        {
          "output_type": "stream",
          "name": "stdout",
          "text": [
            "     PassengerId  Survived\n",
            "0            892         0\n",
            "1            893         1\n",
            "2            894         0\n",
            "3            895         0\n",
            "4            896         1\n",
            "..           ...       ...\n",
            "413         1305         0\n",
            "414         1306         1\n",
            "415         1307         0\n",
            "416         1308         0\n",
            "417         1309         0\n",
            "\n",
            "[418 rows x 2 columns]\n"
          ]
        }
      ]
    },
    {
      "cell_type": "code",
      "source": [
        "final = pd.concat([x_test_pass_id,y_test_predicted],axis=1)"
      ],
      "metadata": {
        "id": "rk01DD4SEUpK"
      },
      "execution_count": 228,
      "outputs": []
    },
    {
      "cell_type": "code",
      "source": [
        "final.to_csv('12345.csv',index=False)"
      ],
      "metadata": {
        "id": "Z_JjUrXqEd8S"
      },
      "execution_count": 229,
      "outputs": []
    },
    {
      "cell_type": "code",
      "source": [
        "final =pd.read_csv('12345.csv')"
      ],
      "metadata": {
        "id": "6ROB75cgEkP9"
      },
      "execution_count": 230,
      "outputs": []
    },
    {
      "cell_type": "code",
      "source": [
        "print(final)"
      ],
      "metadata": {
        "colab": {
          "base_uri": "https://localhost:8080/"
        },
        "id": "E1EPZ_NdEqzP",
        "outputId": "2db3bbb5-2c40-40d2-ee29-03cf12144fd4"
      },
      "execution_count": 231,
      "outputs": [
        {
          "output_type": "stream",
          "name": "stdout",
          "text": [
            "     PassengerId  Survived\n",
            "0            892         0\n",
            "1            893         1\n",
            "2            894         0\n",
            "3            895         0\n",
            "4            896         1\n",
            "..           ...       ...\n",
            "413         1305         0\n",
            "414         1306         1\n",
            "415         1307         0\n",
            "416         1308         0\n",
            "417         1309         0\n",
            "\n",
            "[418 rows x 2 columns]\n"
          ]
        }
      ]
    },
    {
      "cell_type": "code",
      "source": [],
      "metadata": {
        "id": "lgXODeLfEsKR"
      },
      "execution_count": null,
      "outputs": []
    },
    {
      "cell_type": "code",
      "source": [],
      "metadata": {
        "id": "_Z9HziwwUkJS"
      },
      "execution_count": null,
      "outputs": []
    },
    {
      "cell_type": "code",
      "source": [
        "import pandas as pd"
      ],
      "metadata": {
        "id": "mSVZlCxUUkFl"
      },
      "execution_count": 232,
      "outputs": []
    },
    {
      "cell_type": "code",
      "source": [
        "x_train = pd.read_csv('/content/bigData/bike_x_train.csv',encoding='CP949')"
      ],
      "metadata": {
        "id": "qbh1PEPMU89x"
      },
      "execution_count": 234,
      "outputs": []
    },
    {
      "cell_type": "code",
      "source": [
        "x_test = pd.read_csv('/content/bigData/bike_x_test.csv',encoding='CP949')"
      ],
      "metadata": {
        "id": "-8l7T3OYVBCJ"
      },
      "execution_count": 235,
      "outputs": []
    },
    {
      "cell_type": "code",
      "source": [
        "y_train = pd.read_csv('/content/bigData/bike_y_train.csv')"
      ],
      "metadata": {
        "id": "2IdT5YNdVJ6Y"
      },
      "execution_count": 236,
      "outputs": []
    },
    {
      "cell_type": "code",
      "source": [
        "print(x_train.head())"
      ],
      "metadata": {
        "colab": {
          "base_uri": "https://localhost:8080/"
        },
        "id": "XwYcz88nVPay",
        "outputId": "96d81b2d-26ae-453b-9629-3c00d2050951"
      },
      "execution_count": 237,
      "outputs": [
        {
          "output_type": "stream",
          "name": "stdout",
          "text": [
            "          datetime  계절  공휴일  근무일  날씨    온도    체감온도  습도   풍속\n",
            "0  2011-01-01 0:00   1    0    0   1  9.84  14.395  81  0.0\n",
            "1  2011-01-01 1:00   1    0    0   1  9.02  13.635  80  0.0\n",
            "2  2011-01-01 2:00   1    0    0   1  9.02  13.635  80  0.0\n",
            "3  2011-01-01 3:00   1    0    0   1  9.84  14.395  75  0.0\n",
            "4  2011-01-01 4:00   1    0    0   1  9.84  14.395  75  0.0\n"
          ]
        }
      ]
    },
    {
      "cell_type": "code",
      "source": [
        "print(x_train.shape)"
      ],
      "metadata": {
        "colab": {
          "base_uri": "https://localhost:8080/"
        },
        "id": "-kvbK1WlVVQ8",
        "outputId": "6df8c1cc-fcf6-4bc9-cab5-fc2f9ca1c387"
      },
      "execution_count": 238,
      "outputs": [
        {
          "output_type": "stream",
          "name": "stdout",
          "text": [
            "(10886, 9)\n"
          ]
        }
      ]
    },
    {
      "cell_type": "code",
      "source": [
        "print(x_test.shape)"
      ],
      "metadata": {
        "colab": {
          "base_uri": "https://localhost:8080/"
        },
        "id": "rTmZKcPpVf11",
        "outputId": "e8e7052e-2bf2-40d0-ba52-52ecbf5067d1"
      },
      "execution_count": 239,
      "outputs": [
        {
          "output_type": "stream",
          "name": "stdout",
          "text": [
            "(6493, 9)\n"
          ]
        }
      ]
    },
    {
      "cell_type": "code",
      "source": [
        "print(x_train.info())"
      ],
      "metadata": {
        "colab": {
          "base_uri": "https://localhost:8080/"
        },
        "id": "gp2GJeNrVhgZ",
        "outputId": "3dd7391d-995a-443b-834a-0ef518a247c1"
      },
      "execution_count": 240,
      "outputs": [
        {
          "output_type": "stream",
          "name": "stdout",
          "text": [
            "<class 'pandas.core.frame.DataFrame'>\n",
            "RangeIndex: 10886 entries, 0 to 10885\n",
            "Data columns (total 9 columns):\n",
            " #   Column    Non-Null Count  Dtype  \n",
            "---  ------    --------------  -----  \n",
            " 0   datetime  10886 non-null  object \n",
            " 1   계절        10886 non-null  int64  \n",
            " 2   공휴일       10886 non-null  int64  \n",
            " 3   근무일       10886 non-null  int64  \n",
            " 4   날씨        10886 non-null  int64  \n",
            " 5   온도        10886 non-null  float64\n",
            " 6   체감온도      10886 non-null  float64\n",
            " 7   습도        10886 non-null  int64  \n",
            " 8   풍속        10886 non-null  float64\n",
            "dtypes: float64(3), int64(5), object(1)\n",
            "memory usage: 765.5+ KB\n",
            "None\n"
          ]
        }
      ]
    },
    {
      "cell_type": "code",
      "source": [
        "print(x_test.info())"
      ],
      "metadata": {
        "colab": {
          "base_uri": "https://localhost:8080/"
        },
        "id": "TFBgtOX3Vkq2",
        "outputId": "b2fd8c0b-5f86-48c5-f782-5a99b46d6e90"
      },
      "execution_count": 241,
      "outputs": [
        {
          "output_type": "stream",
          "name": "stdout",
          "text": [
            "<class 'pandas.core.frame.DataFrame'>\n",
            "RangeIndex: 6493 entries, 0 to 6492\n",
            "Data columns (total 9 columns):\n",
            " #   Column    Non-Null Count  Dtype  \n",
            "---  ------    --------------  -----  \n",
            " 0   datetime  6493 non-null   object \n",
            " 1   계절        6493 non-null   int64  \n",
            " 2   공휴일       6493 non-null   int64  \n",
            " 3   근무일       6493 non-null   int64  \n",
            " 4   날씨        6493 non-null   int64  \n",
            " 5   온도        6493 non-null   float64\n",
            " 6   체감온도      6493 non-null   float64\n",
            " 7   습도        6493 non-null   int64  \n",
            " 8   풍속        6493 non-null   float64\n",
            "dtypes: float64(3), int64(5), object(1)\n",
            "memory usage: 456.7+ KB\n",
            "None\n"
          ]
        }
      ]
    },
    {
      "cell_type": "code",
      "source": [
        "print(x_train.describe())"
      ],
      "metadata": {
        "colab": {
          "base_uri": "https://localhost:8080/"
        },
        "id": "lZ5ehmLbVqGr",
        "outputId": "a1e83b75-f522-4b45-e302-488f578a8586"
      },
      "execution_count": 242,
      "outputs": [
        {
          "output_type": "stream",
          "name": "stdout",
          "text": [
            "                 계절           공휴일           근무일            날씨           온도  \\\n",
            "count  10886.000000  10886.000000  10886.000000  10886.000000  10886.00000   \n",
            "mean       2.506614      0.028569      0.680875      1.418427     20.23086   \n",
            "std        1.116174      0.166599      0.466159      0.633839      7.79159   \n",
            "min        1.000000      0.000000      0.000000      1.000000      0.82000   \n",
            "25%        2.000000      0.000000      0.000000      1.000000     13.94000   \n",
            "50%        3.000000      0.000000      1.000000      1.000000     20.50000   \n",
            "75%        4.000000      0.000000      1.000000      2.000000     26.24000   \n",
            "max        4.000000      1.000000      1.000000      4.000000     41.00000   \n",
            "\n",
            "               체감온도            습도            풍속  \n",
            "count  10886.000000  10886.000000  10886.000000  \n",
            "mean      23.655084     61.886460     12.799395  \n",
            "std        8.474601     19.245033      8.164537  \n",
            "min        0.760000      0.000000      0.000000  \n",
            "25%       16.665000     47.000000      7.001500  \n",
            "50%       24.240000     62.000000     12.998000  \n",
            "75%       31.060000     77.000000     16.997900  \n",
            "max       45.455000    100.000000     56.996900  \n"
          ]
        }
      ]
    },
    {
      "cell_type": "code",
      "source": [
        "data = pd.concat([x_train,y_train['count']],axis=1)"
      ],
      "metadata": {
        "id": "weYcqgK8VxFi"
      },
      "execution_count": 245,
      "outputs": []
    },
    {
      "cell_type": "code",
      "source": [
        "print(data)"
      ],
      "metadata": {
        "colab": {
          "base_uri": "https://localhost:8080/"
        },
        "id": "-sbzdsQfWGnp",
        "outputId": "17f8bf36-2751-4b69-b0a3-56e4425d7f58"
      },
      "execution_count": 246,
      "outputs": [
        {
          "output_type": "stream",
          "name": "stdout",
          "text": [
            "               datetime  계절  공휴일  근무일  날씨     온도    체감온도  습도       풍속  count\n",
            "0       2011-01-01 0:00   1    0    0   1   9.84  14.395  81   0.0000     16\n",
            "1       2011-01-01 1:00   1    0    0   1   9.02  13.635  80   0.0000     40\n",
            "2       2011-01-01 2:00   1    0    0   1   9.02  13.635  80   0.0000     32\n",
            "3       2011-01-01 3:00   1    0    0   1   9.84  14.395  75   0.0000     13\n",
            "4       2011-01-01 4:00   1    0    0   1   9.84  14.395  75   0.0000      1\n",
            "...                 ...  ..  ...  ...  ..    ...     ...  ..      ...    ...\n",
            "10881  2012-12-19 19:00   4    0    1   1  15.58  19.695  50  26.0027    336\n",
            "10882  2012-12-19 20:00   4    0    1   1  14.76  17.425  57  15.0013    241\n",
            "10883  2012-12-19 21:00   4    0    1   1  13.94  15.910  61  15.0013    168\n",
            "10884  2012-12-19 22:00   4    0    1   1  13.94  17.425  61   6.0032    129\n",
            "10885  2012-12-19 23:00   4    0    1   1  13.12  16.665  66   8.9981     88\n",
            "\n",
            "[10886 rows x 10 columns]\n"
          ]
        }
      ]
    },
    {
      "cell_type": "code",
      "source": [
        "print(data.groupby(['계절'])['count'].sum())"
      ],
      "metadata": {
        "colab": {
          "base_uri": "https://localhost:8080/"
        },
        "id": "NJ1ADowwWHQS",
        "outputId": "c45d2d73-2d11-488a-fde8-a27b3ef763f9"
      },
      "execution_count": 248,
      "outputs": [
        {
          "output_type": "stream",
          "name": "stdout",
          "text": [
            "계절\n",
            "1    312498\n",
            "2    588282\n",
            "3    640662\n",
            "4    544034\n",
            "Name: count, dtype: int64\n"
          ]
        }
      ]
    },
    {
      "cell_type": "code",
      "source": [
        "print(data.groupby(['공휴일'])['count'].sum())"
      ],
      "metadata": {
        "colab": {
          "base_uri": "https://localhost:8080/"
        },
        "id": "uMPcXtmlWcG_",
        "outputId": "99517e6c-ca07-4b5d-f144-2b8a89d9193a"
      },
      "execution_count": 250,
      "outputs": [
        {
          "output_type": "stream",
          "name": "stdout",
          "text": [
            "공휴일\n",
            "0    2027668\n",
            "1      57808\n",
            "Name: count, dtype: int64\n"
          ]
        }
      ]
    },
    {
      "cell_type": "code",
      "source": [
        "print(data.groupby(['근무일'])['count'].sum())"
      ],
      "metadata": {
        "colab": {
          "base_uri": "https://localhost:8080/"
        },
        "id": "UmGglEqiWp5-",
        "outputId": "42502996-40eb-4dd1-dc76-edbde2666d81"
      },
      "execution_count": 251,
      "outputs": [
        {
          "output_type": "stream",
          "name": "stdout",
          "text": [
            "근무일\n",
            "0     654872\n",
            "1    1430604\n",
            "Name: count, dtype: int64\n"
          ]
        }
      ]
    },
    {
      "cell_type": "code",
      "source": [
        "print(data.groupby(['날씨'])['count'].sum())"
      ],
      "metadata": {
        "colab": {
          "base_uri": "https://localhost:8080/"
        },
        "id": "WlvT1gu1W1W6",
        "outputId": "cfccb5ab-2947-4674-c54f-b412a48dfcc1"
      },
      "execution_count": 252,
      "outputs": [
        {
          "output_type": "stream",
          "name": "stdout",
          "text": [
            "날씨\n",
            "1    1476063\n",
            "2     507160\n",
            "3     102089\n",
            "4        164\n",
            "Name: count, dtype: int64\n"
          ]
        }
      ]
    },
    {
      "cell_type": "code",
      "source": [
        "x_train['datetime'] = pd.to_datetime(x_train['datetime'])"
      ],
      "metadata": {
        "id": "IDAGKWDgW-Fv"
      },
      "execution_count": 253,
      "outputs": []
    },
    {
      "cell_type": "code",
      "source": [
        "x_train['year'] = x_train['datetime'].dt.year"
      ],
      "metadata": {
        "id": "ASBUHIQXXZPl"
      },
      "execution_count": 254,
      "outputs": []
    },
    {
      "cell_type": "code",
      "source": [
        "x_train['month'] = x_train['datetime'].dt.month"
      ],
      "metadata": {
        "id": "rQM8hWR8XhsM"
      },
      "execution_count": 255,
      "outputs": []
    },
    {
      "cell_type": "code",
      "source": [
        "x_train['day'] = x_train['datetime'].dt.day"
      ],
      "metadata": {
        "id": "zw6-pvORXnch"
      },
      "execution_count": 256,
      "outputs": []
    },
    {
      "cell_type": "code",
      "source": [
        "x_train['hour'] = x_train['datetime'].dt.hour"
      ],
      "metadata": {
        "id": "R-D6AAL8XyQY"
      },
      "execution_count": 257,
      "outputs": []
    },
    {
      "cell_type": "code",
      "source": [
        "x_train['dayofweek'] = x_train['datetime'].dt.dayofweek"
      ],
      "metadata": {
        "id": "OoPMWuhUYBtD"
      },
      "execution_count": 258,
      "outputs": []
    },
    {
      "cell_type": "code",
      "source": [
        "data2 = pd.concat([x_train,y_train],axis=1)"
      ],
      "metadata": {
        "id": "0R0VRNmpYIZ3"
      },
      "execution_count": 259,
      "outputs": []
    },
    {
      "cell_type": "code",
      "source": [
        "print(data2)"
      ],
      "metadata": {
        "colab": {
          "base_uri": "https://localhost:8080/"
        },
        "id": "DaeXPEJoYQk0",
        "outputId": "68cabe9a-f14e-4347-cf27-1888760678b0"
      },
      "execution_count": 260,
      "outputs": [
        {
          "output_type": "stream",
          "name": "stdout",
          "text": [
            "                 datetime  계절  공휴일  근무일  날씨     온도    체감온도  습도       풍속  year  \\\n",
            "0     2011-01-01 00:00:00   1    0    0   1   9.84  14.395  81   0.0000  2011   \n",
            "1     2011-01-01 01:00:00   1    0    0   1   9.02  13.635  80   0.0000  2011   \n",
            "2     2011-01-01 02:00:00   1    0    0   1   9.02  13.635  80   0.0000  2011   \n",
            "3     2011-01-01 03:00:00   1    0    0   1   9.84  14.395  75   0.0000  2011   \n",
            "4     2011-01-01 04:00:00   1    0    0   1   9.84  14.395  75   0.0000  2011   \n",
            "...                   ...  ..  ...  ...  ..    ...     ...  ..      ...   ...   \n",
            "10881 2012-12-19 19:00:00   4    0    1   1  15.58  19.695  50  26.0027  2012   \n",
            "10882 2012-12-19 20:00:00   4    0    1   1  14.76  17.425  57  15.0013  2012   \n",
            "10883 2012-12-19 21:00:00   4    0    1   1  13.94  15.910  61  15.0013  2012   \n",
            "10884 2012-12-19 22:00:00   4    0    1   1  13.94  17.425  61   6.0032  2012   \n",
            "10885 2012-12-19 23:00:00   4    0    1   1  13.12  16.665  66   8.9981  2012   \n",
            "\n",
            "       month  day  hour  dayofweek          datetime  count  \n",
            "0          1    1     0          5   2011-01-01 0:00     16  \n",
            "1          1    1     1          5   2011-01-01 1:00     40  \n",
            "2          1    1     2          5   2011-01-01 2:00     32  \n",
            "3          1    1     3          5   2011-01-01 3:00     13  \n",
            "4          1    1     4          5   2011-01-01 4:00      1  \n",
            "...      ...  ...   ...        ...               ...    ...  \n",
            "10881     12   19    19          2  2012-12-19 19:00    336  \n",
            "10882     12   19    20          2  2012-12-19 20:00    241  \n",
            "10883     12   19    21          2  2012-12-19 21:00    168  \n",
            "10884     12   19    22          2  2012-12-19 22:00    129  \n",
            "10885     12   19    23          2  2012-12-19 23:00     88  \n",
            "\n",
            "[10886 rows x 16 columns]\n"
          ]
        }
      ]
    },
    {
      "cell_type": "code",
      "source": [
        "print(data2.groupby(['year'])['count'].sum())"
      ],
      "metadata": {
        "colab": {
          "base_uri": "https://localhost:8080/"
        },
        "id": "txAoVbUGYR6k",
        "outputId": "f4f3a6ca-f3aa-4c88-e6a3-042e12c8fed3"
      },
      "execution_count": 261,
      "outputs": [
        {
          "output_type": "stream",
          "name": "stdout",
          "text": [
            "year\n",
            "2011     781979\n",
            "2012    1303497\n",
            "Name: count, dtype: int64\n"
          ]
        }
      ]
    },
    {
      "cell_type": "code",
      "source": [
        "print(data2.groupby(['month'])['count'].sum())"
      ],
      "metadata": {
        "colab": {
          "base_uri": "https://localhost:8080/"
        },
        "id": "EggFWPktYyfr",
        "outputId": "46857a57-d2d4-423f-8dd0-12a4dd59e99b"
      },
      "execution_count": 262,
      "outputs": [
        {
          "output_type": "stream",
          "name": "stdout",
          "text": [
            "month\n",
            "1      79884\n",
            "2      99113\n",
            "3     133501\n",
            "4     167402\n",
            "5     200147\n",
            "6     220733\n",
            "7     214617\n",
            "8     213516\n",
            "9     212529\n",
            "10    207434\n",
            "11    176440\n",
            "12    160160\n",
            "Name: count, dtype: int64\n"
          ]
        }
      ]
    },
    {
      "cell_type": "code",
      "source": [
        "print(data2.groupby(['day'])['count'].sum())"
      ],
      "metadata": {
        "colab": {
          "base_uri": "https://localhost:8080/"
        },
        "id": "DJceVaKGY4ID",
        "outputId": "ef5e4a48-2a44-4cf3-a5eb-39b0fbff538c"
      },
      "execution_count": 264,
      "outputs": [
        {
          "output_type": "stream",
          "name": "stdout",
          "text": [
            "day\n",
            "1     103692\n",
            "2     105381\n",
            "3     111561\n",
            "4     112335\n",
            "5     109115\n",
            "6     108600\n",
            "7     105486\n",
            "8     102770\n",
            "9     108041\n",
            "10    111645\n",
            "11    111146\n",
            "12    109257\n",
            "13    111448\n",
            "14    112406\n",
            "15    115677\n",
            "16    109837\n",
            "17    118255\n",
            "18    108437\n",
            "19    110387\n",
            "Name: count, dtype: int64\n"
          ]
        }
      ]
    },
    {
      "cell_type": "code",
      "source": [
        "print(data2.groupby(['hour'])['count'].sum())"
      ],
      "metadata": {
        "colab": {
          "base_uri": "https://localhost:8080/"
        },
        "id": "nFl1VpOIZWkT",
        "outputId": "a81aae30-e153-47b1-dd3a-538ad6275816"
      },
      "execution_count": 266,
      "outputs": [
        {
          "output_type": "stream",
          "name": "stdout",
          "text": [
            "hour\n",
            "0      25088\n",
            "1      15372\n",
            "2      10259\n",
            "3       5091\n",
            "4       2832\n",
            "5       8935\n",
            "6      34698\n",
            "7      96968\n",
            "8     165060\n",
            "9     100910\n",
            "10     79667\n",
            "11     95857\n",
            "12    116968\n",
            "13    117551\n",
            "14    111010\n",
            "15    115960\n",
            "16    144266\n",
            "17    213757\n",
            "18    196472\n",
            "19    143767\n",
            "20    104204\n",
            "21     79057\n",
            "22     60911\n",
            "23     40816\n",
            "Name: count, dtype: int64\n"
          ]
        }
      ]
    },
    {
      "cell_type": "code",
      "source": [
        "print(data2.groupby(['dayofweek'])['count'].sum())"
      ],
      "metadata": {
        "colab": {
          "base_uri": "https://localhost:8080/"
        },
        "id": "kR_qH39yZEr1",
        "outputId": "efb31c75-1515-467c-fb99-5650fd3b53b2"
      },
      "execution_count": 265,
      "outputs": [
        {
          "output_type": "stream",
          "name": "stdout",
          "text": [
            "dayofweek\n",
            "0    295296\n",
            "1    291985\n",
            "2    292226\n",
            "3    306401\n",
            "4    302504\n",
            "5    311518\n",
            "6    285546\n",
            "Name: count, dtype: int64\n"
          ]
        }
      ]
    },
    {
      "cell_type": "code",
      "source": [
        "x_train.drop(columns=['month','day','dayofweek'],inplace=True)"
      ],
      "metadata": {
        "id": "BObcuLJQZPCW"
      },
      "execution_count": 268,
      "outputs": []
    },
    {
      "cell_type": "code",
      "source": [
        "x_test['datetime'] = pd.to_datetime(x_test['datetime'])"
      ],
      "metadata": {
        "id": "rfzv4yObZ_vW"
      },
      "execution_count": 269,
      "outputs": []
    },
    {
      "cell_type": "code",
      "source": [
        "x_test['year'] = x_test['datetime'].dt.year"
      ],
      "metadata": {
        "id": "_VN2zWAcaYPW"
      },
      "execution_count": 270,
      "outputs": []
    },
    {
      "cell_type": "code",
      "source": [
        "x_test['hour'] = x_test['datetime'].dt.hour"
      ],
      "metadata": {
        "id": "n1rwJcjDafoD"
      },
      "execution_count": 271,
      "outputs": []
    },
    {
      "cell_type": "code",
      "source": [
        "x_test_datetime = x_test['datetime']"
      ],
      "metadata": {
        "id": "UGCzazKaakXy"
      },
      "execution_count": 272,
      "outputs": []
    },
    {
      "cell_type": "code",
      "source": [
        "x_train.drop(columns=['datetime'],inplace=True)"
      ],
      "metadata": {
        "id": "AVrsw73JaqMm"
      },
      "execution_count": 274,
      "outputs": []
    },
    {
      "cell_type": "code",
      "source": [
        "x_test.drop(columns=['datetime'],inplace=True)"
      ],
      "metadata": {
        "id": "f4T9FzQva0iD"
      },
      "execution_count": 275,
      "outputs": []
    },
    {
      "cell_type": "code",
      "source": [
        "y_train.drop(columns=['datetime'],inplace=True)"
      ],
      "metadata": {
        "id": "cDpCzWVLa7ri"
      },
      "execution_count": 276,
      "outputs": []
    },
    {
      "cell_type": "code",
      "source": [
        "from sklearn.model_selection import train_test_split"
      ],
      "metadata": {
        "id": "OGqP02WLbADX"
      },
      "execution_count": 277,
      "outputs": []
    },
    {
      "cell_type": "code",
      "source": [
        "x_train,x_val,y_train,y_val = train_test_split(x_train,y_train,test_size=0.2)"
      ],
      "metadata": {
        "id": "J8jl8B3bbFKX"
      },
      "execution_count": 278,
      "outputs": []
    },
    {
      "cell_type": "code",
      "source": [
        "print(x_train.shape,x_val.shape)"
      ],
      "metadata": {
        "colab": {
          "base_uri": "https://localhost:8080/"
        },
        "id": "utCe3K_ZbTmF",
        "outputId": "9223daab-ac5b-4ffb-891a-74ed8ed4bb05"
      },
      "execution_count": 280,
      "outputs": [
        {
          "output_type": "stream",
          "name": "stdout",
          "text": [
            "(8708, 10) (2178, 10)\n"
          ]
        }
      ]
    },
    {
      "cell_type": "code",
      "source": [
        "from xgboost import XGBRegressor"
      ],
      "metadata": {
        "id": "PQdh_n8HbZbX"
      },
      "execution_count": 281,
      "outputs": []
    },
    {
      "cell_type": "code",
      "source": [
        "model = XGBRegressor(n_estimate=100,max_depth=3)"
      ],
      "metadata": {
        "id": "dmsJTVS0bkmx"
      },
      "execution_count": 282,
      "outputs": []
    },
    {
      "cell_type": "code",
      "source": [
        "model.fit(x_train,y_train)"
      ],
      "metadata": {
        "colab": {
          "base_uri": "https://localhost:8080/"
        },
        "id": "q0NhkWlnbttn",
        "outputId": "9548e0bb-1aba-499d-f3a2-b72dffdd0564"
      },
      "execution_count": 283,
      "outputs": [
        {
          "output_type": "stream",
          "name": "stdout",
          "text": [
            "[07:12:58] WARNING: /workspace/src/objective/regression_obj.cu:152: reg:linear is now deprecated in favor of reg:squarederror.\n"
          ]
        },
        {
          "output_type": "execute_result",
          "data": {
            "text/plain": [
              "XGBRegressor(n_estimate=100)"
            ]
          },
          "metadata": {},
          "execution_count": 283
        }
      ]
    },
    {
      "cell_type": "code",
      "source": [
        "model2 = XGBRegressor(n_estimate=200,max_depth=5)"
      ],
      "metadata": {
        "id": "R5QLs_crbv-e"
      },
      "execution_count": 284,
      "outputs": []
    },
    {
      "cell_type": "code",
      "source": [
        "model2.fit(x_train,y_train)"
      ],
      "metadata": {
        "colab": {
          "base_uri": "https://localhost:8080/"
        },
        "id": "uDHZhXPEcPKp",
        "outputId": "de2ccb6f-0a79-4a75-9944-349357590201"
      },
      "execution_count": 285,
      "outputs": [
        {
          "output_type": "stream",
          "name": "stdout",
          "text": [
            "[07:15:18] WARNING: /workspace/src/objective/regression_obj.cu:152: reg:linear is now deprecated in favor of reg:squarederror.\n"
          ]
        },
        {
          "output_type": "execute_result",
          "data": {
            "text/plain": [
              "XGBRegressor(max_depth=5, n_estimate=200)"
            ]
          },
          "metadata": {},
          "execution_count": 285
        }
      ]
    },
    {
      "cell_type": "code",
      "source": [
        "from sklearn.metrics import r2_score"
      ],
      "metadata": {
        "id": "2JA5xWEycSJQ"
      },
      "execution_count": 291,
      "outputs": []
    },
    {
      "cell_type": "code",
      "source": [
        "y_val_predicted = pd.DataFrame(model.predict(x_val))"
      ],
      "metadata": {
        "id": "r03zeE_XclTR"
      },
      "execution_count": 292,
      "outputs": []
    },
    {
      "cell_type": "code",
      "source": [
        "print(y_val_predicted)"
      ],
      "metadata": {
        "colab": {
          "base_uri": "https://localhost:8080/"
        },
        "id": "ZfQzSmY4cnvZ",
        "outputId": "95e2dd34-20dd-4eab-ebc7-e6468db3e8fb"
      },
      "execution_count": 293,
      "outputs": [
        {
          "output_type": "stream",
          "name": "stdout",
          "text": [
            "               0\n",
            "0     179.681488\n",
            "1     511.443726\n",
            "2     159.493896\n",
            "3     245.447266\n",
            "4      28.399582\n",
            "...          ...\n",
            "2173  101.128723\n",
            "2174  309.552002\n",
            "2175   95.942520\n",
            "2176   36.543449\n",
            "2177   27.771383\n",
            "\n",
            "[2178 rows x 1 columns]\n"
          ]
        }
      ]
    },
    {
      "cell_type": "code",
      "source": [
        "y_val_predicted.rename(columns={0:'count'},inplace=True)"
      ],
      "metadata": {
        "id": "WfUEWfitdVK1"
      },
      "execution_count": 295,
      "outputs": []
    },
    {
      "cell_type": "code",
      "source": [
        "print(y_val_predicted)"
      ],
      "metadata": {
        "colab": {
          "base_uri": "https://localhost:8080/"
        },
        "id": "m7jXDsB7duYB",
        "outputId": "ba0d9531-635b-4d6e-ceca-69a72b50d30a"
      },
      "execution_count": 297,
      "outputs": [
        {
          "output_type": "stream",
          "name": "stdout",
          "text": [
            "           count\n",
            "0     179.681488\n",
            "1     511.443726\n",
            "2     159.493896\n",
            "3     245.447266\n",
            "4      28.399582\n",
            "...          ...\n",
            "2173  101.128723\n",
            "2174  309.552002\n",
            "2175   95.942520\n",
            "2176   36.543449\n",
            "2177   27.771383\n",
            "\n",
            "[2178 rows x 1 columns]\n"
          ]
        }
      ]
    },
    {
      "cell_type": "code",
      "source": [
        "y_val_predicted[y_val_predicted['count']<0]=0"
      ],
      "metadata": {
        "id": "eToqDqcWdbZY"
      },
      "execution_count": 298,
      "outputs": []
    },
    {
      "cell_type": "code",
      "source": [
        "y_val_predicted2 = pd.DataFrame(model2.predict(x_val)).rename(columns={0:'count'})"
      ],
      "metadata": {
        "id": "B-VNFGRYdqMq"
      },
      "execution_count": 299,
      "outputs": []
    },
    {
      "cell_type": "code",
      "source": [
        "y_val_predicted2[y_val_predicted2['count']<0]=0"
      ],
      "metadata": {
        "id": "2ewam2EBeMgz"
      },
      "execution_count": 300,
      "outputs": []
    },
    {
      "cell_type": "code",
      "source": [
        "print(r2_score(y_val,y_val_predicted))"
      ],
      "metadata": {
        "colab": {
          "base_uri": "https://localhost:8080/"
        },
        "id": "Qn_wGSN-eSPf",
        "outputId": "04238f1e-9242-408e-cc19-cbb8a18868cb"
      },
      "execution_count": 301,
      "outputs": [
        {
          "output_type": "stream",
          "name": "stdout",
          "text": [
            "0.848554739891263\n"
          ]
        }
      ]
    },
    {
      "cell_type": "code",
      "source": [
        "print(r2_score(y_val,y_val_predicted2))"
      ],
      "metadata": {
        "colab": {
          "base_uri": "https://localhost:8080/"
        },
        "id": "fLZZGHtJeYVF",
        "outputId": "a522de75-b48d-4066-c521-499cc676b82b"
      },
      "execution_count": 302,
      "outputs": [
        {
          "output_type": "stream",
          "name": "stdout",
          "text": [
            "0.9266232938403711\n"
          ]
        }
      ]
    },
    {
      "cell_type": "code",
      "source": [
        "y_test_predicted = pd.DataFrame(model2.predict(x_test)).rename(columns={0:'count'})"
      ],
      "metadata": {
        "id": "7fHd9W1jeeel"
      },
      "execution_count": 303,
      "outputs": []
    },
    {
      "cell_type": "code",
      "source": [
        "y_test_predicted[y_test_predicted['count']<0]=0"
      ],
      "metadata": {
        "id": "qAPyTJkfezb2"
      },
      "execution_count": 304,
      "outputs": []
    },
    {
      "cell_type": "code",
      "source": [
        "final = pd.concat([x_test_datetime,y_test_predicted],axis=1)"
      ],
      "metadata": {
        "id": "VL41ALDje432"
      },
      "execution_count": 305,
      "outputs": []
    },
    {
      "cell_type": "code",
      "source": [
        "print(final)"
      ],
      "metadata": {
        "colab": {
          "base_uri": "https://localhost:8080/"
        },
        "id": "Ski8LXv-fExM",
        "outputId": "41fbc274-ac37-4680-e371-db75297b9d43"
      },
      "execution_count": 306,
      "outputs": [
        {
          "output_type": "stream",
          "name": "stdout",
          "text": [
            "                datetime       count\n",
            "0    2011-01-20 00:00:00    4.928197\n",
            "1    2011-01-20 01:00:00    0.000000\n",
            "2    2011-01-20 02:00:00    0.000000\n",
            "3    2011-01-20 03:00:00    0.000000\n",
            "4    2011-01-20 04:00:00    0.000000\n",
            "...                  ...         ...\n",
            "6488 2012-12-31 19:00:00  219.632874\n",
            "6489 2012-12-31 20:00:00  145.346939\n",
            "6490 2012-12-31 21:00:00  127.952789\n",
            "6491 2012-12-31 22:00:00   93.256271\n",
            "6492 2012-12-31 23:00:00   54.683910\n",
            "\n",
            "[6493 rows x 2 columns]\n"
          ]
        }
      ]
    },
    {
      "cell_type": "code",
      "source": [
        "final.to_csv('12345.csv',index=False)"
      ],
      "metadata": {
        "id": "AWelxfCHfGMr"
      },
      "execution_count": 307,
      "outputs": []
    },
    {
      "cell_type": "code",
      "source": [
        "final = pd.read_csv('12345.csv')"
      ],
      "metadata": {
        "id": "MgV-lqqvfRXm"
      },
      "execution_count": 308,
      "outputs": []
    },
    {
      "cell_type": "code",
      "source": [
        "print(final)"
      ],
      "metadata": {
        "colab": {
          "base_uri": "https://localhost:8080/"
        },
        "id": "d5L6ZzyUfVhL",
        "outputId": "3501d6fd-de23-486c-bf09-d5034decb7aa"
      },
      "execution_count": 309,
      "outputs": [
        {
          "output_type": "stream",
          "name": "stdout",
          "text": [
            "                 datetime       count\n",
            "0     2011-01-20 00:00:00    4.928197\n",
            "1     2011-01-20 01:00:00    0.000000\n",
            "2     2011-01-20 02:00:00    0.000000\n",
            "3     2011-01-20 03:00:00    0.000000\n",
            "4     2011-01-20 04:00:00    0.000000\n",
            "...                   ...         ...\n",
            "6488  2012-12-31 19:00:00  219.632870\n",
            "6489  2012-12-31 20:00:00  145.346940\n",
            "6490  2012-12-31 21:00:00  127.952790\n",
            "6491  2012-12-31 22:00:00   93.256270\n",
            "6492  2012-12-31 23:00:00   54.683910\n",
            "\n",
            "[6493 rows x 2 columns]\n"
          ]
        }
      ]
    },
    {
      "cell_type": "code",
      "source": [],
      "metadata": {
        "id": "0ZMOEeUCfW4r"
      },
      "execution_count": null,
      "outputs": []
    }
  ]
}