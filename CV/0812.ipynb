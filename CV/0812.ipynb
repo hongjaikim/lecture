{
 "cells": [
  {
   "cell_type": "code",
   "execution_count": 1,
   "id": "874596ef",
   "metadata": {},
   "outputs": [],
   "source": [
    "import numpy as np\n",
    "import cv2\n",
    "import sys\n",
    "import matplotlib.pyplot as plt"
   ]
  },
  {
   "cell_type": "code",
   "execution_count": 41,
   "id": "33edd338",
   "metadata": {},
   "outputs": [
    {
     "data": {
      "text/plain": [
       "(400, 600)"
      ]
     },
     "execution_count": 41,
     "metadata": {},
     "output_type": "execute_result"
    }
   ],
   "source": [
    "src = cv2.imread('./fig2/airplane.bmp')\n",
    "mask = cv2.imread('./fig2/mask_plane.bmp',0)\n",
    "dst = cv2.imread('./fig2/field.bmp')\n",
    "\n",
    "if src is None or mask is None or dst is None:\n",
    "    print('read err')\n",
    "    sys.exit()\n",
    "    \n",
    "# copyTo(src, mask[, dst]) -> dst\n",
    "# cv2.copyTo(src,mask,dst)\n",
    "\n",
    "dst[mask>0]=src[mask>0]\n",
    "\n",
    "cv2.imshow('src',src)\n",
    "cv2.imshow('mask',mask)\n",
    "cv2.imshow('dst',dst)\n",
    "\n",
    "cv2.waitKey()\n",
    "cv2.destroyAllWindows()\n",
    "h,w = src.shape[:2]\n",
    "h,w"
   ]
  },
  {
   "cell_type": "code",
   "execution_count": 60,
   "id": "bf1ad398",
   "metadata": {},
   "outputs": [],
   "source": [
    "src = cv2.imread('./fig2/cow.png')\n",
    "dst = cv2.imread('./fig2/green.png')\n",
    "src1 = cv2.imread('./fig2/airplane.bmp')\n",
    "mask1 = cv2.imread('./fig2/mask_plane.bmp',0)\n",
    "\n",
    "src_gray = cv2.cvtColor(src,cv2.COLOR_BGR2GRAY)\n",
    "\n",
    "if src is None or dst is None:\n",
    "    print('read err')\n",
    "    sys.exit()\n",
    "\n",
    "src=cv2.resize(src,(200,200))\n",
    "src_gray=cv2.resize(src_gray,(200,200))\n",
    "src1=cv2.resize(src1,(300,200))\n",
    "mask1=cv2.resize(mask1,(300,200))\n",
    "\n",
    "# threshold(src, thresh, maxval, type[, dst]) -> retval, dst\n",
    "rev,mask = cv2.threshold(src_gray,240,255,cv2.THRESH_BINARY_INV)\n",
    "\n",
    "# h,w = src.shape[:2]\n",
    "# dst_res = cv2.resize(dst,(w,h))\n",
    "\n",
    "cv2.copyTo(src,mask,dst[850:1050,350:550])\n",
    "cv2.copyTo(src1,mask1,dst[400:600,900:1200])\n",
    "\n",
    "\n",
    "cv2.imwrite('as.jpg',dst)\n",
    "\n",
    "cv2.namedWindow('dst',cv2.WINDOW_NORMAL)\n",
    "cv2.imshow('mask',mask)\n",
    "cv2.imshow('mask1',mask1)\n",
    "# cv2.imshow('src_gray',src_gray)\n",
    "cv2.imshow('src',src)\n",
    "cv2.imshow('src1',src1)\n",
    "cv2.imshow('dst',dst)\n",
    "# cv2.imshow('dst_res',dst_res)\n",
    "\n",
    "cv2.waitKey()\n",
    "cv2.destroyAllWindows()\n",
    "# 작은크기 카피해서 넣으면 원래사진 자동반영"
   ]
  },
  {
   "cell_type": "code",
   "execution_count": 13,
   "id": "0f13a9d6",
   "metadata": {},
   "outputs": [
    {
     "name": "stdout",
     "output_type": "stream",
     "text": [
      "(480, 960, 4) (480, 640, 3)\n"
     ]
    }
   ],
   "source": [
    "src = cv2.imread('./fig2/puppy.bmp')\n",
    "sgl = cv2.imread('./fig2/imgbin_sunglasses_1.png',cv2.IMREAD_UNCHANGED)\n",
    "\n",
    "print(sgl.shape,src.shape)\n",
    "\n",
    "sgl=cv2.resize(sgl,(300,150))\n",
    "\n",
    "glass = sgl[:,:,:3]\n",
    "mask = sgl[:,:,-1]\n",
    "glass\n",
    "\n",
    "cv2.copyTo(glass,mask,src[130:280,230:530])\n",
    "\n",
    "cv2.imshow('src',src)\n",
    "cv2.imshow('sunglass',glass)\n",
    "cv2.imshow('mask',mask)\n",
    "\n",
    "cv2.waitKey()\n",
    "cv2.destroyAllWindows()"
   ]
  },
  {
   "cell_type": "code",
   "execution_count": 44,
   "id": "3829b82c",
   "metadata": {},
   "outputs": [
    {
     "name": "stdout",
     "output_type": "stream",
     "text": [
      "(901, 1200, 3) (3507, 2480, 4)\n"
     ]
    }
   ],
   "source": [
    "src = cv2.imread('./fig2/cat123.jpg')\n",
    "hat = cv2.imread('./fig2/imgbin_hat.png',cv2.IMREAD_UNCHANGED)\n",
    "\n",
    "if src is None or hat is None:\n",
    "    print('read err')\n",
    "    sys.exit()\n",
    "\n",
    "    \n",
    "    \n",
    "src_re = cv2.resize(src,(1200,900))\n",
    "hat_re = cv2.resize(hat,(400,600))\n",
    "\n",
    "mask = hat_re[:,:,-1]\n",
    "hat_ = hat_re[:,:,:3]\n",
    "\n",
    "cv2.copyTo(hat_,mask,src_re[0:600,275:675])\n",
    "\n",
    "cv2.imwrite('as.jpg',src_re)\n",
    "\n",
    "print(src.shape,hat.shape)\n",
    "    \n",
    "cv2.imshow('src',src_re)\n",
    "cv2.imshow('hat',hat_re)\n",
    "\n",
    "cv2.waitKey()\n",
    "cv2.destroyAllWindows()"
   ]
  }
 ],
 "metadata": {
  "kernelspec": {
   "display_name": "Python 3 (ipykernel)",
   "language": "python",
   "name": "python3"
  },
  "language_info": {
   "codemirror_mode": {
    "name": "ipython",
    "version": 3
   },
   "file_extension": ".py",
   "mimetype": "text/x-python",
   "name": "python",
   "nbconvert_exporter": "python",
   "pygments_lexer": "ipython3",
   "version": "3.9.12"
  }
 },
 "nbformat": 4,
 "nbformat_minor": 5
}
