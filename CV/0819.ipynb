{
 "cells": [
  {
   "cell_type": "code",
   "execution_count": 2,
   "id": "2cb5e0b0",
   "metadata": {},
   "outputs": [],
   "source": [
    "import cv2\n",
    "import numpy as np\n",
    "import sys"
   ]
  },
  {
   "cell_type": "code",
   "execution_count": 4,
   "id": "cf6767ea",
   "metadata": {},
   "outputs": [],
   "source": [
    "img  = cv2.imread('./fig3/lenna.bmp')\n",
    "\n",
    "if img is None:\n",
    "    print('read err')\n",
    "    sys.exit()\n",
    "\n",
    "cv2.namedWindow('image',cv2.WINDOW_NORMAL)\n",
    "cv2.imshow('image',img)\n",
    "\n",
    "cv2.waitKey()\n",
    "cv2.destroyAllWindows()"
   ]
  },
  {
   "cell_type": "code",
   "execution_count": 5,
   "id": "bfe3e789",
   "metadata": {},
   "outputs": [],
   "source": [
    "import glob"
   ]
  },
  {
   "cell_type": "code",
   "execution_count": 6,
   "id": "def50f5b",
   "metadata": {},
   "outputs": [],
   "source": [
    "img_lst = glob.glob('./fig/my_images/*.*')\n",
    "\n",
    "cv2.namedWindow('scene',cv2.WINDOW_NORMAL)\n",
    "cv2.setWindowProperty('scene',cv2.WND_PROP_FULLSCREEN,cv2.WINDOW_FULLSCREEN)\n",
    "\n",
    "idx=0\n",
    "\n",
    "while True:\n",
    "    img=cv2.imread(img_lst[idx])\n",
    "    cv2.imshow('scene',img)\n",
    "    \n",
    "    if cv2.waitKey(100)==27:\n",
    "        break\n",
    "    \n",
    "    idx+=1\n",
    "    \n",
    "    if idx>=len(img_lst):\n",
    "        idx=0\n",
    "cv2.destroyAllWindows()"
   ]
  },
  {
   "cell_type": "code",
   "execution_count": 2,
   "id": "43d34fb3",
   "metadata": {},
   "outputs": [],
   "source": [
    "cap = cv2.VideoCapture(0)\n",
    "\n",
    "if cap.isOpened()==False:\n",
    "    print('open err')\n",
    "    sys.exit()\n",
    "\n",
    "w = int(cap.get(cv2.CAP_PROP_FRAME_WIDTH))\n",
    "h = int(cap.get(cv2.CAP_PROP_FRAME_HEIGHT))\n",
    "fps = int(cap.get(cv2.CAP_PROP_FPS))\n",
    "fourcc = cv2.VideoWriter_fourcc(*'DIVX')\n",
    "\n",
    "out=cv2.VideoWriter('out.avi',fourcc,fps,(w,h))\n",
    "    \n",
    "while True:\n",
    "    ret,frame = cap.read()\n",
    "    \n",
    "    if not ret:\n",
    "        print('read err')\n",
    "        break\n",
    "    \n",
    "    edge=cv2.Canny(frame,50,150)\n",
    "    flip=cv2.flip(frame,1)\n",
    "    cv2.imshow('image',frame)\n",
    "    cv2.imshow('edge',edge)\n",
    "    cv2.imshow('flip',flip)\n",
    "    out.write(flip)\n",
    "    if cv2.waitKey(20)==27:\n",
    "        break\n",
    " \n",
    "out.release()\n",
    "cap.release()\n",
    "cv2.destroyAllWindows()"
   ]
  },
  {
   "cell_type": "code",
   "execution_count": 8,
   "id": "a1f0492e",
   "metadata": {},
   "outputs": [],
   "source": [
    "def cm(evt,x,y,flags,param):\n",
    "    global ox,oy\n",
    "    if evt==cv2.EVENT_LBUTTONDOWN:\n",
    "        ox,oy=x,y\n",
    "    elif evt==cv2.EVENT_MOUSEMOVE:\n",
    "        if flags==cv2.EVENT_FLAG_LBUTTON:\n",
    "            cv2.line(img,(ox,oy),(x,y),(255,255,0),10,cv2.LINE_AA)\n",
    "            cv2.imshow('image',img)\n",
    "            ox,oy=x,y\n",
    "            \n",
    "img = np.ones((600,1200,3),np.uint8)*255\n",
    "\n",
    "cv2.imshow('image',img)\n",
    "cv2.setMouseCallback('image',cm,img)\n",
    "\n",
    "cv2.waitKey()\n",
    "cv2.destroyAllWindows()"
   ]
  },
  {
   "cell_type": "code",
   "execution_count": 4,
   "id": "22a9effd",
   "metadata": {},
   "outputs": [],
   "source": [
    "def ct(pos):\n",
    "    img[:]=np.round(img1*(pos/255),0).astype(np.uint8)\n",
    "    cv2.imshow('image',img)\n",
    "\n",
    "img = cv2.imread('./fig3/lenna.bmp',0)\n",
    "img1=img.copy()\n",
    "\n",
    "cv2.imshow('image',img)\n",
    "cv2.createTrackbar('lv','image',0,255,ct)\n",
    "\n",
    "cv2.waitKey()\n",
    "cv2.destroyAllWindows()"
   ]
  },
  {
   "cell_type": "code",
   "execution_count": 5,
   "id": "6e6cb0a2",
   "metadata": {},
   "outputs": [],
   "source": [
    "src1 = cv2.imread('./fig3/lenna256.bmp',0)\n",
    "src2=np.zeros((256,256),np.uint8)\n",
    "cv2.circle(src2,(128,128),100,200,-1)\n",
    "cv2.circle(src2,(128,128),50,50,-1)\n",
    "\n",
    "dst1 = cv2.add(src1,src2)\n",
    "dst2 = cv2.subtract(src1,src2)\n",
    "dst3 = cv2.addWeighted(src1,0.5,src2,0.5,0)\n",
    "dst4 = cv2.absdiff(src1,src2)\n",
    "\n",
    "cv2.imshow('src1',src1)\n",
    "cv2.imshow('src2',src2)\n",
    "cv2.imshow('dst1',dst1)\n",
    "cv2.imshow('dst2',dst2)\n",
    "cv2.imshow('dst3',dst3)\n",
    "cv2.imshow('dst4',dst4)\n",
    "\n",
    "cv2.waitKey()\n",
    "cv2.destroyAllWindows()"
   ]
  },
  {
   "cell_type": "code",
   "execution_count": 6,
   "id": "f6716be3",
   "metadata": {},
   "outputs": [],
   "source": [
    "img = cv2.imread('./fig3/flowers.jpg')\n",
    "b,g,r=cv2.split(img)\n",
    "\n",
    "cv2.imshow('img',img)\n",
    "cv2.imshow('b',b)\n",
    "cv2.imshow('g',g)\n",
    "cv2.imshow('r',r)\n",
    "\n",
    "cv2.waitKey()\n",
    "cv2.destroyAllWindows()"
   ]
  },
  {
   "cell_type": "code",
   "execution_count": 3,
   "id": "c2a2abfe",
   "metadata": {},
   "outputs": [],
   "source": [
    "import matplotlib.pyplot as plt"
   ]
  },
  {
   "cell_type": "code",
   "execution_count": 7,
   "id": "c0bcbb38",
   "metadata": {
    "scrolled": true
   },
   "outputs": [
    {
     "data": {
      "image/png": "[encoded data removed]",
      "text/plain": [
       "<Figure size 432x288 with 1 Axes>"
      ]
     },
     "metadata": {
      "needs_background": "light"
     },
     "output_type": "display_data"
    }
   ],
   "source": [
    "img = cv2.imread('./fig3/lenna.bmp',1)\n",
    "\n",
    "# calcHist(images, channels, mask, histSize, ranges[, hist[, accumulate]]) -> hist\n",
    "hist_b = cv2.calcHist([img],[0],None,[256],[0,256])\n",
    "hist_g = cv2.calcHist([img],[1],None,[256],[0,256])\n",
    "hist_r = cv2.calcHist([img],[2],None,[256],[0,256])\n",
    "\n",
    "plt.plot(hist_b,color='b')\n",
    "plt.plot(hist_g,color='g')\n",
    "plt.plot(hist_r,color='r')\n",
    "plt.show()\n",
    "\n",
    "cv2.imshow('image',img)\n",
    "\n",
    "cv2.waitKey()\n",
    "cv2.destroyAllWindows()"
   ]
  },
  {
   "cell_type": "code",
   "execution_count": 10,
   "id": "ed3e3231",
   "metadata": {},
   "outputs": [],
   "source": [
    "import sys\n",
    "import numpy as np\n",
    "import matplotlib.pyplot as plt\n",
    "import cv2\n",
    "\n",
    "\n",
    "def getGrayHistImage(hist):\n",
    "    imgHist = np.full((200, 256), 255, dtype=np.uint8)\n",
    "\n",
    "    histMax = np.max(hist)\n",
    "    for x in range(256):\n",
    "        pt1 = (x, 200)\n",
    "        pt2 = (x, 200 - int(hist[x, 0] * 200 / histMax))\n",
    "        cv2.line(imgHist, pt1, pt2, 0)\n",
    "\n",
    "    return imgHist\n",
    "\n",
    "\n",
    "src = cv2.imread('./fig3/lenna.bmp', cv2.IMREAD_GRAYSCALE)\n",
    "\n",
    "if src is None:\n",
    "    print('Image load failed!')\n",
    "    sys.exit()\n",
    "\n",
    "hist = cv2.calcHist([src], [0], None, [256], [0, 256])\n",
    "histImg = getGrayHistImage(hist)\n",
    "\n",
    "cv2.imshow('src', src)\n",
    "cv2.imshow('histImg', histImg)\n",
    "cv2.waitKey()\n",
    "\n",
    "cv2.destroyAllWindows()"
   ]
  },
  {
   "cell_type": "code",
   "execution_count": null,
   "id": "d1a73cfa",
   "metadata": {},
   "outputs": [],
   "source": []
  },
  {
   "cell_type": "code",
   "execution_count": 52,
   "id": "9e252c6a",
   "metadata": {
    "scrolled": true
   },
   "outputs": [
    {
     "data": {
      "image/png": "[encoded data removed]",
      "text/plain": [
       "<Figure size 432x288 with 1 Axes>"
      ]
     },
     "metadata": {
      "needs_background": "light"
     },
     "output_type": "display_data"
    }
   ],
   "source": [
    "# src=cv2.imread('./fig4/puppy_shrink.png',0)\n",
    "src=cv2.imread('./fig4/manjang.jpg',cv2.IMREAD_REDUCED_GRAYSCALE_2)\n",
    "\n",
    "\n",
    "# minMaxLoc(src[, mask]) -> minVal, maxVal, minLoc, maxLoc\n",
    "minVal, maxVal, minLoc, maxLoc = cv2.minMaxLoc(src)\n",
    "# print(minVal,maxVal)\n",
    "\n",
    "dst_norm = np.clip((src-minVal)*255./(maxVal-minVal),0,255).astype(np.uint8)\n",
    "\n",
    "# normalize(src, dst[, alpha[, beta[, norm_type[, dtype[, mask]]]]]) -> dst\n",
    "# dst_norm = cv2.normalize(src,None,0,255,cv2.NORM_MINMAX,-1)\n",
    "dst_equal = cv2.equalizeHist(src)\n",
    "\n",
    "hist = cv2.calcHist([src],[0],None,[256],[0,256])\n",
    "hist_norm = cv2.calcHist([dst_norm],[0],None,[256],[0,256])\n",
    "hist_equal =cv2.calcHist([dst_equal],[0],None,[256],[0,256])\n",
    "\n",
    "plt.plot(hist,color='b')\n",
    "plt.plot(hist_norm,color='r')\n",
    "plt.plot(hist_equal,color='g')\n",
    "plt.show()\n",
    "\n",
    "cv2.imshow('src',src)\n",
    "cv2.imshow('dst_norm',dst_norm)\n",
    "cv2.imshow('dst_equal',dst_equal)\n",
    "\n",
    "cv2.waitKey()\n",
    "cv2.destroyAllWindows()"
   ]
  },
  {
   "cell_type": "code",
   "execution_count": 38,
   "id": "8d4e3fe1",
   "metadata": {},
   "outputs": [],
   "source": [
    "src = cv2.imread('./fig4/spring_in_park.jpg',cv2.IMREAD_REDUCED_COLOR_4)\n",
    "src_hsv = cv2.cvtColor(src,cv2.COLOR_BGR2HSV)\n",
    "\n",
    "h,s,v = cv2.split(src_hsv)\n",
    "\n",
    "# normalize(src, dst[, alpha[, beta[, norm_type[, dtype[, mask]]]]]) -> dst\n",
    "v_norm = cv2.normalize(v,None,0,255,cv2.NORM_MINMAX,-1)\n",
    "v_equal = cv2.equalizeHist(v)\n",
    "\n",
    "dst_norm = cv2.merge((h,s,v_norm))\n",
    "dst_norm = cv2.cvtColor(dst_norm,cv2.COLOR_HSV2BGR)\n",
    "dst_equal = cv2.merge((h,s,v_equal))\n",
    "dst_equal = cv2.cvtColor(dst_equal,cv2.COLOR_HSV2BGR)\n",
    "\n",
    "cv2.imshow('src',src)\n",
    "cv2.imshow('h',h)\n",
    "cv2.imshow('s',s)\n",
    "cv2.imshow('v',v)\n",
    "cv2.imshow('dn',dst_norm)\n",
    "cv2.imshow('de',dst_equal)\n",
    "\n",
    "cv2.waitKey()\n",
    "cv2.destroyAllWindows()"
   ]
  },
  {
   "cell_type": "code",
   "execution_count": 142,
   "id": "4bc769aa",
   "metadata": {},
   "outputs": [],
   "source": [
    "src = cv2.imread('./fig4/palette.png',cv2.IMREAD_REDUCED_COLOR_2)\n",
    "# src = cv2.imread('./fig4/palette_dark.png',cv2.IMREAD_REDUCED_COLOR_2)\n",
    "src_hsv = cv2.cvtColor(src,cv2.COLOR_BGR2HSV)\n",
    "\n",
    "# inRange(src, lowerb, upperb[, dst]) -> dst\n",
    "dst1 = cv2.inRange(src,(0,100,0),(100,255,100))\n",
    "dst2 = cv2.inRange(src_hsv,(45,150,0),(75,255,255))\n",
    "\n",
    "dst = cv2.copyTo(src,dst2)\n",
    "\n",
    "cv2.imshow('src',src)\n",
    "cv2.imshow('dst1',dst1)\n",
    "cv2.imshow('dst2',dst2)\n",
    "cv2.imshow('dst',dst)\n",
    "\n",
    "cv2.waitKey()\n",
    "cv2.destroyAllWindows()"
   ]
  },
  {
   "cell_type": "code",
   "execution_count": 129,
   "id": "775f4339",
   "metadata": {
    "scrolled": true
   },
   "outputs": [
    {
     "ename": "error",
     "evalue": "OpenCV(4.6.0) D:\\a\\opencv-python\\opencv-python\\opencv\\modules\\highgui\\src\\window.cpp:862: error: (-215:Assertion failed) trackbar in function 'cv::getTrackbarPos'\n",
     "output_type": "error",
     "traceback": [
      "\u001b[1;31m---------------------------------------------------------------------------\u001b[0m",
      "\u001b[1;31merror\u001b[0m                                     Traceback (most recent call last)",
      "Input \u001b[1;32mIn [129]\u001b[0m, in \u001b[0;36mct\u001b[1;34m(pos)\u001b[0m\n\u001b[0;32m      1\u001b[0m \u001b[38;5;28;01mdef\u001b[39;00m \u001b[38;5;21mct\u001b[39m(pos):\n\u001b[0;32m      2\u001b[0m     hmin \u001b[38;5;241m=\u001b[39m cv2\u001b[38;5;241m.\u001b[39mgetTrackbarPos(\u001b[38;5;124m'\u001b[39m\u001b[38;5;124mh_min\u001b[39m\u001b[38;5;124m'\u001b[39m,\u001b[38;5;124m'\u001b[39m\u001b[38;5;124mdst\u001b[39m\u001b[38;5;124m'\u001b[39m)\n\u001b[1;32m----> 3\u001b[0m     hmax \u001b[38;5;241m=\u001b[39m \u001b[43mcv2\u001b[49m\u001b[38;5;241;43m.\u001b[39;49m\u001b[43mgetTrackbarPos\u001b[49m\u001b[43m(\u001b[49m\u001b[38;5;124;43m'\u001b[39;49m\u001b[38;5;124;43mh_max\u001b[39;49m\u001b[38;5;124;43m'\u001b[39;49m\u001b[43m,\u001b[49m\u001b[38;5;124;43m'\u001b[39;49m\u001b[38;5;124;43mdst\u001b[39;49m\u001b[38;5;124;43m'\u001b[39;49m\u001b[43m)\u001b[49m\n\u001b[0;32m      5\u001b[0m     dst \u001b[38;5;241m=\u001b[39m cv2\u001b[38;5;241m.\u001b[39minRange(src,(hmin,\u001b[38;5;241m150\u001b[39m,\u001b[38;5;241m0\u001b[39m),(hmax,\u001b[38;5;241m255\u001b[39m,\u001b[38;5;241m255\u001b[39m))\n\u001b[0;32m      6\u001b[0m     cv2\u001b[38;5;241m.\u001b[39mimshow(\u001b[38;5;124m'\u001b[39m\u001b[38;5;124mdst\u001b[39m\u001b[38;5;124m'\u001b[39m,dst)\n",
      "\u001b[1;31merror\u001b[0m: OpenCV(4.6.0) D:\\a\\opencv-python\\opencv-python\\opencv\\modules\\highgui\\src\\window.cpp:862: error: (-215:Assertion failed) trackbar in function 'cv::getTrackbarPos'\n"
     ]
    }
   ],
   "source": [
    "def ct(pos):\n",
    "    hmin = cv2.getTrackbarPos('h_min','dst')\n",
    "    hmax = cv2.getTrackbarPos('h_max','dst')\n",
    "    \n",
    "    dst = cv2.inRange(src,(hmin,150,0),(hmax,255,255))\n",
    "    cv2.imshow('dst',dst)\n",
    "    \n",
    "src = cv2.imread('./fig4/palette.png',cv2.IMREAD_REDUCED_COLOR_2)\n",
    "\n",
    "cv2.imshow('src',src)\n",
    "cv2.namedWindow('dst',cv2.WINDOW_NORMAL)\n",
    "cv2.createTrackbar('h_min','dst',50,179,ct)\n",
    "cv2.createTrackbar('h_max','dst',50,179,ct)\n",
    "\n",
    "cv2.waitKey()\n",
    "cv2.destroyAllWindows()\n"
   ]
  },
  {
   "cell_type": "code",
   "execution_count": 128,
   "id": "a48eb1d1",
   "metadata": {},
   "outputs": [
    {
     "ename": "error",
     "evalue": "OpenCV(4.6.0) :-1: error: (-5:Bad argument) in function 'inRange'\n> Overload resolution failed:\n>  - lowerb is not a numerical tuple\n>  - Expected Ptr<cv::UMat> for argument 'lowerb'\n",
     "output_type": "error",
     "traceback": [
      "\u001b[1;31m---------------------------------------------------------------------------\u001b[0m",
      "\u001b[1;31merror\u001b[0m                                     Traceback (most recent call last)",
      "Input \u001b[1;32mIn [128]\u001b[0m, in \u001b[0;36mct\u001b[1;34m(pos)\u001b[0m\n\u001b[0;32m      8\u001b[0m     vmax \u001b[38;5;241m=\u001b[39m cv2\u001b[38;5;241m.\u001b[39mgetTrackbarPos(\u001b[38;5;124m'\u001b[39m\u001b[38;5;124mv_max\u001b[39m\u001b[38;5;124m'\u001b[39m,\u001b[38;5;124m'\u001b[39m\u001b[38;5;124msrc1\u001b[39m\u001b[38;5;124m'\u001b[39m)\n\u001b[0;32m     10\u001b[0m \u001b[38;5;66;03m#     mask = cv2.inRange(src,(hmin,smin,vmin),(hmax,smax,vmax))\u001b[39;00m\n\u001b[0;32m     11\u001b[0m \u001b[38;5;66;03m#     mask = cv2.inRange(src,(hmin,150,0),(hmax,255,255))\u001b[39;00m\n\u001b[1;32m---> 12\u001b[0m     cv2\u001b[38;5;241m.\u001b[39mcopyTo(src,\u001b[43mcv2\u001b[49m\u001b[38;5;241;43m.\u001b[39;49m\u001b[43minRange\u001b[49m\u001b[43m(\u001b[49m\u001b[43msrc\u001b[49m\u001b[43m,\u001b[49m\u001b[43m(\u001b[49m\u001b[43m(\u001b[49m\u001b[43mhmin\u001b[49m\u001b[43m,\u001b[49m\u001b[43msmin\u001b[49m\u001b[43m,\u001b[49m\u001b[43mvmin\u001b[49m\u001b[43m)\u001b[49m\u001b[43m,\u001b[49m\u001b[43m(\u001b[49m\u001b[43mhmax\u001b[49m\u001b[43m,\u001b[49m\u001b[43msmax\u001b[49m\u001b[43m,\u001b[49m\u001b[43mvmax\u001b[49m\u001b[43m)\u001b[49m\u001b[43m)\u001b[49m\u001b[43m,\u001b[49m\u001b[43msrc1\u001b[49m\u001b[43m[\u001b[49m\u001b[38;5;241;43m0\u001b[39;49m\u001b[43m:\u001b[49m\u001b[38;5;241;43m186\u001b[39;49m\u001b[43m,\u001b[49m\u001b[38;5;241;43m0\u001b[39;49m\u001b[43m:\u001b[49m\u001b[38;5;241;43m320\u001b[39;49m\u001b[43m]\u001b[49m\u001b[43m)\u001b[49m)\n\u001b[0;32m     13\u001b[0m     cv2\u001b[38;5;241m.\u001b[39mimshow(\u001b[38;5;124m'\u001b[39m\u001b[38;5;124msrc1\u001b[39m\u001b[38;5;124m'\u001b[39m,src1)\n",
      "\u001b[1;31merror\u001b[0m: OpenCV(4.6.0) :-1: error: (-5:Bad argument) in function 'inRange'\n> Overload resolution failed:\n>  - lowerb is not a numerical tuple\n>  - Expected Ptr<cv::UMat> for argument 'lowerb'\n"
     ]
    },
    {
     "ename": "error",
     "evalue": "OpenCV(4.6.0) :-1: error: (-5:Bad argument) in function 'inRange'\n> Overload resolution failed:\n>  - lowerb is not a numerical tuple\n>  - Expected Ptr<cv::UMat> for argument 'lowerb'\n",
     "output_type": "error",
     "traceback": [
      "\u001b[1;31m---------------------------------------------------------------------------\u001b[0m",
      "\u001b[1;31merror\u001b[0m                                     Traceback (most recent call last)",
      "Input \u001b[1;32mIn [128]\u001b[0m, in \u001b[0;36mct\u001b[1;34m(pos)\u001b[0m\n\u001b[0;32m      8\u001b[0m     vmax \u001b[38;5;241m=\u001b[39m cv2\u001b[38;5;241m.\u001b[39mgetTrackbarPos(\u001b[38;5;124m'\u001b[39m\u001b[38;5;124mv_max\u001b[39m\u001b[38;5;124m'\u001b[39m,\u001b[38;5;124m'\u001b[39m\u001b[38;5;124msrc1\u001b[39m\u001b[38;5;124m'\u001b[39m)\n\u001b[0;32m     10\u001b[0m \u001b[38;5;66;03m#     mask = cv2.inRange(src,(hmin,smin,vmin),(hmax,smax,vmax))\u001b[39;00m\n\u001b[0;32m     11\u001b[0m \u001b[38;5;66;03m#     mask = cv2.inRange(src,(hmin,150,0),(hmax,255,255))\u001b[39;00m\n\u001b[1;32m---> 12\u001b[0m     cv2\u001b[38;5;241m.\u001b[39mcopyTo(src,\u001b[43mcv2\u001b[49m\u001b[38;5;241;43m.\u001b[39;49m\u001b[43minRange\u001b[49m\u001b[43m(\u001b[49m\u001b[43msrc\u001b[49m\u001b[43m,\u001b[49m\u001b[43m(\u001b[49m\u001b[43m(\u001b[49m\u001b[43mhmin\u001b[49m\u001b[43m,\u001b[49m\u001b[43msmin\u001b[49m\u001b[43m,\u001b[49m\u001b[43mvmin\u001b[49m\u001b[43m)\u001b[49m\u001b[43m,\u001b[49m\u001b[43m(\u001b[49m\u001b[43mhmax\u001b[49m\u001b[43m,\u001b[49m\u001b[43msmax\u001b[49m\u001b[43m,\u001b[49m\u001b[43mvmax\u001b[49m\u001b[43m)\u001b[49m\u001b[43m)\u001b[49m\u001b[43m,\u001b[49m\u001b[43msrc1\u001b[49m\u001b[43m[\u001b[49m\u001b[38;5;241;43m0\u001b[39;49m\u001b[43m:\u001b[49m\u001b[38;5;241;43m186\u001b[39;49m\u001b[43m,\u001b[49m\u001b[38;5;241;43m0\u001b[39;49m\u001b[43m:\u001b[49m\u001b[38;5;241;43m320\u001b[39;49m\u001b[43m]\u001b[49m\u001b[43m)\u001b[49m)\n\u001b[0;32m     13\u001b[0m     cv2\u001b[38;5;241m.\u001b[39mimshow(\u001b[38;5;124m'\u001b[39m\u001b[38;5;124msrc1\u001b[39m\u001b[38;5;124m'\u001b[39m,src1)\n",
      "\u001b[1;31merror\u001b[0m: OpenCV(4.6.0) :-1: error: (-5:Bad argument) in function 'inRange'\n> Overload resolution failed:\n>  - lowerb is not a numerical tuple\n>  - Expected Ptr<cv::UMat> for argument 'lowerb'\n"
     ]
    },
    {
     "ename": "error",
     "evalue": "OpenCV(4.6.0) :-1: error: (-5:Bad argument) in function 'inRange'\n> Overload resolution failed:\n>  - lowerb is not a numerical tuple\n>  - Expected Ptr<cv::UMat> for argument 'lowerb'\n",
     "output_type": "error",
     "traceback": [
      "\u001b[1;31m---------------------------------------------------------------------------\u001b[0m",
      "\u001b[1;31merror\u001b[0m                                     Traceback (most recent call last)",
      "Input \u001b[1;32mIn [128]\u001b[0m, in \u001b[0;36mct\u001b[1;34m(pos)\u001b[0m\n\u001b[0;32m      8\u001b[0m     vmax \u001b[38;5;241m=\u001b[39m cv2\u001b[38;5;241m.\u001b[39mgetTrackbarPos(\u001b[38;5;124m'\u001b[39m\u001b[38;5;124mv_max\u001b[39m\u001b[38;5;124m'\u001b[39m,\u001b[38;5;124m'\u001b[39m\u001b[38;5;124msrc1\u001b[39m\u001b[38;5;124m'\u001b[39m)\n\u001b[0;32m     10\u001b[0m \u001b[38;5;66;03m#     mask = cv2.inRange(src,(hmin,smin,vmin),(hmax,smax,vmax))\u001b[39;00m\n\u001b[0;32m     11\u001b[0m \u001b[38;5;66;03m#     mask = cv2.inRange(src,(hmin,150,0),(hmax,255,255))\u001b[39;00m\n\u001b[1;32m---> 12\u001b[0m     cv2\u001b[38;5;241m.\u001b[39mcopyTo(src,\u001b[43mcv2\u001b[49m\u001b[38;5;241;43m.\u001b[39;49m\u001b[43minRange\u001b[49m\u001b[43m(\u001b[49m\u001b[43msrc\u001b[49m\u001b[43m,\u001b[49m\u001b[43m(\u001b[49m\u001b[43m(\u001b[49m\u001b[43mhmin\u001b[49m\u001b[43m,\u001b[49m\u001b[43msmin\u001b[49m\u001b[43m,\u001b[49m\u001b[43mvmin\u001b[49m\u001b[43m)\u001b[49m\u001b[43m,\u001b[49m\u001b[43m(\u001b[49m\u001b[43mhmax\u001b[49m\u001b[43m,\u001b[49m\u001b[43msmax\u001b[49m\u001b[43m,\u001b[49m\u001b[43mvmax\u001b[49m\u001b[43m)\u001b[49m\u001b[43m)\u001b[49m\u001b[43m,\u001b[49m\u001b[43msrc1\u001b[49m\u001b[43m[\u001b[49m\u001b[38;5;241;43m0\u001b[39;49m\u001b[43m:\u001b[49m\u001b[38;5;241;43m186\u001b[39;49m\u001b[43m,\u001b[49m\u001b[38;5;241;43m0\u001b[39;49m\u001b[43m:\u001b[49m\u001b[38;5;241;43m320\u001b[39;49m\u001b[43m]\u001b[49m\u001b[43m)\u001b[49m)\n\u001b[0;32m     13\u001b[0m     cv2\u001b[38;5;241m.\u001b[39mimshow(\u001b[38;5;124m'\u001b[39m\u001b[38;5;124msrc1\u001b[39m\u001b[38;5;124m'\u001b[39m,src1)\n",
      "\u001b[1;31merror\u001b[0m: OpenCV(4.6.0) :-1: error: (-5:Bad argument) in function 'inRange'\n> Overload resolution failed:\n>  - lowerb is not a numerical tuple\n>  - Expected Ptr<cv::UMat> for argument 'lowerb'\n"
     ]
    },
    {
     "ename": "error",
     "evalue": "OpenCV(4.6.0) :-1: error: (-5:Bad argument) in function 'inRange'\n> Overload resolution failed:\n>  - lowerb is not a numerical tuple\n>  - Expected Ptr<cv::UMat> for argument 'lowerb'\n",
     "output_type": "error",
     "traceback": [
      "\u001b[1;31m---------------------------------------------------------------------------\u001b[0m",
      "\u001b[1;31merror\u001b[0m                                     Traceback (most recent call last)",
      "Input \u001b[1;32mIn [128]\u001b[0m, in \u001b[0;36mct\u001b[1;34m(pos)\u001b[0m\n\u001b[0;32m      8\u001b[0m     vmax \u001b[38;5;241m=\u001b[39m cv2\u001b[38;5;241m.\u001b[39mgetTrackbarPos(\u001b[38;5;124m'\u001b[39m\u001b[38;5;124mv_max\u001b[39m\u001b[38;5;124m'\u001b[39m,\u001b[38;5;124m'\u001b[39m\u001b[38;5;124msrc1\u001b[39m\u001b[38;5;124m'\u001b[39m)\n\u001b[0;32m     10\u001b[0m \u001b[38;5;66;03m#     mask = cv2.inRange(src,(hmin,smin,vmin),(hmax,smax,vmax))\u001b[39;00m\n\u001b[0;32m     11\u001b[0m \u001b[38;5;66;03m#     mask = cv2.inRange(src,(hmin,150,0),(hmax,255,255))\u001b[39;00m\n\u001b[1;32m---> 12\u001b[0m     cv2\u001b[38;5;241m.\u001b[39mcopyTo(src,\u001b[43mcv2\u001b[49m\u001b[38;5;241;43m.\u001b[39;49m\u001b[43minRange\u001b[49m\u001b[43m(\u001b[49m\u001b[43msrc\u001b[49m\u001b[43m,\u001b[49m\u001b[43m(\u001b[49m\u001b[43m(\u001b[49m\u001b[43mhmin\u001b[49m\u001b[43m,\u001b[49m\u001b[43msmin\u001b[49m\u001b[43m,\u001b[49m\u001b[43mvmin\u001b[49m\u001b[43m)\u001b[49m\u001b[43m,\u001b[49m\u001b[43m(\u001b[49m\u001b[43mhmax\u001b[49m\u001b[43m,\u001b[49m\u001b[43msmax\u001b[49m\u001b[43m,\u001b[49m\u001b[43mvmax\u001b[49m\u001b[43m)\u001b[49m\u001b[43m)\u001b[49m\u001b[43m,\u001b[49m\u001b[43msrc1\u001b[49m\u001b[43m[\u001b[49m\u001b[38;5;241;43m0\u001b[39;49m\u001b[43m:\u001b[49m\u001b[38;5;241;43m186\u001b[39;49m\u001b[43m,\u001b[49m\u001b[38;5;241;43m0\u001b[39;49m\u001b[43m:\u001b[49m\u001b[38;5;241;43m320\u001b[39;49m\u001b[43m]\u001b[49m\u001b[43m)\u001b[49m)\n\u001b[0;32m     13\u001b[0m     cv2\u001b[38;5;241m.\u001b[39mimshow(\u001b[38;5;124m'\u001b[39m\u001b[38;5;124msrc1\u001b[39m\u001b[38;5;124m'\u001b[39m,src1)\n",
      "\u001b[1;31merror\u001b[0m: OpenCV(4.6.0) :-1: error: (-5:Bad argument) in function 'inRange'\n> Overload resolution failed:\n>  - lowerb is not a numerical tuple\n>  - Expected Ptr<cv::UMat> for argument 'lowerb'\n"
     ]
    },
    {
     "ename": "error",
     "evalue": "OpenCV(4.6.0) :-1: error: (-5:Bad argument) in function 'inRange'\n> Overload resolution failed:\n>  - lowerb is not a numerical tuple\n>  - Expected Ptr<cv::UMat> for argument 'lowerb'\n",
     "output_type": "error",
     "traceback": [
      "\u001b[1;31m---------------------------------------------------------------------------\u001b[0m",
      "\u001b[1;31merror\u001b[0m                                     Traceback (most recent call last)",
      "Input \u001b[1;32mIn [128]\u001b[0m, in \u001b[0;36mct\u001b[1;34m(pos)\u001b[0m\n\u001b[0;32m      8\u001b[0m     vmax \u001b[38;5;241m=\u001b[39m cv2\u001b[38;5;241m.\u001b[39mgetTrackbarPos(\u001b[38;5;124m'\u001b[39m\u001b[38;5;124mv_max\u001b[39m\u001b[38;5;124m'\u001b[39m,\u001b[38;5;124m'\u001b[39m\u001b[38;5;124msrc1\u001b[39m\u001b[38;5;124m'\u001b[39m)\n\u001b[0;32m     10\u001b[0m \u001b[38;5;66;03m#     mask = cv2.inRange(src,(hmin,smin,vmin),(hmax,smax,vmax))\u001b[39;00m\n\u001b[0;32m     11\u001b[0m \u001b[38;5;66;03m#     mask = cv2.inRange(src,(hmin,150,0),(hmax,255,255))\u001b[39;00m\n\u001b[1;32m---> 12\u001b[0m     cv2\u001b[38;5;241m.\u001b[39mcopyTo(src,\u001b[43mcv2\u001b[49m\u001b[38;5;241;43m.\u001b[39;49m\u001b[43minRange\u001b[49m\u001b[43m(\u001b[49m\u001b[43msrc\u001b[49m\u001b[43m,\u001b[49m\u001b[43m(\u001b[49m\u001b[43m(\u001b[49m\u001b[43mhmin\u001b[49m\u001b[43m,\u001b[49m\u001b[43msmin\u001b[49m\u001b[43m,\u001b[49m\u001b[43mvmin\u001b[49m\u001b[43m)\u001b[49m\u001b[43m,\u001b[49m\u001b[43m(\u001b[49m\u001b[43mhmax\u001b[49m\u001b[43m,\u001b[49m\u001b[43msmax\u001b[49m\u001b[43m,\u001b[49m\u001b[43mvmax\u001b[49m\u001b[43m)\u001b[49m\u001b[43m)\u001b[49m\u001b[43m,\u001b[49m\u001b[43msrc1\u001b[49m\u001b[43m[\u001b[49m\u001b[38;5;241;43m0\u001b[39;49m\u001b[43m:\u001b[49m\u001b[38;5;241;43m186\u001b[39;49m\u001b[43m,\u001b[49m\u001b[38;5;241;43m0\u001b[39;49m\u001b[43m:\u001b[49m\u001b[38;5;241;43m320\u001b[39;49m\u001b[43m]\u001b[49m\u001b[43m)\u001b[49m)\n\u001b[0;32m     13\u001b[0m     cv2\u001b[38;5;241m.\u001b[39mimshow(\u001b[38;5;124m'\u001b[39m\u001b[38;5;124msrc1\u001b[39m\u001b[38;5;124m'\u001b[39m,src1)\n",
      "\u001b[1;31merror\u001b[0m: OpenCV(4.6.0) :-1: error: (-5:Bad argument) in function 'inRange'\n> Overload resolution failed:\n>  - lowerb is not a numerical tuple\n>  - Expected Ptr<cv::UMat> for argument 'lowerb'\n"
     ]
    },
    {
     "ename": "error",
     "evalue": "OpenCV(4.6.0) :-1: error: (-5:Bad argument) in function 'inRange'\n> Overload resolution failed:\n>  - lowerb is not a numerical tuple\n>  - Expected Ptr<cv::UMat> for argument 'lowerb'\n",
     "output_type": "error",
     "traceback": [
      "\u001b[1;31m---------------------------------------------------------------------------\u001b[0m",
      "\u001b[1;31merror\u001b[0m                                     Traceback (most recent call last)",
      "Input \u001b[1;32mIn [128]\u001b[0m, in \u001b[0;36mct\u001b[1;34m(pos)\u001b[0m\n\u001b[0;32m      8\u001b[0m     vmax \u001b[38;5;241m=\u001b[39m cv2\u001b[38;5;241m.\u001b[39mgetTrackbarPos(\u001b[38;5;124m'\u001b[39m\u001b[38;5;124mv_max\u001b[39m\u001b[38;5;124m'\u001b[39m,\u001b[38;5;124m'\u001b[39m\u001b[38;5;124msrc1\u001b[39m\u001b[38;5;124m'\u001b[39m)\n\u001b[0;32m     10\u001b[0m \u001b[38;5;66;03m#     mask = cv2.inRange(src,(hmin,smin,vmin),(hmax,smax,vmax))\u001b[39;00m\n\u001b[0;32m     11\u001b[0m \u001b[38;5;66;03m#     mask = cv2.inRange(src,(hmin,150,0),(hmax,255,255))\u001b[39;00m\n\u001b[1;32m---> 12\u001b[0m     cv2\u001b[38;5;241m.\u001b[39mcopyTo(src,\u001b[43mcv2\u001b[49m\u001b[38;5;241;43m.\u001b[39;49m\u001b[43minRange\u001b[49m\u001b[43m(\u001b[49m\u001b[43msrc\u001b[49m\u001b[43m,\u001b[49m\u001b[43m(\u001b[49m\u001b[43m(\u001b[49m\u001b[43mhmin\u001b[49m\u001b[43m,\u001b[49m\u001b[43msmin\u001b[49m\u001b[43m,\u001b[49m\u001b[43mvmin\u001b[49m\u001b[43m)\u001b[49m\u001b[43m,\u001b[49m\u001b[43m(\u001b[49m\u001b[43mhmax\u001b[49m\u001b[43m,\u001b[49m\u001b[43msmax\u001b[49m\u001b[43m,\u001b[49m\u001b[43mvmax\u001b[49m\u001b[43m)\u001b[49m\u001b[43m)\u001b[49m\u001b[43m,\u001b[49m\u001b[43msrc1\u001b[49m\u001b[43m[\u001b[49m\u001b[38;5;241;43m0\u001b[39;49m\u001b[43m:\u001b[49m\u001b[38;5;241;43m186\u001b[39;49m\u001b[43m,\u001b[49m\u001b[38;5;241;43m0\u001b[39;49m\u001b[43m:\u001b[49m\u001b[38;5;241;43m320\u001b[39;49m\u001b[43m]\u001b[49m\u001b[43m)\u001b[49m)\n\u001b[0;32m     13\u001b[0m     cv2\u001b[38;5;241m.\u001b[39mimshow(\u001b[38;5;124m'\u001b[39m\u001b[38;5;124msrc1\u001b[39m\u001b[38;5;124m'\u001b[39m,src1)\n",
      "\u001b[1;31merror\u001b[0m: OpenCV(4.6.0) :-1: error: (-5:Bad argument) in function 'inRange'\n> Overload resolution failed:\n>  - lowerb is not a numerical tuple\n>  - Expected Ptr<cv::UMat> for argument 'lowerb'\n"
     ]
    },
    {
     "ename": "error",
     "evalue": "OpenCV(4.6.0) :-1: error: (-5:Bad argument) in function 'inRange'\n> Overload resolution failed:\n>  - lowerb is not a numerical tuple\n>  - Expected Ptr<cv::UMat> for argument 'lowerb'\n",
     "output_type": "error",
     "traceback": [
      "\u001b[1;31m---------------------------------------------------------------------------\u001b[0m",
      "\u001b[1;31merror\u001b[0m                                     Traceback (most recent call last)",
      "Input \u001b[1;32mIn [128]\u001b[0m, in \u001b[0;36mct\u001b[1;34m(pos)\u001b[0m\n\u001b[0;32m      8\u001b[0m     vmax \u001b[38;5;241m=\u001b[39m cv2\u001b[38;5;241m.\u001b[39mgetTrackbarPos(\u001b[38;5;124m'\u001b[39m\u001b[38;5;124mv_max\u001b[39m\u001b[38;5;124m'\u001b[39m,\u001b[38;5;124m'\u001b[39m\u001b[38;5;124msrc1\u001b[39m\u001b[38;5;124m'\u001b[39m)\n\u001b[0;32m     10\u001b[0m \u001b[38;5;66;03m#     mask = cv2.inRange(src,(hmin,smin,vmin),(hmax,smax,vmax))\u001b[39;00m\n\u001b[0;32m     11\u001b[0m \u001b[38;5;66;03m#     mask = cv2.inRange(src,(hmin,150,0),(hmax,255,255))\u001b[39;00m\n\u001b[1;32m---> 12\u001b[0m     cv2\u001b[38;5;241m.\u001b[39mcopyTo(src,\u001b[43mcv2\u001b[49m\u001b[38;5;241;43m.\u001b[39;49m\u001b[43minRange\u001b[49m\u001b[43m(\u001b[49m\u001b[43msrc\u001b[49m\u001b[43m,\u001b[49m\u001b[43m(\u001b[49m\u001b[43m(\u001b[49m\u001b[43mhmin\u001b[49m\u001b[43m,\u001b[49m\u001b[43msmin\u001b[49m\u001b[43m,\u001b[49m\u001b[43mvmin\u001b[49m\u001b[43m)\u001b[49m\u001b[43m,\u001b[49m\u001b[43m(\u001b[49m\u001b[43mhmax\u001b[49m\u001b[43m,\u001b[49m\u001b[43msmax\u001b[49m\u001b[43m,\u001b[49m\u001b[43mvmax\u001b[49m\u001b[43m)\u001b[49m\u001b[43m)\u001b[49m\u001b[43m,\u001b[49m\u001b[43msrc1\u001b[49m\u001b[43m[\u001b[49m\u001b[38;5;241;43m0\u001b[39;49m\u001b[43m:\u001b[49m\u001b[38;5;241;43m186\u001b[39;49m\u001b[43m,\u001b[49m\u001b[38;5;241;43m0\u001b[39;49m\u001b[43m:\u001b[49m\u001b[38;5;241;43m320\u001b[39;49m\u001b[43m]\u001b[49m\u001b[43m)\u001b[49m)\n\u001b[0;32m     13\u001b[0m     cv2\u001b[38;5;241m.\u001b[39mimshow(\u001b[38;5;124m'\u001b[39m\u001b[38;5;124msrc1\u001b[39m\u001b[38;5;124m'\u001b[39m,src1)\n",
      "\u001b[1;31merror\u001b[0m: OpenCV(4.6.0) :-1: error: (-5:Bad argument) in function 'inRange'\n> Overload resolution failed:\n>  - lowerb is not a numerical tuple\n>  - Expected Ptr<cv::UMat> for argument 'lowerb'\n"
     ]
    },
    {
     "ename": "error",
     "evalue": "OpenCV(4.6.0) :-1: error: (-5:Bad argument) in function 'inRange'\n> Overload resolution failed:\n>  - lowerb is not a numerical tuple\n>  - Expected Ptr<cv::UMat> for argument 'lowerb'\n",
     "output_type": "error",
     "traceback": [
      "\u001b[1;31m---------------------------------------------------------------------------\u001b[0m",
      "\u001b[1;31merror\u001b[0m                                     Traceback (most recent call last)",
      "Input \u001b[1;32mIn [128]\u001b[0m, in \u001b[0;36mct\u001b[1;34m(pos)\u001b[0m\n\u001b[0;32m      8\u001b[0m     vmax \u001b[38;5;241m=\u001b[39m cv2\u001b[38;5;241m.\u001b[39mgetTrackbarPos(\u001b[38;5;124m'\u001b[39m\u001b[38;5;124mv_max\u001b[39m\u001b[38;5;124m'\u001b[39m,\u001b[38;5;124m'\u001b[39m\u001b[38;5;124msrc1\u001b[39m\u001b[38;5;124m'\u001b[39m)\n\u001b[0;32m     10\u001b[0m \u001b[38;5;66;03m#     mask = cv2.inRange(src,(hmin,smin,vmin),(hmax,smax,vmax))\u001b[39;00m\n\u001b[0;32m     11\u001b[0m \u001b[38;5;66;03m#     mask = cv2.inRange(src,(hmin,150,0),(hmax,255,255))\u001b[39;00m\n\u001b[1;32m---> 12\u001b[0m     cv2\u001b[38;5;241m.\u001b[39mcopyTo(src,\u001b[43mcv2\u001b[49m\u001b[38;5;241;43m.\u001b[39;49m\u001b[43minRange\u001b[49m\u001b[43m(\u001b[49m\u001b[43msrc\u001b[49m\u001b[43m,\u001b[49m\u001b[43m(\u001b[49m\u001b[43m(\u001b[49m\u001b[43mhmin\u001b[49m\u001b[43m,\u001b[49m\u001b[43msmin\u001b[49m\u001b[43m,\u001b[49m\u001b[43mvmin\u001b[49m\u001b[43m)\u001b[49m\u001b[43m,\u001b[49m\u001b[43m(\u001b[49m\u001b[43mhmax\u001b[49m\u001b[43m,\u001b[49m\u001b[43msmax\u001b[49m\u001b[43m,\u001b[49m\u001b[43mvmax\u001b[49m\u001b[43m)\u001b[49m\u001b[43m)\u001b[49m\u001b[43m,\u001b[49m\u001b[43msrc1\u001b[49m\u001b[43m[\u001b[49m\u001b[38;5;241;43m0\u001b[39;49m\u001b[43m:\u001b[49m\u001b[38;5;241;43m186\u001b[39;49m\u001b[43m,\u001b[49m\u001b[38;5;241;43m0\u001b[39;49m\u001b[43m:\u001b[49m\u001b[38;5;241;43m320\u001b[39;49m\u001b[43m]\u001b[49m\u001b[43m)\u001b[49m)\n\u001b[0;32m     13\u001b[0m     cv2\u001b[38;5;241m.\u001b[39mimshow(\u001b[38;5;124m'\u001b[39m\u001b[38;5;124msrc1\u001b[39m\u001b[38;5;124m'\u001b[39m,src1)\n",
      "\u001b[1;31merror\u001b[0m: OpenCV(4.6.0) :-1: error: (-5:Bad argument) in function 'inRange'\n> Overload resolution failed:\n>  - lowerb is not a numerical tuple\n>  - Expected Ptr<cv::UMat> for argument 'lowerb'\n"
     ]
    },
    {
     "ename": "error",
     "evalue": "OpenCV(4.6.0) :-1: error: (-5:Bad argument) in function 'inRange'\n> Overload resolution failed:\n>  - lowerb is not a numerical tuple\n>  - Expected Ptr<cv::UMat> for argument 'lowerb'\n",
     "output_type": "error",
     "traceback": [
      "\u001b[1;31m---------------------------------------------------------------------------\u001b[0m",
      "\u001b[1;31merror\u001b[0m                                     Traceback (most recent call last)",
      "Input \u001b[1;32mIn [128]\u001b[0m, in \u001b[0;36mct\u001b[1;34m(pos)\u001b[0m\n\u001b[0;32m      8\u001b[0m     vmax \u001b[38;5;241m=\u001b[39m cv2\u001b[38;5;241m.\u001b[39mgetTrackbarPos(\u001b[38;5;124m'\u001b[39m\u001b[38;5;124mv_max\u001b[39m\u001b[38;5;124m'\u001b[39m,\u001b[38;5;124m'\u001b[39m\u001b[38;5;124msrc1\u001b[39m\u001b[38;5;124m'\u001b[39m)\n\u001b[0;32m     10\u001b[0m \u001b[38;5;66;03m#     mask = cv2.inRange(src,(hmin,smin,vmin),(hmax,smax,vmax))\u001b[39;00m\n\u001b[0;32m     11\u001b[0m \u001b[38;5;66;03m#     mask = cv2.inRange(src,(hmin,150,0),(hmax,255,255))\u001b[39;00m\n\u001b[1;32m---> 12\u001b[0m     cv2\u001b[38;5;241m.\u001b[39mcopyTo(src,\u001b[43mcv2\u001b[49m\u001b[38;5;241;43m.\u001b[39;49m\u001b[43minRange\u001b[49m\u001b[43m(\u001b[49m\u001b[43msrc\u001b[49m\u001b[43m,\u001b[49m\u001b[43m(\u001b[49m\u001b[43m(\u001b[49m\u001b[43mhmin\u001b[49m\u001b[43m,\u001b[49m\u001b[43msmin\u001b[49m\u001b[43m,\u001b[49m\u001b[43mvmin\u001b[49m\u001b[43m)\u001b[49m\u001b[43m,\u001b[49m\u001b[43m(\u001b[49m\u001b[43mhmax\u001b[49m\u001b[43m,\u001b[49m\u001b[43msmax\u001b[49m\u001b[43m,\u001b[49m\u001b[43mvmax\u001b[49m\u001b[43m)\u001b[49m\u001b[43m)\u001b[49m\u001b[43m,\u001b[49m\u001b[43msrc1\u001b[49m\u001b[43m[\u001b[49m\u001b[38;5;241;43m0\u001b[39;49m\u001b[43m:\u001b[49m\u001b[38;5;241;43m186\u001b[39;49m\u001b[43m,\u001b[49m\u001b[38;5;241;43m0\u001b[39;49m\u001b[43m:\u001b[49m\u001b[38;5;241;43m320\u001b[39;49m\u001b[43m]\u001b[49m\u001b[43m)\u001b[49m)\n\u001b[0;32m     13\u001b[0m     cv2\u001b[38;5;241m.\u001b[39mimshow(\u001b[38;5;124m'\u001b[39m\u001b[38;5;124msrc1\u001b[39m\u001b[38;5;124m'\u001b[39m,src1)\n",
      "\u001b[1;31merror\u001b[0m: OpenCV(4.6.0) :-1: error: (-5:Bad argument) in function 'inRange'\n> Overload resolution failed:\n>  - lowerb is not a numerical tuple\n>  - Expected Ptr<cv::UMat> for argument 'lowerb'\n"
     ]
    },
    {
     "ename": "error",
     "evalue": "OpenCV(4.6.0) :-1: error: (-5:Bad argument) in function 'inRange'\n> Overload resolution failed:\n>  - lowerb is not a numerical tuple\n>  - Expected Ptr<cv::UMat> for argument 'lowerb'\n",
     "output_type": "error",
     "traceback": [
      "\u001b[1;31m---------------------------------------------------------------------------\u001b[0m",
      "\u001b[1;31merror\u001b[0m                                     Traceback (most recent call last)",
      "Input \u001b[1;32mIn [128]\u001b[0m, in \u001b[0;36mct\u001b[1;34m(pos)\u001b[0m\n\u001b[0;32m      8\u001b[0m     vmax \u001b[38;5;241m=\u001b[39m cv2\u001b[38;5;241m.\u001b[39mgetTrackbarPos(\u001b[38;5;124m'\u001b[39m\u001b[38;5;124mv_max\u001b[39m\u001b[38;5;124m'\u001b[39m,\u001b[38;5;124m'\u001b[39m\u001b[38;5;124msrc1\u001b[39m\u001b[38;5;124m'\u001b[39m)\n\u001b[0;32m     10\u001b[0m \u001b[38;5;66;03m#     mask = cv2.inRange(src,(hmin,smin,vmin),(hmax,smax,vmax))\u001b[39;00m\n\u001b[0;32m     11\u001b[0m \u001b[38;5;66;03m#     mask = cv2.inRange(src,(hmin,150,0),(hmax,255,255))\u001b[39;00m\n\u001b[1;32m---> 12\u001b[0m     cv2\u001b[38;5;241m.\u001b[39mcopyTo(src,\u001b[43mcv2\u001b[49m\u001b[38;5;241;43m.\u001b[39;49m\u001b[43minRange\u001b[49m\u001b[43m(\u001b[49m\u001b[43msrc\u001b[49m\u001b[43m,\u001b[49m\u001b[43m(\u001b[49m\u001b[43m(\u001b[49m\u001b[43mhmin\u001b[49m\u001b[43m,\u001b[49m\u001b[43msmin\u001b[49m\u001b[43m,\u001b[49m\u001b[43mvmin\u001b[49m\u001b[43m)\u001b[49m\u001b[43m,\u001b[49m\u001b[43m(\u001b[49m\u001b[43mhmax\u001b[49m\u001b[43m,\u001b[49m\u001b[43msmax\u001b[49m\u001b[43m,\u001b[49m\u001b[43mvmax\u001b[49m\u001b[43m)\u001b[49m\u001b[43m)\u001b[49m\u001b[43m,\u001b[49m\u001b[43msrc1\u001b[49m\u001b[43m[\u001b[49m\u001b[38;5;241;43m0\u001b[39;49m\u001b[43m:\u001b[49m\u001b[38;5;241;43m186\u001b[39;49m\u001b[43m,\u001b[49m\u001b[38;5;241;43m0\u001b[39;49m\u001b[43m:\u001b[49m\u001b[38;5;241;43m320\u001b[39;49m\u001b[43m]\u001b[49m\u001b[43m)\u001b[49m)\n\u001b[0;32m     13\u001b[0m     cv2\u001b[38;5;241m.\u001b[39mimshow(\u001b[38;5;124m'\u001b[39m\u001b[38;5;124msrc1\u001b[39m\u001b[38;5;124m'\u001b[39m,src1)\n",
      "\u001b[1;31merror\u001b[0m: OpenCV(4.6.0) :-1: error: (-5:Bad argument) in function 'inRange'\n> Overload resolution failed:\n>  - lowerb is not a numerical tuple\n>  - Expected Ptr<cv::UMat> for argument 'lowerb'\n"
     ]
    },
    {
     "ename": "error",
     "evalue": "OpenCV(4.6.0) :-1: error: (-5:Bad argument) in function 'inRange'\n> Overload resolution failed:\n>  - lowerb is not a numerical tuple\n>  - Expected Ptr<cv::UMat> for argument 'lowerb'\n",
     "output_type": "error",
     "traceback": [
      "\u001b[1;31m---------------------------------------------------------------------------\u001b[0m",
      "\u001b[1;31merror\u001b[0m                                     Traceback (most recent call last)",
      "Input \u001b[1;32mIn [128]\u001b[0m, in \u001b[0;36mct\u001b[1;34m(pos)\u001b[0m\n\u001b[0;32m      8\u001b[0m     vmax \u001b[38;5;241m=\u001b[39m cv2\u001b[38;5;241m.\u001b[39mgetTrackbarPos(\u001b[38;5;124m'\u001b[39m\u001b[38;5;124mv_max\u001b[39m\u001b[38;5;124m'\u001b[39m,\u001b[38;5;124m'\u001b[39m\u001b[38;5;124msrc1\u001b[39m\u001b[38;5;124m'\u001b[39m)\n\u001b[0;32m     10\u001b[0m \u001b[38;5;66;03m#     mask = cv2.inRange(src,(hmin,smin,vmin),(hmax,smax,vmax))\u001b[39;00m\n\u001b[0;32m     11\u001b[0m \u001b[38;5;66;03m#     mask = cv2.inRange(src,(hmin,150,0),(hmax,255,255))\u001b[39;00m\n\u001b[1;32m---> 12\u001b[0m     cv2\u001b[38;5;241m.\u001b[39mcopyTo(src,\u001b[43mcv2\u001b[49m\u001b[38;5;241;43m.\u001b[39;49m\u001b[43minRange\u001b[49m\u001b[43m(\u001b[49m\u001b[43msrc\u001b[49m\u001b[43m,\u001b[49m\u001b[43m(\u001b[49m\u001b[43m(\u001b[49m\u001b[43mhmin\u001b[49m\u001b[43m,\u001b[49m\u001b[43msmin\u001b[49m\u001b[43m,\u001b[49m\u001b[43mvmin\u001b[49m\u001b[43m)\u001b[49m\u001b[43m,\u001b[49m\u001b[43m(\u001b[49m\u001b[43mhmax\u001b[49m\u001b[43m,\u001b[49m\u001b[43msmax\u001b[49m\u001b[43m,\u001b[49m\u001b[43mvmax\u001b[49m\u001b[43m)\u001b[49m\u001b[43m)\u001b[49m\u001b[43m,\u001b[49m\u001b[43msrc1\u001b[49m\u001b[43m[\u001b[49m\u001b[38;5;241;43m0\u001b[39;49m\u001b[43m:\u001b[49m\u001b[38;5;241;43m186\u001b[39;49m\u001b[43m,\u001b[49m\u001b[38;5;241;43m0\u001b[39;49m\u001b[43m:\u001b[49m\u001b[38;5;241;43m320\u001b[39;49m\u001b[43m]\u001b[49m\u001b[43m)\u001b[49m)\n\u001b[0;32m     13\u001b[0m     cv2\u001b[38;5;241m.\u001b[39mimshow(\u001b[38;5;124m'\u001b[39m\u001b[38;5;124msrc1\u001b[39m\u001b[38;5;124m'\u001b[39m,src1)\n",
      "\u001b[1;31merror\u001b[0m: OpenCV(4.6.0) :-1: error: (-5:Bad argument) in function 'inRange'\n> Overload resolution failed:\n>  - lowerb is not a numerical tuple\n>  - Expected Ptr<cv::UMat> for argument 'lowerb'\n"
     ]
    },
    {
     "ename": "error",
     "evalue": "OpenCV(4.6.0) :-1: error: (-5:Bad argument) in function 'inRange'\n> Overload resolution failed:\n>  - lowerb is not a numerical tuple\n>  - Expected Ptr<cv::UMat> for argument 'lowerb'\n",
     "output_type": "error",
     "traceback": [
      "\u001b[1;31m---------------------------------------------------------------------------\u001b[0m",
      "\u001b[1;31merror\u001b[0m                                     Traceback (most recent call last)",
      "Input \u001b[1;32mIn [128]\u001b[0m, in \u001b[0;36mct\u001b[1;34m(pos)\u001b[0m\n\u001b[0;32m      8\u001b[0m     vmax \u001b[38;5;241m=\u001b[39m cv2\u001b[38;5;241m.\u001b[39mgetTrackbarPos(\u001b[38;5;124m'\u001b[39m\u001b[38;5;124mv_max\u001b[39m\u001b[38;5;124m'\u001b[39m,\u001b[38;5;124m'\u001b[39m\u001b[38;5;124msrc1\u001b[39m\u001b[38;5;124m'\u001b[39m)\n\u001b[0;32m     10\u001b[0m \u001b[38;5;66;03m#     mask = cv2.inRange(src,(hmin,smin,vmin),(hmax,smax,vmax))\u001b[39;00m\n\u001b[0;32m     11\u001b[0m \u001b[38;5;66;03m#     mask = cv2.inRange(src,(hmin,150,0),(hmax,255,255))\u001b[39;00m\n\u001b[1;32m---> 12\u001b[0m     cv2\u001b[38;5;241m.\u001b[39mcopyTo(src,\u001b[43mcv2\u001b[49m\u001b[38;5;241;43m.\u001b[39;49m\u001b[43minRange\u001b[49m\u001b[43m(\u001b[49m\u001b[43msrc\u001b[49m\u001b[43m,\u001b[49m\u001b[43m(\u001b[49m\u001b[43m(\u001b[49m\u001b[43mhmin\u001b[49m\u001b[43m,\u001b[49m\u001b[43msmin\u001b[49m\u001b[43m,\u001b[49m\u001b[43mvmin\u001b[49m\u001b[43m)\u001b[49m\u001b[43m,\u001b[49m\u001b[43m(\u001b[49m\u001b[43mhmax\u001b[49m\u001b[43m,\u001b[49m\u001b[43msmax\u001b[49m\u001b[43m,\u001b[49m\u001b[43mvmax\u001b[49m\u001b[43m)\u001b[49m\u001b[43m)\u001b[49m\u001b[43m,\u001b[49m\u001b[43msrc1\u001b[49m\u001b[43m[\u001b[49m\u001b[38;5;241;43m0\u001b[39;49m\u001b[43m:\u001b[49m\u001b[38;5;241;43m186\u001b[39;49m\u001b[43m,\u001b[49m\u001b[38;5;241;43m0\u001b[39;49m\u001b[43m:\u001b[49m\u001b[38;5;241;43m320\u001b[39;49m\u001b[43m]\u001b[49m\u001b[43m)\u001b[49m)\n\u001b[0;32m     13\u001b[0m     cv2\u001b[38;5;241m.\u001b[39mimshow(\u001b[38;5;124m'\u001b[39m\u001b[38;5;124msrc1\u001b[39m\u001b[38;5;124m'\u001b[39m,src1)\n",
      "\u001b[1;31merror\u001b[0m: OpenCV(4.6.0) :-1: error: (-5:Bad argument) in function 'inRange'\n> Overload resolution failed:\n>  - lowerb is not a numerical tuple\n>  - Expected Ptr<cv::UMat> for argument 'lowerb'\n"
     ]
    },
    {
     "ename": "error",
     "evalue": "OpenCV(4.6.0) :-1: error: (-5:Bad argument) in function 'inRange'\n> Overload resolution failed:\n>  - lowerb is not a numerical tuple\n>  - Expected Ptr<cv::UMat> for argument 'lowerb'\n",
     "output_type": "error",
     "traceback": [
      "\u001b[1;31m---------------------------------------------------------------------------\u001b[0m",
      "\u001b[1;31merror\u001b[0m                                     Traceback (most recent call last)",
      "Input \u001b[1;32mIn [128]\u001b[0m, in \u001b[0;36mct\u001b[1;34m(pos)\u001b[0m\n\u001b[0;32m      8\u001b[0m     vmax \u001b[38;5;241m=\u001b[39m cv2\u001b[38;5;241m.\u001b[39mgetTrackbarPos(\u001b[38;5;124m'\u001b[39m\u001b[38;5;124mv_max\u001b[39m\u001b[38;5;124m'\u001b[39m,\u001b[38;5;124m'\u001b[39m\u001b[38;5;124msrc1\u001b[39m\u001b[38;5;124m'\u001b[39m)\n\u001b[0;32m     10\u001b[0m \u001b[38;5;66;03m#     mask = cv2.inRange(src,(hmin,smin,vmin),(hmax,smax,vmax))\u001b[39;00m\n\u001b[0;32m     11\u001b[0m \u001b[38;5;66;03m#     mask = cv2.inRange(src,(hmin,150,0),(hmax,255,255))\u001b[39;00m\n\u001b[1;32m---> 12\u001b[0m     cv2\u001b[38;5;241m.\u001b[39mcopyTo(src,\u001b[43mcv2\u001b[49m\u001b[38;5;241;43m.\u001b[39;49m\u001b[43minRange\u001b[49m\u001b[43m(\u001b[49m\u001b[43msrc\u001b[49m\u001b[43m,\u001b[49m\u001b[43m(\u001b[49m\u001b[43m(\u001b[49m\u001b[43mhmin\u001b[49m\u001b[43m,\u001b[49m\u001b[43msmin\u001b[49m\u001b[43m,\u001b[49m\u001b[43mvmin\u001b[49m\u001b[43m)\u001b[49m\u001b[43m,\u001b[49m\u001b[43m(\u001b[49m\u001b[43mhmax\u001b[49m\u001b[43m,\u001b[49m\u001b[43msmax\u001b[49m\u001b[43m,\u001b[49m\u001b[43mvmax\u001b[49m\u001b[43m)\u001b[49m\u001b[43m)\u001b[49m\u001b[43m,\u001b[49m\u001b[43msrc1\u001b[49m\u001b[43m[\u001b[49m\u001b[38;5;241;43m0\u001b[39;49m\u001b[43m:\u001b[49m\u001b[38;5;241;43m186\u001b[39;49m\u001b[43m,\u001b[49m\u001b[38;5;241;43m0\u001b[39;49m\u001b[43m:\u001b[49m\u001b[38;5;241;43m320\u001b[39;49m\u001b[43m]\u001b[49m\u001b[43m)\u001b[49m)\n\u001b[0;32m     13\u001b[0m     cv2\u001b[38;5;241m.\u001b[39mimshow(\u001b[38;5;124m'\u001b[39m\u001b[38;5;124msrc1\u001b[39m\u001b[38;5;124m'\u001b[39m,src1)\n",
      "\u001b[1;31merror\u001b[0m: OpenCV(4.6.0) :-1: error: (-5:Bad argument) in function 'inRange'\n> Overload resolution failed:\n>  - lowerb is not a numerical tuple\n>  - Expected Ptr<cv::UMat> for argument 'lowerb'\n"
     ]
    },
    {
     "ename": "error",
     "evalue": "OpenCV(4.6.0) :-1: error: (-5:Bad argument) in function 'inRange'\n> Overload resolution failed:\n>  - lowerb is not a numerical tuple\n>  - Expected Ptr<cv::UMat> for argument 'lowerb'\n",
     "output_type": "error",
     "traceback": [
      "\u001b[1;31m---------------------------------------------------------------------------\u001b[0m",
      "\u001b[1;31merror\u001b[0m                                     Traceback (most recent call last)",
      "Input \u001b[1;32mIn [128]\u001b[0m, in \u001b[0;36mct\u001b[1;34m(pos)\u001b[0m\n\u001b[0;32m      8\u001b[0m     vmax \u001b[38;5;241m=\u001b[39m cv2\u001b[38;5;241m.\u001b[39mgetTrackbarPos(\u001b[38;5;124m'\u001b[39m\u001b[38;5;124mv_max\u001b[39m\u001b[38;5;124m'\u001b[39m,\u001b[38;5;124m'\u001b[39m\u001b[38;5;124msrc1\u001b[39m\u001b[38;5;124m'\u001b[39m)\n\u001b[0;32m     10\u001b[0m \u001b[38;5;66;03m#     mask = cv2.inRange(src,(hmin,smin,vmin),(hmax,smax,vmax))\u001b[39;00m\n\u001b[0;32m     11\u001b[0m \u001b[38;5;66;03m#     mask = cv2.inRange(src,(hmin,150,0),(hmax,255,255))\u001b[39;00m\n\u001b[1;32m---> 12\u001b[0m     cv2\u001b[38;5;241m.\u001b[39mcopyTo(src,\u001b[43mcv2\u001b[49m\u001b[38;5;241;43m.\u001b[39;49m\u001b[43minRange\u001b[49m\u001b[43m(\u001b[49m\u001b[43msrc\u001b[49m\u001b[43m,\u001b[49m\u001b[43m(\u001b[49m\u001b[43m(\u001b[49m\u001b[43mhmin\u001b[49m\u001b[43m,\u001b[49m\u001b[43msmin\u001b[49m\u001b[43m,\u001b[49m\u001b[43mvmin\u001b[49m\u001b[43m)\u001b[49m\u001b[43m,\u001b[49m\u001b[43m(\u001b[49m\u001b[43mhmax\u001b[49m\u001b[43m,\u001b[49m\u001b[43msmax\u001b[49m\u001b[43m,\u001b[49m\u001b[43mvmax\u001b[49m\u001b[43m)\u001b[49m\u001b[43m)\u001b[49m\u001b[43m,\u001b[49m\u001b[43msrc1\u001b[49m\u001b[43m[\u001b[49m\u001b[38;5;241;43m0\u001b[39;49m\u001b[43m:\u001b[49m\u001b[38;5;241;43m186\u001b[39;49m\u001b[43m,\u001b[49m\u001b[38;5;241;43m0\u001b[39;49m\u001b[43m:\u001b[49m\u001b[38;5;241;43m320\u001b[39;49m\u001b[43m]\u001b[49m\u001b[43m)\u001b[49m)\n\u001b[0;32m     13\u001b[0m     cv2\u001b[38;5;241m.\u001b[39mimshow(\u001b[38;5;124m'\u001b[39m\u001b[38;5;124msrc1\u001b[39m\u001b[38;5;124m'\u001b[39m,src1)\n",
      "\u001b[1;31merror\u001b[0m: OpenCV(4.6.0) :-1: error: (-5:Bad argument) in function 'inRange'\n> Overload resolution failed:\n>  - lowerb is not a numerical tuple\n>  - Expected Ptr<cv::UMat> for argument 'lowerb'\n"
     ]
    },
    {
     "name": "stdout",
     "output_type": "stream",
     "text": [
      "(186, 320, 3) (378, 504, 3) (186, 320)\n"
     ]
    }
   ],
   "source": [
    "def ct(pos):\n",
    "    global mask,src1,src\n",
    "    hmin = cv2.getTrackbarPos('h_min','src1')\n",
    "    hmax = cv2.getTrackbarPos('h_max','src1')\n",
    "    smin = cv2.getTrackbarPos('s_min','src1')\n",
    "    smax = cv2.getTrackbarPos('s_max','src1')\n",
    "    vmin = cv2.getTrackbarPos('v_min','src1')\n",
    "    vmax = cv2.getTrackbarPos('v_max','src1')\n",
    "    \n",
    "#     mask = cv2.inRange(src,(hmin,smin,vmin),(hmax,smax,vmax))\n",
    "#     mask = cv2.inRange(src,(hmin,150,0),(hmax,255,255))\n",
    "    cv2.copyTo(src,cv2.inRange(src,((hmin,smin,vmin),(hmax,smax,vmax)),src1[0:186,0:320]))\n",
    "    cv2.imshow('src1',src1)\n",
    "    \n",
    "src1 = cv2.imread('./fig4/autumn.jpg',cv2.IMREAD_REDUCED_COLOR_8)\n",
    "src = cv2.imread('./fig4/chromakey.png',cv2.IMREAD_REDUCED_COLOR_4)\n",
    "\n",
    "# cv2.namedWindow('src',cv2.WINDOW_NORMAL)\n",
    "cv2.imshow('src',src)\n",
    "# cv2.imshow('src1',src1)\n",
    "\n",
    "cv2.namedWindow('src1',cv2.WINDOW_NORMAL)\n",
    "cv2.createTrackbar('h_min','src1',0,179,ct)\n",
    "cv2.createTrackbar('h_max','src1',0,179,ct)\n",
    "cv2.createTrackbar('s_min','src1',0,255,ct)\n",
    "cv2.createTrackbar('s_max','src1',0,255,ct)\n",
    "cv2.createTrackbar('v_min','src1',0,255,ct)\n",
    "cv2.createTrackbar('v_max','src1',0,255,ct)\n",
    "\n",
    "cv2.waitKey()\n",
    "cv2.destroyAllWindows()\n",
    "print(src.shape,src1.shape,mask.shape)"
   ]
  },
  {
   "cell_type": "code",
   "execution_count": 5,
   "id": "7842d76a",
   "metadata": {},
   "outputs": [
    {
     "name": "stdout",
     "output_type": "stream",
     "text": [
      "(756, 1008, 3) (373, 640, 3)\n"
     ]
    }
   ],
   "source": [
    "def ct(pos):\n",
    "    global src1,src,dst,src1_\n",
    "    hmin = cv2.getTrackbarPos('h_min','dst')\n",
    "    hmax = cv2.getTrackbarPos('h_max','dst')\n",
    "    smin = cv2.getTrackbarPos('s_min','dst')\n",
    "    smax = cv2.getTrackbarPos('s_max','dst')\n",
    "    vmin = cv2.getTrackbarPos('v_min','dst')\n",
    "    vmax = cv2.getTrackbarPos('v_max','dst')\n",
    "    dst = cv2.inRange(src,(hmin,smin,vmin),(hmax,smax,vmax))\n",
    "    dst=255-dst\n",
    "    cv2.imshow('dst',dst)\n",
    "#     src1 = src1_\n",
    "    src1 = cv2.imread('./fig4/autumn.jpg',cv2.IMREAD_REDUCED_COLOR_4)\n",
    "    cv2.copyTo(src[20:370,20:620],dst[20:370,20:620],src1[100:450,250:850])\n",
    "    cv2.imshow('src1',src1)\n",
    "    \n",
    "src1 = cv2.imread('./fig4/autumn.jpg',cv2.IMREAD_REDUCED_COLOR_4)\n",
    "src1_ = src1.copy()\n",
    "src = cv2.imread('./fig4/chromakey.png',cv2.IMREAD_REDUCED_COLOR_2)\n",
    "\n",
    "# cv2.namedWindow('src',cv2.WINDOW_NORMAL)\n",
    "cv2.imshow('src',src)\n",
    "cv2.imshow('src1',src1)\n",
    "\n",
    "cv2.namedWindow('dst',cv2.WINDOW_NORMAL)\n",
    "cv2.createTrackbar('h_min','dst',0,179,ct)\n",
    "cv2.createTrackbar('h_max','dst',0,179,ct)\n",
    "cv2.createTrackbar('s_min','dst',0,255,ct)\n",
    "cv2.createTrackbar('s_max','dst',0,255,ct)\n",
    "cv2.createTrackbar('v_min','dst',0,255,ct)\n",
    "cv2.createTrackbar('v_max','dst',0,255,ct)\n",
    "# cv2.imshow('src1_',src1_)\n",
    "cv2.waitKey()\n",
    "cv2.destroyAllWindows()\n",
    "print(src1.shape,src.shape)"
   ]
  }
 ],
 "metadata": {
  "kernelspec": {
   "display_name": "Python 3 (ipykernel)",
   "language": "python",
   "name": "python3"
  },
  "language_info": {
   "codemirror_mode": {
    "name": "ipython",
    "version": 3
   },
   "file_extension": ".py",
   "mimetype": "text/x-python",
   "name": "python",
   "nbconvert_exporter": "python",
   "pygments_lexer": "ipython3",
   "version": "3.9.12"
  }
 },
 "nbformat": 4,
 "nbformat_minor": 5
}
