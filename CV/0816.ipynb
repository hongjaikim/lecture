{
 "cells": [
  {
   "cell_type": "code",
   "execution_count": 2,
   "id": "73828703",
   "metadata": {},
   "outputs": [],
   "source": [
    "import cv2\n",
    "import numpy as np\n",
    "import sys\n",
    "import matplotlib.pyplot as plt"
   ]
  },
  {
   "cell_type": "code",
   "execution_count": 2,
   "id": "8f6592a1",
   "metadata": {},
   "outputs": [
    {
     "ename": "NameError",
     "evalue": "name 'q' is not defined",
     "output_type": "error",
     "traceback": [
      "\u001b[1;31m---------------------------------------------------------------------------\u001b[0m",
      "\u001b[1;31mNameError\u001b[0m                                 Traceback (most recent call last)",
      "Input \u001b[1;32mIn [2]\u001b[0m, in \u001b[0;36m<cell line: 11>\u001b[1;34m()\u001b[0m\n\u001b[0;32m     10\u001b[0m \u001b[38;5;28;01mwhile\u001b[39;00m \u001b[38;5;28;01mTrue\u001b[39;00m:\n\u001b[0;32m     11\u001b[0m     key \u001b[38;5;241m=\u001b[39m cv2\u001b[38;5;241m.\u001b[39mwaitKey()\n\u001b[1;32m---> 12\u001b[0m     \u001b[38;5;28;01mif\u001b[39;00m key\u001b[38;5;241m==\u001b[39m\u001b[38;5;241m27\u001b[39m \u001b[38;5;129;01mor\u001b[39;00m \u001b[38;5;28mord\u001b[39m(\u001b[43mq\u001b[49m):\n\u001b[0;32m     13\u001b[0m         \u001b[38;5;28;01mbreak\u001b[39;00m\n\u001b[0;32m     14\u001b[0m cv2\u001b[38;5;241m.\u001b[39mdestroyAllWindows()\n",
      "\u001b[1;31mNameError\u001b[0m: name 'q' is not defined"
     ]
    }
   ],
   "source": [
    "img = cv2.imread('./fig/PD_MRI.jpeg')\n",
    "                  \n",
    "if img is None:\n",
    "    print('err read')\n",
    "    sys.exit()\n",
    "\n",
    "cv2.namedWindow('image',cv2.WINDOW_NORMAL)\n",
    "cv2.imshow('image',img)\n",
    "\n",
    "while True:\n",
    "    key = cv2.waitKey()\n",
    "    if key==27 :\n",
    "        break\n",
    "cv2.destroyAllWindows()"
   ]
  },
  {
   "cell_type": "code",
   "execution_count": 3,
   "id": "ee135dc7",
   "metadata": {},
   "outputs": [],
   "source": [
    "import glob"
   ]
  },
  {
   "cell_type": "code",
   "execution_count": 3,
   "id": "a137332c",
   "metadata": {},
   "outputs": [],
   "source": [
    "img_files = glob.glob('./fig/my_images/*.*')\n",
    "\n",
    "idx=0\n",
    "\n",
    "cv2.namedWindow('scene',cv2.WINDOW_NORMAL)\n",
    "cv2.setWindowProperty('scene',cv2.WND_PROP_FULLSCREEN,cv2.WINDOW_FULLSCREEN)\n",
    "\n",
    "while True:\n",
    "    img = cv2.imread(img_files[idx])\n",
    "    if img is None:\n",
    "        print('read err')\n",
    "        break\n",
    "    cv2.imshow('scene',img)\n",
    "    \n",
    "    if cv2.waitKey(300) == 27:\n",
    "        break\n",
    "    \n",
    "    idx+=1\n",
    "    \n",
    "    if idx >= len(img_files):\n",
    "        idx=0\n",
    "    \n",
    "cv2.destroyAllWindows()"
   ]
  },
  {
   "cell_type": "code",
   "execution_count": 4,
   "id": "4a18a28f",
   "metadata": {},
   "outputs": [],
   "source": [
    "img = cv2.imread('./fig/cat.bmp')\n",
    "\n",
    "h,w=img.shape[:2]\n",
    "\n",
    "cv2.imshow('image',img)\n",
    "cv2.waitKey()\n",
    "cv2.destroyAllWindows()"
   ]
  },
  {
   "cell_type": "code",
   "execution_count": 4,
   "id": "e4a58ac0",
   "metadata": {},
   "outputs": [],
   "source": [
    "img1 = np.zeros((400,600,3),np.uint8)\n",
    "img2 = np.ones((400,600,3),np.uint8)*255\n",
    "img3 = np.full((400,600,3),(255,255,255),np.uint8)\n",
    "\n",
    "cv2.imshow('image1',img1)\n",
    "cv2.imshow('image2',img2)\n",
    "cv2.imshow('image3',img3)\n",
    "\n",
    "cv2.waitKey()\n",
    "cv2.destroyAllWindows()"
   ]
  },
  {
   "cell_type": "code",
   "execution_count": 7,
   "id": "575a6f0f",
   "metadata": {},
   "outputs": [],
   "source": [
    "img1 = cv2.imread('./fig/puppy.bmp')\n",
    "\n",
    "img2 = img1[200:400,300:500]\n",
    "img3 = img1[200:400,300:500].copy()\n",
    "\n",
    "cv2.circle(img2,(100,100),50,(0,0,255),5,cv2.LINE_AA)\n",
    "cv2.circle(img3,(100,100),50,(255,0,255),5,-1)\n",
    "\n",
    "cv2.imshow('image1',img1)\n",
    "cv2.imshow('image2',img2)\n",
    "cv2.imshow('image3',img3)\n",
    "\n",
    "cv2.waitKey()\n",
    "cv2.destroyAllWindows()"
   ]
  },
  {
   "cell_type": "code",
   "execution_count": 9,
   "id": "a50c6f61",
   "metadata": {},
   "outputs": [],
   "source": [
    "src = cv2.imread('./fig2/airplane.bmp')\n",
    "mask = cv2.imread('./fig2/mask_plane.bmp',0)\n",
    "dst = cv2.imread('./fig2/field.bmp')\n",
    "\n",
    "cv2.copyTo(src,mask,dst)\n",
    "\n",
    "cv2.imshow('src',src)\n",
    "cv2.imshow('mask',mask)\n",
    "cv2.imshow('dst',dst)\n",
    "\n",
    "cv2.waitKey()\n",
    "cv2.destroyAllWindows()"
   ]
  },
  {
   "cell_type": "code",
   "execution_count": 84,
   "id": "ab07c61c",
   "metadata": {},
   "outputs": [],
   "source": [
    "src = cv2.imread('./fig2/cow.png')\n",
    "dst = cv2.imread('./fig2/green.png')\n",
    "\n",
    "src_gray = cv2.cvtColor(src,cv2.COLOR_BGR2GRAY)\n",
    "_, src_mask = cv2.threshold(src_gray,240,255,cv2.THRESH_BINARY_INV)\n",
    "\n",
    "h,w = src_gray.shape[:2]\n",
    "\n",
    "crop=dst[400:400+h,300:300+w]\n",
    "\n",
    "cv2.copyTo(src,src_mask,crop)\n",
    "cv2.imshow('src',src_gray)\n",
    "cv2.imshow('mask',src_mask)\n",
    "cv2.imshow('dst',dst)\n",
    "\n",
    "cv2.waitKey()\n",
    "cv2.destroyAllWindows()"
   ]
  },
  {
   "cell_type": "code",
   "execution_count": null,
   "id": "17484dc4",
   "metadata": {},
   "outputs": [],
   "source": []
  },
  {
   "cell_type": "code",
   "execution_count": 39,
   "id": "fd402e06",
   "metadata": {},
   "outputs": [],
   "source": [
    "img = np.full((600,1200,3),(255,255,255),np.uint8)\n",
    "\n",
    "# line(img, pt1, pt2, color[, thickness[, lineType[, shift]]]) -> img\n",
    "cv2.line(img,(100,100),(300,100),(0,0,255),5,cv2.LINE_8)\n",
    "cv2.line(img,(300,100),(200,300),(0,0,255),10,cv2.LINE_AA)\n",
    "cv2.arrowedLine(img,(400,100),(400,300),(255,0,0),10,cv2.LINE_AA)\n",
    "\n",
    "# rectangle(img, pt1, pt2, color[, thickness[, lineType[, shift]]]) -> img\n",
    "cv2.rectangle(img,(100,400),(400,500),(0,255,0),5)\n",
    "cv2.rectangle(img,(120,420,260,60),(0,255,0),-1)\n",
    "\n",
    "# circle(img, center, radius, color[, thickness[, lineType[, shift]]]) -> img\n",
    "cv2.circle(img,(700,300),100,(0,0,255),10,cv2.LINE_AA)\n",
    "\n",
    "# ellipse(img, center, axes, angle, startAngle, endAngle, color[, thickness[, lineType[, shift]]]) -> img\n",
    "cv2.ellipse(img,(700,300),(75,125),20,0,270,(0,255,255),10,cv2.LINE_AA)\n",
    "\n",
    "# putText(img, text, org, fontFace, fontScale, color[, thickness[, lineType[, bottomLeftOrigin]]]) -> img\n",
    "text='Open cv '+cv2.__version__\n",
    "cv2.putText(img,text,(700,500),cv2.FONT_ITALIC,1,(255,255,0),1,cv2.LINE_AA)\n",
    "\n",
    "cv2.imshow('image',img)\n",
    "\n",
    "cv2.waitKey()\n",
    "cv2.destroyAllWindows()"
   ]
  },
  {
   "cell_type": "code",
   "execution_count": 117,
   "id": "de4adf23",
   "metadata": {},
   "outputs": [],
   "source": [
    "img = np.full((600,1200,3),(255,255,255),np.uint8)\n",
    "\n",
    "cv2.circle(img,(100,100),50,(255,255,0),5,cv2.LINE_AA)\n",
    "cv2.line(img,(200,10),(200,200),(255,255,0),5,cv2.LINE_AA)\n",
    "cv2.line(img,(50,200),(50,300),(255,255,0),5,cv2.LINE_AA)\n",
    "cv2.line(img,(50,300),(200,300),(255,255,0),5,cv2.LINE_AA)\n",
    "\n",
    "cv2.line(img,(400,10),(300,130),(0,255,255),5,cv2.LINE_AA)\n",
    "cv2.line(img,(385,30),(450,130),(0,255,255),5,cv2.LINE_AA)\n",
    "cv2.line(img,(500,10),(500,200),(0,255,255),5,cv2.LINE_AA)\n",
    "cv2.line(img,(500,120),(550,120),(0,255,255),5,cv2.LINE_AA)\n",
    "cv2.rectangle(img,(300,200),(500,300),(255,0,255),5)\n",
    "\n",
    "cv2.putText(img,'Ginseung',(100,500),cv2.FONT_ITALIC,3,(128,128,0),1,cv2.LINE_AA)\n",
    "\n",
    "src = cv2.imread('./fig2/gin.jfif')\n",
    "src_resize = cv2.resize(src,(300,450))\n",
    "src_gray = cv2.cvtColor(src_resize,cv2.COLOR_BGR2GRAY)\n",
    "_, src_mask = cv2.threshold(src_gray,240,250,cv2.THRESH_BINARY_INV)\n",
    "\n",
    "h,w = src_gray.shape[:2]\n",
    "\n",
    "cv2.copyTo(src_resize,src_mask,img[100:100+h,800:800+w])\n",
    "\n",
    "# cv2.imwrite('ginseung.jpg',img)\n",
    "\n",
    "cv2.imshow('image',img)\n",
    "\n",
    "cv2.waitKey()\n",
    "cv2.destroyAllWindows()"
   ]
  },
  {
   "cell_type": "code",
   "execution_count": 136,
   "id": "7a9aa433",
   "metadata": {},
   "outputs": [],
   "source": [
    "cap = cv2.VideoCapture(0)\n",
    "\n",
    "if not cap.isOpened():\n",
    "    print('cam open err')\n",
    "    sys.exit()\n",
    "\n",
    "w = int(cap.get(cv2.CAP_PROP_FRAME_WIDTH))\n",
    "h = int(cap.get(cv2.CAP_PROP_FRAME_HEIGHT))\n",
    "fps = int(cap.get(cv2.CAP_PROP_FPS)*0.8)\n",
    "fourcc = cv2.VideoWriter_fourcc(*'DIVX')\n",
    "\n",
    "out = cv2.VideoWriter('output.avi',fourcc,fps,(w,h))\n",
    "\n",
    "while True:\n",
    "    ret, frame = cap.read()\n",
    "    \n",
    "    if not ret:\n",
    "        print('frame read err')\n",
    "        break\n",
    "    \n",
    "#     white = cv2.cvtColor(frame,cv2.COLOR_BGR2GRAY)\n",
    "    edge = cv2.Canny(frame,20,150)\n",
    "    edge_cvt = cv2.cvtColor(edge,cv2.COLOR_GRAY2BGR)\n",
    "#     inverse = 255-white\n",
    "#     out.write(edge_cvt)\n",
    "    \n",
    "#     cv2.imshow('image',frame)\n",
    "    cv2.imshow('edge',edge_cvt)\n",
    "#     cv2.imshow('gray',white)\n",
    "#     cv2.imshow('inverse',inverse)\n",
    "    \n",
    "    if cv2.waitKey(20)==27:\n",
    "        break\n",
    "        \n",
    "cv2.destroyAllWindows()\n",
    "cap.release()\n"
   ]
  },
  {
   "cell_type": "code",
   "execution_count": null,
   "id": "396081e0",
   "metadata": {},
   "outputs": [],
   "source": []
  }
 ],
 "metadata": {
  "kernelspec": {
   "display_name": "Python 3 (ipykernel)",
   "language": "python",
   "name": "python3"
  },
  "language_info": {
   "codemirror_mode": {
    "name": "ipython",
    "version": 3
   },
   "file_extension": ".py",
   "mimetype": "text/x-python",
   "name": "python",
   "nbconvert_exporter": "python",
   "pygments_lexer": "ipython3",
   "version": "3.9.12"
  }
 },
 "nbformat": 4,
 "nbformat_minor": 5
}
