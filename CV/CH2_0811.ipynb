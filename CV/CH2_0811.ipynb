{
 "cells": [
  {
   "cell_type": "code",
   "execution_count": 4,
   "id": "05fffa6a",
   "metadata": {},
   "outputs": [],
   "source": [
    "import cv2\n",
    "import numpy as np\n",
    "import sys\n",
    "import matplotlib.pyplot as plt\n",
    "import os\n"
   ]
  },
  {
   "cell_type": "code",
   "execution_count": 20,
   "id": "8885e409",
   "metadata": {},
   "outputs": [
    {
     "name": "stdout",
     "output_type": "stream",
     "text": [
      "<class 'numpy.ndarray'>\n",
      "img1 shape: (480, 640, 3)\n",
      "img1 shape: (480, 640)\n",
      "dtype uint8\n",
      "480 640\n"
     ]
    }
   ],
   "source": [
    "img1 = cv2.imread('./fig/cat.bmp')\n",
    "img2 = cv2.imread('./fig/cat.bmp', cv2.IMREAD_GRAYSCALE)\n",
    "\n",
    "print(type(img1))\n",
    "print('img1 shape:',img1.shape)\n",
    "print('img1 shape:',img2.shape)\n",
    "print('dtype',img1.dtype)\n",
    "\n",
    "h,w=img1.shape[:2]\n",
    "print(h,w)\n",
    "\n",
    "# if img1 is None:\n",
    "#     print('read err')\n",
    "#     sys.exit()\n",
    "\n",
    "# cv2.imshow('image1',img1)\n",
    "# cv2.imshow('image2',img2)\n",
    "\n",
    "# cv2.waitKey()\n",
    "# cv2.destroyAllWindows()"
   ]
  },
  {
   "cell_type": "code",
   "execution_count": 31,
   "id": "ad1c4f68",
   "metadata": {},
   "outputs": [
    {
     "name": "stdout",
     "output_type": "stream",
     "text": [
      "[ 62 103 155]\n"
     ]
    }
   ],
   "source": [
    "img = cv2.imread('./fig/cat.bmp',cv2.IMREAD_COLOR)\n",
    "h,w = img.shape[:2]\n",
    "\n",
    "p1 = img[h//2,w//2]\n",
    "print(p1)\n",
    "\n",
    "img[h//2-50:h//2+50,w//2-50:w//2+50]=(0,0,255)\n",
    "\n",
    "cv2.imshow('img',img)\n",
    "\n",
    "cv2.waitKey()\n",
    "cv2.destroyAllWindows()\n"
   ]
  },
  {
   "cell_type": "code",
   "execution_count": 2,
   "id": "9dc2c37c",
   "metadata": {},
   "outputs": [],
   "source": [
    "img1 = np.zeros((400,600,3),dtype=np.uint8)\n",
    "img2 = np.ones((600,1200),np.uint8)*255\n",
    "img3 = np.full((600,1200,3),(255,255,255),np.uint8)\n",
    "\n",
    "cv2.imshow('img1',img1)\n",
    "cv2.imshow('img2',img2)\n",
    "cv2.imshow('img3',img3)\n",
    "\n",
    "cv2.waitKey()\n",
    "cv2.destroyAllWindows()"
   ]
  },
  {
   "cell_type": "code",
   "execution_count": 14,
   "id": "f3c2051a",
   "metadata": {},
   "outputs": [],
   "source": [
    "img = cv2.imread('./fig/puppy.bmp')\n",
    "\n",
    "if img is None:\n",
    "    print('read err')\n",
    "    sys.exit()\n",
    "img1=img\n",
    "img2=img.copy()\n",
    "\n",
    "img[200:300,240:400]=(0,0,255)\n",
    "# img2[200:300,240:400]=(0,0,255)\n",
    "\n",
    "cv2.imshow('img',img)\n",
    "cv2.imshow('img1',img1)\n",
    "cv2.imshow('img2',img2)\n",
    "\n",
    "cv2.waitKey()\n",
    "cv2.destroyAllWindows()"
   ]
  },
  {
   "cell_type": "code",
   "execution_count": 8,
   "id": "dc5d5f5d",
   "metadata": {},
   "outputs": [],
   "source": [
    "img = cv2.imread('./fig/puppy.bmp')\n",
    "\n",
    "if img is None:\n",
    "    print('read err')\n",
    "    sys.exit()\n",
    "    \n",
    "img1 = img[200:400,300:500]\n",
    "img2 = img[200:400,300:500].copy()\n",
    "\n",
    "# circle(img, center, radius, color[, thickness[, lineType[, shift]]]) -> img\n",
    "cv2.circle(img1,(100,100),50,(0,0,255),-1)\n",
    "cv2.circle(img2,(100,100),50,(255,0,0),-1)\n",
    "\n",
    "cv2.imshow('img',img)\n",
    "cv2.imshow('img1',img1)\n",
    "cv2.imshow('img2',img2)\n",
    "\n",
    "cv2.waitKey()\n",
    "cv2.destroyAllWindows()"
   ]
  },
  {
   "cell_type": "code",
   "execution_count": 3,
   "id": "70c45719",
   "metadata": {},
   "outputs": [],
   "source": [
    "img = cv2.imread('./fig/puppy.bmp')\n",
    "\n",
    "if img is None:\n",
    "    print('read err')\n",
    "    sys.exit()\n",
    "    \n",
    "img1=img.copy()\n",
    "\n",
    "img1[150:250,250:500]=(0,0,0)\n",
    "\n",
    "# cv2.imwrite('./as.jpg',img1)\n",
    "\n",
    "cv2.imshow('img',img)\n",
    "cv2.imshow('img1',img1)\n",
    "\n",
    "\n",
    "cv2.waitKey()\n",
    "cv2.destroyAllWindows()"
   ]
  }
 ],
 "metadata": {
  "kernelspec": {
   "display_name": "Python 3 (ipykernel)",
   "language": "python",
   "name": "python3"
  },
  "language_info": {
   "codemirror_mode": {
    "name": "ipython",
    "version": 3
   },
   "file_extension": ".py",
   "mimetype": "text/x-python",
   "name": "python",
   "nbconvert_exporter": "python",
   "pygments_lexer": "ipython3",
   "version": "3.9.12"
  }
 },
 "nbformat": 4,
 "nbformat_minor": 5
}
