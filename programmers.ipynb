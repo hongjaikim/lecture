{
 "cells": [
  {
   "cell_type": "code",
   "execution_count": null,
   "id": "bb140534",
   "metadata": {},
   "outputs": [],
   "source": [
    "# 1-나머지가 1이 되는 수 찾기\n",
    "def solution(n):\n",
    "    for i in range(1,n):\n",
    "        if n%i==1:\n",
    "            answer=i\n",
    "            break\n",
    "    return answer"
   ]
  },
  {
   "cell_type": "code",
   "execution_count": null,
   "id": "b3aa2cc7",
   "metadata": {},
   "outputs": [],
   "source": [
    "def solution(n):\n",
    "    return [x for x in range(1,n+1) if n%x==1][0]"
   ]
  },
  {
   "cell_type": "code",
   "execution_count": 8,
   "id": "f0e249f9",
   "metadata": {},
   "outputs": [
    {
     "data": {
      "text/plain": [
       "'Odd'"
      ]
     },
     "execution_count": 8,
     "metadata": {},
     "output_type": "execute_result"
    }
   ],
   "source": [
    "#같은 숫자는 싫어\n",
    "def solution(arr):\n",
    "    b=arr[0]\n",
    "    answer = [b]\n",
    "    for a in arr[1:]:\n",
    "        if a!=b:\n",
    "            answer.append(a)\n",
    "            b=a\n",
    "    return answer"
   ]
  },
  {
   "cell_type": "code",
   "execution_count": 10,
   "id": "5417bdad",
   "metadata": {},
   "outputs": [],
   "source": [
    "def no_continuous(s):\n",
    "    a = []\n",
    "    for i in s:\n",
    "        if a[-1:] == [i]: continue\n",
    "        a.append(i)\n",
    "    return a"
   ]
  },
  {
   "cell_type": "code",
   "execution_count": 12,
   "id": "25b40073",
   "metadata": {},
   "outputs": [
    {
     "data": {
      "text/plain": [
       "1"
      ]
     },
     "execution_count": 12,
     "metadata": {},
     "output_type": "execute_result"
    }
   ],
   "source": [
    "a = [[1],[2],[3],[4],[5]]\n",
    "\n",
    "b=0\n",
    "for i in a:\n",
    "    b+= 2 in i\n",
    "b"
   ]
  },
  {
   "cell_type": "code",
   "execution_count": null,
   "id": "62d8767e",
   "metadata": {},
   "outputs": [],
   "source": [
    "#올바른 괄호\n",
    "def solution(s):\n",
    "    answer = True\n",
    "    \n",
    "    cnt=0\n",
    "    ls = list(s)\n",
    "    for i in ls:\n",
    "        if cnt>0:\n",
    "            answer=False\n",
    "            break\n",
    "        cnt+= i==')'\n",
    "        cnt-= i=='('\n",
    "        print(cnt)\n",
    "    if cnt!=0:\n",
    "        answer=False\n",
    "    \n",
    "    return answer"
   ]
  },
  {
   "cell_type": "code",
   "execution_count": 20,
   "id": "7f95e00e",
   "metadata": {},
   "outputs": [
    {
     "name": "stdout",
     "output_type": "stream",
     "text": [
      "[4, 3, 2, 1]\n"
     ]
    }
   ],
   "source": [
    "#구명보트\n",
    "a = [1,2,3,4]\n",
    "a.sort(reverse=True)\n",
    "print(a)"
   ]
  },
  {
   "cell_type": "code",
   "execution_count": null,
   "id": "1af91148",
   "metadata": {},
   "outputs": [],
   "source": []
  }
 ],
 "metadata": {
  "kernelspec": {
   "display_name": "Python 3 (ipykernel)",
   "language": "python",
   "name": "python3"
  },
  "language_info": {
   "codemirror_mode": {
    "name": "ipython",
    "version": 3
   },
   "file_extension": ".py",
   "mimetype": "text/x-python",
   "name": "python",
   "nbconvert_exporter": "python",
   "pygments_lexer": "ipython3",
   "version": "3.9.12"
  }
 },
 "nbformat": 4,
 "nbformat_minor": 5
}
